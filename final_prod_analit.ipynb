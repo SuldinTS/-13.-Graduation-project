{
 "cells": [
  {
   "cell_type": "markdown",
   "metadata": {},
   "source": [
    "## Проект: \"E-commerce — Анализ товарного ассортимента\"\n",
    "\n",
    "### Задача: \n",
    "Провести анализ товарного ассортимента интернет-магазина товаров для дома и быта «Пока все ещё тут». Дать рекомендации по корректировке ассортимента для увеличения прибыли.\n",
    "\n",
    "### Описание данных:\n",
    "Датасет описывает транзакции интернет-магазина товаров для дома и быта «Пока все ещё тут»\n",
    "\n",
    "- EventName — название события;\n",
    "- DeviceIDHash — уникальный идентификатор пользователя;\n",
    "- EventTimestamp — время события;\n",
    "- ExpId — номер эксперимента: 246 и 247 — контрольные группы, а 248 — экспериментальная."
   ]
  },
  {
   "cell_type": "markdown",
   "metadata": {},
   "source": [
    "### Предобработка данных\n",
    "- Импортируем библиотеки\n",
    "- Откроем датасет\n",
    "- Изучим инфо\n",
    "- Проверим на наличие пропусков и дубликатов\n",
    "- Приведем данные к верным форматам"
   ]
  },
  {
   "cell_type": "code",
   "execution_count": 1,
   "metadata": {},
   "outputs": [],
   "source": [
    "#Импортируем библиотеки\n",
    "import pandas as pd\n",
    "import math as mth\n",
    "from scipy import stats as st\n",
    "import random\n",
    "import numpy as np\n",
    "\n",
    "#визуализация\n",
    "import matplotlib.pyplot as plt\n",
    "from plotly import graph_objects as go\n",
    "import plotly.express as px\n",
    "import seaborn as sns; sns.set()\n",
    "import plotly\n",
    "plotly.io.renderers.default = 'colab'"
   ]
  },
  {
   "cell_type": "code",
   "execution_count": 2,
   "metadata": {},
   "outputs": [],
   "source": [
    "#Открываем датафрейм\n",
    "df = pd.read_csv('https://code.s3.yandex.net/datasets/ecommerce_dataset.csv')"
   ]
  },
  {
   "cell_type": "code",
   "execution_count": 3,
   "metadata": {},
   "outputs": [
    {
     "data": {
      "text/html": [
       "<div>\n",
       "<style scoped>\n",
       "    .dataframe tbody tr th:only-of-type {\n",
       "        vertical-align: middle;\n",
       "    }\n",
       "\n",
       "    .dataframe tbody tr th {\n",
       "        vertical-align: top;\n",
       "    }\n",
       "\n",
       "    .dataframe thead th {\n",
       "        text-align: right;\n",
       "    }\n",
       "</style>\n",
       "<table border=\"1\" class=\"dataframe\">\n",
       "  <thead>\n",
       "    <tr style=\"text-align: right;\">\n",
       "      <th></th>\n",
       "      <th>date</th>\n",
       "      <th>customer_id</th>\n",
       "      <th>order_id</th>\n",
       "      <th>product</th>\n",
       "      <th>quantity</th>\n",
       "      <th>price</th>\n",
       "    </tr>\n",
       "  </thead>\n",
       "  <tbody>\n",
       "    <tr>\n",
       "      <th>0</th>\n",
       "      <td>2018100100</td>\n",
       "      <td>ee47d746-6d2f-4d3c-9622-c31412542920</td>\n",
       "      <td>68477</td>\n",
       "      <td>Комнатное растение в горшке Алое Вера, d12, h30</td>\n",
       "      <td>1</td>\n",
       "      <td>142.0</td>\n",
       "    </tr>\n",
       "    <tr>\n",
       "      <th>1</th>\n",
       "      <td>2018100100</td>\n",
       "      <td>ee47d746-6d2f-4d3c-9622-c31412542920</td>\n",
       "      <td>68477</td>\n",
       "      <td>Комнатное растение в горшке Кофе Арабика, d12,...</td>\n",
       "      <td>1</td>\n",
       "      <td>194.0</td>\n",
       "    </tr>\n",
       "    <tr>\n",
       "      <th>2</th>\n",
       "      <td>2018100100</td>\n",
       "      <td>ee47d746-6d2f-4d3c-9622-c31412542920</td>\n",
       "      <td>68477</td>\n",
       "      <td>Радермахера d-12 см h-20 см</td>\n",
       "      <td>1</td>\n",
       "      <td>112.0</td>\n",
       "    </tr>\n",
       "    <tr>\n",
       "      <th>3</th>\n",
       "      <td>2018100100</td>\n",
       "      <td>ee47d746-6d2f-4d3c-9622-c31412542920</td>\n",
       "      <td>68477</td>\n",
       "      <td>Хризолидокарпус Лутесценс d-9 см</td>\n",
       "      <td>1</td>\n",
       "      <td>179.0</td>\n",
       "    </tr>\n",
       "    <tr>\n",
       "      <th>4</th>\n",
       "      <td>2018100100</td>\n",
       "      <td>ee47d746-6d2f-4d3c-9622-c31412542920</td>\n",
       "      <td>68477</td>\n",
       "      <td>Циперус Зумула d-12 см h-25 см</td>\n",
       "      <td>1</td>\n",
       "      <td>112.0</td>\n",
       "    </tr>\n",
       "  </tbody>\n",
       "</table>\n",
       "</div>"
      ],
      "text/plain": [
       "         date                           customer_id  order_id  \\\n",
       "0  2018100100  ee47d746-6d2f-4d3c-9622-c31412542920     68477   \n",
       "1  2018100100  ee47d746-6d2f-4d3c-9622-c31412542920     68477   \n",
       "2  2018100100  ee47d746-6d2f-4d3c-9622-c31412542920     68477   \n",
       "3  2018100100  ee47d746-6d2f-4d3c-9622-c31412542920     68477   \n",
       "4  2018100100  ee47d746-6d2f-4d3c-9622-c31412542920     68477   \n",
       "\n",
       "                                             product  quantity  price  \n",
       "0    Комнатное растение в горшке Алое Вера, d12, h30         1  142.0  \n",
       "1  Комнатное растение в горшке Кофе Арабика, d12,...         1  194.0  \n",
       "2                        Радермахера d-12 см h-20 см         1  112.0  \n",
       "3                   Хризолидокарпус Лутесценс d-9 см         1  179.0  \n",
       "4                     Циперус Зумула d-12 см h-25 см         1  112.0  "
      ]
     },
     "execution_count": 3,
     "metadata": {},
     "output_type": "execute_result"
    }
   ],
   "source": [
    "#Смотрим датафрейм\n",
    "df.head()"
   ]
  },
  {
   "cell_type": "code",
   "execution_count": 4,
   "metadata": {},
   "outputs": [
    {
     "name": "stdout",
     "output_type": "stream",
     "text": [
      "<class 'pandas.core.frame.DataFrame'>\n",
      "RangeIndex: 6737 entries, 0 to 6736\n",
      "Data columns (total 6 columns):\n",
      " #   Column       Non-Null Count  Dtype  \n",
      "---  ------       --------------  -----  \n",
      " 0   date         6737 non-null   int64  \n",
      " 1   customer_id  6737 non-null   object \n",
      " 2   order_id     6737 non-null   int64  \n",
      " 3   product      6737 non-null   object \n",
      " 4   quantity     6737 non-null   int64  \n",
      " 5   price        6737 non-null   float64\n",
      "dtypes: float64(1), int64(3), object(2)\n",
      "memory usage: 315.9+ KB\n"
     ]
    }
   ],
   "source": [
    "#Смотрим инфо\n",
    "df.info()"
   ]
  },
  {
   "cell_type": "code",
   "execution_count": 5,
   "metadata": {},
   "outputs": [
    {
     "data": {
      "text/plain": [
       "date           0\n",
       "customer_id    0\n",
       "order_id       0\n",
       "product        0\n",
       "quantity       0\n",
       "price          0\n",
       "dtype: int64"
      ]
     },
     "execution_count": 5,
     "metadata": {},
     "output_type": "execute_result"
    }
   ],
   "source": [
    "#Смотрим пропуски\n",
    "df.isna().sum()"
   ]
  },
  {
   "cell_type": "code",
   "execution_count": 6,
   "metadata": {},
   "outputs": [
    {
     "data": {
      "text/plain": [
       "0"
      ]
     },
     "execution_count": 6,
     "metadata": {},
     "output_type": "execute_result"
    }
   ],
   "source": [
    "#Смотрим дубликаты\n",
    "df.duplicated().sum()"
   ]
  },
  {
   "cell_type": "code",
   "execution_count": 7,
   "metadata": {},
   "outputs": [
    {
     "name": "stdout",
     "output_type": "stream",
     "text": [
      "<class 'pandas.core.frame.DataFrame'>\n",
      "RangeIndex: 6737 entries, 0 to 6736\n",
      "Data columns (total 7 columns):\n",
      " #   Column       Non-Null Count  Dtype         \n",
      "---  ------       --------------  -----         \n",
      " 0   date         6737 non-null   datetime64[ns]\n",
      " 1   customer_id  6737 non-null   object        \n",
      " 2   order_id     6737 non-null   int64         \n",
      " 3   product      6737 non-null   object        \n",
      " 4   quantity     6737 non-null   int64         \n",
      " 5   price        6737 non-null   float64       \n",
      " 6   month        6737 non-null   datetime64[ns]\n",
      "dtypes: datetime64[ns](2), float64(1), int64(2), object(2)\n",
      "memory usage: 368.6+ KB\n"
     ]
    }
   ],
   "source": [
    "#Меняем тип данных\n",
    "df['date'] = pd.to_datetime(df['date'], format='%Y%m%d%H')\n",
    "\n",
    "df['month'] = df['date'].astype('datetime64[M]')\n",
    "df.info()"
   ]
  },
  {
   "cell_type": "markdown",
   "metadata": {},
   "source": [
    "### Исследовательский анализ данных\n",
    "- Посмотрим за какой период есть данные\n",
    "- Посчитаем количество продаж\n",
    "- Посчитаем количество уникальных клиентов\n",
    "- Визуализируем данные по времени\n",
    "- Проверим на выбросы"
   ]
  },
  {
   "cell_type": "code",
   "execution_count": 8,
   "metadata": {},
   "outputs": [
    {
     "data": {
      "text/plain": [
       "array(['2018-10-01T00:00:00.000000000', '2018-10-01T08:00:00.000000000',\n",
       "       '2018-10-01T09:00:00.000000000', ...,\n",
       "       '2019-10-31T13:00:00.000000000', '2019-10-31T14:00:00.000000000',\n",
       "       '2019-10-31T16:00:00.000000000'], dtype='datetime64[ns]')"
      ]
     },
     "execution_count": 8,
     "metadata": {},
     "output_type": "execute_result"
    }
   ],
   "source": [
    "#Посмотрим период\n",
    "df['date'].sort_values().unique()"
   ]
  },
  {
   "cell_type": "markdown",
   "metadata": {},
   "source": [
    "Имеем данные с 1.10.2018 по 31.10.2019. Год и один месяц"
   ]
  },
  {
   "cell_type": "code",
   "execution_count": 9,
   "metadata": {},
   "outputs": [
    {
     "data": {
      "text/plain": [
       "2451"
      ]
     },
     "execution_count": 9,
     "metadata": {},
     "output_type": "execute_result"
    }
   ],
   "source": [
    "#Количество уникальных покупателей\n",
    "len(df['customer_id'].unique())"
   ]
  },
  {
   "cell_type": "markdown",
   "metadata": {},
   "source": [
    "2451 разных покупателей совершили хотя бы одну покупку за данный период"
   ]
  },
  {
   "cell_type": "code",
   "execution_count": 10,
   "metadata": {},
   "outputs": [
    {
     "data": {
      "text/plain": [
       "count    6737.000000\n",
       "mean        2.501559\n",
       "std        15.266478\n",
       "min         1.000000\n",
       "25%         1.000000\n",
       "50%         1.000000\n",
       "75%         1.000000\n",
       "max      1000.000000\n",
       "Name: quantity, dtype: float64"
      ]
     },
     "execution_count": 10,
     "metadata": {},
     "output_type": "execute_result"
    }
   ],
   "source": [
    "#Изучим кол-во товара в заказе\n",
    "df['quantity'].describe()"
   ]
  },
  {
   "cell_type": "markdown",
   "metadata": {},
   "source": [
    "Первый, второй и третий квартили равны 1. Медиана и стандартное отклонение сильно рознятся из-за выбросов. В основном люди делают заказ на один товар. Взглянем как распроделяются заказы по числу товаров."
   ]
  },
  {
   "cell_type": "code",
   "execution_count": 11,
   "metadata": {},
   "outputs": [],
   "source": [
    "# Запишем функцию для графика распределения\n",
    "def dfplot(df, column, x):\n",
    "  \n",
    "    fig, ax = plt.subplots(figsize=(14,5))\n",
    "    plt.xlabel(x)\n",
    "    plt.ylabel('Плотность распределения')\n",
    "    plt.title('Распределение по количеству')\n",
    "    \n",
    "    sns.kdeplot(df[column], shade=True)\n",
    "    \n",
    "    ax.xaxis.grid(True)\n",
    "    ax.yaxis.grid(True)\n",
    "    plt.show()"
   ]
  },
  {
   "cell_type": "code",
   "execution_count": 12,
   "metadata": {},
   "outputs": [
    {
     "data": {
      "image/png": "[encoded data removed]",
      "text/plain": [
       "<Figure size 1008x360 with 1 Axes>"
      ]
     },
     "metadata": {},
     "output_type": "display_data"
    }
   ],
   "source": [
    "dfplot(df, 'quantity', 'количество товара')"
   ]
  },
  {
   "cell_type": "markdown",
   "metadata": {},
   "source": [
    "Основная масса заказывают по одному товару. Отсечем до 10 штук в заказе."
   ]
  },
  {
   "cell_type": "code",
   "execution_count": 13,
   "metadata": {},
   "outputs": [
    {
     "data": {
      "image/png": "[encoded data removed]",
      "text/plain": [
       "<Figure size 1008x360 with 1 Axes>"
      ]
     },
     "metadata": {},
     "output_type": "display_data"
    }
   ],
   "source": [
    "df_b = df.query('quantity <= 10')\n",
    "dfplot(df_b, 'quantity', 'количество товара')"
   ]
  },
  {
   "cell_type": "markdown",
   "metadata": {},
   "source": [
    "Всё равно основная масса это 1-2 товара в заказе."
   ]
  },
  {
   "cell_type": "code",
   "execution_count": 14,
   "metadata": {},
   "outputs": [
    {
     "data": {
      "text/plain": [
       "array(['Муляж ЯБЛОКО 9 см красное',\n",
       "       'Вешалки мягкие для деликатных вещей 3 шт шоколад',\n",
       "       'Вантуз с деревянной ручкой d14 см красный, Burstenmann, 0522/0000'],\n",
       "      dtype=object)"
      ]
     },
     "execution_count": 14,
     "metadata": {},
     "output_type": "execute_result"
    }
   ],
   "source": [
    "#Глянем какие товары есть в выбросах:\n",
    "df.query('quantity > 200')['product'].unique()"
   ]
  },
  {
   "cell_type": "code",
   "execution_count": 15,
   "metadata": {},
   "outputs": [
    {
     "data": {
      "text/plain": [
       "array(['Крепеж для пружины дверной, 1107055',\n",
       "       'Пружина дверная 240 мм оцинкованная (Д-19 мм) без крепления, 1107014',\n",
       "       'Муляж ЯБЛОКО 9 см красное',\n",
       "       'Плечики пластмассовые Размер 52 - 54 Тула 1205158'], dtype=object)"
      ]
     },
     "execution_count": 15,
     "metadata": {},
     "output_type": "execute_result"
    }
   ],
   "source": [
    "df.query('quantity > 100 and quantity < 200')['product'].unique()"
   ]
  },
  {
   "cell_type": "code",
   "execution_count": 16,
   "metadata": {},
   "outputs": [
    {
     "data": {
      "text/plain": [
       "array(['Крючок одежный 2-х рожковый серый металлик с полимерным покрытием *Тонар*, 1110027',\n",
       "       'Стяжка оконная с болтом СТ-55 цинк, 1108354',\n",
       "       'Набор ножей Attribute CHEF 5 предметов AKF522',\n",
       "       'Тележка багажная DELTA ТБР-22 синий грузоподъемность 20 кг сумка и 50 кг каркас РОССИЯ',\n",
       "       'Ковш пластмассовый Полимербыт С215, 1,5 л 1406006',\n",
       "       'Салфетка Protec Textil Polyline 30х43 см Аметист белая 6230',\n",
       "       'Насадка на валик ВММ-200/60 белый искусственный мех, 0703011',\n",
       "       'Универсальный нож WEBBER из нержавеющей стали Русские мотивы 12,7 см с деревянной ручкой ВЕ-2252D',\n",
       "       'Кружка с трубочкой Attribute МЯЧ 500 мл JAR501',\n",
       "       'Искусственный цветок Подснежник садовый пластиковый белый'],\n",
       "      dtype=object)"
      ]
     },
     "execution_count": 16,
     "metadata": {},
     "output_type": "execute_result"
    }
   ],
   "source": [
    "df.query('quantity > 50 and quantity < 100')['product'].unique()"
   ]
  },
  {
   "cell_type": "code",
   "execution_count": 17,
   "metadata": {},
   "outputs": [
    {
     "data": {
      "text/plain": [
       "array(['Щетка-сметка 3-х рядная деревянная 450 мм (плоская ручка), Поиск Риф 1801095',\n",
       "       'Щетка-сметка 4-х рядная деревянная 300 мм (фигурная ручка) ворс 5,5 см 1801096',\n",
       "       'Герань домашняя (пеларгония зональная) цветущая D12, H25-30, коралловая, полумахровая',\n",
       "       'Ёрш унитазный с деревянной ручкой , Ваир 1712012',\n",
       "       'Набор вешалок для костюма 45см 4шт цвет: кремовый, Attribute, AHP224',\n",
       "       'Крючок одежный тройной латунь (Б-47), 1110182',\n",
       "       'Муляж Апельсин 8 см полиуретан',\n",
       "       'Муляж Яблоко зеленый 9 см полиуретан',\n",
       "       'Муляж Красное яблоко мини полиуретан d-6 см',\n",
       "       'Веник сорго с деревянной ручкой с 4-мя швами, Rozenbal, R206204',\n",
       "       'Тарелка обеденная Luminarc ГРИН ФОРЕСТ 26 см H7239',\n",
       "       'Сервировочная салфетка ПВХ 26х41 см Ванда 6001',\n",
       "       'Набор вешалок мягких тканевых с перекладиной и клипсами 48х23 см 2 шт Валиант / Valiant VAL 7057gc',\n",
       "       'Коврик придверный Attribute NATURE кокосовый 60x40 см AMC015',\n",
       "       'Цветок искусственный Гвоздика пластиковая одиночная в ассортименте 50 см',\n",
       "       'Салфетка Protec Textil Lino 30х43 см шоколад 6222',\n",
       "       'Таз пластмассовый 6,0 л пищевой квадратный \"Тюльпан\" ПЦ2950, 1404003',\n",
       "       'Вешалка деревянная с расширенными плечиками и перекладиной 44,5х23 см см белый JAPANESE WHITE VALIANT JW-19708',\n",
       "       'Набор вешалок для костюма 45 см 4 шт цвет кремовый Attribute AHP224',\n",
       "       'Таз пластмассовый 4,5 л пищевой \"Космея\" (Ангора) 1404092',\n",
       "       'Таз пластмассовый 6,0 л пищевой М2511, 1404015',\n",
       "       'Таз пластмассовый 8,0 л пищевой (Минеральные воды), 1404009',\n",
       "       'Нож кухонный универсальный с пластмассовой ручкой 285 х 150 мм, \"Русская Линия\" (НХ-38М) Метиз 1519022',\n",
       "       'Кружка НОРДИК 380мл прозрачная H8502 Luminarc Франция',\n",
       "       'Кружка прозрачная 250 мл H8437 Luminarc Франция',\n",
       "       'Крючок одежный двойной усиленный алюминиевый (дюраль), 1110015',\n",
       "       'Муляж Морковь 16 см',\n",
       "       'Чехол для одежды объемный Hausmann с овальным окном ПВХ и ручками 60х140х10 см черный HM-701403AG',\n",
       "       'Вешалка с закругленными плечиками перекладиной и крючками с противоскользящим покрытием Valiant 213R11 черный',\n",
       "       'Тарелка десертная БАМБУК 20 см J0276 Luminarc',\n",
       "       'Тарелка суповая Luminarc ОКЕАН ЭКЛИПС 20,5 см L5079',\n",
       "       'Тарелка обеденная Luminarc ОКЕАН ЭКЛИПС 24 см L5078',\n",
       "       'Простынь вафельная 200х180 см WELLNESS RW180-01 100% хлопок',\n",
       "       'Роза кустовая Ред Лейс 60 см Кения плантация Waridi Limited 10 штук в упаковке',\n",
       "       'Спатифиллум Шопен d-12 см',\n",
       "       'Емкость для соуса с ложкой PASABAHCE 200 мл OTS131505-000',\n",
       "       'Цветок искусственный Крокус 20 см',\n",
       "       'Вешалка-перекладина Valiant металлическая двойная с антискользящим покрытием 50320',\n",
       "       'Цветок искусственный Тюльпан 40 см пластик цвет в ассортименте',\n",
       "       'Муляж Яблоко, оранжевый, 8,5 см, полиуретан',\n",
       "       'Цветок искусственный Гвоздика тканевая красная 50 см',\n",
       "       'Вешалка-плечики без эссенции цвет тёмно-розовый FWM-002/Quartz pink',\n",
       "       'Искусственный цветок Ландыш пластиковый малый белый',\n",
       "       'Крепеж для пружины дверной, 1107055',\n",
       "       'Нетканые салфетки в рулоне 70 шт EUROHOUSE EH4967',\n",
       "       'Эхинокактус Грузони d-5 см',\n",
       "       'Цветок искусственный Роза с закрытым бутоном цвет в ассортименте 50 см',\n",
       "       'Искусственный цветок Лилейник пластиковый светло-лиловый',\n",
       "       'Салфетка на стол 30x45 см из бамбука NAPA-221',\n",
       "       'Подарочный набор на 8 Марта Тюльпаны розовые 5 луковиц d-12 см в подарочной упаковке с открыткой',\n",
       "       'Декоративная композиция искуственных цветов Букет Роз три цветка, цвет в ассортименте 105 см',\n",
       "       'Примула комнатная D9 см цвет в ассортименте',\n",
       "       'Эпипремнум Ауреум d-12 см',\n",
       "       'Тюльпан Louvre (Лувр) Бахромчатый 25 шт',\n",
       "       'Штангенциркуль 150 мм пластмассовый, точность 0,1 мм 3015515, 0910007',\n",
       "       'Емкость для СВЧ LUX 3.2 л прямоугольная, Curver, 15552',\n",
       "       'Искусственный цветок Подснежник пластиковый белый',\n",
       "       'Гвоздика стандартная Белая 60 см Колумбия Плантация Geoflora S.A.S. 25 штук в упаковке',\n",
       "       'Муляж Банан желтый 21 см полиуретан',\n",
       "       'Тарелка обеденная ГРИН ОД 25 см G0707 Luminarc',\n",
       "       'Муляж Лимон желтый 9 см полиуретан',\n",
       "       'Тарелка обеденная КОТОН ФЛАУЭР 25 см H2776 Luminarc',\n",
       "       'Искусственный цветок Тюльпан пластиковый открытый ярко-красный',\n",
       "       'Вешалка-плечики без эссенции цвет тёмно-розовый FWM/L-Pink',\n",
       "       'Гвоздика стандартная Новия 70 см Колумбия Плантация Turflor S.A.S 25 штук в упаковке',\n",
       "       'Цветок искусственный Роза с открытим бутоном цвет в ассортименте 48 см',\n",
       "       'Ткань универсальная из микрофибры Micro Magic серая, Leifheit, 40020',\n",
       "       'Наматрацник Natures Бархатный бамбук ББ-Н-1-2 односпальный, 100% хлопок, стеганый 90х200 см, с резинкой по углам, белый',\n",
       "       'Пеларгония зональная диам. 12 см красная махровая',\n",
       "       'Муляж Оранжевое яблоко мини полиуретан d-5 см',\n",
       "       'Вешалка деревянная для верхней одежды 45 см',\n",
       "       'Фиксатор-шар хром большой, 1108349',\n",
       "       'Однолетнее растение Петуния махровая в кассете 4 шт, Россия',\n",
       "       'Роза одноголовая Тоффи 70 см Эквадор плантация Greenrose 25 штук в упаковке',\n",
       "       'Салфетка Protec Textil Polyline 30х43 см Аметист белая 6230',\n",
       "       'Коврик противоскользящий пузырьки 70х38 см прозрачный 5523',\n",
       "       'Вешалка для блузок 41 см зеленый Attribute AHM751',\n",
       "       'Муляж Персики мини полиуретан d-6 см',\n",
       "       'Петля приварная гаражная d 14х90 мм с шаром, 1103003',\n",
       "       'Цветок искусственный Василек 3 цветка 55 см пластик',\n",
       "       'Крючок проволочный 75 мм белый, 1110137',\n",
       "       'Коврик хлопковый 50х80 см цвета в ассортименте 6196',\n",
       "       'Муляж Красное яблоко мини полиуретан d-5 см', 'Тимьян d-9 см',\n",
       "       'Вешалка для костюма прямая 44 см красное дерево Attribute AHR141',\n",
       "       'Завертка форточная белая/антик с полимерным покрытием *Тонар*, 1108287',\n",
       "       'Уголок оконный 100х100 мм медь антик с полимерным покрытием *Тонар*, 1109038',\n",
       "       'Искусственный цветок Роза закрытая малая пластиковая белая',\n",
       "       'Тарелка десертная Attribute ROSETTE 19 см ADR131',\n",
       "       'Карниз для ванной комнаты Виолет раздвижной 280 см с кольцами белый 2810/6',\n",
       "       'Половник Attribute BLOSSOM пластик AGB305',\n",
       "       'Стяжка оконная с болтом СТ-55 цинк, 1108354',\n",
       "       'Цветок искусственный Нарцисс одиночный в ассортименте 35 см'],\n",
       "      dtype=object)"
      ]
     },
     "execution_count": 17,
     "metadata": {},
     "output_type": "execute_result"
    }
   ],
   "source": [
    "df.query('quantity > 10 and quantity < 50')['product'].unique()"
   ]
  },
  {
   "cell_type": "markdown",
   "metadata": {},
   "source": [
    "По ассортименту видно, что крупные заказы в большинстве своем делают на мелкие товары: Расходники, фурнитуру и т.д.\n",
    "\n",
    "Так же возможны групповые заказы и заказы для ИП и ООО\n",
    "\n",
    "Оставляем весь df. Явных выбросов и ошибок в данных нет."
   ]
  },
  {
   "cell_type": "code",
   "execution_count": 18,
   "metadata": {},
   "outputs": [
    {
     "data": {
      "text/plain": [
       "count     6737.000000\n",
       "mean       462.028499\n",
       "std        871.296064\n",
       "min          9.000000\n",
       "25%        101.000000\n",
       "50%        135.000000\n",
       "75%        398.000000\n",
       "max      14917.000000\n",
       "Name: price, dtype: float64"
      ]
     },
     "execution_count": 18,
     "metadata": {},
     "output_type": "execute_result"
    }
   ],
   "source": [
    "# Посмотрим на выручку\n",
    "df['price'].describe()"
   ]
  },
  {
   "cell_type": "markdown",
   "metadata": {},
   "source": [
    "Разброс довольно большой, но это очевидно. среднее значение цены с одного заказа 462 рубля (пусть будут рубли)"
   ]
  },
  {
   "cell_type": "code",
   "execution_count": 19,
   "metadata": {},
   "outputs": [
    {
     "data": {
      "text/plain": [
       "count     6559.000000\n",
       "mean       471.514713\n",
       "std        880.592731\n",
       "min          9.000000\n",
       "25%        106.000000\n",
       "50%        135.000000\n",
       "75%        415.500000\n",
       "max      14917.000000\n",
       "Name: price, dtype: float64"
      ]
     },
     "execution_count": 19,
     "metadata": {},
     "output_type": "execute_result"
    }
   ],
   "source": [
    "df_b['price'].describe()"
   ]
  },
  {
   "cell_type": "markdown",
   "metadata": {},
   "source": [
    "по заказам до 10 штук та же картина. Всё логично."
   ]
  },
  {
   "cell_type": "code",
   "execution_count": 20,
   "metadata": {},
   "outputs": [
    {
     "data": {
      "image/png": "[encoded data removed]",
      "text/plain": [
       "<Figure size 1008x360 with 1 Axes>"
      ]
     },
     "metadata": {},
     "output_type": "display_data"
    }
   ],
   "source": [
    "dfplot(df_b, 'price', 'цена товара')"
   ]
  },
  {
   "cell_type": "code",
   "execution_count": 21,
   "metadata": {},
   "outputs": [
    {
     "data": {
      "text/plain": [
       "array(['Сумка-тележка хозяйственная Andersen Alu Star Shopper, Hava, синяя 115-103-90',\n",
       "       'Сумка-тележка хозяйственная Andersen Royal Shopper, Hera, синяя 166-004-90',\n",
       "       'Сумка-тележка хозяйственная Rolser MNB019 rojo LOGIC DOS+2 красная',\n",
       "       'Сушилка уличная Leifheit 85210 LINOMATIC V 400 40 м 175х237х237 см зеленая'],\n",
       "      dtype=object)"
      ]
     },
     "execution_count": 21,
     "metadata": {},
     "output_type": "execute_result"
    }
   ],
   "source": [
    "df.query('price > 8000')['product'].unique()"
   ]
  },
  {
   "cell_type": "markdown",
   "metadata": {},
   "source": [
    "Опять же ничего удивительного. Дорогие товары берут реже дешевых."
   ]
  },
  {
   "cell_type": "code",
   "execution_count": 22,
   "metadata": {},
   "outputs": [
    {
     "data": {
      "text/plain": [
       "count      6737.000000\n",
       "mean        720.094998\n",
       "std        8352.100591\n",
       "min           9.000000\n",
       "25%         120.000000\n",
       "50%         162.000000\n",
       "75%         600.000000\n",
       "max      675000.000000\n",
       "Name: total, dtype: float64"
      ]
     },
     "execution_count": 22,
     "metadata": {},
     "output_type": "execute_result"
    }
   ],
   "source": [
    "df['total'] = df['price'] * df['quantity']\n",
    "df['total'].describe()"
   ]
  },
  {
   "cell_type": "markdown",
   "metadata": {},
   "source": [
    "Добавили столбец с выручкой по каждому заказу. Средняя выручка 720 рублей"
   ]
  },
  {
   "cell_type": "code",
   "execution_count": 23,
   "metadata": {},
   "outputs": [
    {
     "data": {
      "text/html": [
       "<html>\n",
       "<head><meta charset=\"utf-8\" /></head>\n",
       "<body>\n",
       "    <div>            <script src=\"https://cdnjs.cloudflare.com/ajax/libs/mathjax/2.7.5/MathJax.js?config=TeX-AMS-MML_SVG\"></script><script type=\"text/javascript\">if (window.MathJax) {MathJax.Hub.Config({SVG: {font: \"STIX-Web\"}});}</script>                <script type=\"text/javascript\">window.PlotlyConfig = {MathJaxConfig: 'local'};</script>\n",
       "        <script src=\"https://cdn.plot.ly/plotly-2.6.3.min.js\"></script>                <div id=\"8fd36e42-ada0-4b33-8356-38e199e86296\" class=\"plotly-graph-div\" style=\"height:525px; width:100%;\"></div>            <script type=\"text/javascript\">                                    window.PLOTLYENV=window.PLOTLYENV || {};                                    if (document.getElementById(\"8fd36e42-ada0-4b33-8356-38e199e86296\")) {                    Plotly.newPlot(                        \"8fd36e42-ada0-4b33-8356-38e199e86296\",                        [{\"mode\":\"lines\",\"stackgroup\":\"one\",\"x\":[\"2018-10-01T00:00:00\",\"2018-10-01T00:00:00\",\"2018-10-01T00:00:00\",\"2018-10-01T00:00:00\",\"2018-10-01T00:00:00\",\"2018-10-01T00:00:00\",\"2018-10-01T00:00:00\",\"2018-10-01T08:00:00\",\"2018-10-01T08:00:00\",\"2018-10-01T09:00:00\",\"2018-10-01T11:00:00\",\"2018-10-01T12:00:00\",\"2018-10-01T13:00:00\",\"2018-10-01T15:00:00\",\"2018-10-01T16:00:00\",\"2018-10-01T18:00:00\",\"2018-10-01T18:00:00\",\"2018-10-01T18:00:00\",\"2018-10-01T18:00:00\",\"2018-10-01T21:00:00\",\"2018-10-02T08:00:00\",\"2018-10-02T10:00:00\",\"2018-10-02T11:00:00\",\"2018-10-02T11:00:00\",\"2018-10-02T11:00:00\",\"2018-10-02T11:00:00\",\"2018-10-02T11:00:00\",\"2018-10-02T11:00:00\",\"2018-10-02T11:00:00\",\"2018-10-02T11:00:00\",\"2018-10-02T11:00:00\",\"2018-10-02T11:00:00\",\"2018-10-02T11:00:00\",\"2018-10-02T11:00:00\",\"2018-10-02T11:00:00\",\"2018-10-02T11:00:00\",\"2018-10-02T11:00:00\",\"2018-10-02T11:00:00\",\"2018-10-02T11:00:00\",\"2018-10-02T11:00:00\",\"2018-10-02T11:00:00\",\"2018-10-02T11:00:00\",\"2018-10-02T11:00:00\",\"2018-10-02T11:00:00\",\"2018-10-02T13:00:00\",\"2018-10-02T14:00:00\",\"2018-10-02T14:00:00\",\"2018-10-02T14:00:00\",\"2018-10-02T14:00:00\",\"2018-10-02T14:00:00\",\"2018-10-02T15:00:00\",\"2018-10-02T15:00:00\",\"2018-10-02T17:00:00\",\"2018-10-02T17:00:00\",\"2018-10-02T17:00:00\",\"2018-10-02T17:00:00\",\"2018-10-02T18:00:00\",\"2018-10-02T18:00:00\",\"2018-10-02T18:00:00\",\"2018-10-02T19:00:00\",\"2018-10-02T20:00:00\",\"2018-10-02T21:00:00\",\"2018-10-02T21:00:00\",\"2018-10-03T04:00:00\",\"2018-10-03T08:00:00\",\"2018-10-03T10:00:00\",\"2018-10-03T10:00:00\",\"2018-10-03T10:00:00\",\"2018-10-03T10:00:00\",\"2018-10-03T10:00:00\",\"2018-10-03T11:00:00\",\"2018-10-03T14:00:00\",\"2018-10-03T15:00:00\",\"2018-10-03T17:00:00\",\"2018-10-04T00:00:00\",\"2018-10-04T09:00:00\",\"2018-10-04T09:00:00\",\"2018-10-04T09:00:00\",\"2018-10-04T09:00:00\",\"2018-10-04T09:00:00\",\"2018-10-04T09:00:00\",\"2018-10-04T10:00:00\",\"2018-10-04T10:00:00\",\"2018-10-04T10:00:00\",\"2018-10-04T10:00:00\",\"2018-10-04T10:00:00\",\"2018-10-04T10:00:00\",\"2018-10-04T10:00:00\",\"2018-10-04T10:00:00\",\"2018-10-04T10:00:00\",\"2018-10-04T10:00:00\",\"2018-10-04T10:00:00\",\"2018-10-04T12:00:00\",\"2018-10-04T13:00:00\",\"2018-10-04T13:00:00\",\"2018-10-04T16:00:00\",\"2018-10-04T16:00:00\",\"2018-10-04T17:00:00\",\"2018-10-04T17:00:00\",\"2018-10-04T17:00:00\",\"2018-10-04T21:00:00\",\"2018-10-04T21:00:00\",\"2018-10-05T00:00:00\",\"2018-10-05T00:00:00\",\"2018-10-05T00:00:00\",\"2018-10-05T11:00:00\",\"2018-10-05T12:00:00\",\"2018-10-05T12:00:00\",\"2018-10-05T12:00:00\",\"2018-10-05T13:00:00\",\"2018-10-05T13:00:00\",\"2018-10-05T17:00:00\",\"2018-10-05T17:00:00\",\"2018-10-05T17:00:00\",\"2018-10-05T17:00:00\",\"2018-10-05T20:00:00\",\"2018-10-06T00:00:00\",\"2018-10-06T00:00:00\",\"2018-10-06T00:00:00\",\"2018-10-06T17:00:00\",\"2018-10-07T00:00:00\",\"2018-10-07T07:00:00\",\"2018-10-07T12:00:00\",\"2018-10-07T12:00:00\",\"2018-10-07T16:00:00\",\"2018-10-07T16:00:00\",\"2018-10-07T17:00:00\",\"2018-10-07T19:00:00\",\"2018-10-07T20:00:00\",\"2018-10-08T03:00:00\",\"2018-10-08T07:00:00\",\"2018-10-08T08:00:00\",\"2018-10-08T09:00:00\",\"2018-10-08T10:00:00\",\"2018-10-08T11:00:00\",\"2018-10-08T12:00:00\",\"2018-10-08T12:00:00\",\"2018-10-08T12:00:00\",\"2018-10-08T13:00:00\",\"2018-10-08T13:00:00\",\"2018-10-08T15:00:00\",\"2018-10-08T15:00:00\",\"2018-10-08T15:00:00\",\"2018-10-08T15:00:00\",\"2018-10-08T15:00:00\",\"2018-10-08T15:00:00\",\"2018-10-08T16:00:00\",\"2018-10-08T19:00:00\",\"2018-10-08T19:00:00\",\"2018-10-08T19:00:00\",\"2018-10-08T19:00:00\",\"2018-10-08T20:00:00\",\"2018-10-09T06:00:00\",\"2018-10-09T06:00:00\",\"2018-10-09T06:00:00\",\"2018-10-09T06:00:00\",\"2018-10-09T07:00:00\",\"2018-10-09T07:00:00\",\"2018-10-09T08:00:00\",\"2018-10-09T08:00:00\",\"2018-10-09T09:00:00\",\"2018-10-09T09:00:00\",\"2018-10-09T10:00:00\",\"2018-10-09T11:00:00\",\"2018-10-09T11:00:00\",\"2018-10-09T13:00:00\",\"2018-10-09T15:00:00\",\"2018-10-09T15:00:00\",\"2018-10-09T16:00:00\",\"2018-10-09T17:00:00\",\"2018-10-09T21:00:00\",\"2018-10-10T08:00:00\",\"2018-10-10T13:00:00\",\"2018-10-10T14:00:00\",\"2018-10-10T14:00:00\",\"2018-10-10T14:00:00\",\"2018-10-10T15:00:00\",\"2018-10-10T15:00:00\",\"2018-10-10T19:00:00\",\"2018-10-10T20:00:00\",\"2018-10-10T21:00:00\",\"2018-10-10T21:00:00\",\"2018-10-10T21:00:00\",\"2018-10-11T08:00:00\",\"2018-10-11T08:00:00\",\"2018-10-11T08:00:00\",\"2018-10-11T08:00:00\",\"2018-10-11T08:00:00\",\"2018-10-11T08:00:00\",\"2018-10-11T09:00:00\",\"2018-10-11T10:00:00\",\"2018-10-11T11:00:00\",\"2018-10-11T13:00:00\",\"2018-10-11T13:00:00\",\"2018-10-11T13:00:00\",\"2018-10-11T13:00:00\",\"2018-10-11T13:00:00\",\"2018-10-11T13:00:00\",\"2018-10-11T13:00:00\",\"2018-10-11T13:00:00\",\"2018-10-11T13:00:00\",\"2018-10-11T13:00:00\",\"2018-10-11T14:00:00\",\"2018-10-11T14:00:00\",\"2018-10-11T14:00:00\",\"2018-10-11T14:00:00\",\"2018-10-11T14:00:00\",\"2018-10-11T14:00:00\",\"2018-10-11T14:00:00\",\"2018-10-11T14:00:00\",\"2018-10-11T14:00:00\",\"2018-10-11T14:00:00\",\"2018-10-11T14:00:00\",\"2018-10-11T18:00:00\",\"2018-10-11T18:00:00\",\"2018-10-11T18:00:00\",\"2018-10-11T18:00:00\",\"2018-10-11T18:00:00\",\"2018-10-12T10:00:00\",\"2018-10-12T10:00:00\",\"2018-10-12T12:00:00\",\"2018-10-12T12:00:00\",\"2018-10-12T13:00:00\",\"2018-10-12T13:00:00\",\"2018-10-12T13:00:00\",\"2018-10-12T13:00:00\",\"2018-10-12T13:00:00\",\"2018-10-12T13:00:00\",\"2018-10-12T13:00:00\",\"2018-10-12T13:00:00\",\"2018-10-12T13:00:00\",\"2018-10-12T13:00:00\",\"2018-10-12T14:00:00\",\"2018-10-12T15:00:00\",\"2018-10-12T17:00:00\",\"2018-10-12T21:00:00\",\"2018-10-13T15:00:00\",\"2018-10-13T16:00:00\",\"2018-10-13T16:00:00\",\"2018-10-13T16:00:00\",\"2018-10-13T18:00:00\",\"2018-10-13T19:00:00\",\"2018-10-13T21:00:00\",\"2018-10-14T05:00:00\",\"2018-10-14T10:00:00\",\"2018-10-14T15:00:00\",\"2018-10-14T15:00:00\",\"2018-10-14T15:00:00\",\"2018-10-14T15:00:00\",\"2018-10-14T17:00:00\",\"2018-10-14T17:00:00\",\"2018-10-14T17:00:00\",\"2018-10-14T17:00:00\",\"2018-10-14T18:00:00\",\"2018-10-14T18:00:00\",\"2018-10-15T07:00:00\",\"2018-10-15T09:00:00\",\"2018-10-15T10:00:00\",\"2018-10-15T11:00:00\",\"2018-10-15T12:00:00\",\"2018-10-15T15:00:00\",\"2018-10-15T15:00:00\",\"2018-10-15T15:00:00\",\"2018-10-15T16:00:00\",\"2018-10-15T17:00:00\",\"2018-10-15T17:00:00\",\"2018-10-16T08:00:00\",\"2018-10-16T08:00:00\",\"2018-10-16T11:00:00\",\"2018-10-16T11:00:00\",\"2018-10-16T13:00:00\",\"2018-10-16T13:00:00\",\"2018-10-16T14:00:00\",\"2018-10-16T17:00:00\",\"2018-10-16T17:00:00\",\"2018-10-16T17:00:00\",\"2018-10-16T17:00:00\",\"2018-10-16T22:00:00\",\"2018-10-17T11:00:00\",\"2018-10-17T11:00:00\",\"2018-10-17T13:00:00\",\"2018-10-17T13:00:00\",\"2018-10-17T13:00:00\",\"2018-10-17T13:00:00\",\"2018-10-17T13:00:00\",\"2018-10-17T13:00:00\",\"2018-10-17T15:00:00\",\"2018-10-17T16:00:00\",\"2018-10-17T16:00:00\",\"2018-10-17T16:00:00\",\"2018-10-17T16:00:00\",\"2018-10-17T17:00:00\",\"2018-10-17T17:00:00\",\"2018-10-17T17:00:00\",\"2018-10-17T18:00:00\",\"2018-10-17T18:00:00\",\"2018-10-17T18:00:00\",\"2018-10-17T18:00:00\",\"2018-10-18T13:00:00\",\"2018-10-18T14:00:00\",\"2018-10-18T14:00:00\",\"2018-10-18T14:00:00\",\"2018-10-18T14:00:00\",\"2018-10-18T14:00:00\",\"2018-10-18T14:00:00\",\"2018-10-18T14:00:00\",\"2018-10-18T17:00:00\",\"2018-10-18T17:00:00\",\"2018-10-18T17:00:00\",\"2018-10-18T17:00:00\",\"2018-10-18T17:00:00\",\"2018-10-18T17:00:00\",\"2018-10-18T17:00:00\",\"2018-10-19T07:00:00\",\"2018-10-19T10:00:00\",\"2018-10-19T12:00:00\",\"2018-10-19T12:00:00\",\"2018-10-19T12:00:00\",\"2018-10-19T12:00:00\",\"2018-10-19T12:00:00\",\"2018-10-19T12:00:00\",\"2018-10-19T12:00:00\",\"2018-10-19T14:00:00\",\"2018-10-19T14:00:00\",\"2018-10-19T15:00:00\",\"2018-10-19T15:00:00\",\"2018-10-19T17:00:00\",\"2018-10-19T17:00:00\",\"2018-10-19T17:00:00\",\"2018-10-19T21:00:00\",\"2018-10-19T21:00:00\",\"2018-10-19T21:00:00\",\"2018-10-19T22:00:00\",\"2018-10-19T22:00:00\",\"2018-10-19T22:00:00\",\"2018-10-19T22:00:00\",\"2018-10-19T22:00:00\",\"2018-10-20T15:00:00\",\"2018-10-20T16:00:00\",\"2018-10-20T19:00:00\",\"2018-10-20T20:00:00\",\"2018-10-20T20:00:00\",\"2018-10-20T20:00:00\",\"2018-10-21T05:00:00\",\"2018-10-21T08:00:00\",\"2018-10-21T15:00:00\",\"2018-10-21T17:00:00\",\"2018-10-21T17:00:00\",\"2018-10-21T22:00:00\",\"2018-10-21T22:00:00\",\"2018-10-21T22:00:00\",\"2018-10-21T22:00:00\",\"2018-10-21T22:00:00\",\"2018-10-22T09:00:00\",\"2018-10-22T09:00:00\",\"2018-10-22T09:00:00\",\"2018-10-22T09:00:00\",\"2018-10-22T09:00:00\",\"2018-10-22T09:00:00\",\"2018-10-22T09:00:00\",\"2018-10-22T13:00:00\",\"2018-10-22T20:00:00\",\"2018-10-22T22:00:00\",\"2018-10-22T22:00:00\",\"2018-10-22T22:00:00\",\"2018-10-22T22:00:00\",\"2018-10-22T22:00:00\",\"2018-10-22T22:00:00\",\"2018-10-22T22:00:00\",\"2018-10-22T22:00:00\",\"2018-10-22T22:00:00\",\"2018-10-22T23:00:00\",\"2018-10-23T09:00:00\",\"2018-10-23T11:00:00\",\"2018-10-23T11:00:00\",\"2018-10-23T11:00:00\",\"2018-10-23T13:00:00\",\"2018-10-23T13:00:00\",\"2018-10-23T13:00:00\",\"2018-10-23T13:00:00\",\"2018-10-23T13:00:00\",\"2018-10-23T13:00:00\",\"2018-10-23T13:00:00\",\"2018-10-23T13:00:00\",\"2018-10-23T13:00:00\",\"2018-10-23T16:00:00\",\"2018-10-23T16:00:00\",\"2018-10-23T19:00:00\",\"2018-10-23T21:00:00\",\"2018-10-23T21:00:00\",\"2018-10-24T07:00:00\",\"2018-10-24T07:00:00\",\"2018-10-24T07:00:00\",\"2018-10-24T07:00:00\",\"2018-10-24T07:00:00\",\"2018-10-24T07:00:00\",\"2018-10-24T09:00:00\",\"2018-10-24T09:00:00\",\"2018-10-24T10:00:00\",\"2018-10-24T14:00:00\",\"2018-10-24T15:00:00\",\"2018-10-24T18:00:00\",\"2018-10-24T20:00:00\",\"2018-10-25T01:00:00\",\"2018-10-25T01:00:00\",\"2018-10-25T01:00:00\",\"2018-10-25T01:00:00\",\"2018-10-25T01:00:00\",\"2018-10-25T01:00:00\",\"2018-10-25T01:00:00\",\"2018-10-25T08:00:00\",\"2018-10-25T13:00:00\",\"2018-10-25T13:00:00\",\"2018-10-25T14:00:00\",\"2018-10-25T18:00:00\",\"2018-10-25T19:00:00\",\"2018-10-26T13:00:00\",\"2018-10-26T13:00:00\",\"2018-10-26T13:00:00\",\"2018-10-26T13:00:00\",\"2018-10-26T13:00:00\",\"2018-10-26T13:00:00\",\"2018-10-26T13:00:00\",\"2018-10-26T13:00:00\",\"2018-10-26T13:00:00\",\"2018-10-26T13:00:00\",\"2018-10-26T13:00:00\",\"2018-10-26T13:00:00\",\"2018-10-26T13:00:00\",\"2018-10-26T13:00:00\",\"2018-10-26T13:00:00\",\"2018-10-26T13:00:00\",\"2018-10-26T13:00:00\",\"2018-10-26T13:00:00\",\"2018-10-26T13:00:00\",\"2018-10-26T13:00:00\",\"2018-10-26T13:00:00\",\"2018-10-26T15:00:00\",\"2018-10-26T17:00:00\",\"2018-10-26T17:00:00\",\"2018-10-26T17:00:00\",\"2018-10-27T10:00:00\",\"2018-10-27T10:00:00\",\"2018-10-27T10:00:00\",\"2018-10-27T13:00:00\",\"2018-10-27T13:00:00\",\"2018-10-27T13:00:00\",\"2018-10-27T14:00:00\",\"2018-10-27T15:00:00\",\"2018-10-27T17:00:00\",\"2018-10-27T17:00:00\",\"2018-10-27T17:00:00\",\"2018-10-27T17:00:00\",\"2018-10-27T17:00:00\",\"2018-10-27T17:00:00\",\"2018-10-27T17:00:00\",\"2018-10-27T17:00:00\",\"2018-10-27T17:00:00\",\"2018-10-27T17:00:00\",\"2018-10-27T17:00:00\",\"2018-10-27T19:00:00\",\"2018-10-27T21:00:00\",\"2018-10-27T23:00:00\",\"2018-10-27T23:00:00\",\"2018-10-27T23:00:00\",\"2018-10-27T23:00:00\",\"2018-10-27T23:00:00\",\"2018-10-27T23:00:00\",\"2018-10-27T23:00:00\",\"2018-10-27T23:00:00\",\"2018-10-27T23:00:00\",\"2018-10-27T23:00:00\",\"2018-10-27T23:00:00\",\"2018-10-27T23:00:00\",\"2018-10-27T23:00:00\",\"2018-10-27T23:00:00\",\"2018-10-27T23:00:00\",\"2018-10-28T00:00:00\",\"2018-10-28T02:00:00\",\"2018-10-28T02:00:00\",\"2018-10-28T02:00:00\",\"2018-10-28T02:00:00\",\"2018-10-28T08:00:00\",\"2018-10-28T08:00:00\",\"2018-10-28T08:00:00\",\"2018-10-28T08:00:00\",\"2018-10-28T08:00:00\",\"2018-10-28T08:00:00\",\"2018-10-28T08:00:00\",\"2018-10-28T08:00:00\",\"2018-10-28T08:00:00\",\"2018-10-28T09:00:00\",\"2018-10-28T09:00:00\",\"2018-10-28T09:00:00\",\"2018-10-28T09:00:00\",\"2018-10-28T09:00:00\",\"2018-10-28T09:00:00\",\"2018-10-28T09:00:00\",\"2018-10-28T09:00:00\",\"2018-10-28T09:00:00\",\"2018-10-28T11:00:00\",\"2018-10-28T11:00:00\",\"2018-10-28T11:00:00\",\"2018-10-28T11:00:00\",\"2018-10-28T12:00:00\",\"2018-10-28T15:00:00\",\"2018-10-28T18:00:00\",\"2018-10-28T18:00:00\",\"2018-10-28T18:00:00\",\"2018-10-28T19:00:00\",\"2018-10-28T19:00:00\",\"2018-10-28T19:00:00\",\"2018-10-28T22:00:00\",\"2018-10-29T07:00:00\",\"2018-10-29T12:00:00\",\"2018-10-29T17:00:00\",\"2018-10-29T17:00:00\",\"2018-10-29T17:00:00\",\"2018-10-29T17:00:00\",\"2018-10-29T17:00:00\",\"2018-10-29T17:00:00\",\"2018-10-29T17:00:00\",\"2018-10-29T17:00:00\",\"2018-10-29T17:00:00\",\"2018-10-29T17:00:00\",\"2018-10-29T17:00:00\",\"2018-10-29T17:00:00\",\"2018-10-29T17:00:00\",\"2018-10-29T17:00:00\",\"2018-10-29T20:00:00\",\"2018-10-29T20:00:00\",\"2018-10-30T08:00:00\",\"2018-10-30T08:00:00\",\"2018-10-30T14:00:00\",\"2018-10-30T14:00:00\",\"2018-10-30T20:00:00\",\"2018-10-30T20:00:00\",\"2018-10-30T20:00:00\",\"2018-10-30T21:00:00\",\"2018-10-30T21:00:00\",\"2018-10-30T21:00:00\",\"2018-10-30T23:00:00\",\"2018-10-31T00:00:00\",\"2018-10-31T06:00:00\",\"2018-10-31T06:00:00\",\"2018-10-31T06:00:00\",\"2018-10-31T06:00:00\",\"2018-10-31T06:00:00\",\"2018-10-31T06:00:00\",\"2018-10-31T06:00:00\",\"2018-10-31T06:00:00\",\"2018-10-31T09:00:00\",\"2018-10-31T09:00:00\",\"2018-10-31T11:00:00\",\"2018-10-31T13:00:00\",\"2018-10-31T13:00:00\",\"2018-10-31T13:00:00\",\"2018-10-31T13:00:00\",\"2018-10-31T13:00:00\",\"2018-10-31T13:00:00\",\"2018-10-31T13:00:00\",\"2018-10-31T13:00:00\",\"2018-10-31T13:00:00\",\"2018-10-31T14:00:00\",\"2018-10-31T15:00:00\",\"2018-10-31T17:00:00\",\"2018-10-31T17:00:00\",\"2018-11-01T08:00:00\",\"2018-11-01T08:00:00\",\"2018-11-01T09:00:00\",\"2018-11-01T15:00:00\",\"2018-11-01T15:00:00\",\"2018-11-01T16:00:00\",\"2018-11-01T16:00:00\",\"2018-11-01T16:00:00\",\"2018-11-01T16:00:00\",\"2018-11-01T16:00:00\",\"2018-11-01T16:00:00\",\"2018-11-01T16:00:00\",\"2018-11-01T16:00:00\",\"2018-11-01T16:00:00\",\"2018-11-01T16:00:00\",\"2018-11-01T17:00:00\",\"2018-11-02T09:00:00\",\"2018-11-02T09:00:00\",\"2018-11-02T10:00:00\",\"2018-11-02T11:00:00\",\"2018-11-02T13:00:00\",\"2018-11-02T14:00:00\",\"2018-11-02T14:00:00\",\"2018-11-02T14:00:00\",\"2018-11-02T14:00:00\",\"2018-11-02T14:00:00\",\"2018-11-02T14:00:00\",\"2018-11-02T14:00:00\",\"2018-11-02T14:00:00\",\"2018-11-02T17:00:00\",\"2018-11-03T08:00:00\",\"2018-11-03T08:00:00\",\"2018-11-03T08:00:00\",\"2018-11-03T08:00:00\",\"2018-11-03T08:00:00\",\"2018-11-03T09:00:00\",\"2018-11-03T21:00:00\",\"2018-11-03T21:00:00\",\"2018-11-03T21:00:00\",\"2018-11-04T05:00:00\",\"2018-11-04T08:00:00\",\"2018-11-04T08:00:00\",\"2018-11-04T08:00:00\",\"2018-11-04T08:00:00\",\"2018-11-04T08:00:00\",\"2018-11-04T08:00:00\",\"2018-11-04T08:00:00\",\"2018-11-04T08:00:00\",\"2018-11-04T08:00:00\",\"2018-11-04T08:00:00\",\"2018-11-04T08:00:00\",\"2018-11-04T08:00:00\",\"2018-11-04T08:00:00\",\"2018-11-04T08:00:00\",\"2018-11-04T08:00:00\",\"2018-11-04T13:00:00\",\"2018-11-04T15:00:00\",\"2018-11-04T17:00:00\",\"2018-11-04T19:00:00\",\"2018-11-04T21:00:00\",\"2018-11-04T21:00:00\",\"2018-11-04T22:00:00\",\"2018-11-04T22:00:00\",\"2018-11-04T22:00:00\",\"2018-11-04T22:00:00\",\"2018-11-04T22:00:00\",\"2018-11-04T22:00:00\",\"2018-11-05T02:00:00\",\"2018-11-05T08:00:00\",\"2018-11-05T09:00:00\",\"2018-11-05T09:00:00\",\"2018-11-05T09:00:00\",\"2018-11-05T12:00:00\",\"2018-11-05T12:00:00\",\"2018-11-05T12:00:00\",\"2018-11-05T12:00:00\",\"2018-11-05T12:00:00\",\"2018-11-05T12:00:00\",\"2018-11-05T19:00:00\",\"2018-11-05T19:00:00\",\"2018-11-05T19:00:00\",\"2018-11-05T21:00:00\",\"2018-11-05T21:00:00\",\"2018-11-05T22:00:00\",\"2018-11-05T22:00:00\",\"2018-11-05T22:00:00\",\"2018-11-05T22:00:00\",\"2018-11-05T22:00:00\",\"2018-11-05T22:00:00\",\"2018-11-06T07:00:00\",\"2018-11-06T07:00:00\",\"2018-11-06T07:00:00\",\"2018-11-06T07:00:00\",\"2018-11-06T08:00:00\",\"2018-11-06T12:00:00\",\"2018-11-06T13:00:00\",\"2018-11-06T13:00:00\",\"2018-11-06T15:00:00\",\"2018-11-06T15:00:00\",\"2018-11-06T15:00:00\",\"2018-11-06T16:00:00\",\"2018-11-06T16:00:00\",\"2018-11-06T16:00:00\",\"2018-11-06T16:00:00\",\"2018-11-06T16:00:00\",\"2018-11-06T18:00:00\",\"2018-11-06T19:00:00\",\"2018-11-06T19:00:00\",\"2018-11-06T20:00:00\",\"2018-11-06T20:00:00\",\"2018-11-06T20:00:00\",\"2018-11-06T20:00:00\",\"2018-11-06T20:00:00\",\"2018-11-07T07:00:00\",\"2018-11-07T07:00:00\",\"2018-11-07T07:00:00\",\"2018-11-07T07:00:00\",\"2018-11-07T07:00:00\",\"2018-11-07T08:00:00\",\"2018-11-07T09:00:00\",\"2018-11-07T10:00:00\",\"2018-11-07T14:00:00\",\"2018-11-07T15:00:00\",\"2018-11-07T15:00:00\",\"2018-11-07T17:00:00\",\"2018-11-07T17:00:00\",\"2018-11-07T19:00:00\",\"2018-11-07T20:00:00\",\"2018-11-07T20:00:00\",\"2018-11-07T20:00:00\",\"2018-11-07T20:00:00\",\"2018-11-07T20:00:00\",\"2018-11-07T20:00:00\",\"2018-11-07T22:00:00\",\"2018-11-08T13:00:00\",\"2018-11-08T14:00:00\",\"2018-11-08T16:00:00\",\"2018-11-08T16:00:00\",\"2018-11-08T16:00:00\",\"2018-11-08T16:00:00\",\"2018-11-08T16:00:00\",\"2018-11-08T16:00:00\",\"2018-11-08T16:00:00\",\"2018-11-08T16:00:00\",\"2018-11-08T16:00:00\",\"2018-11-08T22:00:00\",\"2018-11-08T22:00:00\",\"2018-11-09T08:00:00\",\"2018-11-09T08:00:00\",\"2018-11-09T08:00:00\",\"2018-11-09T08:00:00\",\"2018-11-09T08:00:00\",\"2018-11-09T08:00:00\",\"2018-11-09T08:00:00\",\"2018-11-09T08:00:00\",\"2018-11-09T08:00:00\",\"2018-11-09T08:00:00\",\"2018-11-09T08:00:00\",\"2018-11-09T10:00:00\",\"2018-11-09T10:00:00\",\"2018-11-09T10:00:00\",\"2018-11-09T13:00:00\",\"2018-11-09T13:00:00\",\"2018-11-09T14:00:00\",\"2018-11-09T15:00:00\",\"2018-11-09T19:00:00\",\"2018-11-09T21:00:00\",\"2018-11-10T10:00:00\",\"2018-11-10T10:00:00\",\"2018-11-10T12:00:00\",\"2018-11-10T12:00:00\",\"2018-11-10T13:00:00\",\"2018-11-10T13:00:00\",\"2018-11-10T14:00:00\",\"2018-11-10T14:00:00\",\"2018-11-10T14:00:00\",\"2018-11-10T14:00:00\",\"2018-11-10T14:00:00\",\"2018-11-10T14:00:00\",\"2018-11-10T14:00:00\",\"2018-11-10T14:00:00\",\"2018-11-10T14:00:00\",\"2018-11-10T14:00:00\",\"2018-11-10T14:00:00\",\"2018-11-10T14:00:00\",\"2018-11-10T14:00:00\",\"2018-11-10T14:00:00\",\"2018-11-10T14:00:00\",\"2018-11-10T14:00:00\",\"2018-11-10T14:00:00\",\"2018-11-10T14:00:00\",\"2018-11-10T17:00:00\",\"2018-11-10T17:00:00\",\"2018-11-10T17:00:00\",\"2018-11-10T20:00:00\",\"2018-11-10T20:00:00\",\"2018-11-11T07:00:00\",\"2018-11-11T11:00:00\",\"2018-11-11T14:00:00\",\"2018-11-11T16:00:00\",\"2018-11-11T17:00:00\",\"2018-11-11T18:00:00\",\"2018-11-11T19:00:00\",\"2018-11-11T21:00:00\",\"2018-11-11T22:00:00\",\"2018-11-12T05:00:00\",\"2018-11-12T05:00:00\",\"2018-11-12T05:00:00\",\"2018-11-12T05:00:00\",\"2018-11-12T05:00:00\",\"2018-11-12T07:00:00\",\"2018-11-12T10:00:00\",\"2018-11-12T10:00:00\",\"2018-11-12T10:00:00\",\"2018-11-12T10:00:00\",\"2018-11-12T10:00:00\",\"2018-11-12T10:00:00\",\"2018-11-12T10:00:00\",\"2018-11-12T10:00:00\",\"2018-11-12T10:00:00\",\"2018-11-12T11:00:00\",\"2018-11-12T11:00:00\",\"2018-11-12T11:00:00\",\"2018-11-12T11:00:00\",\"2018-11-12T11:00:00\",\"2018-11-12T11:00:00\",\"2018-11-12T13:00:00\",\"2018-11-12T14:00:00\",\"2018-11-12T15:00:00\",\"2018-11-12T17:00:00\",\"2018-11-13T06:00:00\",\"2018-11-13T07:00:00\",\"2018-11-13T07:00:00\",\"2018-11-13T10:00:00\",\"2018-11-13T11:00:00\",\"2018-11-13T11:00:00\",\"2018-11-13T12:00:00\",\"2018-11-13T14:00:00\",\"2018-11-13T15:00:00\",\"2018-11-13T15:00:00\",\"2018-11-13T19:00:00\",\"2018-11-13T23:00:00\",\"2018-11-14T08:00:00\",\"2018-11-14T16:00:00\",\"2018-11-14T18:00:00\",\"2018-11-14T22:00:00\",\"2018-11-14T22:00:00\",\"2018-11-15T11:00:00\",\"2018-11-15T11:00:00\",\"2018-11-15T15:00:00\",\"2018-11-15T15:00:00\",\"2018-11-15T15:00:00\",\"2018-11-15T15:00:00\",\"2018-11-15T15:00:00\",\"2018-11-15T15:00:00\",\"2018-11-16T07:00:00\",\"2018-11-16T08:00:00\",\"2018-11-16T11:00:00\",\"2018-11-16T12:00:00\",\"2018-11-16T15:00:00\",\"2018-11-16T16:00:00\",\"2018-11-16T16:00:00\",\"2018-11-16T16:00:00\",\"2018-11-16T21:00:00\",\"2018-11-17T01:00:00\",\"2018-11-17T01:00:00\",\"2018-11-17T01:00:00\",\"2018-11-17T01:00:00\",\"2018-11-17T01:00:00\",\"2018-11-17T01:00:00\",\"2018-11-17T01:00:00\",\"2018-11-17T01:00:00\",\"2018-11-17T01:00:00\",\"2018-11-17T01:00:00\",\"2018-11-17T11:00:00\",\"2018-11-17T11:00:00\",\"2018-11-17T11:00:00\",\"2018-11-17T11:00:00\",\"2018-11-17T11:00:00\",\"2018-11-17T11:00:00\",\"2018-11-17T11:00:00\",\"2018-11-17T11:00:00\",\"2018-11-17T12:00:00\",\"2018-11-17T12:00:00\",\"2018-11-17T14:00:00\",\"2018-11-17T16:00:00\",\"2018-11-18T09:00:00\",\"2018-11-18T13:00:00\",\"2018-11-18T15:00:00\",\"2018-11-18T17:00:00\",\"2018-11-19T01:00:00\",\"2018-11-19T12:00:00\",\"2018-11-19T12:00:00\",\"2018-11-19T12:00:00\",\"2018-11-19T12:00:00\",\"2018-11-19T13:00:00\",\"2018-11-19T13:00:00\",\"2018-11-19T13:00:00\",\"2018-11-19T13:00:00\",\"2018-11-19T13:00:00\",\"2018-11-19T13:00:00\",\"2018-11-19T13:00:00\",\"2018-11-19T13:00:00\",\"2018-11-19T18:00:00\",\"2018-11-19T22:00:00\",\"2018-11-19T22:00:00\",\"2018-11-19T22:00:00\",\"2018-11-20T06:00:00\",\"2018-11-20T06:00:00\",\"2018-11-20T11:00:00\",\"2018-11-20T14:00:00\",\"2018-11-20T14:00:00\",\"2018-11-20T14:00:00\",\"2018-11-20T14:00:00\",\"2018-11-20T15:00:00\",\"2018-11-20T17:00:00\",\"2018-11-20T17:00:00\",\"2018-11-20T17:00:00\",\"2018-11-20T17:00:00\",\"2018-11-20T17:00:00\",\"2018-11-20T20:00:00\",\"2018-11-20T20:00:00\",\"2018-11-20T20:00:00\",\"2018-11-20T20:00:00\",\"2018-11-20T20:00:00\",\"2018-11-21T10:00:00\",\"2018-11-21T10:00:00\",\"2018-11-21T10:00:00\",\"2018-11-21T10:00:00\",\"2018-11-21T13:00:00\",\"2018-11-21T13:00:00\",\"2018-11-21T13:00:00\",\"2018-11-21T13:00:00\",\"2018-11-21T13:00:00\",\"2018-11-21T13:00:00\",\"2018-11-21T13:00:00\",\"2018-11-21T13:00:00\",\"2018-11-21T13:00:00\",\"2018-11-21T14:00:00\",\"2018-11-21T15:00:00\",\"2018-11-21T15:00:00\",\"2018-11-21T15:00:00\",\"2018-11-21T15:00:00\",\"2018-11-21T16:00:00\",\"2018-11-21T21:00:00\",\"2018-11-21T21:00:00\",\"2018-11-21T21:00:00\",\"2018-11-21T21:00:00\",\"2018-11-21T21:00:00\",\"2018-11-21T21:00:00\",\"2018-11-22T21:00:00\",\"2018-11-22T22:00:00\",\"2018-11-23T04:00:00\",\"2018-11-23T04:00:00\",\"2018-11-23T04:00:00\",\"2018-11-23T04:00:00\",\"2018-11-23T04:00:00\",\"2018-11-23T04:00:00\",\"2018-11-23T04:00:00\",\"2018-11-23T04:00:00\",\"2018-11-23T04:00:00\",\"2018-11-23T04:00:00\",\"2018-11-23T04:00:00\",\"2018-11-23T08:00:00\",\"2018-11-23T09:00:00\",\"2018-11-23T10:00:00\",\"2018-11-23T13:00:00\",\"2018-11-23T13:00:00\",\"2018-11-23T13:00:00\",\"2018-11-23T13:00:00\",\"2018-11-23T13:00:00\",\"2018-11-23T13:00:00\",\"2018-11-23T19:00:00\",\"2018-11-23T20:00:00\",\"2018-11-23T20:00:00\",\"2018-11-23T20:00:00\",\"2018-11-23T20:00:00\",\"2018-11-23T20:00:00\",\"2018-11-23T20:00:00\",\"2018-11-24T01:00:00\",\"2018-11-24T01:00:00\",\"2018-11-24T01:00:00\",\"2018-11-24T01:00:00\",\"2018-11-24T01:00:00\",\"2018-11-24T01:00:00\",\"2018-11-24T01:00:00\",\"2018-11-24T01:00:00\",\"2018-11-24T01:00:00\",\"2018-11-24T01:00:00\",\"2018-11-24T08:00:00\",\"2018-11-24T09:00:00\",\"2018-11-24T09:00:00\",\"2018-11-24T09:00:00\",\"2018-11-24T09:00:00\",\"2018-11-24T09:00:00\",\"2018-11-24T11:00:00\",\"2018-11-24T12:00:00\",\"2018-11-24T13:00:00\",\"2018-11-24T13:00:00\",\"2018-11-24T19:00:00\",\"2018-11-24T23:00:00\",\"2018-11-24T23:00:00\",\"2018-11-25T09:00:00\",\"2018-11-25T09:00:00\",\"2018-11-25T09:00:00\",\"2018-11-25T09:00:00\",\"2018-11-25T09:00:00\",\"2018-11-25T10:00:00\",\"2018-11-25T14:00:00\",\"2018-11-25T14:00:00\",\"2018-11-25T14:00:00\",\"2018-11-25T14:00:00\",\"2018-11-25T14:00:00\",\"2018-11-25T14:00:00\",\"2018-11-25T14:00:00\",\"2018-11-25T14:00:00\",\"2018-11-25T14:00:00\",\"2018-11-25T14:00:00\",\"2018-11-25T19:00:00\",\"2018-11-26T10:00:00\",\"2018-11-26T10:00:00\",\"2018-11-26T10:00:00\",\"2018-11-26T10:00:00\",\"2018-11-26T11:00:00\",\"2018-11-26T12:00:00\",\"2018-11-26T16:00:00\",\"2018-11-26T16:00:00\",\"2018-11-27T10:00:00\",\"2018-11-27T10:00:00\",\"2018-11-27T10:00:00\",\"2018-11-27T14:00:00\",\"2018-11-27T14:00:00\",\"2018-11-27T15:00:00\",\"2018-11-27T15:00:00\",\"2018-11-27T15:00:00\",\"2018-11-27T15:00:00\",\"2018-11-27T19:00:00\",\"2018-11-27T20:00:00\",\"2018-11-27T21:00:00\",\"2018-11-28T08:00:00\",\"2018-11-28T10:00:00\",\"2018-11-28T11:00:00\",\"2018-11-28T12:00:00\",\"2018-11-28T13:00:00\",\"2018-11-28T14:00:00\",\"2018-11-28T16:00:00\",\"2018-11-29T09:00:00\",\"2018-11-29T09:00:00\",\"2018-11-29T10:00:00\",\"2018-11-29T10:00:00\",\"2018-11-29T10:00:00\",\"2018-11-29T10:00:00\",\"2018-11-29T11:00:00\",\"2018-11-29T11:00:00\",\"2018-11-29T15:00:00\",\"2018-11-29T17:00:00\",\"2018-11-29T17:00:00\",\"2018-11-29T17:00:00\",\"2018-11-29T17:00:00\",\"2018-11-29T17:00:00\",\"2018-11-29T17:00:00\",\"2018-11-29T21:00:00\",\"2018-11-29T23:00:00\",\"2018-11-30T11:00:00\",\"2018-11-30T11:00:00\",\"2018-11-30T11:00:00\",\"2018-11-30T11:00:00\",\"2018-11-30T11:00:00\",\"2018-11-30T11:00:00\",\"2018-11-30T11:00:00\",\"2018-11-30T11:00:00\",\"2018-11-30T14:00:00\",\"2018-11-30T17:00:00\",\"2018-11-30T17:00:00\",\"2018-12-01T10:00:00\",\"2018-12-01T10:00:00\",\"2018-12-01T12:00:00\",\"2018-12-01T17:00:00\",\"2018-12-01T18:00:00\",\"2018-12-01T20:00:00\",\"2018-12-01T22:00:00\",\"2018-12-01T23:00:00\",\"2018-12-01T23:00:00\",\"2018-12-02T08:00:00\",\"2018-12-02T13:00:00\",\"2018-12-02T14:00:00\",\"2018-12-02T14:00:00\",\"2018-12-02T14:00:00\",\"2018-12-02T15:00:00\",\"2018-12-02T15:00:00\",\"2018-12-02T15:00:00\",\"2018-12-02T15:00:00\",\"2018-12-02T19:00:00\",\"2018-12-02T19:00:00\",\"2018-12-02T19:00:00\",\"2018-12-02T19:00:00\",\"2018-12-02T23:00:00\",\"2018-12-02T23:00:00\",\"2018-12-02T23:00:00\",\"2018-12-02T23:00:00\",\"2018-12-03T08:00:00\",\"2018-12-03T09:00:00\",\"2018-12-03T11:00:00\",\"2018-12-03T11:00:00\",\"2018-12-03T11:00:00\",\"2018-12-03T11:00:00\",\"2018-12-03T11:00:00\",\"2018-12-03T11:00:00\",\"2018-12-03T11:00:00\",\"2018-12-03T11:00:00\",\"2018-12-03T11:00:00\",\"2018-12-03T11:00:00\",\"2018-12-03T11:00:00\",\"2018-12-03T11:00:00\",\"2018-12-03T11:00:00\",\"2018-12-03T11:00:00\",\"2018-12-03T11:00:00\",\"2018-12-03T11:00:00\",\"2018-12-03T11:00:00\",\"2018-12-03T11:00:00\",\"2018-12-03T12:00:00\",\"2018-12-03T13:00:00\",\"2018-12-03T13:00:00\",\"2018-12-03T18:00:00\",\"2018-12-03T19:00:00\",\"2018-12-04T05:00:00\",\"2018-12-04T05:00:00\",\"2018-12-04T07:00:00\",\"2018-12-04T07:00:00\",\"2018-12-04T08:00:00\",\"2018-12-04T09:00:00\",\"2018-12-04T11:00:00\",\"2018-12-04T12:00:00\",\"2018-12-04T12:00:00\",\"2018-12-04T12:00:00\",\"2018-12-04T16:00:00\",\"2018-12-04T17:00:00\",\"2018-12-04T19:00:00\",\"2018-12-04T19:00:00\",\"2018-12-04T19:00:00\",\"2018-12-04T20:00:00\",\"2018-12-04T23:00:00\",\"2018-12-05T15:00:00\",\"2018-12-05T15:00:00\",\"2018-12-05T15:00:00\",\"2018-12-05T16:00:00\",\"2018-12-05T17:00:00\",\"2018-12-05T20:00:00\",\"2018-12-06T04:00:00\",\"2018-12-06T08:00:00\",\"2018-12-06T10:00:00\",\"2018-12-06T10:00:00\",\"2018-12-06T12:00:00\",\"2018-12-06T13:00:00\",\"2018-12-06T17:00:00\",\"2018-12-06T17:00:00\",\"2018-12-06T20:00:00\",\"2018-12-07T08:00:00\",\"2018-12-07T08:00:00\",\"2018-12-07T14:00:00\",\"2018-12-07T14:00:00\",\"2018-12-07T18:00:00\",\"2018-12-07T20:00:00\",\"2018-12-07T20:00:00\",\"2018-12-07T22:00:00\",\"2018-12-08T13:00:00\",\"2018-12-08T18:00:00\",\"2018-12-08T21:00:00\",\"2018-12-08T21:00:00\",\"2018-12-09T13:00:00\",\"2018-12-09T14:00:00\",\"2018-12-09T14:00:00\",\"2018-12-09T15:00:00\",\"2018-12-09T18:00:00\",\"2018-12-09T19:00:00\",\"2018-12-09T19:00:00\",\"2018-12-09T20:00:00\",\"2018-12-09T22:00:00\",\"2018-12-09T23:00:00\",\"2018-12-10T08:00:00\",\"2018-12-10T08:00:00\",\"2018-12-10T08:00:00\",\"2018-12-10T09:00:00\",\"2018-12-10T10:00:00\",\"2018-12-10T11:00:00\",\"2018-12-10T11:00:00\",\"2018-12-10T11:00:00\",\"2018-12-10T12:00:00\",\"2018-12-10T12:00:00\",\"2018-12-10T14:00:00\",\"2018-12-10T14:00:00\",\"2018-12-10T14:00:00\",\"2018-12-10T15:00:00\",\"2018-12-10T16:00:00\",\"2018-12-10T16:00:00\",\"2018-12-10T16:00:00\",\"2018-12-10T20:00:00\",\"2018-12-10T22:00:00\",\"2018-12-11T08:00:00\",\"2018-12-11T08:00:00\",\"2018-12-11T08:00:00\",\"2018-12-11T09:00:00\",\"2018-12-11T09:00:00\",\"2018-12-11T09:00:00\",\"2018-12-11T10:00:00\",\"2018-12-11T12:00:00\",\"2018-12-11T12:00:00\",\"2018-12-11T13:00:00\",\"2018-12-11T14:00:00\",\"2018-12-11T18:00:00\",\"2018-12-11T21:00:00\",\"2018-12-11T23:00:00\",\"2018-12-12T08:00:00\",\"2018-12-12T11:00:00\",\"2018-12-12T13:00:00\",\"2018-12-12T14:00:00\",\"2018-12-12T14:00:00\",\"2018-12-12T14:00:00\",\"2018-12-12T14:00:00\",\"2018-12-12T15:00:00\",\"2018-12-12T21:00:00\",\"2018-12-12T22:00:00\",\"2018-12-12T22:00:00\",\"2018-12-13T00:00:00\",\"2018-12-13T02:00:00\",\"2018-12-13T08:00:00\",\"2018-12-13T11:00:00\",\"2018-12-13T15:00:00\",\"2018-12-13T18:00:00\",\"2018-12-13T19:00:00\",\"2018-12-13T22:00:00\",\"2018-12-14T09:00:00\",\"2018-12-14T11:00:00\",\"2018-12-14T11:00:00\",\"2018-12-14T12:00:00\",\"2018-12-14T13:00:00\",\"2018-12-14T14:00:00\",\"2018-12-14T14:00:00\",\"2018-12-14T18:00:00\",\"2018-12-14T18:00:00\",\"2018-12-14T20:00:00\",\"2018-12-14T23:00:00\",\"2018-12-15T07:00:00\",\"2018-12-15T12:00:00\",\"2018-12-15T12:00:00\",\"2018-12-15T14:00:00\",\"2018-12-15T15:00:00\",\"2018-12-15T16:00:00\",\"2018-12-15T19:00:00\",\"2018-12-15T19:00:00\",\"2018-12-15T23:00:00\",\"2018-12-16T10:00:00\",\"2018-12-16T12:00:00\",\"2018-12-16T13:00:00\",\"2018-12-16T16:00:00\",\"2018-12-16T17:00:00\",\"2018-12-16T17:00:00\",\"2018-12-16T18:00:00\",\"2018-12-16T19:00:00\",\"2018-12-16T21:00:00\",\"2018-12-16T23:00:00\",\"2018-12-17T09:00:00\",\"2018-12-17T09:00:00\",\"2018-12-17T09:00:00\",\"2018-12-17T09:00:00\",\"2018-12-17T10:00:00\",\"2018-12-17T11:00:00\",\"2018-12-17T12:00:00\",\"2018-12-17T13:00:00\",\"2018-12-17T14:00:00\",\"2018-12-17T14:00:00\",\"2018-12-17T14:00:00\",\"2018-12-17T15:00:00\",\"2018-12-17T15:00:00\",\"2018-12-17T17:00:00\",\"2018-12-17T17:00:00\",\"2018-12-17T19:00:00\",\"2018-12-17T19:00:00\",\"2018-12-17T20:00:00\",\"2018-12-18T00:00:00\",\"2018-12-18T06:00:00\",\"2018-12-18T07:00:00\",\"2018-12-18T07:00:00\",\"2018-12-18T08:00:00\",\"2018-12-18T09:00:00\",\"2018-12-18T10:00:00\",\"2018-12-18T10:00:00\",\"2018-12-18T12:00:00\",\"2018-12-18T14:00:00\",\"2018-12-18T14:00:00\",\"2018-12-18T18:00:00\",\"2018-12-18T20:00:00\",\"2018-12-18T21:00:00\",\"2018-12-18T22:00:00\",\"2018-12-18T22:00:00\",\"2018-12-19T09:00:00\",\"2018-12-19T11:00:00\",\"2018-12-19T12:00:00\",\"2018-12-19T12:00:00\",\"2018-12-19T13:00:00\",\"2018-12-19T13:00:00\",\"2018-12-19T14:00:00\",\"2018-12-19T14:00:00\",\"2018-12-19T14:00:00\",\"2018-12-19T14:00:00\",\"2018-12-19T14:00:00\",\"2018-12-19T19:00:00\",\"2018-12-19T20:00:00\",\"2018-12-20T10:00:00\",\"2018-12-20T12:00:00\",\"2018-12-20T12:00:00\",\"2018-12-20T13:00:00\",\"2018-12-20T13:00:00\",\"2018-12-20T14:00:00\",\"2018-12-20T15:00:00\",\"2018-12-20T16:00:00\",\"2018-12-20T17:00:00\",\"2018-12-20T18:00:00\",\"2018-12-20T21:00:00\",\"2018-12-20T21:00:00\",\"2018-12-20T22:00:00\",\"2018-12-21T00:00:00\",\"2018-12-21T07:00:00\",\"2018-12-21T07:00:00\",\"2018-12-21T09:00:00\",\"2018-12-21T11:00:00\",\"2018-12-21T11:00:00\",\"2018-12-21T12:00:00\",\"2018-12-21T13:00:00\",\"2018-12-21T13:00:00\",\"2018-12-21T13:00:00\",\"2018-12-21T13:00:00\",\"2018-12-21T16:00:00\",\"2018-12-21T18:00:00\",\"2018-12-21T19:00:00\",\"2018-12-21T20:00:00\",\"2018-12-21T22:00:00\",\"2018-12-22T06:00:00\",\"2018-12-22T09:00:00\",\"2018-12-22T12:00:00\",\"2018-12-22T20:00:00\",\"2018-12-22T20:00:00\",\"2018-12-22T21:00:00\",\"2018-12-22T23:00:00\",\"2018-12-23T04:00:00\",\"2018-12-23T09:00:00\",\"2018-12-23T10:00:00\",\"2018-12-23T10:00:00\",\"2018-12-23T11:00:00\",\"2018-12-23T11:00:00\",\"2018-12-23T12:00:00\",\"2018-12-23T12:00:00\",\"2018-12-23T12:00:00\",\"2018-12-23T12:00:00\",\"2018-12-23T13:00:00\",\"2018-12-23T14:00:00\",\"2018-12-23T14:00:00\",\"2018-12-23T15:00:00\",\"2018-12-23T15:00:00\",\"2018-12-23T16:00:00\",\"2018-12-23T18:00:00\",\"2018-12-23T19:00:00\",\"2018-12-23T20:00:00\",\"2018-12-23T20:00:00\",\"2018-12-23T22:00:00\",\"2018-12-23T22:00:00\",\"2018-12-24T00:00:00\",\"2018-12-24T01:00:00\",\"2018-12-24T02:00:00\",\"2018-12-24T06:00:00\",\"2018-12-24T08:00:00\",\"2018-12-24T08:00:00\",\"2018-12-24T09:00:00\",\"2018-12-24T09:00:00\",\"2018-12-24T10:00:00\",\"2018-12-24T10:00:00\",\"2018-12-24T10:00:00\",\"2018-12-24T11:00:00\",\"2018-12-24T11:00:00\",\"2018-12-24T12:00:00\",\"2018-12-24T12:00:00\",\"2018-12-24T12:00:00\",\"2018-12-24T13:00:00\",\"2018-12-24T13:00:00\",\"2018-12-24T20:00:00\",\"2018-12-24T21:00:00\",\"2018-12-24T22:00:00\",\"2018-12-25T10:00:00\",\"2018-12-25T15:00:00\",\"2018-12-25T15:00:00\",\"2018-12-25T17:00:00\",\"2018-12-25T19:00:00\",\"2018-12-25T20:00:00\",\"2018-12-25T21:00:00\",\"2018-12-25T21:00:00\",\"2018-12-25T21:00:00\",\"2018-12-25T22:00:00\",\"2018-12-25T23:00:00\",\"2018-12-26T00:00:00\",\"2018-12-26T08:00:00\",\"2018-12-26T08:00:00\",\"2018-12-26T09:00:00\",\"2018-12-26T10:00:00\",\"2018-12-26T11:00:00\",\"2018-12-26T11:00:00\",\"2018-12-26T12:00:00\",\"2018-12-26T12:00:00\",\"2018-12-26T13:00:00\",\"2018-12-26T13:00:00\",\"2018-12-26T15:00:00\",\"2018-12-26T15:00:00\",\"2018-12-26T15:00:00\",\"2018-12-26T17:00:00\",\"2018-12-26T17:00:00\",\"2018-12-26T17:00:00\",\"2018-12-26T20:00:00\",\"2018-12-26T21:00:00\",\"2018-12-26T23:00:00\",\"2018-12-27T08:00:00\",\"2018-12-27T08:00:00\",\"2018-12-27T09:00:00\",\"2018-12-27T09:00:00\",\"2018-12-27T11:00:00\",\"2018-12-27T11:00:00\",\"2018-12-27T11:00:00\",\"2018-12-27T11:00:00\",\"2018-12-27T11:00:00\",\"2018-12-27T12:00:00\",\"2018-12-27T12:00:00\",\"2018-12-27T12:00:00\",\"2018-12-27T14:00:00\",\"2018-12-27T16:00:00\",\"2018-12-27T19:00:00\",\"2018-12-27T20:00:00\",\"2018-12-27T21:00:00\",\"2018-12-27T22:00:00\",\"2018-12-28T06:00:00\",\"2018-12-28T09:00:00\",\"2018-12-28T11:00:00\",\"2018-12-28T11:00:00\",\"2018-12-28T12:00:00\",\"2018-12-28T13:00:00\",\"2018-12-28T13:00:00\",\"2018-12-28T14:00:00\",\"2018-12-28T15:00:00\",\"2018-12-28T18:00:00\",\"2018-12-28T19:00:00\",\"2018-12-28T19:00:00\",\"2018-12-28T19:00:00\",\"2018-12-28T23:00:00\",\"2018-12-28T23:00:00\",\"2018-12-28T23:00:00\",\"2018-12-29T09:00:00\",\"2018-12-29T09:00:00\",\"2018-12-30T17:00:00\",\"2019-01-01T10:00:00\",\"2019-01-01T14:00:00\",\"2019-01-01T18:00:00\",\"2019-01-01T19:00:00\",\"2019-01-01T21:00:00\",\"2019-01-02T07:00:00\",\"2019-01-02T10:00:00\",\"2019-01-03T08:00:00\",\"2019-01-03T09:00:00\",\"2019-01-03T09:00:00\",\"2019-01-03T13:00:00\",\"2019-01-03T21:00:00\",\"2019-01-03T22:00:00\",\"2019-01-04T08:00:00\",\"2019-01-04T23:00:00\",\"2019-01-05T04:00:00\",\"2019-01-05T09:00:00\",\"2019-01-05T12:00:00\",\"2019-01-05T19:00:00\",\"2019-01-05T23:00:00\",\"2019-01-06T07:00:00\",\"2019-01-06T08:00:00\",\"2019-01-06T09:00:00\",\"2019-01-06T11:00:00\",\"2019-01-06T15:00:00\",\"2019-01-06T18:00:00\",\"2019-01-06T20:00:00\",\"2019-01-07T09:00:00\",\"2019-01-07T17:00:00\",\"2019-01-07T17:00:00\",\"2019-01-07T20:00:00\",\"2019-01-07T21:00:00\",\"2019-01-08T19:00:00\",\"2019-01-08T22:00:00\",\"2019-01-09T11:00:00\",\"2019-01-09T12:00:00\",\"2019-01-09T13:00:00\",\"2019-01-09T14:00:00\",\"2019-01-09T14:00:00\",\"2019-01-09T14:00:00\",\"2019-01-09T20:00:00\",\"2019-01-10T06:00:00\",\"2019-01-10T07:00:00\",\"2019-01-10T09:00:00\",\"2019-01-10T11:00:00\",\"2019-01-10T11:00:00\",\"2019-01-10T13:00:00\",\"2019-01-10T13:00:00\",\"2019-01-10T13:00:00\",\"2019-01-10T17:00:00\",\"2019-01-10T17:00:00\",\"2019-01-10T17:00:00\",\"2019-01-10T17:00:00\",\"2019-01-10T18:00:00\",\"2019-01-10T18:00:00\",\"2019-01-10T18:00:00\",\"2019-01-10T20:00:00\",\"2019-01-11T06:00:00\",\"2019-01-11T11:00:00\",\"2019-01-11T13:00:00\",\"2019-01-11T17:00:00\",\"2019-01-11T20:00:00\",\"2019-01-11T22:00:00\",\"2019-01-11T23:00:00\",\"2019-01-12T11:00:00\",\"2019-01-12T11:00:00\",\"2019-01-12T19:00:00\",\"2019-01-12T19:00:00\",\"2019-01-12T19:00:00\",\"2019-01-12T19:00:00\",\"2019-01-12T19:00:00\",\"2019-01-12T19:00:00\",\"2019-01-12T19:00:00\",\"2019-01-12T19:00:00\",\"2019-01-12T19:00:00\",\"2019-01-12T19:00:00\",\"2019-01-12T20:00:00\",\"2019-01-13T09:00:00\",\"2019-01-13T11:00:00\",\"2019-01-13T11:00:00\",\"2019-01-13T11:00:00\",\"2019-01-13T15:00:00\",\"2019-01-13T17:00:00\",\"2019-01-13T20:00:00\",\"2019-01-13T21:00:00\",\"2019-01-13T22:00:00\",\"2019-01-14T08:00:00\",\"2019-01-14T09:00:00\",\"2019-01-14T13:00:00\",\"2019-01-14T14:00:00\",\"2019-01-14T18:00:00\",\"2019-01-14T21:00:00\",\"2019-01-15T08:00:00\",\"2019-01-15T10:00:00\",\"2019-01-15T12:00:00\",\"2019-01-15T12:00:00\",\"2019-01-15T13:00:00\",\"2019-01-15T17:00:00\",\"2019-01-15T21:00:00\",\"2019-01-16T08:00:00\",\"2019-01-16T10:00:00\",\"2019-01-16T11:00:00\",\"2019-01-16T11:00:00\",\"2019-01-16T14:00:00\",\"2019-01-16T15:00:00\",\"2019-01-16T15:00:00\",\"2019-01-16T15:00:00\",\"2019-01-16T17:00:00\",\"2019-01-16T18:00:00\",\"2019-01-16T22:00:00\",\"2019-01-17T01:00:00\",\"2019-01-17T10:00:00\",\"2019-01-17T16:00:00\",\"2019-01-17T17:00:00\",\"2019-01-17T19:00:00\",\"2019-01-17T21:00:00\",\"2019-01-18T08:00:00\",\"2019-01-18T17:00:00\",\"2019-01-18T19:00:00\",\"2019-01-18T19:00:00\",\"2019-01-18T19:00:00\",\"2019-01-18T19:00:00\",\"2019-01-18T20:00:00\",\"2019-01-18T22:00:00\",\"2019-01-19T05:00:00\",\"2019-01-19T10:00:00\",\"2019-01-19T10:00:00\",\"2019-01-19T10:00:00\",\"2019-01-19T13:00:00\",\"2019-01-19T23:00:00\",\"2019-01-20T17:00:00\",\"2019-01-20T17:00:00\",\"2019-01-20T19:00:00\",\"2019-01-21T09:00:00\",\"2019-01-21T10:00:00\",\"2019-01-21T11:00:00\",\"2019-01-21T12:00:00\",\"2019-01-21T12:00:00\",\"2019-01-21T15:00:00\",\"2019-01-21T18:00:00\",\"2019-01-21T19:00:00\",\"2019-01-21T19:00:00\",\"2019-01-21T22:00:00\",\"2019-01-22T10:00:00\",\"2019-01-22T11:00:00\",\"2019-01-22T11:00:00\",\"2019-01-22T15:00:00\",\"2019-01-22T16:00:00\",\"2019-01-22T22:00:00\",\"2019-01-22T23:00:00\",\"2019-01-23T07:00:00\",\"2019-01-23T07:00:00\",\"2019-01-23T12:00:00\",\"2019-01-23T12:00:00\",\"2019-01-23T13:00:00\",\"2019-01-23T13:00:00\",\"2019-01-23T13:00:00\",\"2019-01-23T13:00:00\",\"2019-01-23T14:00:00\",\"2019-01-23T14:00:00\",\"2019-01-23T18:00:00\",\"2019-01-23T19:00:00\",\"2019-01-23T21:00:00\",\"2019-01-24T07:00:00\",\"2019-01-24T10:00:00\",\"2019-01-24T11:00:00\",\"2019-01-24T15:00:00\",\"2019-01-24T15:00:00\",\"2019-01-24T20:00:00\",\"2019-01-25T04:00:00\",\"2019-01-25T09:00:00\",\"2019-01-25T11:00:00\",\"2019-01-25T15:00:00\",\"2019-01-26T09:00:00\",\"2019-01-26T15:00:00\",\"2019-01-26T16:00:00\",\"2019-01-26T21:00:00\",\"2019-01-26T21:00:00\",\"2019-01-26T22:00:00\",\"2019-01-27T10:00:00\",\"2019-01-27T11:00:00\",\"2019-01-27T11:00:00\",\"2019-01-27T11:00:00\",\"2019-01-27T11:00:00\",\"2019-01-27T12:00:00\",\"2019-01-27T15:00:00\",\"2019-01-27T16:00:00\",\"2019-01-27T16:00:00\",\"2019-01-27T17:00:00\",\"2019-01-27T21:00:00\",\"2019-01-27T23:00:00\",\"2019-01-28T11:00:00\",\"2019-01-28T12:00:00\",\"2019-01-28T12:00:00\",\"2019-01-28T13:00:00\",\"2019-01-28T13:00:00\",\"2019-01-28T13:00:00\",\"2019-01-28T13:00:00\",\"2019-01-28T14:00:00\",\"2019-01-28T17:00:00\",\"2019-01-28T18:00:00\",\"2019-01-28T21:00:00\",\"2019-01-28T22:00:00\",\"2019-01-28T22:00:00\",\"2019-01-28T23:00:00\",\"2019-01-29T10:00:00\",\"2019-01-29T10:00:00\",\"2019-01-29T12:00:00\",\"2019-01-29T19:00:00\",\"2019-01-29T21:00:00\",\"2019-01-30T10:00:00\",\"2019-01-30T12:00:00\",\"2019-01-30T13:00:00\",\"2019-01-30T15:00:00\",\"2019-01-30T15:00:00\",\"2019-01-30T19:00:00\",\"2019-01-30T19:00:00\",\"2019-01-30T20:00:00\",\"2019-01-30T20:00:00\",\"2019-01-30T20:00:00\",\"2019-01-30T22:00:00\",\"2019-01-31T09:00:00\",\"2019-01-31T12:00:00\",\"2019-01-31T14:00:00\",\"2019-01-31T14:00:00\",\"2019-01-31T19:00:00\",\"2019-02-01T09:00:00\",\"2019-02-01T12:00:00\",\"2019-02-01T12:00:00\",\"2019-02-01T15:00:00\",\"2019-02-01T16:00:00\",\"2019-02-01T19:00:00\",\"2019-02-01T20:00:00\",\"2019-02-01T20:00:00\",\"2019-02-01T20:00:00\",\"2019-02-01T20:00:00\",\"2019-02-01T20:00:00\",\"2019-02-01T20:00:00\",\"2019-02-02T08:00:00\",\"2019-02-02T08:00:00\",\"2019-02-02T08:00:00\",\"2019-02-02T08:00:00\",\"2019-02-02T08:00:00\",\"2019-02-02T08:00:00\",\"2019-02-02T14:00:00\",\"2019-02-02T17:00:00\",\"2019-02-02T18:00:00\",\"2019-02-03T16:00:00\",\"2019-02-03T17:00:00\",\"2019-02-03T18:00:00\",\"2019-02-03T19:00:00\",\"2019-02-03T20:00:00\",\"2019-02-03T22:00:00\",\"2019-02-04T06:00:00\",\"2019-02-04T08:00:00\",\"2019-02-04T11:00:00\",\"2019-02-04T11:00:00\",\"2019-02-04T11:00:00\",\"2019-02-04T11:00:00\",\"2019-02-04T12:00:00\",\"2019-02-04T12:00:00\",\"2019-02-04T13:00:00\",\"2019-02-04T13:00:00\",\"2019-02-04T13:00:00\",\"2019-02-04T13:00:00\",\"2019-02-04T13:00:00\",\"2019-02-04T13:00:00\",\"2019-02-04T13:00:00\",\"2019-02-04T14:00:00\",\"2019-02-04T15:00:00\",\"2019-02-04T16:00:00\",\"2019-02-04T16:00:00\",\"2019-02-04T16:00:00\",\"2019-02-04T17:00:00\",\"2019-02-04T23:00:00\",\"2019-02-05T11:00:00\",\"2019-02-05T11:00:00\",\"2019-02-05T11:00:00\",\"2019-02-05T14:00:00\",\"2019-02-05T14:00:00\",\"2019-02-05T15:00:00\",\"2019-02-05T17:00:00\",\"2019-02-05T17:00:00\",\"2019-02-05T19:00:00\",\"2019-02-05T20:00:00\",\"2019-02-05T20:00:00\",\"2019-02-05T23:00:00\",\"2019-02-05T23:00:00\",\"2019-02-06T09:00:00\",\"2019-02-06T09:00:00\",\"2019-02-06T10:00:00\",\"2019-02-06T11:00:00\",\"2019-02-06T11:00:00\",\"2019-02-06T12:00:00\",\"2019-02-06T12:00:00\",\"2019-02-06T12:00:00\",\"2019-02-06T12:00:00\",\"2019-02-06T12:00:00\",\"2019-02-06T12:00:00\",\"2019-02-06T13:00:00\",\"2019-02-06T14:00:00\",\"2019-02-06T15:00:00\",\"2019-02-06T19:00:00\",\"2019-02-06T19:00:00\",\"2019-02-07T00:00:00\",\"2019-02-07T09:00:00\",\"2019-02-07T09:00:00\",\"2019-02-07T12:00:00\",\"2019-02-07T13:00:00\",\"2019-02-07T14:00:00\",\"2019-02-07T15:00:00\",\"2019-02-07T15:00:00\",\"2019-02-07T20:00:00\",\"2019-02-07T20:00:00\",\"2019-02-07T20:00:00\",\"2019-02-07T21:00:00\",\"2019-02-07T22:00:00\",\"2019-02-08T10:00:00\",\"2019-02-08T12:00:00\",\"2019-02-08T12:00:00\",\"2019-02-08T13:00:00\",\"2019-02-08T17:00:00\",\"2019-02-08T17:00:00\",\"2019-02-08T17:00:00\",\"2019-02-08T17:00:00\",\"2019-02-08T17:00:00\",\"2019-02-08T17:00:00\",\"2019-02-08T17:00:00\",\"2019-02-08T18:00:00\",\"2019-02-08T19:00:00\",\"2019-02-08T21:00:00\",\"2019-02-09T12:00:00\",\"2019-02-09T12:00:00\",\"2019-02-09T12:00:00\",\"2019-02-09T12:00:00\",\"2019-02-09T12:00:00\",\"2019-02-09T12:00:00\",\"2019-02-09T12:00:00\",\"2019-02-09T16:00:00\",\"2019-02-09T17:00:00\",\"2019-02-09T19:00:00\",\"2019-02-09T19:00:00\",\"2019-02-09T20:00:00\",\"2019-02-10T10:00:00\",\"2019-02-10T10:00:00\",\"2019-02-10T12:00:00\",\"2019-02-10T12:00:00\",\"2019-02-10T13:00:00\",\"2019-02-10T13:00:00\",\"2019-02-10T15:00:00\",\"2019-02-10T16:00:00\",\"2019-02-10T16:00:00\",\"2019-02-10T17:00:00\",\"2019-02-10T22:00:00\",\"2019-02-10T22:00:00\",\"2019-02-11T09:00:00\",\"2019-02-11T09:00:00\",\"2019-02-11T09:00:00\",\"2019-02-11T10:00:00\",\"2019-02-11T11:00:00\",\"2019-02-11T11:00:00\",\"2019-02-11T12:00:00\",\"2019-02-11T12:00:00\",\"2019-02-11T12:00:00\",\"2019-02-11T13:00:00\",\"2019-02-11T14:00:00\",\"2019-02-11T14:00:00\",\"2019-02-11T14:00:00\",\"2019-02-11T15:00:00\",\"2019-02-11T17:00:00\",\"2019-02-11T19:00:00\",\"2019-02-11T20:00:00\",\"2019-02-11T20:00:00\",\"2019-02-12T00:00:00\",\"2019-02-12T06:00:00\",\"2019-02-12T07:00:00\",\"2019-02-12T10:00:00\",\"2019-02-12T11:00:00\",\"2019-02-12T11:00:00\",\"2019-02-12T16:00:00\",\"2019-02-12T17:00:00\",\"2019-02-12T18:00:00\",\"2019-02-12T18:00:00\",\"2019-02-12T19:00:00\",\"2019-02-12T21:00:00\",\"2019-02-12T21:00:00\",\"2019-02-12T22:00:00\",\"2019-02-13T00:00:00\",\"2019-02-13T08:00:00\",\"2019-02-13T09:00:00\",\"2019-02-13T10:00:00\",\"2019-02-13T11:00:00\",\"2019-02-13T12:00:00\",\"2019-02-13T13:00:00\",\"2019-02-13T13:00:00\",\"2019-02-13T13:00:00\",\"2019-02-13T15:00:00\",\"2019-02-13T19:00:00\",\"2019-02-13T22:00:00\",\"2019-02-13T22:00:00\",\"2019-02-13T23:00:00\",\"2019-02-13T23:00:00\",\"2019-02-13T23:00:00\",\"2019-02-14T08:00:00\",\"2019-02-14T08:00:00\",\"2019-02-14T10:00:00\",\"2019-02-14T10:00:00\",\"2019-02-14T11:00:00\",\"2019-02-14T14:00:00\",\"2019-02-14T15:00:00\",\"2019-02-14T16:00:00\",\"2019-02-14T16:00:00\",\"2019-02-15T09:00:00\",\"2019-02-15T10:00:00\",\"2019-02-15T10:00:00\",\"2019-02-15T13:00:00\",\"2019-02-15T14:00:00\",\"2019-02-15T19:00:00\",\"2019-02-16T10:00:00\",\"2019-02-16T10:00:00\",\"2019-02-16T11:00:00\",\"2019-02-16T15:00:00\",\"2019-02-16T17:00:00\",\"2019-02-16T17:00:00\",\"2019-02-16T17:00:00\",\"2019-02-16T18:00:00\",\"2019-02-16T18:00:00\",\"2019-02-16T18:00:00\",\"2019-02-16T18:00:00\",\"2019-02-16T18:00:00\",\"2019-02-16T18:00:00\",\"2019-02-16T18:00:00\",\"2019-02-16T18:00:00\",\"2019-02-16T19:00:00\",\"2019-02-16T19:00:00\",\"2019-02-17T11:00:00\",\"2019-02-17T11:00:00\",\"2019-02-17T11:00:00\",\"2019-02-17T11:00:00\",\"2019-02-17T11:00:00\",\"2019-02-17T11:00:00\",\"2019-02-17T11:00:00\",\"2019-02-17T12:00:00\",\"2019-02-17T12:00:00\",\"2019-02-17T13:00:00\",\"2019-02-17T13:00:00\",\"2019-02-17T13:00:00\",\"2019-02-17T13:00:00\",\"2019-02-17T13:00:00\",\"2019-02-17T13:00:00\",\"2019-02-17T13:00:00\",\"2019-02-17T15:00:00\",\"2019-02-17T16:00:00\",\"2019-02-17T18:00:00\",\"2019-02-17T18:00:00\",\"2019-02-17T19:00:00\",\"2019-02-17T20:00:00\",\"2019-02-18T03:00:00\",\"2019-02-18T07:00:00\",\"2019-02-18T08:00:00\",\"2019-02-18T09:00:00\",\"2019-02-18T09:00:00\",\"2019-02-18T09:00:00\",\"2019-02-18T09:00:00\",\"2019-02-18T11:00:00\",\"2019-02-18T11:00:00\",\"2019-02-18T12:00:00\",\"2019-02-18T12:00:00\",\"2019-02-18T12:00:00\",\"2019-02-18T12:00:00\",\"2019-02-18T12:00:00\",\"2019-02-18T14:00:00\",\"2019-02-18T14:00:00\",\"2019-02-18T15:00:00\",\"2019-02-18T16:00:00\",\"2019-02-18T16:00:00\",\"2019-02-18T17:00:00\",\"2019-02-18T21:00:00\",\"2019-02-19T00:00:00\",\"2019-02-19T09:00:00\",\"2019-02-19T10:00:00\",\"2019-02-19T12:00:00\",\"2019-02-19T12:00:00\",\"2019-02-19T13:00:00\",\"2019-02-19T14:00:00\",\"2019-02-19T14:00:00\",\"2019-02-19T16:00:00\",\"2019-02-19T17:00:00\",\"2019-02-19T17:00:00\",\"2019-02-19T17:00:00\",\"2019-02-19T18:00:00\",\"2019-02-19T18:00:00\",\"2019-02-20T08:00:00\",\"2019-02-20T08:00:00\",\"2019-02-20T10:00:00\",\"2019-02-20T11:00:00\",\"2019-02-20T11:00:00\",\"2019-02-20T11:00:00\",\"2019-02-20T12:00:00\",\"2019-02-20T14:00:00\",\"2019-02-20T15:00:00\",\"2019-02-20T15:00:00\",\"2019-02-20T15:00:00\",\"2019-02-20T16:00:00\",\"2019-02-20T17:00:00\",\"2019-02-20T20:00:00\",\"2019-02-21T08:00:00\",\"2019-02-21T08:00:00\",\"2019-02-21T08:00:00\",\"2019-02-21T09:00:00\",\"2019-02-21T09:00:00\",\"2019-02-21T09:00:00\",\"2019-02-21T10:00:00\",\"2019-02-21T11:00:00\",\"2019-02-21T11:00:00\",\"2019-02-21T11:00:00\",\"2019-02-21T13:00:00\",\"2019-02-21T14:00:00\",\"2019-02-21T14:00:00\",\"2019-02-21T16:00:00\",\"2019-02-21T17:00:00\",\"2019-02-21T17:00:00\",\"2019-02-21T18:00:00\",\"2019-02-21T19:00:00\",\"2019-02-21T20:00:00\",\"2019-02-22T03:00:00\",\"2019-02-22T10:00:00\",\"2019-02-22T11:00:00\",\"2019-02-22T11:00:00\",\"2019-02-22T11:00:00\",\"2019-02-22T11:00:00\",\"2019-02-22T11:00:00\",\"2019-02-22T11:00:00\",\"2019-02-22T11:00:00\",\"2019-02-22T13:00:00\",\"2019-02-22T13:00:00\",\"2019-02-22T14:00:00\",\"2019-02-22T20:00:00\",\"2019-02-22T21:00:00\",\"2019-02-22T22:00:00\",\"2019-02-22T23:00:00\",\"2019-02-23T05:00:00\",\"2019-02-23T09:00:00\",\"2019-02-23T09:00:00\",\"2019-02-23T12:00:00\",\"2019-02-23T12:00:00\",\"2019-02-23T16:00:00\",\"2019-02-23T17:00:00\",\"2019-02-23T18:00:00\",\"2019-02-23T18:00:00\",\"2019-02-23T18:00:00\",\"2019-02-23T18:00:00\",\"2019-02-23T18:00:00\",\"2019-02-23T18:00:00\",\"2019-02-23T18:00:00\",\"2019-02-23T18:00:00\",\"2019-02-23T18:00:00\",\"2019-02-23T19:00:00\",\"2019-02-24T08:00:00\",\"2019-02-24T10:00:00\",\"2019-02-24T11:00:00\",\"2019-02-24T11:00:00\",\"2019-02-24T12:00:00\",\"2019-02-24T12:00:00\",\"2019-02-24T12:00:00\",\"2019-02-24T12:00:00\",\"2019-02-24T12:00:00\",\"2019-02-24T13:00:00\",\"2019-02-24T13:00:00\",\"2019-02-24T14:00:00\",\"2019-02-24T14:00:00\",\"2019-02-24T15:00:00\",\"2019-02-24T15:00:00\",\"2019-02-24T19:00:00\",\"2019-02-24T20:00:00\",\"2019-02-25T06:00:00\",\"2019-02-25T08:00:00\",\"2019-02-25T09:00:00\",\"2019-02-25T10:00:00\",\"2019-02-25T11:00:00\",\"2019-02-25T12:00:00\",\"2019-02-25T12:00:00\",\"2019-02-25T13:00:00\",\"2019-02-25T14:00:00\",\"2019-02-25T14:00:00\",\"2019-02-25T14:00:00\",\"2019-02-25T14:00:00\",\"2019-02-25T14:00:00\",\"2019-02-25T14:00:00\",\"2019-02-25T14:00:00\",\"2019-02-25T14:00:00\",\"2019-02-25T14:00:00\",\"2019-02-25T14:00:00\",\"2019-02-25T14:00:00\",\"2019-02-25T14:00:00\",\"2019-02-25T14:00:00\",\"2019-02-25T14:00:00\",\"2019-02-25T14:00:00\",\"2019-02-25T14:00:00\",\"2019-02-25T15:00:00\",\"2019-02-25T15:00:00\",\"2019-02-25T15:00:00\",\"2019-02-25T20:00:00\",\"2019-02-25T20:00:00\",\"2019-02-26T05:00:00\",\"2019-02-26T07:00:00\",\"2019-02-26T07:00:00\",\"2019-02-26T07:00:00\",\"2019-02-26T09:00:00\",\"2019-02-26T09:00:00\",\"2019-02-26T10:00:00\",\"2019-02-26T11:00:00\",\"2019-02-26T12:00:00\",\"2019-02-26T12:00:00\",\"2019-02-26T12:00:00\",\"2019-02-26T12:00:00\",\"2019-02-26T12:00:00\",\"2019-02-26T17:00:00\",\"2019-02-26T18:00:00\",\"2019-02-26T19:00:00\",\"2019-02-26T20:00:00\",\"2019-02-26T21:00:00\",\"2019-02-26T22:00:00\",\"2019-02-27T01:00:00\",\"2019-02-27T08:00:00\",\"2019-02-27T08:00:00\",\"2019-02-27T08:00:00\",\"2019-02-27T09:00:00\",\"2019-02-27T12:00:00\",\"2019-02-27T13:00:00\",\"2019-02-27T13:00:00\",\"2019-02-27T15:00:00\",\"2019-02-27T15:00:00\",\"2019-02-27T16:00:00\",\"2019-02-27T16:00:00\",\"2019-02-27T21:00:00\",\"2019-02-28T06:00:00\",\"2019-02-28T06:00:00\",\"2019-02-28T08:00:00\",\"2019-02-28T09:00:00\",\"2019-02-28T09:00:00\",\"2019-02-28T09:00:00\",\"2019-02-28T11:00:00\",\"2019-02-28T11:00:00\",\"2019-02-28T12:00:00\",\"2019-02-28T12:00:00\",\"2019-02-28T13:00:00\",\"2019-02-28T13:00:00\",\"2019-02-28T13:00:00\",\"2019-02-28T15:00:00\",\"2019-02-28T15:00:00\",\"2019-02-28T20:00:00\",\"2019-02-28T20:00:00\",\"2019-03-01T07:00:00\",\"2019-03-01T08:00:00\",\"2019-03-01T09:00:00\",\"2019-03-01T10:00:00\",\"2019-03-01T10:00:00\",\"2019-03-01T10:00:00\",\"2019-03-01T10:00:00\",\"2019-03-01T10:00:00\",\"2019-03-01T11:00:00\",\"2019-03-01T13:00:00\",\"2019-03-01T13:00:00\",\"2019-03-01T13:00:00\",\"2019-03-01T13:00:00\",\"2019-03-01T13:00:00\",\"2019-03-01T13:00:00\",\"2019-03-01T13:00:00\",\"2019-03-01T13:00:00\",\"2019-03-01T13:00:00\",\"2019-03-01T13:00:00\",\"2019-03-01T13:00:00\",\"2019-03-01T13:00:00\",\"2019-03-01T13:00:00\",\"2019-03-01T13:00:00\",\"2019-03-01T13:00:00\",\"2019-03-01T13:00:00\",\"2019-03-01T13:00:00\",\"2019-03-01T13:00:00\",\"2019-03-01T14:00:00\",\"2019-03-01T14:00:00\",\"2019-03-01T14:00:00\",\"2019-03-01T14:00:00\",\"2019-03-01T14:00:00\",\"2019-03-01T14:00:00\",\"2019-03-01T14:00:00\",\"2019-03-01T14:00:00\",\"2019-03-01T14:00:00\",\"2019-03-01T14:00:00\",\"2019-03-01T14:00:00\",\"2019-03-01T15:00:00\",\"2019-03-01T15:00:00\",\"2019-03-01T17:00:00\",\"2019-03-01T17:00:00\",\"2019-03-01T18:00:00\",\"2019-03-01T19:00:00\",\"2019-03-01T20:00:00\",\"2019-03-01T22:00:00\",\"2019-03-02T10:00:00\",\"2019-03-02T13:00:00\",\"2019-03-02T14:00:00\",\"2019-03-02T18:00:00\",\"2019-03-02T19:00:00\",\"2019-03-02T21:00:00\",\"2019-03-03T08:00:00\",\"2019-03-03T08:00:00\",\"2019-03-03T09:00:00\",\"2019-03-03T10:00:00\",\"2019-03-03T15:00:00\",\"2019-03-03T15:00:00\",\"2019-03-03T15:00:00\",\"2019-03-03T16:00:00\",\"2019-03-03T16:00:00\",\"2019-03-03T16:00:00\",\"2019-03-03T16:00:00\",\"2019-03-03T16:00:00\",\"2019-03-03T16:00:00\",\"2019-03-03T16:00:00\",\"2019-03-03T16:00:00\",\"2019-03-03T16:00:00\",\"2019-03-03T16:00:00\",\"2019-03-03T16:00:00\",\"2019-03-03T16:00:00\",\"2019-03-03T19:00:00\",\"2019-03-03T21:00:00\",\"2019-03-03T21:00:00\",\"2019-03-03T22:00:00\",\"2019-03-03T22:00:00\",\"2019-03-04T09:00:00\",\"2019-03-04T10:00:00\",\"2019-03-04T10:00:00\",\"2019-03-04T11:00:00\",\"2019-03-04T11:00:00\",\"2019-03-04T13:00:00\",\"2019-03-04T15:00:00\",\"2019-03-04T15:00:00\",\"2019-03-04T15:00:00\",\"2019-03-04T15:00:00\",\"2019-03-04T15:00:00\",\"2019-03-04T15:00:00\",\"2019-03-04T15:00:00\",\"2019-03-04T15:00:00\",\"2019-03-04T15:00:00\",\"2019-03-04T15:00:00\",\"2019-03-04T15:00:00\",\"2019-03-04T15:00:00\",\"2019-03-04T15:00:00\",\"2019-03-04T15:00:00\",\"2019-03-04T15:00:00\",\"2019-03-04T16:00:00\",\"2019-03-04T16:00:00\",\"2019-03-04T16:00:00\",\"2019-03-04T17:00:00\",\"2019-03-04T22:00:00\",\"2019-03-04T23:00:00\",\"2019-03-05T05:00:00\",\"2019-03-05T05:00:00\",\"2019-03-05T05:00:00\",\"2019-03-05T09:00:00\",\"2019-03-05T10:00:00\",\"2019-03-05T10:00:00\",\"2019-03-05T11:00:00\",\"2019-03-05T11:00:00\",\"2019-03-05T12:00:00\",\"2019-03-05T13:00:00\",\"2019-03-05T13:00:00\",\"2019-03-05T13:00:00\",\"2019-03-05T13:00:00\",\"2019-03-05T13:00:00\",\"2019-03-05T13:00:00\",\"2019-03-05T13:00:00\",\"2019-03-05T14:00:00\",\"2019-03-05T15:00:00\",\"2019-03-05T16:00:00\",\"2019-03-05T16:00:00\",\"2019-03-05T17:00:00\",\"2019-03-05T18:00:00\",\"2019-03-05T21:00:00\",\"2019-03-05T23:00:00\",\"2019-03-06T01:00:00\",\"2019-03-06T01:00:00\",\"2019-03-06T11:00:00\",\"2019-03-06T11:00:00\",\"2019-03-06T12:00:00\",\"2019-03-06T12:00:00\",\"2019-03-06T12:00:00\",\"2019-03-06T12:00:00\",\"2019-03-06T13:00:00\",\"2019-03-06T13:00:00\",\"2019-03-06T14:00:00\",\"2019-03-06T14:00:00\",\"2019-03-06T14:00:00\",\"2019-03-06T15:00:00\",\"2019-03-06T16:00:00\",\"2019-03-06T17:00:00\",\"2019-03-06T17:00:00\",\"2019-03-06T18:00:00\",\"2019-03-06T19:00:00\",\"2019-03-06T19:00:00\",\"2019-03-06T20:00:00\",\"2019-03-06T20:00:00\",\"2019-03-06T21:00:00\",\"2019-03-06T21:00:00\",\"2019-03-06T22:00:00\",\"2019-03-07T02:00:00\",\"2019-03-07T07:00:00\",\"2019-03-07T08:00:00\",\"2019-03-07T09:00:00\",\"2019-03-07T10:00:00\",\"2019-03-07T10:00:00\",\"2019-03-07T10:00:00\",\"2019-03-07T10:00:00\",\"2019-03-07T10:00:00\",\"2019-03-07T10:00:00\",\"2019-03-07T10:00:00\",\"2019-03-07T10:00:00\",\"2019-03-07T10:00:00\",\"2019-03-07T10:00:00\",\"2019-03-07T11:00:00\",\"2019-03-07T11:00:00\",\"2019-03-07T11:00:00\",\"2019-03-07T11:00:00\",\"2019-03-07T13:00:00\",\"2019-03-07T13:00:00\",\"2019-03-07T17:00:00\",\"2019-03-07T20:00:00\",\"2019-03-07T23:00:00\",\"2019-03-08T12:00:00\",\"2019-03-08T19:00:00\",\"2019-03-08T19:00:00\",\"2019-03-08T19:00:00\",\"2019-03-09T06:00:00\",\"2019-03-09T09:00:00\",\"2019-03-09T10:00:00\",\"2019-03-09T10:00:00\",\"2019-03-09T15:00:00\",\"2019-03-09T17:00:00\",\"2019-03-09T19:00:00\",\"2019-03-09T21:00:00\",\"2019-03-10T09:00:00\",\"2019-03-10T09:00:00\",\"2019-03-10T09:00:00\",\"2019-03-10T09:00:00\",\"2019-03-10T09:00:00\",\"2019-03-10T09:00:00\",\"2019-03-10T11:00:00\",\"2019-03-10T17:00:00\",\"2019-03-10T17:00:00\",\"2019-03-10T17:00:00\",\"2019-03-10T17:00:00\",\"2019-03-10T17:00:00\",\"2019-03-10T17:00:00\",\"2019-03-10T17:00:00\",\"2019-03-10T22:00:00\",\"2019-03-10T22:00:00\",\"2019-03-11T00:00:00\",\"2019-03-11T06:00:00\",\"2019-03-11T08:00:00\",\"2019-03-11T10:00:00\",\"2019-03-11T11:00:00\",\"2019-03-11T11:00:00\",\"2019-03-11T14:00:00\",\"2019-03-11T15:00:00\",\"2019-03-11T15:00:00\",\"2019-03-11T16:00:00\",\"2019-03-11T17:00:00\",\"2019-03-12T09:00:00\",\"2019-03-12T09:00:00\",\"2019-03-12T09:00:00\",\"2019-03-12T09:00:00\",\"2019-03-12T10:00:00\",\"2019-03-12T13:00:00\",\"2019-03-12T16:00:00\",\"2019-03-12T16:00:00\",\"2019-03-12T19:00:00\",\"2019-03-12T19:00:00\",\"2019-03-12T19:00:00\",\"2019-03-12T19:00:00\",\"2019-03-12T19:00:00\",\"2019-03-12T20:00:00\",\"2019-03-12T21:00:00\",\"2019-03-12T23:00:00\",\"2019-03-13T13:00:00\",\"2019-03-13T13:00:00\",\"2019-03-13T13:00:00\",\"2019-03-13T13:00:00\",\"2019-03-13T15:00:00\",\"2019-03-13T16:00:00\",\"2019-03-13T16:00:00\",\"2019-03-13T18:00:00\",\"2019-03-13T19:00:00\",\"2019-03-13T19:00:00\",\"2019-03-13T19:00:00\",\"2019-03-13T19:00:00\",\"2019-03-13T19:00:00\",\"2019-03-13T19:00:00\",\"2019-03-13T19:00:00\",\"2019-03-13T19:00:00\",\"2019-03-13T21:00:00\",\"2019-03-14T05:00:00\",\"2019-03-14T07:00:00\",\"2019-03-14T09:00:00\",\"2019-03-14T10:00:00\",\"2019-03-14T10:00:00\",\"2019-03-14T10:00:00\",\"2019-03-14T10:00:00\",\"2019-03-14T14:00:00\",\"2019-03-14T14:00:00\",\"2019-03-14T18:00:00\",\"2019-03-14T18:00:00\",\"2019-03-14T18:00:00\",\"2019-03-14T18:00:00\",\"2019-03-14T18:00:00\",\"2019-03-14T18:00:00\",\"2019-03-14T18:00:00\",\"2019-03-14T18:00:00\",\"2019-03-14T18:00:00\",\"2019-03-14T19:00:00\",\"2019-03-14T21:00:00\",\"2019-03-14T22:00:00\",\"2019-03-15T01:00:00\",\"2019-03-15T08:00:00\",\"2019-03-15T09:00:00\",\"2019-03-15T10:00:00\",\"2019-03-15T13:00:00\",\"2019-03-15T13:00:00\",\"2019-03-15T14:00:00\",\"2019-03-16T09:00:00\",\"2019-03-16T11:00:00\",\"2019-03-16T11:00:00\",\"2019-03-16T13:00:00\",\"2019-03-16T13:00:00\",\"2019-03-16T17:00:00\",\"2019-03-16T19:00:00\",\"2019-03-17T08:00:00\",\"2019-03-17T10:00:00\",\"2019-03-17T18:00:00\",\"2019-03-17T18:00:00\",\"2019-03-17T18:00:00\",\"2019-03-17T18:00:00\",\"2019-03-17T18:00:00\",\"2019-03-17T20:00:00\",\"2019-03-17T20:00:00\",\"2019-03-17T21:00:00\",\"2019-03-18T00:00:00\",\"2019-03-18T08:00:00\",\"2019-03-18T09:00:00\",\"2019-03-18T09:00:00\",\"2019-03-18T10:00:00\",\"2019-03-18T11:00:00\",\"2019-03-18T13:00:00\",\"2019-03-18T14:00:00\",\"2019-03-18T16:00:00\",\"2019-03-18T16:00:00\",\"2019-03-18T16:00:00\",\"2019-03-18T16:00:00\",\"2019-03-18T16:00:00\",\"2019-03-18T16:00:00\",\"2019-03-18T16:00:00\",\"2019-03-18T19:00:00\",\"2019-03-18T19:00:00\",\"2019-03-18T19:00:00\",\"2019-03-18T19:00:00\",\"2019-03-18T19:00:00\",\"2019-03-18T19:00:00\",\"2019-03-18T19:00:00\",\"2019-03-18T19:00:00\",\"2019-03-18T19:00:00\",\"2019-03-18T19:00:00\",\"2019-03-18T19:00:00\",\"2019-03-19T06:00:00\",\"2019-03-19T09:00:00\",\"2019-03-19T11:00:00\",\"2019-03-19T11:00:00\",\"2019-03-19T11:00:00\",\"2019-03-19T11:00:00\",\"2019-03-19T11:00:00\",\"2019-03-19T14:00:00\",\"2019-03-19T15:00:00\",\"2019-03-19T18:00:00\",\"2019-03-19T18:00:00\",\"2019-03-19T21:00:00\",\"2019-03-19T22:00:00\",\"2019-03-20T08:00:00\",\"2019-03-20T08:00:00\",\"2019-03-20T14:00:00\",\"2019-03-20T15:00:00\",\"2019-03-20T16:00:00\",\"2019-03-20T17:00:00\",\"2019-03-20T21:00:00\",\"2019-03-20T22:00:00\",\"2019-03-20T23:00:00\",\"2019-03-21T10:00:00\",\"2019-03-21T10:00:00\",\"2019-03-21T11:00:00\",\"2019-03-21T13:00:00\",\"2019-03-21T14:00:00\",\"2019-03-21T20:00:00\",\"2019-03-21T22:00:00\",\"2019-03-21T23:00:00\",\"2019-03-22T11:00:00\",\"2019-03-22T11:00:00\",\"2019-03-22T13:00:00\",\"2019-03-22T14:00:00\",\"2019-03-22T17:00:00\",\"2019-03-22T20:00:00\",\"2019-03-22T21:00:00\",\"2019-03-23T04:00:00\",\"2019-03-23T10:00:00\",\"2019-03-23T11:00:00\",\"2019-03-23T12:00:00\",\"2019-03-23T16:00:00\",\"2019-03-23T16:00:00\",\"2019-03-23T17:00:00\",\"2019-03-23T22:00:00\",\"2019-03-24T10:00:00\",\"2019-03-24T12:00:00\",\"2019-03-24T13:00:00\",\"2019-03-24T14:00:00\",\"2019-03-24T16:00:00\",\"2019-03-24T18:00:00\",\"2019-03-24T18:00:00\",\"2019-03-24T20:00:00\",\"2019-03-24T20:00:00\",\"2019-03-24T22:00:00\",\"2019-03-25T00:00:00\",\"2019-03-25T09:00:00\",\"2019-03-25T09:00:00\",\"2019-03-25T10:00:00\",\"2019-03-25T11:00:00\",\"2019-03-25T11:00:00\",\"2019-03-25T11:00:00\",\"2019-03-25T11:00:00\",\"2019-03-25T11:00:00\",\"2019-03-25T11:00:00\",\"2019-03-25T11:00:00\",\"2019-03-25T12:00:00\",\"2019-03-25T14:00:00\",\"2019-03-25T14:00:00\",\"2019-03-25T14:00:00\",\"2019-03-25T14:00:00\",\"2019-03-25T14:00:00\",\"2019-03-25T14:00:00\",\"2019-03-25T15:00:00\",\"2019-03-25T16:00:00\",\"2019-03-25T17:00:00\",\"2019-03-25T19:00:00\",\"2019-03-25T21:00:00\",\"2019-03-25T21:00:00\",\"2019-03-26T00:00:00\",\"2019-03-26T08:00:00\",\"2019-03-26T10:00:00\",\"2019-03-26T12:00:00\",\"2019-03-26T14:00:00\",\"2019-03-26T16:00:00\",\"2019-03-27T10:00:00\",\"2019-03-27T10:00:00\",\"2019-03-27T13:00:00\",\"2019-03-27T21:00:00\",\"2019-03-28T10:00:00\",\"2019-03-28T10:00:00\",\"2019-03-28T10:00:00\",\"2019-03-28T10:00:00\",\"2019-03-28T10:00:00\",\"2019-03-28T10:00:00\",\"2019-03-28T10:00:00\",\"2019-03-28T10:00:00\",\"2019-03-28T10:00:00\",\"2019-03-28T10:00:00\",\"2019-03-28T11:00:00\",\"2019-03-28T11:00:00\",\"2019-03-28T12:00:00\",\"2019-03-28T12:00:00\",\"2019-03-28T12:00:00\",\"2019-03-28T12:00:00\",\"2019-03-28T12:00:00\",\"2019-03-28T12:00:00\",\"2019-03-28T12:00:00\",\"2019-03-28T12:00:00\",\"2019-03-28T12:00:00\",\"2019-03-28T12:00:00\",\"2019-03-28T12:00:00\",\"2019-03-28T12:00:00\",\"2019-03-28T12:00:00\",\"2019-03-28T12:00:00\",\"2019-03-28T12:00:00\",\"2019-03-28T12:00:00\",\"2019-03-28T12:00:00\",\"2019-03-28T12:00:00\",\"2019-03-28T12:00:00\",\"2019-03-28T15:00:00\",\"2019-03-28T15:00:00\",\"2019-03-28T16:00:00\",\"2019-03-28T16:00:00\",\"2019-03-28T16:00:00\",\"2019-03-28T16:00:00\",\"2019-03-28T16:00:00\",\"2019-03-28T16:00:00\",\"2019-03-28T16:00:00\",\"2019-03-28T16:00:00\",\"2019-03-28T16:00:00\",\"2019-03-28T16:00:00\",\"2019-03-28T16:00:00\",\"2019-03-28T16:00:00\",\"2019-03-28T16:00:00\",\"2019-03-28T16:00:00\",\"2019-03-28T17:00:00\",\"2019-03-28T18:00:00\",\"2019-03-28T20:00:00\",\"2019-03-28T20:00:00\",\"2019-03-29T05:00:00\",\"2019-03-29T08:00:00\",\"2019-03-29T11:00:00\",\"2019-03-29T14:00:00\",\"2019-03-29T14:00:00\",\"2019-03-29T14:00:00\",\"2019-03-29T14:00:00\",\"2019-03-29T14:00:00\",\"2019-03-29T14:00:00\",\"2019-03-29T14:00:00\",\"2019-03-29T14:00:00\",\"2019-03-29T14:00:00\",\"2019-03-29T14:00:00\",\"2019-03-29T14:00:00\",\"2019-03-29T14:00:00\",\"2019-03-29T14:00:00\",\"2019-03-29T14:00:00\",\"2019-03-29T14:00:00\",\"2019-03-29T14:00:00\",\"2019-03-29T14:00:00\",\"2019-03-29T15:00:00\",\"2019-03-29T15:00:00\",\"2019-03-29T16:00:00\",\"2019-03-29T20:00:00\",\"2019-03-30T08:00:00\",\"2019-03-30T08:00:00\",\"2019-03-30T08:00:00\",\"2019-03-30T08:00:00\",\"2019-03-30T09:00:00\",\"2019-03-30T18:00:00\",\"2019-03-30T18:00:00\",\"2019-03-30T18:00:00\",\"2019-03-30T18:00:00\",\"2019-03-31T08:00:00\",\"2019-03-31T08:00:00\",\"2019-03-31T08:00:00\",\"2019-03-31T08:00:00\",\"2019-03-31T09:00:00\",\"2019-03-31T09:00:00\",\"2019-03-31T09:00:00\",\"2019-03-31T11:00:00\",\"2019-03-31T13:00:00\",\"2019-03-31T17:00:00\",\"2019-03-31T17:00:00\",\"2019-04-01T08:00:00\",\"2019-04-01T08:00:00\",\"2019-04-01T09:00:00\",\"2019-04-01T10:00:00\",\"2019-04-01T10:00:00\",\"2019-04-01T11:00:00\",\"2019-04-01T11:00:00\",\"2019-04-01T12:00:00\",\"2019-04-01T13:00:00\",\"2019-04-01T13:00:00\",\"2019-04-01T16:00:00\",\"2019-04-01T16:00:00\",\"2019-04-01T16:00:00\",\"2019-04-01T18:00:00\",\"2019-04-01T18:00:00\",\"2019-04-01T19:00:00\",\"2019-04-01T20:00:00\",\"2019-04-01T21:00:00\",\"2019-04-02T07:00:00\",\"2019-04-02T08:00:00\",\"2019-04-02T09:00:00\",\"2019-04-02T09:00:00\",\"2019-04-02T10:00:00\",\"2019-04-02T10:00:00\",\"2019-04-02T11:00:00\",\"2019-04-02T12:00:00\",\"2019-04-02T12:00:00\",\"2019-04-02T12:00:00\",\"2019-04-02T12:00:00\",\"2019-04-02T12:00:00\",\"2019-04-02T12:00:00\",\"2019-04-02T12:00:00\",\"2019-04-02T12:00:00\",\"2019-04-02T12:00:00\",\"2019-04-02T12:00:00\",\"2019-04-02T12:00:00\",\"2019-04-02T12:00:00\",\"2019-04-02T12:00:00\",\"2019-04-02T12:00:00\",\"2019-04-02T12:00:00\",\"2019-04-02T12:00:00\",\"2019-04-02T12:00:00\",\"2019-04-02T15:00:00\",\"2019-04-02T17:00:00\",\"2019-04-02T18:00:00\",\"2019-04-03T08:00:00\",\"2019-04-03T09:00:00\",\"2019-04-03T09:00:00\",\"2019-04-03T10:00:00\",\"2019-04-03T12:00:00\",\"2019-04-03T15:00:00\",\"2019-04-03T16:00:00\",\"2019-04-03T16:00:00\",\"2019-04-03T16:00:00\",\"2019-04-03T16:00:00\",\"2019-04-03T17:00:00\",\"2019-04-03T21:00:00\",\"2019-04-04T06:00:00\",\"2019-04-04T09:00:00\",\"2019-04-04T09:00:00\",\"2019-04-04T09:00:00\",\"2019-04-04T09:00:00\",\"2019-04-04T09:00:00\",\"2019-04-04T09:00:00\",\"2019-04-04T09:00:00\",\"2019-04-04T09:00:00\",\"2019-04-04T09:00:00\",\"2019-04-04T09:00:00\",\"2019-04-04T10:00:00\",\"2019-04-04T10:00:00\",\"2019-04-04T10:00:00\",\"2019-04-04T10:00:00\",\"2019-04-04T10:00:00\",\"2019-04-04T10:00:00\",\"2019-04-04T10:00:00\",\"2019-04-04T10:00:00\",\"2019-04-04T10:00:00\",\"2019-04-04T10:00:00\",\"2019-04-04T10:00:00\",\"2019-04-04T11:00:00\",\"2019-04-04T11:00:00\",\"2019-04-04T11:00:00\",\"2019-04-04T11:00:00\",\"2019-04-04T11:00:00\",\"2019-04-04T12:00:00\",\"2019-04-04T12:00:00\",\"2019-04-04T12:00:00\",\"2019-04-04T12:00:00\",\"2019-04-04T12:00:00\",\"2019-04-04T12:00:00\",\"2019-04-04T12:00:00\",\"2019-04-04T14:00:00\",\"2019-04-04T14:00:00\",\"2019-04-04T14:00:00\",\"2019-04-04T15:00:00\",\"2019-04-04T15:00:00\",\"2019-04-04T17:00:00\",\"2019-04-04T17:00:00\",\"2019-04-04T17:00:00\",\"2019-04-04T17:00:00\",\"2019-04-04T18:00:00\",\"2019-04-04T18:00:00\",\"2019-04-04T19:00:00\",\"2019-04-05T04:00:00\",\"2019-04-05T10:00:00\",\"2019-04-05T12:00:00\",\"2019-04-05T12:00:00\",\"2019-04-05T12:00:00\",\"2019-04-05T12:00:00\",\"2019-04-05T12:00:00\",\"2019-04-05T12:00:00\",\"2019-04-05T13:00:00\",\"2019-04-05T13:00:00\",\"2019-04-05T13:00:00\",\"2019-04-05T14:00:00\",\"2019-04-05T15:00:00\",\"2019-04-05T15:00:00\",\"2019-04-05T17:00:00\",\"2019-04-05T18:00:00\",\"2019-04-05T18:00:00\",\"2019-04-05T19:00:00\",\"2019-04-05T22:00:00\",\"2019-04-06T14:00:00\",\"2019-04-06T16:00:00\",\"2019-04-06T17:00:00\",\"2019-04-06T21:00:00\",\"2019-04-06T21:00:00\",\"2019-04-06T21:00:00\",\"2019-04-06T22:00:00\",\"2019-04-07T02:00:00\",\"2019-04-07T10:00:00\",\"2019-04-07T12:00:00\",\"2019-04-07T12:00:00\",\"2019-04-07T14:00:00\",\"2019-04-07T14:00:00\",\"2019-04-07T14:00:00\",\"2019-04-07T14:00:00\",\"2019-04-07T14:00:00\",\"2019-04-07T14:00:00\",\"2019-04-07T14:00:00\",\"2019-04-07T14:00:00\",\"2019-04-07T15:00:00\",\"2019-04-07T17:00:00\",\"2019-04-07T19:00:00\",\"2019-04-07T20:00:00\",\"2019-04-08T01:00:00\",\"2019-04-08T01:00:00\",\"2019-04-08T05:00:00\",\"2019-04-08T09:00:00\",\"2019-04-08T09:00:00\",\"2019-04-08T09:00:00\",\"2019-04-08T09:00:00\",\"2019-04-08T09:00:00\",\"2019-04-08T09:00:00\",\"2019-04-08T09:00:00\",\"2019-04-08T09:00:00\",\"2019-04-08T09:00:00\",\"2019-04-08T09:00:00\",\"2019-04-08T13:00:00\",\"2019-04-08T13:00:00\",\"2019-04-08T13:00:00\",\"2019-04-08T13:00:00\",\"2019-04-08T14:00:00\",\"2019-04-08T14:00:00\",\"2019-04-08T14:00:00\",\"2019-04-08T15:00:00\",\"2019-04-08T15:00:00\",\"2019-04-08T18:00:00\",\"2019-04-09T08:00:00\",\"2019-04-09T08:00:00\",\"2019-04-09T08:00:00\",\"2019-04-09T08:00:00\",\"2019-04-09T08:00:00\",\"2019-04-09T09:00:00\",\"2019-04-09T09:00:00\",\"2019-04-09T11:00:00\",\"2019-04-09T11:00:00\",\"2019-04-09T11:00:00\",\"2019-04-09T11:00:00\",\"2019-04-09T11:00:00\",\"2019-04-09T12:00:00\",\"2019-04-09T14:00:00\",\"2019-04-09T15:00:00\",\"2019-04-09T17:00:00\",\"2019-04-09T19:00:00\",\"2019-04-09T19:00:00\",\"2019-04-10T03:00:00\",\"2019-04-10T08:00:00\",\"2019-04-10T09:00:00\",\"2019-04-10T11:00:00\",\"2019-04-10T12:00:00\",\"2019-04-10T13:00:00\",\"2019-04-10T14:00:00\",\"2019-04-10T14:00:00\",\"2019-04-10T14:00:00\",\"2019-04-10T14:00:00\",\"2019-04-10T14:00:00\",\"2019-04-10T14:00:00\",\"2019-04-10T14:00:00\",\"2019-04-10T14:00:00\",\"2019-04-10T14:00:00\",\"2019-04-10T14:00:00\",\"2019-04-10T14:00:00\",\"2019-04-10T14:00:00\",\"2019-04-10T14:00:00\",\"2019-04-10T14:00:00\",\"2019-04-10T14:00:00\",\"2019-04-10T14:00:00\",\"2019-04-10T14:00:00\",\"2019-04-10T14:00:00\",\"2019-04-10T14:00:00\",\"2019-04-10T14:00:00\",\"2019-04-10T15:00:00\",\"2019-04-10T16:00:00\",\"2019-04-10T18:00:00\",\"2019-04-11T00:00:00\",\"2019-04-11T09:00:00\",\"2019-04-11T09:00:00\",\"2019-04-11T10:00:00\",\"2019-04-11T11:00:00\",\"2019-04-11T11:00:00\",\"2019-04-11T13:00:00\",\"2019-04-11T14:00:00\",\"2019-04-11T16:00:00\",\"2019-04-11T17:00:00\",\"2019-04-11T18:00:00\",\"2019-04-11T21:00:00\",\"2019-04-11T21:00:00\",\"2019-04-11T22:00:00\",\"2019-04-12T07:00:00\",\"2019-04-12T09:00:00\",\"2019-04-12T09:00:00\",\"2019-04-12T15:00:00\",\"2019-04-12T16:00:00\",\"2019-04-12T17:00:00\",\"2019-04-12T19:00:00\",\"2019-04-12T20:00:00\",\"2019-04-12T21:00:00\",\"2019-04-12T22:00:00\",\"2019-04-13T10:00:00\",\"2019-04-13T12:00:00\",\"2019-04-13T16:00:00\",\"2019-04-13T16:00:00\",\"2019-04-13T21:00:00\",\"2019-04-13T21:00:00\",\"2019-04-13T23:00:00\",\"2019-04-14T00:00:00\",\"2019-04-14T06:00:00\",\"2019-04-14T07:00:00\",\"2019-04-14T11:00:00\",\"2019-04-14T11:00:00\",\"2019-04-14T12:00:00\",\"2019-04-14T12:00:00\",\"2019-04-14T12:00:00\",\"2019-04-14T12:00:00\",\"2019-04-14T12:00:00\",\"2019-04-14T12:00:00\",\"2019-04-14T12:00:00\",\"2019-04-14T12:00:00\",\"2019-04-14T12:00:00\",\"2019-04-14T12:00:00\",\"2019-04-14T12:00:00\",\"2019-04-14T13:00:00\",\"2019-04-14T15:00:00\",\"2019-04-14T17:00:00\",\"2019-04-14T17:00:00\",\"2019-04-14T17:00:00\",\"2019-04-14T17:00:00\",\"2019-04-14T17:00:00\",\"2019-04-14T19:00:00\",\"2019-04-14T21:00:00\",\"2019-04-14T21:00:00\",\"2019-04-14T22:00:00\",\"2019-04-15T07:00:00\",\"2019-04-15T08:00:00\",\"2019-04-15T08:00:00\",\"2019-04-15T08:00:00\",\"2019-04-15T10:00:00\",\"2019-04-15T11:00:00\",\"2019-04-15T12:00:00\",\"2019-04-15T13:00:00\",\"2019-04-15T14:00:00\",\"2019-04-15T15:00:00\",\"2019-04-15T16:00:00\",\"2019-04-15T17:00:00\",\"2019-04-15T17:00:00\",\"2019-04-15T18:00:00\",\"2019-04-15T18:00:00\",\"2019-04-15T18:00:00\",\"2019-04-15T20:00:00\",\"2019-04-15T20:00:00\",\"2019-04-16T00:00:00\",\"2019-04-16T08:00:00\",\"2019-04-16T11:00:00\",\"2019-04-16T11:00:00\",\"2019-04-16T13:00:00\",\"2019-04-16T13:00:00\",\"2019-04-16T13:00:00\",\"2019-04-16T13:00:00\",\"2019-04-16T13:00:00\",\"2019-04-16T13:00:00\",\"2019-04-16T13:00:00\",\"2019-04-16T13:00:00\",\"2019-04-16T13:00:00\",\"2019-04-16T13:00:00\",\"2019-04-16T13:00:00\",\"2019-04-16T13:00:00\",\"2019-04-16T13:00:00\",\"2019-04-16T13:00:00\",\"2019-04-16T14:00:00\",\"2019-04-16T14:00:00\",\"2019-04-16T14:00:00\",\"2019-04-16T15:00:00\",\"2019-04-16T15:00:00\",\"2019-04-16T16:00:00\",\"2019-04-16T16:00:00\",\"2019-04-16T16:00:00\",\"2019-04-16T16:00:00\",\"2019-04-16T16:00:00\",\"2019-04-16T16:00:00\",\"2019-04-16T16:00:00\",\"2019-04-16T16:00:00\",\"2019-04-16T16:00:00\",\"2019-04-16T16:00:00\",\"2019-04-16T16:00:00\",\"2019-04-16T16:00:00\",\"2019-04-16T16:00:00\",\"2019-04-16T16:00:00\",\"2019-04-16T17:00:00\",\"2019-04-16T17:00:00\",\"2019-04-16T17:00:00\",\"2019-04-16T17:00:00\",\"2019-04-16T17:00:00\",\"2019-04-16T17:00:00\",\"2019-04-16T17:00:00\",\"2019-04-16T17:00:00\",\"2019-04-16T22:00:00\",\"2019-04-16T22:00:00\",\"2019-04-16T22:00:00\",\"2019-04-16T22:00:00\",\"2019-04-16T22:00:00\",\"2019-04-16T22:00:00\",\"2019-04-16T22:00:00\",\"2019-04-16T22:00:00\",\"2019-04-16T22:00:00\",\"2019-04-16T22:00:00\",\"2019-04-16T22:00:00\",\"2019-04-16T22:00:00\",\"2019-04-16T22:00:00\",\"2019-04-17T04:00:00\",\"2019-04-17T08:00:00\",\"2019-04-17T10:00:00\",\"2019-04-17T10:00:00\",\"2019-04-17T13:00:00\",\"2019-04-17T20:00:00\",\"2019-04-17T20:00:00\",\"2019-04-17T20:00:00\",\"2019-04-17T20:00:00\",\"2019-04-17T20:00:00\",\"2019-04-17T20:00:00\",\"2019-04-17T20:00:00\",\"2019-04-17T20:00:00\",\"2019-04-17T22:00:00\",\"2019-04-18T01:00:00\",\"2019-04-18T09:00:00\",\"2019-04-18T10:00:00\",\"2019-04-18T10:00:00\",\"2019-04-18T12:00:00\",\"2019-04-18T12:00:00\",\"2019-04-18T14:00:00\",\"2019-04-18T14:00:00\",\"2019-04-18T15:00:00\",\"2019-04-18T18:00:00\",\"2019-04-18T20:00:00\",\"2019-04-19T10:00:00\",\"2019-04-19T16:00:00\",\"2019-04-19T16:00:00\",\"2019-04-19T16:00:00\",\"2019-04-19T16:00:00\",\"2019-04-19T16:00:00\",\"2019-04-19T16:00:00\",\"2019-04-19T16:00:00\",\"2019-04-19T16:00:00\",\"2019-04-19T16:00:00\",\"2019-04-19T16:00:00\",\"2019-04-19T16:00:00\",\"2019-04-19T16:00:00\",\"2019-04-19T16:00:00\",\"2019-04-19T16:00:00\",\"2019-04-19T16:00:00\",\"2019-04-19T16:00:00\",\"2019-04-19T16:00:00\",\"2019-04-19T18:00:00\",\"2019-04-19T18:00:00\",\"2019-04-19T19:00:00\",\"2019-04-19T19:00:00\",\"2019-04-19T22:00:00\",\"2019-04-19T22:00:00\",\"2019-04-19T22:00:00\",\"2019-04-20T08:00:00\",\"2019-04-20T14:00:00\",\"2019-04-20T16:00:00\",\"2019-04-20T16:00:00\",\"2019-04-20T17:00:00\",\"2019-04-20T17:00:00\",\"2019-04-20T17:00:00\",\"2019-04-20T19:00:00\",\"2019-04-20T19:00:00\",\"2019-04-20T21:00:00\",\"2019-04-20T21:00:00\",\"2019-04-20T21:00:00\",\"2019-04-21T06:00:00\",\"2019-04-21T09:00:00\",\"2019-04-21T10:00:00\",\"2019-04-21T11:00:00\",\"2019-04-21T11:00:00\",\"2019-04-21T11:00:00\",\"2019-04-21T13:00:00\",\"2019-04-21T13:00:00\",\"2019-04-21T15:00:00\",\"2019-04-21T16:00:00\",\"2019-04-21T19:00:00\",\"2019-04-21T21:00:00\",\"2019-04-22T00:00:00\",\"2019-04-22T09:00:00\",\"2019-04-22T09:00:00\",\"2019-04-22T09:00:00\",\"2019-04-22T09:00:00\",\"2019-04-22T09:00:00\",\"2019-04-22T09:00:00\",\"2019-04-22T09:00:00\",\"2019-04-22T10:00:00\",\"2019-04-22T10:00:00\",\"2019-04-22T10:00:00\",\"2019-04-22T10:00:00\",\"2019-04-22T10:00:00\",\"2019-04-22T10:00:00\",\"2019-04-22T10:00:00\",\"2019-04-22T10:00:00\",\"2019-04-22T12:00:00\",\"2019-04-22T12:00:00\",\"2019-04-22T15:00:00\",\"2019-04-22T15:00:00\",\"2019-04-22T15:00:00\",\"2019-04-22T15:00:00\",\"2019-04-22T15:00:00\",\"2019-04-22T15:00:00\",\"2019-04-22T15:00:00\",\"2019-04-22T15:00:00\",\"2019-04-22T15:00:00\",\"2019-04-22T15:00:00\",\"2019-04-22T15:00:00\",\"2019-04-22T17:00:00\",\"2019-04-22T17:00:00\",\"2019-04-22T17:00:00\",\"2019-04-22T17:00:00\",\"2019-04-22T17:00:00\",\"2019-04-22T17:00:00\",\"2019-04-22T17:00:00\",\"2019-04-22T17:00:00\",\"2019-04-22T19:00:00\",\"2019-04-23T01:00:00\",\"2019-04-23T10:00:00\",\"2019-04-23T10:00:00\",\"2019-04-23T11:00:00\",\"2019-04-23T13:00:00\",\"2019-04-23T14:00:00\",\"2019-04-23T14:00:00\",\"2019-04-23T14:00:00\",\"2019-04-23T14:00:00\",\"2019-04-23T15:00:00\",\"2019-04-23T16:00:00\",\"2019-04-23T17:00:00\",\"2019-04-23T17:00:00\",\"2019-04-23T17:00:00\",\"2019-04-23T17:00:00\",\"2019-04-23T18:00:00\",\"2019-04-23T19:00:00\",\"2019-04-23T20:00:00\",\"2019-04-23T20:00:00\",\"2019-04-23T21:00:00\",\"2019-04-23T21:00:00\",\"2019-04-23T21:00:00\",\"2019-04-23T21:00:00\",\"2019-04-24T02:00:00\",\"2019-04-24T05:00:00\",\"2019-04-24T05:00:00\",\"2019-04-24T05:00:00\",\"2019-04-24T05:00:00\",\"2019-04-24T06:00:00\",\"2019-04-24T08:00:00\",\"2019-04-24T09:00:00\",\"2019-04-24T10:00:00\",\"2019-04-24T10:00:00\",\"2019-04-24T10:00:00\",\"2019-04-24T10:00:00\",\"2019-04-24T10:00:00\",\"2019-04-24T10:00:00\",\"2019-04-24T10:00:00\",\"2019-04-24T10:00:00\",\"2019-04-24T10:00:00\",\"2019-04-24T12:00:00\",\"2019-04-24T12:00:00\",\"2019-04-24T15:00:00\",\"2019-04-24T15:00:00\",\"2019-04-24T15:00:00\",\"2019-04-24T15:00:00\",\"2019-04-24T15:00:00\",\"2019-04-24T15:00:00\",\"2019-04-24T15:00:00\",\"2019-04-24T15:00:00\",\"2019-04-24T15:00:00\",\"2019-04-24T16:00:00\",\"2019-04-24T16:00:00\",\"2019-04-24T16:00:00\",\"2019-04-24T16:00:00\",\"2019-04-24T16:00:00\",\"2019-04-24T16:00:00\",\"2019-04-24T16:00:00\",\"2019-04-24T16:00:00\",\"2019-04-24T16:00:00\",\"2019-04-24T16:00:00\",\"2019-04-24T21:00:00\",\"2019-04-24T21:00:00\",\"2019-04-24T21:00:00\",\"2019-04-24T21:00:00\",\"2019-04-24T21:00:00\",\"2019-04-24T21:00:00\",\"2019-04-24T21:00:00\",\"2019-04-24T21:00:00\",\"2019-04-24T21:00:00\",\"2019-04-24T21:00:00\",\"2019-04-24T21:00:00\",\"2019-04-24T21:00:00\",\"2019-04-24T21:00:00\",\"2019-04-24T21:00:00\",\"2019-04-24T21:00:00\",\"2019-04-24T21:00:00\",\"2019-04-24T21:00:00\",\"2019-04-24T21:00:00\",\"2019-04-24T21:00:00\",\"2019-04-24T21:00:00\",\"2019-04-24T21:00:00\",\"2019-04-24T21:00:00\",\"2019-04-24T21:00:00\",\"2019-04-24T21:00:00\",\"2019-04-24T21:00:00\",\"2019-04-24T21:00:00\",\"2019-04-24T21:00:00\",\"2019-04-24T21:00:00\",\"2019-04-24T21:00:00\",\"2019-04-24T21:00:00\",\"2019-04-24T21:00:00\",\"2019-04-24T21:00:00\",\"2019-04-24T21:00:00\",\"2019-04-24T21:00:00\",\"2019-04-24T21:00:00\",\"2019-04-24T21:00:00\",\"2019-04-24T21:00:00\",\"2019-04-24T21:00:00\",\"2019-04-24T21:00:00\",\"2019-04-24T21:00:00\",\"2019-04-24T21:00:00\",\"2019-04-24T21:00:00\",\"2019-04-24T21:00:00\",\"2019-04-24T21:00:00\",\"2019-04-24T23:00:00\",\"2019-04-24T23:00:00\",\"2019-04-24T23:00:00\",\"2019-04-24T23:00:00\",\"2019-04-24T23:00:00\",\"2019-04-25T09:00:00\",\"2019-04-25T09:00:00\",\"2019-04-25T09:00:00\",\"2019-04-25T09:00:00\",\"2019-04-25T09:00:00\",\"2019-04-25T09:00:00\",\"2019-04-25T12:00:00\",\"2019-04-25T13:00:00\",\"2019-04-25T15:00:00\",\"2019-04-25T17:00:00\",\"2019-04-25T17:00:00\",\"2019-04-25T17:00:00\",\"2019-04-25T17:00:00\",\"2019-04-25T17:00:00\",\"2019-04-25T17:00:00\",\"2019-04-25T17:00:00\",\"2019-04-25T17:00:00\",\"2019-04-25T19:00:00\",\"2019-04-25T19:00:00\",\"2019-04-25T19:00:00\",\"2019-04-25T19:00:00\",\"2019-04-25T19:00:00\",\"2019-04-25T19:00:00\",\"2019-04-25T19:00:00\",\"2019-04-25T19:00:00\",\"2019-04-25T19:00:00\",\"2019-04-25T19:00:00\",\"2019-04-25T19:00:00\",\"2019-04-26T06:00:00\",\"2019-04-26T10:00:00\",\"2019-04-26T10:00:00\",\"2019-04-26T10:00:00\",\"2019-04-26T11:00:00\",\"2019-04-26T11:00:00\",\"2019-04-26T11:00:00\",\"2019-04-26T12:00:00\",\"2019-04-26T12:00:00\",\"2019-04-26T13:00:00\",\"2019-04-26T14:00:00\",\"2019-04-26T14:00:00\",\"2019-04-26T14:00:00\",\"2019-04-26T14:00:00\",\"2019-04-26T20:00:00\",\"2019-04-26T21:00:00\",\"2019-04-26T22:00:00\",\"2019-04-26T22:00:00\",\"2019-04-27T12:00:00\",\"2019-04-27T16:00:00\",\"2019-04-27T16:00:00\",\"2019-04-27T16:00:00\",\"2019-04-27T16:00:00\",\"2019-04-27T16:00:00\",\"2019-04-27T16:00:00\",\"2019-04-27T16:00:00\",\"2019-04-27T16:00:00\",\"2019-04-27T16:00:00\",\"2019-04-27T16:00:00\",\"2019-04-27T16:00:00\",\"2019-04-27T16:00:00\",\"2019-04-27T16:00:00\",\"2019-04-27T16:00:00\",\"2019-04-27T16:00:00\",\"2019-04-27T16:00:00\",\"2019-04-27T16:00:00\",\"2019-04-27T16:00:00\",\"2019-04-27T16:00:00\",\"2019-04-27T16:00:00\",\"2019-04-27T16:00:00\",\"2019-04-27T16:00:00\",\"2019-04-27T16:00:00\",\"2019-04-27T16:00:00\",\"2019-04-27T16:00:00\",\"2019-04-27T16:00:00\",\"2019-04-27T16:00:00\",\"2019-04-27T16:00:00\",\"2019-04-27T16:00:00\",\"2019-04-27T16:00:00\",\"2019-04-27T16:00:00\",\"2019-04-27T16:00:00\",\"2019-04-27T16:00:00\",\"2019-04-27T16:00:00\",\"2019-04-27T16:00:00\",\"2019-04-27T16:00:00\",\"2019-04-27T16:00:00\",\"2019-04-27T16:00:00\",\"2019-04-27T16:00:00\",\"2019-04-27T16:00:00\",\"2019-04-27T16:00:00\",\"2019-04-27T16:00:00\",\"2019-04-27T16:00:00\",\"2019-04-27T16:00:00\",\"2019-04-27T16:00:00\",\"2019-04-27T16:00:00\",\"2019-04-27T16:00:00\",\"2019-04-27T16:00:00\",\"2019-04-27T16:00:00\",\"2019-04-27T16:00:00\",\"2019-04-27T16:00:00\",\"2019-04-27T22:00:00\",\"2019-04-27T22:00:00\",\"2019-04-28T13:00:00\",\"2019-04-28T13:00:00\",\"2019-04-28T13:00:00\",\"2019-04-28T13:00:00\",\"2019-04-28T13:00:00\",\"2019-04-28T13:00:00\",\"2019-04-28T13:00:00\",\"2019-04-28T13:00:00\",\"2019-04-28T17:00:00\",\"2019-04-28T17:00:00\",\"2019-04-28T17:00:00\",\"2019-04-28T17:00:00\",\"2019-04-28T17:00:00\",\"2019-04-28T17:00:00\",\"2019-04-28T17:00:00\",\"2019-04-28T17:00:00\",\"2019-04-28T17:00:00\",\"2019-04-28T17:00:00\",\"2019-04-28T17:00:00\",\"2019-04-28T17:00:00\",\"2019-04-28T19:00:00\",\"2019-04-29T08:00:00\",\"2019-04-29T10:00:00\",\"2019-04-29T12:00:00\",\"2019-04-29T12:00:00\",\"2019-04-29T12:00:00\",\"2019-04-29T12:00:00\",\"2019-04-29T12:00:00\",\"2019-04-29T12:00:00\",\"2019-04-29T13:00:00\",\"2019-04-29T13:00:00\",\"2019-04-29T13:00:00\",\"2019-04-29T13:00:00\",\"2019-04-29T13:00:00\",\"2019-04-29T13:00:00\",\"2019-04-29T13:00:00\",\"2019-04-29T13:00:00\",\"2019-04-29T13:00:00\",\"2019-04-29T13:00:00\",\"2019-04-29T13:00:00\",\"2019-04-29T13:00:00\",\"2019-04-29T13:00:00\",\"2019-04-29T13:00:00\",\"2019-04-29T13:00:00\",\"2019-04-29T13:00:00\",\"2019-04-29T13:00:00\",\"2019-04-29T13:00:00\",\"2019-04-29T13:00:00\",\"2019-04-29T13:00:00\",\"2019-04-29T13:00:00\",\"2019-04-29T13:00:00\",\"2019-04-29T13:00:00\",\"2019-04-29T13:00:00\",\"2019-04-29T13:00:00\",\"2019-04-29T13:00:00\",\"2019-04-29T13:00:00\",\"2019-04-29T13:00:00\",\"2019-04-29T13:00:00\",\"2019-04-29T15:00:00\",\"2019-04-29T15:00:00\",\"2019-04-29T15:00:00\",\"2019-04-29T15:00:00\",\"2019-04-29T15:00:00\",\"2019-04-29T15:00:00\",\"2019-04-29T15:00:00\",\"2019-04-29T15:00:00\",\"2019-04-29T15:00:00\",\"2019-04-29T15:00:00\",\"2019-04-29T15:00:00\",\"2019-04-29T17:00:00\",\"2019-04-29T20:00:00\",\"2019-04-29T20:00:00\",\"2019-04-29T20:00:00\",\"2019-04-29T20:00:00\",\"2019-04-29T20:00:00\",\"2019-04-29T20:00:00\",\"2019-04-29T22:00:00\",\"2019-04-29T22:00:00\",\"2019-04-29T22:00:00\",\"2019-04-29T22:00:00\",\"2019-04-29T22:00:00\",\"2019-04-30T11:00:00\",\"2019-04-30T14:00:00\",\"2019-04-30T14:00:00\",\"2019-04-30T14:00:00\",\"2019-04-30T14:00:00\",\"2019-04-30T14:00:00\",\"2019-04-30T14:00:00\",\"2019-04-30T14:00:00\",\"2019-04-30T14:00:00\",\"2019-04-30T14:00:00\",\"2019-04-30T18:00:00\",\"2019-04-30T19:00:00\",\"2019-04-30T19:00:00\",\"2019-04-30T19:00:00\",\"2019-04-30T22:00:00\",\"2019-05-01T01:00:00\",\"2019-05-01T05:00:00\",\"2019-05-01T10:00:00\",\"2019-05-01T11:00:00\",\"2019-05-01T18:00:00\",\"2019-05-02T14:00:00\",\"2019-05-02T16:00:00\",\"2019-05-02T16:00:00\",\"2019-05-02T16:00:00\",\"2019-05-02T16:00:00\",\"2019-05-02T16:00:00\",\"2019-05-02T16:00:00\",\"2019-05-02T16:00:00\",\"2019-05-02T16:00:00\",\"2019-05-02T16:00:00\",\"2019-05-02T16:00:00\",\"2019-05-02T16:00:00\",\"2019-05-02T16:00:00\",\"2019-05-02T16:00:00\",\"2019-05-02T16:00:00\",\"2019-05-02T16:00:00\",\"2019-05-02T16:00:00\",\"2019-05-02T16:00:00\",\"2019-05-02T16:00:00\",\"2019-05-02T16:00:00\",\"2019-05-02T16:00:00\",\"2019-05-02T16:00:00\",\"2019-05-02T16:00:00\",\"2019-05-02T16:00:00\",\"2019-05-02T16:00:00\",\"2019-05-02T16:00:00\",\"2019-05-02T16:00:00\",\"2019-05-02T16:00:00\",\"2019-05-02T16:00:00\",\"2019-05-02T16:00:00\",\"2019-05-02T16:00:00\",\"2019-05-02T16:00:00\",\"2019-05-02T16:00:00\",\"2019-05-02T16:00:00\",\"2019-05-02T16:00:00\",\"2019-05-02T16:00:00\",\"2019-05-02T16:00:00\",\"2019-05-02T18:00:00\",\"2019-05-02T20:00:00\",\"2019-05-02T21:00:00\",\"2019-05-03T13:00:00\",\"2019-05-03T16:00:00\",\"2019-05-03T16:00:00\",\"2019-05-03T16:00:00\",\"2019-05-03T16:00:00\",\"2019-05-03T18:00:00\",\"2019-05-03T20:00:00\",\"2019-05-03T22:00:00\",\"2019-05-04T08:00:00\",\"2019-05-04T11:00:00\",\"2019-05-04T12:00:00\",\"2019-05-05T08:00:00\",\"2019-05-05T09:00:00\",\"2019-05-05T10:00:00\",\"2019-05-05T10:00:00\",\"2019-05-05T11:00:00\",\"2019-05-05T11:00:00\",\"2019-05-05T11:00:00\",\"2019-05-05T11:00:00\",\"2019-05-05T13:00:00\",\"2019-05-05T13:00:00\",\"2019-05-05T13:00:00\",\"2019-05-05T13:00:00\",\"2019-05-05T13:00:00\",\"2019-05-05T13:00:00\",\"2019-05-05T22:00:00\",\"2019-05-06T09:00:00\",\"2019-05-06T23:00:00\",\"2019-05-07T02:00:00\",\"2019-05-07T07:00:00\",\"2019-05-07T08:00:00\",\"2019-05-07T09:00:00\",\"2019-05-07T11:00:00\",\"2019-05-07T11:00:00\",\"2019-05-07T11:00:00\",\"2019-05-07T11:00:00\",\"2019-05-07T11:00:00\",\"2019-05-07T11:00:00\",\"2019-05-07T11:00:00\",\"2019-05-07T11:00:00\",\"2019-05-07T11:00:00\",\"2019-05-07T11:00:00\",\"2019-05-07T11:00:00\",\"2019-05-07T11:00:00\",\"2019-05-07T11:00:00\",\"2019-05-07T11:00:00\",\"2019-05-07T11:00:00\",\"2019-05-07T11:00:00\",\"2019-05-07T11:00:00\",\"2019-05-07T11:00:00\",\"2019-05-07T11:00:00\",\"2019-05-07T12:00:00\",\"2019-05-07T12:00:00\",\"2019-05-07T13:00:00\",\"2019-05-07T15:00:00\",\"2019-05-08T02:00:00\",\"2019-05-08T04:00:00\",\"2019-05-08T08:00:00\",\"2019-05-08T09:00:00\",\"2019-05-08T09:00:00\",\"2019-05-08T13:00:00\",\"2019-05-08T13:00:00\",\"2019-05-08T13:00:00\",\"2019-05-08T13:00:00\",\"2019-05-08T13:00:00\",\"2019-05-08T13:00:00\",\"2019-05-08T13:00:00\",\"2019-05-08T13:00:00\",\"2019-05-08T13:00:00\",\"2019-05-08T13:00:00\",\"2019-05-08T13:00:00\",\"2019-05-08T13:00:00\",\"2019-05-08T13:00:00\",\"2019-05-08T13:00:00\",\"2019-05-08T13:00:00\",\"2019-05-08T13:00:00\",\"2019-05-08T14:00:00\",\"2019-05-08T15:00:00\",\"2019-05-08T16:00:00\",\"2019-05-09T08:00:00\",\"2019-05-09T08:00:00\",\"2019-05-09T08:00:00\",\"2019-05-09T08:00:00\",\"2019-05-09T08:00:00\",\"2019-05-09T08:00:00\",\"2019-05-09T08:00:00\",\"2019-05-09T08:00:00\",\"2019-05-09T08:00:00\",\"2019-05-09T11:00:00\",\"2019-05-09T11:00:00\",\"2019-05-09T11:00:00\",\"2019-05-09T11:00:00\",\"2019-05-09T11:00:00\",\"2019-05-09T11:00:00\",\"2019-05-09T13:00:00\",\"2019-05-09T15:00:00\",\"2019-05-09T15:00:00\",\"2019-05-09T15:00:00\",\"2019-05-09T15:00:00\",\"2019-05-09T15:00:00\",\"2019-05-09T15:00:00\",\"2019-05-09T15:00:00\",\"2019-05-09T15:00:00\",\"2019-05-09T15:00:00\",\"2019-05-09T15:00:00\",\"2019-05-09T15:00:00\",\"2019-05-09T19:00:00\",\"2019-05-09T19:00:00\",\"2019-05-09T19:00:00\",\"2019-05-09T19:00:00\",\"2019-05-09T19:00:00\",\"2019-05-09T19:00:00\",\"2019-05-09T19:00:00\",\"2019-05-09T21:00:00\",\"2019-05-10T03:00:00\",\"2019-05-10T15:00:00\",\"2019-05-10T15:00:00\",\"2019-05-10T15:00:00\",\"2019-05-10T15:00:00\",\"2019-05-10T15:00:00\",\"2019-05-10T15:00:00\",\"2019-05-10T17:00:00\",\"2019-05-10T19:00:00\",\"2019-05-10T19:00:00\",\"2019-05-10T21:00:00\",\"2019-05-10T23:00:00\",\"2019-05-11T08:00:00\",\"2019-05-11T14:00:00\",\"2019-05-11T19:00:00\",\"2019-05-11T19:00:00\",\"2019-05-11T19:00:00\",\"2019-05-11T19:00:00\",\"2019-05-11T19:00:00\",\"2019-05-11T19:00:00\",\"2019-05-11T19:00:00\",\"2019-05-11T19:00:00\",\"2019-05-11T19:00:00\",\"2019-05-11T19:00:00\",\"2019-05-11T19:00:00\",\"2019-05-11T19:00:00\",\"2019-05-11T19:00:00\",\"2019-05-11T19:00:00\",\"2019-05-11T19:00:00\",\"2019-05-11T22:00:00\",\"2019-05-12T10:00:00\",\"2019-05-12T14:00:00\",\"2019-05-12T14:00:00\",\"2019-05-12T14:00:00\",\"2019-05-12T14:00:00\",\"2019-05-12T14:00:00\",\"2019-05-12T14:00:00\",\"2019-05-12T14:00:00\",\"2019-05-12T15:00:00\",\"2019-05-12T15:00:00\",\"2019-05-12T15:00:00\",\"2019-05-12T15:00:00\",\"2019-05-12T15:00:00\",\"2019-05-12T15:00:00\",\"2019-05-12T15:00:00\",\"2019-05-12T19:00:00\",\"2019-05-12T19:00:00\",\"2019-05-12T19:00:00\",\"2019-05-12T19:00:00\",\"2019-05-12T19:00:00\",\"2019-05-12T19:00:00\",\"2019-05-12T19:00:00\",\"2019-05-12T19:00:00\",\"2019-05-12T19:00:00\",\"2019-05-12T19:00:00\",\"2019-05-12T19:00:00\",\"2019-05-12T19:00:00\",\"2019-05-12T19:00:00\",\"2019-05-12T19:00:00\",\"2019-05-12T19:00:00\",\"2019-05-12T19:00:00\",\"2019-05-12T19:00:00\",\"2019-05-12T19:00:00\",\"2019-05-12T19:00:00\",\"2019-05-12T19:00:00\",\"2019-05-12T19:00:00\",\"2019-05-12T19:00:00\",\"2019-05-12T19:00:00\",\"2019-05-12T19:00:00\",\"2019-05-12T19:00:00\",\"2019-05-12T19:00:00\",\"2019-05-12T19:00:00\",\"2019-05-12T19:00:00\",\"2019-05-12T19:00:00\",\"2019-05-12T19:00:00\",\"2019-05-12T19:00:00\",\"2019-05-12T19:00:00\",\"2019-05-12T19:00:00\",\"2019-05-12T19:00:00\",\"2019-05-12T19:00:00\",\"2019-05-12T19:00:00\",\"2019-05-12T19:00:00\",\"2019-05-12T19:00:00\",\"2019-05-12T19:00:00\",\"2019-05-12T20:00:00\",\"2019-05-12T20:00:00\",\"2019-05-13T02:00:00\",\"2019-05-13T09:00:00\",\"2019-05-13T09:00:00\",\"2019-05-13T09:00:00\",\"2019-05-13T09:00:00\",\"2019-05-13T09:00:00\",\"2019-05-13T09:00:00\",\"2019-05-13T09:00:00\",\"2019-05-13T09:00:00\",\"2019-05-13T09:00:00\",\"2019-05-13T09:00:00\",\"2019-05-13T09:00:00\",\"2019-05-13T09:00:00\",\"2019-05-13T09:00:00\",\"2019-05-13T09:00:00\",\"2019-05-13T09:00:00\",\"2019-05-13T09:00:00\",\"2019-05-13T09:00:00\",\"2019-05-13T09:00:00\",\"2019-05-13T09:00:00\",\"2019-05-13T09:00:00\",\"2019-05-13T09:00:00\",\"2019-05-13T09:00:00\",\"2019-05-13T09:00:00\",\"2019-05-13T09:00:00\",\"2019-05-13T09:00:00\",\"2019-05-13T09:00:00\",\"2019-05-13T09:00:00\",\"2019-05-13T09:00:00\",\"2019-05-13T09:00:00\",\"2019-05-13T09:00:00\",\"2019-05-13T10:00:00\",\"2019-05-13T10:00:00\",\"2019-05-13T10:00:00\",\"2019-05-13T10:00:00\",\"2019-05-13T10:00:00\",\"2019-05-13T10:00:00\",\"2019-05-13T10:00:00\",\"2019-05-13T10:00:00\",\"2019-05-13T10:00:00\",\"2019-05-13T10:00:00\",\"2019-05-13T11:00:00\",\"2019-05-13T11:00:00\",\"2019-05-13T11:00:00\",\"2019-05-13T11:00:00\",\"2019-05-13T11:00:00\",\"2019-05-13T11:00:00\",\"2019-05-13T11:00:00\",\"2019-05-13T11:00:00\",\"2019-05-13T11:00:00\",\"2019-05-13T11:00:00\",\"2019-05-13T11:00:00\",\"2019-05-13T11:00:00\",\"2019-05-13T11:00:00\",\"2019-05-13T14:00:00\",\"2019-05-13T14:00:00\",\"2019-05-13T14:00:00\",\"2019-05-13T14:00:00\",\"2019-05-13T14:00:00\",\"2019-05-13T14:00:00\",\"2019-05-13T14:00:00\",\"2019-05-13T14:00:00\",\"2019-05-13T14:00:00\",\"2019-05-13T14:00:00\",\"2019-05-13T14:00:00\",\"2019-05-13T14:00:00\",\"2019-05-13T15:00:00\",\"2019-05-13T15:00:00\",\"2019-05-13T15:00:00\",\"2019-05-13T15:00:00\",\"2019-05-13T15:00:00\",\"2019-05-13T15:00:00\",\"2019-05-13T15:00:00\",\"2019-05-13T15:00:00\",\"2019-05-13T15:00:00\",\"2019-05-13T15:00:00\",\"2019-05-13T15:00:00\",\"2019-05-13T15:00:00\",\"2019-05-13T15:00:00\",\"2019-05-13T15:00:00\",\"2019-05-13T15:00:00\",\"2019-05-13T15:00:00\",\"2019-05-13T15:00:00\",\"2019-05-13T15:00:00\",\"2019-05-13T15:00:00\",\"2019-05-13T15:00:00\",\"2019-05-13T15:00:00\",\"2019-05-13T15:00:00\",\"2019-05-13T15:00:00\",\"2019-05-13T15:00:00\",\"2019-05-13T15:00:00\",\"2019-05-13T15:00:00\",\"2019-05-13T15:00:00\",\"2019-05-13T15:00:00\",\"2019-05-13T15:00:00\",\"2019-05-13T15:00:00\",\"2019-05-13T15:00:00\",\"2019-05-13T15:00:00\",\"2019-05-13T15:00:00\",\"2019-05-13T15:00:00\",\"2019-05-13T15:00:00\",\"2019-05-13T15:00:00\",\"2019-05-13T17:00:00\",\"2019-05-13T17:00:00\",\"2019-05-13T17:00:00\",\"2019-05-13T17:00:00\",\"2019-05-13T17:00:00\",\"2019-05-13T17:00:00\",\"2019-05-13T17:00:00\",\"2019-05-13T17:00:00\",\"2019-05-13T18:00:00\",\"2019-05-13T20:00:00\",\"2019-05-13T20:00:00\",\"2019-05-13T20:00:00\",\"2019-05-13T20:00:00\",\"2019-05-13T20:00:00\",\"2019-05-13T20:00:00\",\"2019-05-13T20:00:00\",\"2019-05-13T20:00:00\",\"2019-05-13T20:00:00\",\"2019-05-13T20:00:00\",\"2019-05-13T20:00:00\",\"2019-05-13T20:00:00\",\"2019-05-13T20:00:00\",\"2019-05-13T20:00:00\",\"2019-05-13T20:00:00\",\"2019-05-13T20:00:00\",\"2019-05-13T20:00:00\",\"2019-05-13T20:00:00\",\"2019-05-13T20:00:00\",\"2019-05-13T20:00:00\",\"2019-05-13T20:00:00\",\"2019-05-13T20:00:00\",\"2019-05-13T20:00:00\",\"2019-05-13T20:00:00\",\"2019-05-13T20:00:00\",\"2019-05-13T20:00:00\",\"2019-05-13T20:00:00\",\"2019-05-13T21:00:00\",\"2019-05-13T22:00:00\",\"2019-05-13T22:00:00\",\"2019-05-13T22:00:00\",\"2019-05-13T22:00:00\",\"2019-05-13T22:00:00\",\"2019-05-13T22:00:00\",\"2019-05-13T23:00:00\",\"2019-05-14T02:00:00\",\"2019-05-14T09:00:00\",\"2019-05-14T09:00:00\",\"2019-05-14T09:00:00\",\"2019-05-14T11:00:00\",\"2019-05-14T11:00:00\",\"2019-05-14T11:00:00\",\"2019-05-14T11:00:00\",\"2019-05-14T11:00:00\",\"2019-05-14T11:00:00\",\"2019-05-14T11:00:00\",\"2019-05-14T11:00:00\",\"2019-05-14T11:00:00\",\"2019-05-14T11:00:00\",\"2019-05-14T11:00:00\",\"2019-05-14T11:00:00\",\"2019-05-14T11:00:00\",\"2019-05-14T11:00:00\",\"2019-05-14T11:00:00\",\"2019-05-14T11:00:00\",\"2019-05-14T11:00:00\",\"2019-05-14T11:00:00\",\"2019-05-14T11:00:00\",\"2019-05-14T11:00:00\",\"2019-05-14T11:00:00\",\"2019-05-14T11:00:00\",\"2019-05-14T11:00:00\",\"2019-05-14T11:00:00\",\"2019-05-14T11:00:00\",\"2019-05-14T11:00:00\",\"2019-05-14T11:00:00\",\"2019-05-14T11:00:00\",\"2019-05-14T11:00:00\",\"2019-05-14T11:00:00\",\"2019-05-14T11:00:00\",\"2019-05-14T11:00:00\",\"2019-05-14T11:00:00\",\"2019-05-14T13:00:00\",\"2019-05-14T13:00:00\",\"2019-05-14T13:00:00\",\"2019-05-14T13:00:00\",\"2019-05-14T13:00:00\",\"2019-05-14T13:00:00\",\"2019-05-14T13:00:00\",\"2019-05-14T14:00:00\",\"2019-05-14T15:00:00\",\"2019-05-14T16:00:00\",\"2019-05-14T16:00:00\",\"2019-05-14T16:00:00\",\"2019-05-14T16:00:00\",\"2019-05-14T16:00:00\",\"2019-05-14T16:00:00\",\"2019-05-14T16:00:00\",\"2019-05-14T16:00:00\",\"2019-05-14T16:00:00\",\"2019-05-14T19:00:00\",\"2019-05-14T19:00:00\",\"2019-05-14T19:00:00\",\"2019-05-14T19:00:00\",\"2019-05-14T19:00:00\",\"2019-05-14T19:00:00\",\"2019-05-14T19:00:00\",\"2019-05-15T00:00:00\",\"2019-05-15T08:00:00\",\"2019-05-15T08:00:00\",\"2019-05-15T08:00:00\",\"2019-05-15T08:00:00\",\"2019-05-15T08:00:00\",\"2019-05-15T08:00:00\",\"2019-05-15T08:00:00\",\"2019-05-15T08:00:00\",\"2019-05-15T08:00:00\",\"2019-05-15T08:00:00\",\"2019-05-15T08:00:00\",\"2019-05-15T08:00:00\",\"2019-05-15T08:00:00\",\"2019-05-15T08:00:00\",\"2019-05-15T08:00:00\",\"2019-05-15T08:00:00\",\"2019-05-15T08:00:00\",\"2019-05-15T08:00:00\",\"2019-05-15T08:00:00\",\"2019-05-15T08:00:00\",\"2019-05-15T08:00:00\",\"2019-05-15T08:00:00\",\"2019-05-15T08:00:00\",\"2019-05-15T08:00:00\",\"2019-05-15T08:00:00\",\"2019-05-15T10:00:00\",\"2019-05-15T11:00:00\",\"2019-05-15T18:00:00\",\"2019-05-15T21:00:00\",\"2019-05-16T10:00:00\",\"2019-05-16T10:00:00\",\"2019-05-16T11:00:00\",\"2019-05-16T11:00:00\",\"2019-05-16T11:00:00\",\"2019-05-16T11:00:00\",\"2019-05-16T11:00:00\",\"2019-05-16T11:00:00\",\"2019-05-16T15:00:00\",\"2019-05-16T15:00:00\",\"2019-05-16T15:00:00\",\"2019-05-16T16:00:00\",\"2019-05-16T16:00:00\",\"2019-05-16T16:00:00\",\"2019-05-16T18:00:00\",\"2019-05-16T18:00:00\",\"2019-05-16T19:00:00\",\"2019-05-16T19:00:00\",\"2019-05-16T19:00:00\",\"2019-05-16T19:00:00\",\"2019-05-16T19:00:00\",\"2019-05-16T19:00:00\",\"2019-05-16T19:00:00\",\"2019-05-16T19:00:00\",\"2019-05-16T19:00:00\",\"2019-05-16T22:00:00\",\"2019-05-16T22:00:00\",\"2019-05-16T22:00:00\",\"2019-05-16T22:00:00\",\"2019-05-16T22:00:00\",\"2019-05-16T22:00:00\",\"2019-05-16T22:00:00\",\"2019-05-16T22:00:00\",\"2019-05-16T22:00:00\",\"2019-05-16T22:00:00\",\"2019-05-16T22:00:00\",\"2019-05-16T22:00:00\",\"2019-05-16T22:00:00\",\"2019-05-16T22:00:00\",\"2019-05-16T22:00:00\",\"2019-05-16T22:00:00\",\"2019-05-16T22:00:00\",\"2019-05-16T22:00:00\",\"2019-05-16T22:00:00\",\"2019-05-16T22:00:00\",\"2019-05-17T09:00:00\",\"2019-05-17T10:00:00\",\"2019-05-17T10:00:00\",\"2019-05-17T10:00:00\",\"2019-05-17T10:00:00\",\"2019-05-17T10:00:00\",\"2019-05-17T10:00:00\",\"2019-05-17T10:00:00\",\"2019-05-17T10:00:00\",\"2019-05-17T10:00:00\",\"2019-05-17T10:00:00\",\"2019-05-17T10:00:00\",\"2019-05-17T10:00:00\",\"2019-05-17T10:00:00\",\"2019-05-17T11:00:00\",\"2019-05-17T14:00:00\",\"2019-05-17T14:00:00\",\"2019-05-17T16:00:00\",\"2019-05-17T18:00:00\",\"2019-05-17T18:00:00\",\"2019-05-17T18:00:00\",\"2019-05-17T18:00:00\",\"2019-05-17T18:00:00\",\"2019-05-17T18:00:00\",\"2019-05-17T18:00:00\",\"2019-05-17T18:00:00\",\"2019-05-17T21:00:00\",\"2019-05-18T15:00:00\",\"2019-05-18T15:00:00\",\"2019-05-18T15:00:00\",\"2019-05-18T15:00:00\",\"2019-05-18T15:00:00\",\"2019-05-18T15:00:00\",\"2019-05-18T15:00:00\",\"2019-05-18T15:00:00\",\"2019-05-18T15:00:00\",\"2019-05-18T15:00:00\",\"2019-05-18T15:00:00\",\"2019-05-18T15:00:00\",\"2019-05-18T15:00:00\",\"2019-05-18T15:00:00\",\"2019-05-18T15:00:00\",\"2019-05-18T18:00:00\",\"2019-05-19T10:00:00\",\"2019-05-19T12:00:00\",\"2019-05-19T12:00:00\",\"2019-05-19T13:00:00\",\"2019-05-19T13:00:00\",\"2019-05-19T15:00:00\",\"2019-05-19T15:00:00\",\"2019-05-19T15:00:00\",\"2019-05-19T15:00:00\",\"2019-05-19T15:00:00\",\"2019-05-19T15:00:00\",\"2019-05-19T18:00:00\",\"2019-05-19T18:00:00\",\"2019-05-19T18:00:00\",\"2019-05-19T18:00:00\",\"2019-05-19T18:00:00\",\"2019-05-19T18:00:00\",\"2019-05-19T19:00:00\",\"2019-05-19T20:00:00\",\"2019-05-19T20:00:00\",\"2019-05-19T20:00:00\",\"2019-05-19T20:00:00\",\"2019-05-20T08:00:00\",\"2019-05-20T09:00:00\",\"2019-05-20T10:00:00\",\"2019-05-20T10:00:00\",\"2019-05-20T13:00:00\",\"2019-05-20T13:00:00\",\"2019-05-20T17:00:00\",\"2019-05-20T17:00:00\",\"2019-05-20T17:00:00\",\"2019-05-20T17:00:00\",\"2019-05-20T17:00:00\",\"2019-05-20T17:00:00\",\"2019-05-20T17:00:00\",\"2019-05-20T17:00:00\",\"2019-05-20T17:00:00\",\"2019-05-20T17:00:00\",\"2019-05-20T18:00:00\",\"2019-05-20T21:00:00\",\"2019-05-20T21:00:00\",\"2019-05-20T21:00:00\",\"2019-05-20T21:00:00\",\"2019-05-20T21:00:00\",\"2019-05-20T21:00:00\",\"2019-05-20T21:00:00\",\"2019-05-20T21:00:00\",\"2019-05-20T22:00:00\",\"2019-05-21T02:00:00\",\"2019-05-21T05:00:00\",\"2019-05-21T08:00:00\",\"2019-05-21T09:00:00\",\"2019-05-21T09:00:00\",\"2019-05-21T09:00:00\",\"2019-05-21T09:00:00\",\"2019-05-21T09:00:00\",\"2019-05-21T09:00:00\",\"2019-05-21T09:00:00\",\"2019-05-21T10:00:00\",\"2019-05-21T10:00:00\",\"2019-05-21T10:00:00\",\"2019-05-21T10:00:00\",\"2019-05-21T10:00:00\",\"2019-05-21T10:00:00\",\"2019-05-21T10:00:00\",\"2019-05-21T10:00:00\",\"2019-05-21T10:00:00\",\"2019-05-21T10:00:00\",\"2019-05-21T10:00:00\",\"2019-05-21T10:00:00\",\"2019-05-21T10:00:00\",\"2019-05-21T10:00:00\",\"2019-05-21T10:00:00\",\"2019-05-21T10:00:00\",\"2019-05-21T10:00:00\",\"2019-05-21T10:00:00\",\"2019-05-21T16:00:00\",\"2019-05-21T16:00:00\",\"2019-05-21T19:00:00\",\"2019-05-21T21:00:00\",\"2019-05-22T13:00:00\",\"2019-05-22T13:00:00\",\"2019-05-22T18:00:00\",\"2019-05-23T08:00:00\",\"2019-05-23T08:00:00\",\"2019-05-23T08:00:00\",\"2019-05-23T08:00:00\",\"2019-05-23T08:00:00\",\"2019-05-23T10:00:00\",\"2019-05-23T10:00:00\",\"2019-05-23T10:00:00\",\"2019-05-23T10:00:00\",\"2019-05-23T10:00:00\",\"2019-05-23T11:00:00\",\"2019-05-23T12:00:00\",\"2019-05-23T15:00:00\",\"2019-05-23T17:00:00\",\"2019-05-23T19:00:00\",\"2019-05-23T20:00:00\",\"2019-05-23T22:00:00\",\"2019-05-24T10:00:00\",\"2019-05-24T10:00:00\",\"2019-05-24T10:00:00\",\"2019-05-24T10:00:00\",\"2019-05-24T10:00:00\",\"2019-05-24T10:00:00\",\"2019-05-24T13:00:00\",\"2019-05-24T14:00:00\",\"2019-05-24T16:00:00\",\"2019-05-24T17:00:00\",\"2019-05-24T22:00:00\",\"2019-05-25T02:00:00\",\"2019-05-25T14:00:00\",\"2019-05-26T08:00:00\",\"2019-05-26T08:00:00\",\"2019-05-26T08:00:00\",\"2019-05-26T08:00:00\",\"2019-05-26T08:00:00\",\"2019-05-26T09:00:00\",\"2019-05-26T09:00:00\",\"2019-05-26T13:00:00\",\"2019-05-27T09:00:00\",\"2019-05-27T10:00:00\",\"2019-05-27T11:00:00\",\"2019-05-27T11:00:00\",\"2019-05-27T11:00:00\",\"2019-05-27T11:00:00\",\"2019-05-27T12:00:00\",\"2019-05-27T12:00:00\",\"2019-05-27T12:00:00\",\"2019-05-27T12:00:00\",\"2019-05-27T12:00:00\",\"2019-05-27T12:00:00\",\"2019-05-27T12:00:00\",\"2019-05-27T13:00:00\",\"2019-05-27T13:00:00\",\"2019-05-27T13:00:00\",\"2019-05-27T13:00:00\",\"2019-05-27T13:00:00\",\"2019-05-27T14:00:00\",\"2019-05-27T14:00:00\",\"2019-05-27T17:00:00\",\"2019-05-27T17:00:00\",\"2019-05-27T18:00:00\",\"2019-05-27T19:00:00\",\"2019-05-28T07:00:00\",\"2019-05-28T07:00:00\",\"2019-05-28T07:00:00\",\"2019-05-28T07:00:00\",\"2019-05-28T07:00:00\",\"2019-05-28T07:00:00\",\"2019-05-28T07:00:00\",\"2019-05-28T07:00:00\",\"2019-05-28T07:00:00\",\"2019-05-28T07:00:00\",\"2019-05-28T07:00:00\",\"2019-05-28T07:00:00\",\"2019-05-28T09:00:00\",\"2019-05-28T09:00:00\",\"2019-05-28T09:00:00\",\"2019-05-28T09:00:00\",\"2019-05-28T09:00:00\",\"2019-05-28T09:00:00\",\"2019-05-28T09:00:00\",\"2019-05-28T09:00:00\",\"2019-05-28T09:00:00\",\"2019-05-28T12:00:00\",\"2019-05-28T13:00:00\",\"2019-05-28T16:00:00\",\"2019-05-28T18:00:00\",\"2019-05-28T18:00:00\",\"2019-05-28T18:00:00\",\"2019-05-28T21:00:00\",\"2019-05-28T21:00:00\",\"2019-05-28T21:00:00\",\"2019-05-28T22:00:00\",\"2019-05-29T09:00:00\",\"2019-05-29T10:00:00\",\"2019-05-29T13:00:00\",\"2019-05-29T13:00:00\",\"2019-05-29T13:00:00\",\"2019-05-29T13:00:00\",\"2019-05-29T13:00:00\",\"2019-05-29T13:00:00\",\"2019-05-29T13:00:00\",\"2019-05-29T13:00:00\",\"2019-05-29T13:00:00\",\"2019-05-29T13:00:00\",\"2019-05-29T13:00:00\",\"2019-05-29T13:00:00\",\"2019-05-29T13:00:00\",\"2019-05-29T13:00:00\",\"2019-05-29T13:00:00\",\"2019-05-29T13:00:00\",\"2019-05-29T13:00:00\",\"2019-05-29T13:00:00\",\"2019-05-29T13:00:00\",\"2019-05-29T13:00:00\",\"2019-05-29T13:00:00\",\"2019-05-29T13:00:00\",\"2019-05-29T13:00:00\",\"2019-05-29T13:00:00\",\"2019-05-29T13:00:00\",\"2019-05-29T13:00:00\",\"2019-05-29T13:00:00\",\"2019-05-29T14:00:00\",\"2019-05-29T14:00:00\",\"2019-05-29T16:00:00\",\"2019-05-29T17:00:00\",\"2019-05-29T18:00:00\",\"2019-05-29T20:00:00\",\"2019-05-29T23:00:00\",\"2019-05-30T07:00:00\",\"2019-05-30T09:00:00\",\"2019-05-30T12:00:00\",\"2019-05-30T13:00:00\",\"2019-05-30T13:00:00\",\"2019-05-30T13:00:00\",\"2019-05-30T14:00:00\",\"2019-05-30T17:00:00\",\"2019-05-30T19:00:00\",\"2019-05-30T20:00:00\",\"2019-05-30T21:00:00\",\"2019-05-30T22:00:00\",\"2019-05-30T22:00:00\",\"2019-05-30T22:00:00\",\"2019-05-30T22:00:00\",\"2019-05-30T22:00:00\",\"2019-05-30T22:00:00\",\"2019-05-30T22:00:00\",\"2019-05-30T22:00:00\",\"2019-05-30T22:00:00\",\"2019-05-30T22:00:00\",\"2019-05-30T22:00:00\",\"2019-05-30T22:00:00\",\"2019-05-30T22:00:00\",\"2019-05-30T22:00:00\",\"2019-05-30T22:00:00\",\"2019-05-30T22:00:00\",\"2019-05-30T22:00:00\",\"2019-05-31T00:00:00\",\"2019-05-31T04:00:00\",\"2019-05-31T12:00:00\",\"2019-05-31T12:00:00\",\"2019-05-31T12:00:00\",\"2019-05-31T12:00:00\",\"2019-05-31T12:00:00\",\"2019-05-31T12:00:00\",\"2019-05-31T12:00:00\",\"2019-05-31T12:00:00\",\"2019-05-31T12:00:00\",\"2019-05-31T12:00:00\",\"2019-05-31T12:00:00\",\"2019-05-31T12:00:00\",\"2019-05-31T13:00:00\",\"2019-05-31T16:00:00\",\"2019-05-31T16:00:00\",\"2019-05-31T16:00:00\",\"2019-05-31T16:00:00\",\"2019-05-31T16:00:00\",\"2019-05-31T16:00:00\",\"2019-05-31T16:00:00\",\"2019-05-31T16:00:00\",\"2019-05-31T16:00:00\",\"2019-05-31T16:00:00\",\"2019-05-31T16:00:00\",\"2019-05-31T16:00:00\",\"2019-05-31T21:00:00\",\"2019-05-31T22:00:00\",\"2019-05-31T22:00:00\",\"2019-05-31T22:00:00\",\"2019-05-31T22:00:00\",\"2019-05-31T22:00:00\",\"2019-05-31T22:00:00\",\"2019-05-31T22:00:00\",\"2019-05-31T22:00:00\",\"2019-05-31T22:00:00\",\"2019-05-31T22:00:00\",\"2019-05-31T22:00:00\",\"2019-05-31T22:00:00\",\"2019-05-31T22:00:00\",\"2019-05-31T22:00:00\",\"2019-05-31T22:00:00\",\"2019-05-31T22:00:00\",\"2019-05-31T22:00:00\",\"2019-05-31T22:00:00\",\"2019-05-31T22:00:00\",\"2019-05-31T22:00:00\",\"2019-05-31T22:00:00\",\"2019-05-31T22:00:00\",\"2019-05-31T22:00:00\",\"2019-05-31T22:00:00\",\"2019-05-31T22:00:00\",\"2019-05-31T22:00:00\",\"2019-05-31T22:00:00\",\"2019-05-31T22:00:00\",\"2019-05-31T22:00:00\",\"2019-06-01T00:00:00\",\"2019-06-01T00:00:00\",\"2019-06-01T00:00:00\",\"2019-06-01T07:00:00\",\"2019-06-01T07:00:00\",\"2019-06-01T07:00:00\",\"2019-06-01T07:00:00\",\"2019-06-01T07:00:00\",\"2019-06-01T07:00:00\",\"2019-06-01T07:00:00\",\"2019-06-01T07:00:00\",\"2019-06-01T07:00:00\",\"2019-06-01T07:00:00\",\"2019-06-01T07:00:00\",\"2019-06-01T07:00:00\",\"2019-06-01T08:00:00\",\"2019-06-01T08:00:00\",\"2019-06-01T08:00:00\",\"2019-06-01T10:00:00\",\"2019-06-01T10:00:00\",\"2019-06-01T10:00:00\",\"2019-06-01T10:00:00\",\"2019-06-01T20:00:00\",\"2019-06-01T20:00:00\",\"2019-06-01T20:00:00\",\"2019-06-01T20:00:00\",\"2019-06-01T20:00:00\",\"2019-06-01T20:00:00\",\"2019-06-01T20:00:00\",\"2019-06-01T20:00:00\",\"2019-06-01T20:00:00\",\"2019-06-01T20:00:00\",\"2019-06-01T20:00:00\",\"2019-06-01T20:00:00\",\"2019-06-01T22:00:00\",\"2019-06-01T22:00:00\",\"2019-06-01T22:00:00\",\"2019-06-01T22:00:00\",\"2019-06-01T22:00:00\",\"2019-06-01T22:00:00\",\"2019-06-01T22:00:00\",\"2019-06-01T22:00:00\",\"2019-06-01T22:00:00\",\"2019-06-01T22:00:00\",\"2019-06-01T22:00:00\",\"2019-06-01T22:00:00\",\"2019-06-01T23:00:00\",\"2019-06-01T23:00:00\",\"2019-06-01T23:00:00\",\"2019-06-02T06:00:00\",\"2019-06-02T06:00:00\",\"2019-06-02T06:00:00\",\"2019-06-02T06:00:00\",\"2019-06-02T06:00:00\",\"2019-06-02T06:00:00\",\"2019-06-02T06:00:00\",\"2019-06-02T06:00:00\",\"2019-06-02T06:00:00\",\"2019-06-02T06:00:00\",\"2019-06-02T06:00:00\",\"2019-06-02T06:00:00\",\"2019-06-02T08:00:00\",\"2019-06-02T08:00:00\",\"2019-06-02T08:00:00\",\"2019-06-02T08:00:00\",\"2019-06-02T08:00:00\",\"2019-06-02T08:00:00\",\"2019-06-02T08:00:00\",\"2019-06-02T08:00:00\",\"2019-06-02T08:00:00\",\"2019-06-02T08:00:00\",\"2019-06-02T08:00:00\",\"2019-06-02T08:00:00\",\"2019-06-02T10:00:00\",\"2019-06-02T10:00:00\",\"2019-06-02T10:00:00\",\"2019-06-02T10:00:00\",\"2019-06-02T10:00:00\",\"2019-06-02T10:00:00\",\"2019-06-02T10:00:00\",\"2019-06-02T10:00:00\",\"2019-06-02T10:00:00\",\"2019-06-02T10:00:00\",\"2019-06-02T10:00:00\",\"2019-06-02T10:00:00\",\"2019-06-02T10:00:00\",\"2019-06-02T10:00:00\",\"2019-06-02T11:00:00\",\"2019-06-02T11:00:00\",\"2019-06-02T13:00:00\",\"2019-06-02T13:00:00\",\"2019-06-02T13:00:00\",\"2019-06-02T13:00:00\",\"2019-06-02T13:00:00\",\"2019-06-02T13:00:00\",\"2019-06-02T13:00:00\",\"2019-06-02T13:00:00\",\"2019-06-02T13:00:00\",\"2019-06-02T13:00:00\",\"2019-06-02T13:00:00\",\"2019-06-02T13:00:00\",\"2019-06-02T14:00:00\",\"2019-06-02T15:00:00\",\"2019-06-02T16:00:00\",\"2019-06-02T16:00:00\",\"2019-06-02T16:00:00\",\"2019-06-02T16:00:00\",\"2019-06-02T16:00:00\",\"2019-06-02T16:00:00\",\"2019-06-02T16:00:00\",\"2019-06-02T16:00:00\",\"2019-06-02T16:00:00\",\"2019-06-02T16:00:00\",\"2019-06-02T16:00:00\",\"2019-06-02T16:00:00\",\"2019-06-02T19:00:00\",\"2019-06-02T19:00:00\",\"2019-06-02T19:00:00\",\"2019-06-02T19:00:00\",\"2019-06-02T19:00:00\",\"2019-06-02T19:00:00\",\"2019-06-02T19:00:00\",\"2019-06-02T19:00:00\",\"2019-06-02T19:00:00\",\"2019-06-02T19:00:00\",\"2019-06-02T19:00:00\",\"2019-06-02T19:00:00\",\"2019-06-02T19:00:00\",\"2019-06-02T20:00:00\",\"2019-06-02T20:00:00\",\"2019-06-02T22:00:00\",\"2019-06-02T22:00:00\",\"2019-06-02T22:00:00\",\"2019-06-02T22:00:00\",\"2019-06-02T22:00:00\",\"2019-06-02T22:00:00\",\"2019-06-02T22:00:00\",\"2019-06-02T22:00:00\",\"2019-06-02T22:00:00\",\"2019-06-02T22:00:00\",\"2019-06-02T22:00:00\",\"2019-06-02T22:00:00\",\"2019-06-02T23:00:00\",\"2019-06-02T23:00:00\",\"2019-06-02T23:00:00\",\"2019-06-02T23:00:00\",\"2019-06-02T23:00:00\",\"2019-06-02T23:00:00\",\"2019-06-02T23:00:00\",\"2019-06-02T23:00:00\",\"2019-06-03T07:00:00\",\"2019-06-03T08:00:00\",\"2019-06-03T08:00:00\",\"2019-06-03T08:00:00\",\"2019-06-03T08:00:00\",\"2019-06-03T08:00:00\",\"2019-06-03T08:00:00\",\"2019-06-03T08:00:00\",\"2019-06-03T08:00:00\",\"2019-06-03T08:00:00\",\"2019-06-03T08:00:00\",\"2019-06-03T08:00:00\",\"2019-06-03T08:00:00\",\"2019-06-03T09:00:00\",\"2019-06-03T09:00:00\",\"2019-06-03T10:00:00\",\"2019-06-03T10:00:00\",\"2019-06-03T10:00:00\",\"2019-06-03T10:00:00\",\"2019-06-03T10:00:00\",\"2019-06-03T10:00:00\",\"2019-06-03T10:00:00\",\"2019-06-03T10:00:00\",\"2019-06-03T10:00:00\",\"2019-06-03T10:00:00\",\"2019-06-03T10:00:00\",\"2019-06-03T10:00:00\",\"2019-06-03T12:00:00\",\"2019-06-03T13:00:00\",\"2019-06-03T13:00:00\",\"2019-06-03T13:00:00\",\"2019-06-03T13:00:00\",\"2019-06-03T13:00:00\",\"2019-06-03T13:00:00\",\"2019-06-03T13:00:00\",\"2019-06-03T13:00:00\",\"2019-06-03T13:00:00\",\"2019-06-03T13:00:00\",\"2019-06-03T13:00:00\",\"2019-06-03T13:00:00\",\"2019-06-03T13:00:00\",\"2019-06-03T14:00:00\",\"2019-06-03T14:00:00\",\"2019-06-03T15:00:00\",\"2019-06-03T15:00:00\",\"2019-06-03T15:00:00\",\"2019-06-03T15:00:00\",\"2019-06-03T15:00:00\",\"2019-06-03T15:00:00\",\"2019-06-03T16:00:00\",\"2019-06-03T20:00:00\",\"2019-06-03T20:00:00\",\"2019-06-03T20:00:00\",\"2019-06-03T20:00:00\",\"2019-06-03T20:00:00\",\"2019-06-03T20:00:00\",\"2019-06-03T20:00:00\",\"2019-06-03T20:00:00\",\"2019-06-03T20:00:00\",\"2019-06-03T20:00:00\",\"2019-06-03T20:00:00\",\"2019-06-03T20:00:00\",\"2019-06-03T21:00:00\",\"2019-06-03T21:00:00\",\"2019-06-03T21:00:00\",\"2019-06-03T21:00:00\",\"2019-06-03T21:00:00\",\"2019-06-03T21:00:00\",\"2019-06-03T21:00:00\",\"2019-06-03T21:00:00\",\"2019-06-03T21:00:00\",\"2019-06-03T22:00:00\",\"2019-06-04T03:00:00\",\"2019-06-04T07:00:00\",\"2019-06-04T09:00:00\",\"2019-06-04T09:00:00\",\"2019-06-04T09:00:00\",\"2019-06-04T09:00:00\",\"2019-06-04T09:00:00\",\"2019-06-04T09:00:00\",\"2019-06-04T09:00:00\",\"2019-06-04T09:00:00\",\"2019-06-04T09:00:00\",\"2019-06-04T09:00:00\",\"2019-06-04T09:00:00\",\"2019-06-04T09:00:00\",\"2019-06-04T09:00:00\",\"2019-06-04T10:00:00\",\"2019-06-04T11:00:00\",\"2019-06-04T11:00:00\",\"2019-06-04T11:00:00\",\"2019-06-04T11:00:00\",\"2019-06-04T11:00:00\",\"2019-06-04T11:00:00\",\"2019-06-04T11:00:00\",\"2019-06-04T11:00:00\",\"2019-06-04T11:00:00\",\"2019-06-04T11:00:00\",\"2019-06-04T11:00:00\",\"2019-06-04T11:00:00\",\"2019-06-04T11:00:00\",\"2019-06-04T11:00:00\",\"2019-06-04T12:00:00\",\"2019-06-04T12:00:00\",\"2019-06-04T13:00:00\",\"2019-06-04T13:00:00\",\"2019-06-04T13:00:00\",\"2019-06-04T13:00:00\",\"2019-06-04T13:00:00\",\"2019-06-04T13:00:00\",\"2019-06-04T13:00:00\",\"2019-06-04T13:00:00\",\"2019-06-04T13:00:00\",\"2019-06-04T13:00:00\",\"2019-06-04T13:00:00\",\"2019-06-04T13:00:00\",\"2019-06-04T14:00:00\",\"2019-06-04T14:00:00\",\"2019-06-04T15:00:00\",\"2019-06-04T15:00:00\",\"2019-06-04T15:00:00\",\"2019-06-04T15:00:00\",\"2019-06-04T15:00:00\",\"2019-06-04T15:00:00\",\"2019-06-04T16:00:00\",\"2019-06-04T16:00:00\",\"2019-06-04T16:00:00\",\"2019-06-04T16:00:00\",\"2019-06-04T16:00:00\",\"2019-06-04T16:00:00\",\"2019-06-04T16:00:00\",\"2019-06-04T16:00:00\",\"2019-06-04T16:00:00\",\"2019-06-04T16:00:00\",\"2019-06-04T16:00:00\",\"2019-06-04T16:00:00\",\"2019-06-04T16:00:00\",\"2019-06-04T17:00:00\",\"2019-06-04T17:00:00\",\"2019-06-04T18:00:00\",\"2019-06-04T18:00:00\",\"2019-06-04T18:00:00\",\"2019-06-04T18:00:00\",\"2019-06-04T18:00:00\",\"2019-06-04T18:00:00\",\"2019-06-04T18:00:00\",\"2019-06-04T18:00:00\",\"2019-06-04T18:00:00\",\"2019-06-04T18:00:00\",\"2019-06-04T18:00:00\",\"2019-06-04T18:00:00\",\"2019-06-04T18:00:00\",\"2019-06-04T18:00:00\",\"2019-06-04T18:00:00\",\"2019-06-04T18:00:00\",\"2019-06-04T18:00:00\",\"2019-06-04T18:00:00\",\"2019-06-04T18:00:00\",\"2019-06-04T18:00:00\",\"2019-06-04T18:00:00\",\"2019-06-04T18:00:00\",\"2019-06-04T18:00:00\",\"2019-06-04T18:00:00\",\"2019-06-04T18:00:00\",\"2019-06-04T18:00:00\",\"2019-06-04T18:00:00\",\"2019-06-04T18:00:00\",\"2019-06-04T18:00:00\",\"2019-06-04T19:00:00\",\"2019-06-04T19:00:00\",\"2019-06-04T19:00:00\",\"2019-06-04T19:00:00\",\"2019-06-04T19:00:00\",\"2019-06-04T19:00:00\",\"2019-06-04T19:00:00\",\"2019-06-04T19:00:00\",\"2019-06-04T19:00:00\",\"2019-06-04T19:00:00\",\"2019-06-04T19:00:00\",\"2019-06-04T19:00:00\",\"2019-06-04T19:00:00\",\"2019-06-04T19:00:00\",\"2019-06-04T19:00:00\",\"2019-06-04T19:00:00\",\"2019-06-04T19:00:00\",\"2019-06-04T19:00:00\",\"2019-06-04T19:00:00\",\"2019-06-04T19:00:00\",\"2019-06-04T19:00:00\",\"2019-06-04T19:00:00\",\"2019-06-04T19:00:00\",\"2019-06-04T19:00:00\",\"2019-06-04T19:00:00\",\"2019-06-04T19:00:00\",\"2019-06-04T19:00:00\",\"2019-06-04T19:00:00\",\"2019-06-04T19:00:00\",\"2019-06-04T19:00:00\",\"2019-06-04T19:00:00\",\"2019-06-04T19:00:00\",\"2019-06-04T21:00:00\",\"2019-06-04T22:00:00\",\"2019-06-04T22:00:00\",\"2019-06-04T22:00:00\",\"2019-06-04T22:00:00\",\"2019-06-04T22:00:00\",\"2019-06-04T22:00:00\",\"2019-06-04T22:00:00\",\"2019-06-04T22:00:00\",\"2019-06-04T22:00:00\",\"2019-06-04T22:00:00\",\"2019-06-04T22:00:00\",\"2019-06-04T22:00:00\",\"2019-06-05T00:00:00\",\"2019-06-05T00:00:00\",\"2019-06-05T00:00:00\",\"2019-06-05T09:00:00\",\"2019-06-05T09:00:00\",\"2019-06-05T09:00:00\",\"2019-06-05T09:00:00\",\"2019-06-05T09:00:00\",\"2019-06-05T09:00:00\",\"2019-06-05T09:00:00\",\"2019-06-05T09:00:00\",\"2019-06-05T09:00:00\",\"2019-06-05T09:00:00\",\"2019-06-05T09:00:00\",\"2019-06-05T09:00:00\",\"2019-06-05T09:00:00\",\"2019-06-05T09:00:00\",\"2019-06-05T09:00:00\",\"2019-06-05T09:00:00\",\"2019-06-05T09:00:00\",\"2019-06-05T09:00:00\",\"2019-06-05T09:00:00\",\"2019-06-05T09:00:00\",\"2019-06-05T09:00:00\",\"2019-06-05T09:00:00\",\"2019-06-05T09:00:00\",\"2019-06-05T09:00:00\",\"2019-06-05T09:00:00\",\"2019-06-05T09:00:00\",\"2019-06-05T09:00:00\",\"2019-06-05T09:00:00\",\"2019-06-05T09:00:00\",\"2019-06-05T09:00:00\",\"2019-06-05T09:00:00\",\"2019-06-05T09:00:00\",\"2019-06-05T09:00:00\",\"2019-06-05T10:00:00\",\"2019-06-05T10:00:00\",\"2019-06-05T10:00:00\",\"2019-06-05T10:00:00\",\"2019-06-05T10:00:00\",\"2019-06-05T10:00:00\",\"2019-06-05T10:00:00\",\"2019-06-05T10:00:00\",\"2019-06-05T10:00:00\",\"2019-06-05T10:00:00\",\"2019-06-05T10:00:00\",\"2019-06-05T10:00:00\",\"2019-06-05T10:00:00\",\"2019-06-05T10:00:00\",\"2019-06-05T10:00:00\",\"2019-06-05T10:00:00\",\"2019-06-05T10:00:00\",\"2019-06-05T12:00:00\",\"2019-06-05T13:00:00\",\"2019-06-05T14:00:00\",\"2019-06-05T14:00:00\",\"2019-06-05T14:00:00\",\"2019-06-05T14:00:00\",\"2019-06-05T14:00:00\",\"2019-06-05T14:00:00\",\"2019-06-05T14:00:00\",\"2019-06-05T14:00:00\",\"2019-06-05T14:00:00\",\"2019-06-05T14:00:00\",\"2019-06-05T14:00:00\",\"2019-06-05T14:00:00\",\"2019-06-05T14:00:00\",\"2019-06-05T14:00:00\",\"2019-06-05T14:00:00\",\"2019-06-05T15:00:00\",\"2019-06-05T16:00:00\",\"2019-06-05T17:00:00\",\"2019-06-05T20:00:00\",\"2019-06-05T20:00:00\",\"2019-06-05T20:00:00\",\"2019-06-05T20:00:00\",\"2019-06-05T20:00:00\",\"2019-06-05T20:00:00\",\"2019-06-05T20:00:00\",\"2019-06-05T20:00:00\",\"2019-06-05T20:00:00\",\"2019-06-05T20:00:00\",\"2019-06-05T20:00:00\",\"2019-06-05T20:00:00\",\"2019-06-05T20:00:00\",\"2019-06-05T22:00:00\",\"2019-06-05T22:00:00\",\"2019-06-05T22:00:00\",\"2019-06-05T22:00:00\",\"2019-06-05T22:00:00\",\"2019-06-05T22:00:00\",\"2019-06-05T22:00:00\",\"2019-06-05T22:00:00\",\"2019-06-05T22:00:00\",\"2019-06-05T22:00:00\",\"2019-06-05T22:00:00\",\"2019-06-05T22:00:00\",\"2019-06-05T22:00:00\",\"2019-06-06T07:00:00\",\"2019-06-06T08:00:00\",\"2019-06-06T08:00:00\",\"2019-06-06T08:00:00\",\"2019-06-06T08:00:00\",\"2019-06-06T08:00:00\",\"2019-06-06T08:00:00\",\"2019-06-06T08:00:00\",\"2019-06-06T08:00:00\",\"2019-06-06T08:00:00\",\"2019-06-06T08:00:00\",\"2019-06-06T08:00:00\",\"2019-06-06T08:00:00\",\"2019-06-06T08:00:00\",\"2019-06-06T08:00:00\",\"2019-06-06T08:00:00\",\"2019-06-06T08:00:00\",\"2019-06-06T08:00:00\",\"2019-06-06T08:00:00\",\"2019-06-06T08:00:00\",\"2019-06-06T08:00:00\",\"2019-06-06T08:00:00\",\"2019-06-06T08:00:00\",\"2019-06-06T08:00:00\",\"2019-06-06T08:00:00\",\"2019-06-06T08:00:00\",\"2019-06-06T08:00:00\",\"2019-06-06T08:00:00\",\"2019-06-06T08:00:00\",\"2019-06-06T08:00:00\",\"2019-06-06T08:00:00\",\"2019-06-06T09:00:00\",\"2019-06-06T09:00:00\",\"2019-06-06T09:00:00\",\"2019-06-06T09:00:00\",\"2019-06-06T09:00:00\",\"2019-06-06T09:00:00\",\"2019-06-06T09:00:00\",\"2019-06-06T09:00:00\",\"2019-06-06T09:00:00\",\"2019-06-06T09:00:00\",\"2019-06-06T09:00:00\",\"2019-06-06T09:00:00\",\"2019-06-06T13:00:00\",\"2019-06-06T13:00:00\",\"2019-06-06T13:00:00\",\"2019-06-06T13:00:00\",\"2019-06-06T13:00:00\",\"2019-06-06T13:00:00\",\"2019-06-06T13:00:00\",\"2019-06-06T13:00:00\",\"2019-06-06T13:00:00\",\"2019-06-06T13:00:00\",\"2019-06-06T13:00:00\",\"2019-06-06T13:00:00\",\"2019-06-06T16:00:00\",\"2019-06-06T16:00:00\",\"2019-06-06T16:00:00\",\"2019-06-06T16:00:00\",\"2019-06-06T16:00:00\",\"2019-06-06T16:00:00\",\"2019-06-06T16:00:00\",\"2019-06-06T16:00:00\",\"2019-06-06T16:00:00\",\"2019-06-06T18:00:00\",\"2019-06-06T20:00:00\",\"2019-06-06T23:00:00\",\"2019-06-07T07:00:00\",\"2019-06-07T07:00:00\",\"2019-06-07T07:00:00\",\"2019-06-07T07:00:00\",\"2019-06-07T07:00:00\",\"2019-06-07T07:00:00\",\"2019-06-07T07:00:00\",\"2019-06-07T07:00:00\",\"2019-06-07T07:00:00\",\"2019-06-07T07:00:00\",\"2019-06-07T07:00:00\",\"2019-06-07T07:00:00\",\"2019-06-07T07:00:00\",\"2019-06-07T08:00:00\",\"2019-06-07T08:00:00\",\"2019-06-07T08:00:00\",\"2019-06-07T08:00:00\",\"2019-06-07T08:00:00\",\"2019-06-07T08:00:00\",\"2019-06-07T08:00:00\",\"2019-06-07T08:00:00\",\"2019-06-07T10:00:00\",\"2019-06-07T10:00:00\",\"2019-06-07T10:00:00\",\"2019-06-07T10:00:00\",\"2019-06-07T10:00:00\",\"2019-06-07T10:00:00\",\"2019-06-07T10:00:00\",\"2019-06-07T10:00:00\",\"2019-06-07T10:00:00\",\"2019-06-07T10:00:00\",\"2019-06-07T10:00:00\",\"2019-06-07T10:00:00\",\"2019-06-07T10:00:00\",\"2019-06-07T12:00:00\",\"2019-06-07T12:00:00\",\"2019-06-07T12:00:00\",\"2019-06-07T12:00:00\",\"2019-06-07T12:00:00\",\"2019-06-07T12:00:00\",\"2019-06-07T12:00:00\",\"2019-06-07T12:00:00\",\"2019-06-07T12:00:00\",\"2019-06-07T12:00:00\",\"2019-06-07T12:00:00\",\"2019-06-07T12:00:00\",\"2019-06-07T12:00:00\",\"2019-06-07T16:00:00\",\"2019-06-07T16:00:00\",\"2019-06-07T16:00:00\",\"2019-06-07T16:00:00\",\"2019-06-07T16:00:00\",\"2019-06-07T16:00:00\",\"2019-06-07T16:00:00\",\"2019-06-07T16:00:00\",\"2019-06-07T16:00:00\",\"2019-06-07T16:00:00\",\"2019-06-07T16:00:00\",\"2019-06-07T16:00:00\",\"2019-06-07T16:00:00\",\"2019-06-07T16:00:00\",\"2019-06-07T16:00:00\",\"2019-06-07T16:00:00\",\"2019-06-07T16:00:00\",\"2019-06-07T16:00:00\",\"2019-06-07T16:00:00\",\"2019-06-07T16:00:00\",\"2019-06-07T16:00:00\",\"2019-06-07T16:00:00\",\"2019-06-07T16:00:00\",\"2019-06-07T16:00:00\",\"2019-06-07T16:00:00\",\"2019-06-07T16:00:00\",\"2019-06-07T16:00:00\",\"2019-06-07T16:00:00\",\"2019-06-07T16:00:00\",\"2019-06-07T17:00:00\",\"2019-06-07T21:00:00\",\"2019-06-07T22:00:00\",\"2019-06-07T22:00:00\",\"2019-06-07T22:00:00\",\"2019-06-07T22:00:00\",\"2019-06-07T22:00:00\",\"2019-06-07T22:00:00\",\"2019-06-07T22:00:00\",\"2019-06-07T22:00:00\",\"2019-06-07T22:00:00\",\"2019-06-07T22:00:00\",\"2019-06-07T22:00:00\",\"2019-06-07T22:00:00\",\"2019-06-07T22:00:00\",\"2019-06-07T22:00:00\",\"2019-06-07T22:00:00\",\"2019-06-07T22:00:00\",\"2019-06-07T22:00:00\",\"2019-06-07T22:00:00\",\"2019-06-07T22:00:00\",\"2019-06-07T22:00:00\",\"2019-06-07T22:00:00\",\"2019-06-07T22:00:00\",\"2019-06-07T22:00:00\",\"2019-06-07T22:00:00\",\"2019-06-07T22:00:00\",\"2019-06-07T22:00:00\",\"2019-06-07T22:00:00\",\"2019-06-07T22:00:00\",\"2019-06-07T22:00:00\",\"2019-06-07T22:00:00\",\"2019-06-07T22:00:00\",\"2019-06-07T22:00:00\",\"2019-06-07T22:00:00\",\"2019-06-07T22:00:00\",\"2019-06-07T22:00:00\",\"2019-06-07T22:00:00\",\"2019-06-07T22:00:00\",\"2019-06-07T22:00:00\",\"2019-06-07T22:00:00\",\"2019-06-07T22:00:00\",\"2019-06-07T22:00:00\",\"2019-06-07T22:00:00\",\"2019-06-08T08:00:00\",\"2019-06-08T08:00:00\",\"2019-06-08T08:00:00\",\"2019-06-08T08:00:00\",\"2019-06-08T08:00:00\",\"2019-06-08T08:00:00\",\"2019-06-08T08:00:00\",\"2019-06-08T08:00:00\",\"2019-06-08T08:00:00\",\"2019-06-08T08:00:00\",\"2019-06-08T08:00:00\",\"2019-06-08T08:00:00\",\"2019-06-08T08:00:00\",\"2019-06-08T08:00:00\",\"2019-06-08T08:00:00\",\"2019-06-08T08:00:00\",\"2019-06-08T08:00:00\",\"2019-06-08T08:00:00\",\"2019-06-08T08:00:00\",\"2019-06-08T08:00:00\",\"2019-06-08T08:00:00\",\"2019-06-08T08:00:00\",\"2019-06-08T08:00:00\",\"2019-06-08T08:00:00\",\"2019-06-08T08:00:00\",\"2019-06-08T08:00:00\",\"2019-06-08T08:00:00\",\"2019-06-08T08:00:00\",\"2019-06-08T08:00:00\",\"2019-06-08T08:00:00\",\"2019-06-08T13:00:00\",\"2019-06-08T13:00:00\",\"2019-06-08T13:00:00\",\"2019-06-08T13:00:00\",\"2019-06-08T13:00:00\",\"2019-06-08T13:00:00\",\"2019-06-08T13:00:00\",\"2019-06-08T13:00:00\",\"2019-06-08T13:00:00\",\"2019-06-08T13:00:00\",\"2019-06-08T13:00:00\",\"2019-06-08T13:00:00\",\"2019-06-08T18:00:00\",\"2019-06-08T18:00:00\",\"2019-06-08T19:00:00\",\"2019-06-08T22:00:00\",\"2019-06-08T22:00:00\",\"2019-06-09T00:00:00\",\"2019-06-09T07:00:00\",\"2019-06-09T09:00:00\",\"2019-06-09T09:00:00\",\"2019-06-09T09:00:00\",\"2019-06-09T09:00:00\",\"2019-06-09T09:00:00\",\"2019-06-09T09:00:00\",\"2019-06-09T09:00:00\",\"2019-06-09T09:00:00\",\"2019-06-09T09:00:00\",\"2019-06-09T09:00:00\",\"2019-06-09T09:00:00\",\"2019-06-09T09:00:00\",\"2019-06-09T10:00:00\",\"2019-06-09T10:00:00\",\"2019-06-09T10:00:00\",\"2019-06-09T10:00:00\",\"2019-06-09T10:00:00\",\"2019-06-09T10:00:00\",\"2019-06-09T10:00:00\",\"2019-06-09T10:00:00\",\"2019-06-09T10:00:00\",\"2019-06-09T10:00:00\",\"2019-06-09T10:00:00\",\"2019-06-09T10:00:00\",\"2019-06-09T14:00:00\",\"2019-06-09T14:00:00\",\"2019-06-09T14:00:00\",\"2019-06-09T14:00:00\",\"2019-06-09T14:00:00\",\"2019-06-09T14:00:00\",\"2019-06-09T14:00:00\",\"2019-06-09T14:00:00\",\"2019-06-09T14:00:00\",\"2019-06-09T14:00:00\",\"2019-06-09T14:00:00\",\"2019-06-09T14:00:00\",\"2019-06-09T17:00:00\",\"2019-06-09T17:00:00\",\"2019-06-09T17:00:00\",\"2019-06-09T17:00:00\",\"2019-06-09T17:00:00\",\"2019-06-09T17:00:00\",\"2019-06-09T17:00:00\",\"2019-06-09T17:00:00\",\"2019-06-09T17:00:00\",\"2019-06-09T17:00:00\",\"2019-06-09T17:00:00\",\"2019-06-09T17:00:00\",\"2019-06-09T18:00:00\",\"2019-06-09T18:00:00\",\"2019-06-09T18:00:00\",\"2019-06-09T18:00:00\",\"2019-06-09T18:00:00\",\"2019-06-09T18:00:00\",\"2019-06-09T18:00:00\",\"2019-06-09T18:00:00\",\"2019-06-09T18:00:00\",\"2019-06-09T18:00:00\",\"2019-06-10T07:00:00\",\"2019-06-10T07:00:00\",\"2019-06-10T07:00:00\",\"2019-06-10T07:00:00\",\"2019-06-10T07:00:00\",\"2019-06-10T07:00:00\",\"2019-06-10T07:00:00\",\"2019-06-10T07:00:00\",\"2019-06-10T07:00:00\",\"2019-06-10T07:00:00\",\"2019-06-10T07:00:00\",\"2019-06-10T07:00:00\",\"2019-06-10T08:00:00\",\"2019-06-10T08:00:00\",\"2019-06-10T08:00:00\",\"2019-06-10T08:00:00\",\"2019-06-10T08:00:00\",\"2019-06-10T08:00:00\",\"2019-06-10T08:00:00\",\"2019-06-10T08:00:00\",\"2019-06-10T08:00:00\",\"2019-06-10T08:00:00\",\"2019-06-10T08:00:00\",\"2019-06-10T08:00:00\",\"2019-06-10T08:00:00\",\"2019-06-10T09:00:00\",\"2019-06-10T09:00:00\",\"2019-06-10T09:00:00\",\"2019-06-10T09:00:00\",\"2019-06-10T09:00:00\",\"2019-06-10T09:00:00\",\"2019-06-10T09:00:00\",\"2019-06-10T09:00:00\",\"2019-06-10T09:00:00\",\"2019-06-10T09:00:00\",\"2019-06-10T09:00:00\",\"2019-06-10T09:00:00\",\"2019-06-10T09:00:00\",\"2019-06-10T10:00:00\",\"2019-06-10T10:00:00\",\"2019-06-10T10:00:00\",\"2019-06-10T10:00:00\",\"2019-06-10T10:00:00\",\"2019-06-10T10:00:00\",\"2019-06-10T10:00:00\",\"2019-06-10T10:00:00\",\"2019-06-10T10:00:00\",\"2019-06-10T10:00:00\",\"2019-06-10T10:00:00\",\"2019-06-10T10:00:00\",\"2019-06-10T11:00:00\",\"2019-06-10T12:00:00\",\"2019-06-10T13:00:00\",\"2019-06-10T14:00:00\",\"2019-06-10T15:00:00\",\"2019-06-10T15:00:00\",\"2019-06-10T15:00:00\",\"2019-06-10T15:00:00\",\"2019-06-10T15:00:00\",\"2019-06-10T15:00:00\",\"2019-06-10T15:00:00\",\"2019-06-10T15:00:00\",\"2019-06-10T15:00:00\",\"2019-06-10T15:00:00\",\"2019-06-10T15:00:00\",\"2019-06-10T15:00:00\",\"2019-06-10T15:00:00\",\"2019-06-10T20:00:00\",\"2019-06-10T20:00:00\",\"2019-06-10T20:00:00\",\"2019-06-10T20:00:00\",\"2019-06-10T20:00:00\",\"2019-06-10T20:00:00\",\"2019-06-10T20:00:00\",\"2019-06-10T20:00:00\",\"2019-06-10T20:00:00\",\"2019-06-10T20:00:00\",\"2019-06-10T20:00:00\",\"2019-06-10T20:00:00\",\"2019-06-10T22:00:00\",\"2019-06-10T22:00:00\",\"2019-06-10T22:00:00\",\"2019-06-10T22:00:00\",\"2019-06-10T22:00:00\",\"2019-06-10T22:00:00\",\"2019-06-10T22:00:00\",\"2019-06-10T22:00:00\",\"2019-06-10T22:00:00\",\"2019-06-10T22:00:00\",\"2019-06-10T22:00:00\",\"2019-06-10T22:00:00\",\"2019-06-11T07:00:00\",\"2019-06-11T07:00:00\",\"2019-06-11T07:00:00\",\"2019-06-11T07:00:00\",\"2019-06-11T07:00:00\",\"2019-06-11T07:00:00\",\"2019-06-11T07:00:00\",\"2019-06-11T07:00:00\",\"2019-06-11T07:00:00\",\"2019-06-11T07:00:00\",\"2019-06-11T07:00:00\",\"2019-06-11T07:00:00\",\"2019-06-11T07:00:00\",\"2019-06-11T07:00:00\",\"2019-06-11T08:00:00\",\"2019-06-11T09:00:00\",\"2019-06-11T09:00:00\",\"2019-06-11T09:00:00\",\"2019-06-11T09:00:00\",\"2019-06-11T09:00:00\",\"2019-06-11T09:00:00\",\"2019-06-11T09:00:00\",\"2019-06-11T09:00:00\",\"2019-06-11T09:00:00\",\"2019-06-11T09:00:00\",\"2019-06-11T09:00:00\",\"2019-06-11T09:00:00\",\"2019-06-11T09:00:00\",\"2019-06-11T10:00:00\",\"2019-06-11T10:00:00\",\"2019-06-11T11:00:00\",\"2019-06-11T11:00:00\",\"2019-06-11T11:00:00\",\"2019-06-11T11:00:00\",\"2019-06-11T11:00:00\",\"2019-06-11T11:00:00\",\"2019-06-11T11:00:00\",\"2019-06-11T11:00:00\",\"2019-06-11T11:00:00\",\"2019-06-11T11:00:00\",\"2019-06-11T11:00:00\",\"2019-06-11T11:00:00\",\"2019-06-11T11:00:00\",\"2019-06-11T12:00:00\",\"2019-06-11T12:00:00\",\"2019-06-11T12:00:00\",\"2019-06-11T12:00:00\",\"2019-06-11T12:00:00\",\"2019-06-11T12:00:00\",\"2019-06-11T12:00:00\",\"2019-06-11T13:00:00\",\"2019-06-11T13:00:00\",\"2019-06-11T13:00:00\",\"2019-06-11T13:00:00\",\"2019-06-11T13:00:00\",\"2019-06-11T13:00:00\",\"2019-06-11T13:00:00\",\"2019-06-11T13:00:00\",\"2019-06-11T13:00:00\",\"2019-06-11T13:00:00\",\"2019-06-11T13:00:00\",\"2019-06-11T13:00:00\",\"2019-06-11T13:00:00\",\"2019-06-11T13:00:00\",\"2019-06-11T15:00:00\",\"2019-06-11T16:00:00\",\"2019-06-11T17:00:00\",\"2019-06-11T17:00:00\",\"2019-06-11T17:00:00\",\"2019-06-11T17:00:00\",\"2019-06-11T17:00:00\",\"2019-06-11T17:00:00\",\"2019-06-11T17:00:00\",\"2019-06-11T17:00:00\",\"2019-06-11T17:00:00\",\"2019-06-11T17:00:00\",\"2019-06-11T17:00:00\",\"2019-06-11T17:00:00\",\"2019-06-11T20:00:00\",\"2019-06-11T20:00:00\",\"2019-06-11T20:00:00\",\"2019-06-11T20:00:00\",\"2019-06-11T20:00:00\",\"2019-06-11T20:00:00\",\"2019-06-11T20:00:00\",\"2019-06-11T20:00:00\",\"2019-06-11T20:00:00\",\"2019-06-11T20:00:00\",\"2019-06-11T20:00:00\",\"2019-06-11T20:00:00\",\"2019-06-11T21:00:00\",\"2019-06-12T09:00:00\",\"2019-06-12T09:00:00\",\"2019-06-12T09:00:00\",\"2019-06-12T09:00:00\",\"2019-06-12T09:00:00\",\"2019-06-12T09:00:00\",\"2019-06-12T09:00:00\",\"2019-06-12T09:00:00\",\"2019-06-12T09:00:00\",\"2019-06-12T09:00:00\",\"2019-06-12T09:00:00\",\"2019-06-12T09:00:00\",\"2019-06-12T09:00:00\",\"2019-06-12T11:00:00\",\"2019-06-12T17:00:00\",\"2019-06-12T17:00:00\",\"2019-06-12T17:00:00\",\"2019-06-12T17:00:00\",\"2019-06-12T17:00:00\",\"2019-06-12T17:00:00\",\"2019-06-12T17:00:00\",\"2019-06-12T17:00:00\",\"2019-06-12T17:00:00\",\"2019-06-12T17:00:00\",\"2019-06-12T17:00:00\",\"2019-06-12T17:00:00\",\"2019-06-12T18:00:00\",\"2019-06-12T19:00:00\",\"2019-06-12T19:00:00\",\"2019-06-12T19:00:00\",\"2019-06-12T19:00:00\",\"2019-06-12T19:00:00\",\"2019-06-12T19:00:00\",\"2019-06-12T19:00:00\",\"2019-06-12T19:00:00\",\"2019-06-12T19:00:00\",\"2019-06-12T19:00:00\",\"2019-06-12T19:00:00\",\"2019-06-12T19:00:00\",\"2019-06-12T22:00:00\",\"2019-06-12T22:00:00\",\"2019-06-12T23:00:00\",\"2019-06-13T08:00:00\",\"2019-06-13T08:00:00\",\"2019-06-13T08:00:00\",\"2019-06-13T08:00:00\",\"2019-06-13T08:00:00\",\"2019-06-13T08:00:00\",\"2019-06-13T08:00:00\",\"2019-06-13T08:00:00\",\"2019-06-13T08:00:00\",\"2019-06-13T08:00:00\",\"2019-06-13T08:00:00\",\"2019-06-13T08:00:00\",\"2019-06-13T08:00:00\",\"2019-06-13T09:00:00\",\"2019-06-13T09:00:00\",\"2019-06-13T09:00:00\",\"2019-06-13T09:00:00\",\"2019-06-13T09:00:00\",\"2019-06-13T10:00:00\",\"2019-06-13T10:00:00\",\"2019-06-13T10:00:00\",\"2019-06-13T10:00:00\",\"2019-06-13T10:00:00\",\"2019-06-13T10:00:00\",\"2019-06-13T10:00:00\",\"2019-06-13T10:00:00\",\"2019-06-13T10:00:00\",\"2019-06-13T10:00:00\",\"2019-06-13T10:00:00\",\"2019-06-13T10:00:00\",\"2019-06-13T11:00:00\",\"2019-06-13T11:00:00\",\"2019-06-13T12:00:00\",\"2019-06-13T12:00:00\",\"2019-06-13T12:00:00\",\"2019-06-13T14:00:00\",\"2019-06-13T14:00:00\",\"2019-06-13T17:00:00\",\"2019-06-13T17:00:00\",\"2019-06-13T17:00:00\",\"2019-06-13T17:00:00\",\"2019-06-13T17:00:00\",\"2019-06-13T17:00:00\",\"2019-06-13T17:00:00\",\"2019-06-13T17:00:00\",\"2019-06-13T17:00:00\",\"2019-06-13T17:00:00\",\"2019-06-13T17:00:00\",\"2019-06-13T17:00:00\",\"2019-06-13T18:00:00\",\"2019-06-13T18:00:00\",\"2019-06-13T20:00:00\",\"2019-06-13T20:00:00\",\"2019-06-13T20:00:00\",\"2019-06-13T20:00:00\",\"2019-06-13T20:00:00\",\"2019-06-13T20:00:00\",\"2019-06-13T20:00:00\",\"2019-06-13T20:00:00\",\"2019-06-13T20:00:00\",\"2019-06-13T20:00:00\",\"2019-06-13T20:00:00\",\"2019-06-13T20:00:00\",\"2019-06-13T22:00:00\",\"2019-06-13T22:00:00\",\"2019-06-13T22:00:00\",\"2019-06-13T22:00:00\",\"2019-06-13T22:00:00\",\"2019-06-13T22:00:00\",\"2019-06-13T22:00:00\",\"2019-06-13T22:00:00\",\"2019-06-13T22:00:00\",\"2019-06-13T22:00:00\",\"2019-06-13T22:00:00\",\"2019-06-13T22:00:00\",\"2019-06-14T08:00:00\",\"2019-06-14T08:00:00\",\"2019-06-14T08:00:00\",\"2019-06-14T08:00:00\",\"2019-06-14T08:00:00\",\"2019-06-14T08:00:00\",\"2019-06-14T08:00:00\",\"2019-06-14T08:00:00\",\"2019-06-14T08:00:00\",\"2019-06-14T08:00:00\",\"2019-06-14T08:00:00\",\"2019-06-14T08:00:00\",\"2019-06-14T08:00:00\",\"2019-06-14T09:00:00\",\"2019-06-14T09:00:00\",\"2019-06-14T09:00:00\",\"2019-06-14T09:00:00\",\"2019-06-14T09:00:00\",\"2019-06-14T09:00:00\",\"2019-06-14T09:00:00\",\"2019-06-14T09:00:00\",\"2019-06-14T09:00:00\",\"2019-06-14T09:00:00\",\"2019-06-14T09:00:00\",\"2019-06-14T09:00:00\",\"2019-06-14T11:00:00\",\"2019-06-14T13:00:00\",\"2019-06-14T13:00:00\",\"2019-06-14T13:00:00\",\"2019-06-14T13:00:00\",\"2019-06-14T13:00:00\",\"2019-06-14T13:00:00\",\"2019-06-14T13:00:00\",\"2019-06-14T13:00:00\",\"2019-06-14T13:00:00\",\"2019-06-14T13:00:00\",\"2019-06-14T13:00:00\",\"2019-06-14T13:00:00\",\"2019-06-14T14:00:00\",\"2019-06-14T18:00:00\",\"2019-06-14T18:00:00\",\"2019-06-14T18:00:00\",\"2019-06-14T18:00:00\",\"2019-06-14T18:00:00\",\"2019-06-14T18:00:00\",\"2019-06-14T18:00:00\",\"2019-06-14T18:00:00\",\"2019-06-14T18:00:00\",\"2019-06-14T18:00:00\",\"2019-06-14T18:00:00\",\"2019-06-14T18:00:00\",\"2019-06-15T07:00:00\",\"2019-06-15T07:00:00\",\"2019-06-15T07:00:00\",\"2019-06-15T07:00:00\",\"2019-06-15T07:00:00\",\"2019-06-15T07:00:00\",\"2019-06-15T07:00:00\",\"2019-06-15T07:00:00\",\"2019-06-15T07:00:00\",\"2019-06-15T07:00:00\",\"2019-06-15T07:00:00\",\"2019-06-15T07:00:00\",\"2019-06-15T13:00:00\",\"2019-06-15T14:00:00\",\"2019-06-15T14:00:00\",\"2019-06-15T14:00:00\",\"2019-06-15T14:00:00\",\"2019-06-15T14:00:00\",\"2019-06-15T14:00:00\",\"2019-06-15T14:00:00\",\"2019-06-15T14:00:00\",\"2019-06-15T14:00:00\",\"2019-06-15T14:00:00\",\"2019-06-15T14:00:00\",\"2019-06-15T14:00:00\",\"2019-06-15T14:00:00\",\"2019-06-15T18:00:00\",\"2019-06-15T18:00:00\",\"2019-06-15T18:00:00\",\"2019-06-15T18:00:00\",\"2019-06-15T18:00:00\",\"2019-06-15T18:00:00\",\"2019-06-15T18:00:00\",\"2019-06-15T18:00:00\",\"2019-06-15T18:00:00\",\"2019-06-15T18:00:00\",\"2019-06-15T18:00:00\",\"2019-06-15T18:00:00\",\"2019-06-15T19:00:00\",\"2019-06-15T19:00:00\",\"2019-06-15T19:00:00\",\"2019-06-15T19:00:00\",\"2019-06-15T19:00:00\",\"2019-06-15T19:00:00\",\"2019-06-15T19:00:00\",\"2019-06-15T19:00:00\",\"2019-06-15T19:00:00\",\"2019-06-15T19:00:00\",\"2019-06-15T19:00:00\",\"2019-06-15T19:00:00\",\"2019-06-16T09:00:00\",\"2019-06-16T10:00:00\",\"2019-06-16T10:00:00\",\"2019-06-16T10:00:00\",\"2019-06-16T10:00:00\",\"2019-06-16T10:00:00\",\"2019-06-16T10:00:00\",\"2019-06-16T10:00:00\",\"2019-06-16T10:00:00\",\"2019-06-16T10:00:00\",\"2019-06-16T10:00:00\",\"2019-06-16T10:00:00\",\"2019-06-16T10:00:00\",\"2019-06-16T12:00:00\",\"2019-06-16T12:00:00\",\"2019-06-16T12:00:00\",\"2019-06-16T12:00:00\",\"2019-06-16T12:00:00\",\"2019-06-16T12:00:00\",\"2019-06-16T12:00:00\",\"2019-06-16T16:00:00\",\"2019-06-16T16:00:00\",\"2019-06-16T20:00:00\",\"2019-06-16T21:00:00\",\"2019-06-16T21:00:00\",\"2019-06-16T21:00:00\",\"2019-06-16T21:00:00\",\"2019-06-16T21:00:00\",\"2019-06-16T21:00:00\",\"2019-06-16T21:00:00\",\"2019-06-16T21:00:00\",\"2019-06-16T21:00:00\",\"2019-06-16T21:00:00\",\"2019-06-16T21:00:00\",\"2019-06-16T21:00:00\",\"2019-06-16T21:00:00\",\"2019-06-16T21:00:00\",\"2019-06-16T21:00:00\",\"2019-06-16T21:00:00\",\"2019-06-16T21:00:00\",\"2019-06-16T21:00:00\",\"2019-06-17T08:00:00\",\"2019-06-17T09:00:00\",\"2019-06-17T10:00:00\",\"2019-06-17T10:00:00\",\"2019-06-17T10:00:00\",\"2019-06-17T10:00:00\",\"2019-06-17T10:00:00\",\"2019-06-17T10:00:00\",\"2019-06-17T11:00:00\",\"2019-06-17T14:00:00\",\"2019-06-17T17:00:00\",\"2019-06-17T17:00:00\",\"2019-06-17T17:00:00\",\"2019-06-17T17:00:00\",\"2019-06-17T17:00:00\",\"2019-06-17T17:00:00\",\"2019-06-17T17:00:00\",\"2019-06-17T17:00:00\",\"2019-06-17T19:00:00\",\"2019-06-17T19:00:00\",\"2019-06-17T19:00:00\",\"2019-06-17T19:00:00\",\"2019-06-17T19:00:00\",\"2019-06-17T19:00:00\",\"2019-06-17T19:00:00\",\"2019-06-17T19:00:00\",\"2019-06-17T19:00:00\",\"2019-06-17T19:00:00\",\"2019-06-17T19:00:00\",\"2019-06-17T19:00:00\",\"2019-06-18T04:00:00\",\"2019-06-18T05:00:00\",\"2019-06-18T06:00:00\",\"2019-06-18T09:00:00\",\"2019-06-18T11:00:00\",\"2019-06-18T13:00:00\",\"2019-06-18T13:00:00\",\"2019-06-18T13:00:00\",\"2019-06-18T13:00:00\",\"2019-06-18T13:00:00\",\"2019-06-18T13:00:00\",\"2019-06-18T13:00:00\",\"2019-06-18T13:00:00\",\"2019-06-18T13:00:00\",\"2019-06-18T13:00:00\",\"2019-06-18T13:00:00\",\"2019-06-18T13:00:00\",\"2019-06-18T15:00:00\",\"2019-06-18T16:00:00\",\"2019-06-18T18:00:00\",\"2019-06-18T18:00:00\",\"2019-06-18T18:00:00\",\"2019-06-18T18:00:00\",\"2019-06-18T18:00:00\",\"2019-06-18T18:00:00\",\"2019-06-18T18:00:00\",\"2019-06-18T18:00:00\",\"2019-06-18T18:00:00\",\"2019-06-18T18:00:00\",\"2019-06-18T18:00:00\",\"2019-06-18T18:00:00\",\"2019-06-19T00:00:00\",\"2019-06-19T00:00:00\",\"2019-06-19T00:00:00\",\"2019-06-19T00:00:00\",\"2019-06-19T00:00:00\",\"2019-06-19T00:00:00\",\"2019-06-19T00:00:00\",\"2019-06-19T00:00:00\",\"2019-06-19T00:00:00\",\"2019-06-19T00:00:00\",\"2019-06-19T00:00:00\",\"2019-06-19T00:00:00\",\"2019-06-19T09:00:00\",\"2019-06-19T09:00:00\",\"2019-06-19T09:00:00\",\"2019-06-19T17:00:00\",\"2019-06-19T17:00:00\",\"2019-06-19T18:00:00\",\"2019-06-19T19:00:00\",\"2019-06-19T21:00:00\",\"2019-06-19T21:00:00\",\"2019-06-19T22:00:00\",\"2019-06-20T09:00:00\",\"2019-06-20T09:00:00\",\"2019-06-20T15:00:00\",\"2019-06-20T15:00:00\",\"2019-06-20T15:00:00\",\"2019-06-20T15:00:00\",\"2019-06-20T19:00:00\",\"2019-06-20T21:00:00\",\"2019-06-21T01:00:00\",\"2019-06-21T09:00:00\",\"2019-06-21T10:00:00\",\"2019-06-21T11:00:00\",\"2019-06-21T11:00:00\",\"2019-06-21T11:00:00\",\"2019-06-21T11:00:00\",\"2019-06-21T11:00:00\",\"2019-06-21T11:00:00\",\"2019-06-21T11:00:00\",\"2019-06-21T11:00:00\",\"2019-06-21T11:00:00\",\"2019-06-21T11:00:00\",\"2019-06-21T11:00:00\",\"2019-06-21T11:00:00\",\"2019-06-21T12:00:00\",\"2019-06-21T15:00:00\",\"2019-06-21T21:00:00\",\"2019-06-21T22:00:00\",\"2019-06-21T22:00:00\",\"2019-06-21T22:00:00\",\"2019-06-22T00:00:00\",\"2019-06-22T00:00:00\",\"2019-06-22T00:00:00\",\"2019-06-22T00:00:00\",\"2019-06-22T00:00:00\",\"2019-06-22T00:00:00\",\"2019-06-22T00:00:00\",\"2019-06-22T00:00:00\",\"2019-06-22T00:00:00\",\"2019-06-22T00:00:00\",\"2019-06-22T00:00:00\",\"2019-06-22T00:00:00\",\"2019-06-22T06:00:00\",\"2019-06-22T06:00:00\",\"2019-06-22T06:00:00\",\"2019-06-22T06:00:00\",\"2019-06-22T06:00:00\",\"2019-06-22T06:00:00\",\"2019-06-22T06:00:00\",\"2019-06-22T06:00:00\",\"2019-06-22T06:00:00\",\"2019-06-22T06:00:00\",\"2019-06-22T06:00:00\",\"2019-06-22T06:00:00\",\"2019-06-22T22:00:00\",\"2019-06-22T22:00:00\",\"2019-06-22T22:00:00\",\"2019-06-23T10:00:00\",\"2019-06-24T09:00:00\",\"2019-06-24T09:00:00\",\"2019-06-24T09:00:00\",\"2019-06-24T09:00:00\",\"2019-06-24T09:00:00\",\"2019-06-24T09:00:00\",\"2019-06-24T09:00:00\",\"2019-06-24T09:00:00\",\"2019-06-24T09:00:00\",\"2019-06-24T09:00:00\",\"2019-06-24T09:00:00\",\"2019-06-24T09:00:00\",\"2019-06-24T09:00:00\",\"2019-06-24T09:00:00\",\"2019-06-24T15:00:00\",\"2019-06-24T15:00:00\",\"2019-06-24T16:00:00\",\"2019-06-24T16:00:00\",\"2019-06-24T17:00:00\",\"2019-06-24T18:00:00\",\"2019-06-24T22:00:00\",\"2019-06-25T09:00:00\",\"2019-06-25T13:00:00\",\"2019-06-25T13:00:00\",\"2019-06-25T13:00:00\",\"2019-06-25T14:00:00\",\"2019-06-25T18:00:00\",\"2019-06-25T18:00:00\",\"2019-06-25T18:00:00\",\"2019-06-25T18:00:00\",\"2019-06-25T18:00:00\",\"2019-06-25T19:00:00\",\"2019-06-25T20:00:00\",\"2019-06-25T20:00:00\",\"2019-06-25T20:00:00\",\"2019-06-25T20:00:00\",\"2019-06-25T20:00:00\",\"2019-06-25T20:00:00\",\"2019-06-25T20:00:00\",\"2019-06-25T20:00:00\",\"2019-06-25T20:00:00\",\"2019-06-25T20:00:00\",\"2019-06-25T21:00:00\",\"2019-06-26T07:00:00\",\"2019-06-26T08:00:00\",\"2019-06-26T21:00:00\",\"2019-06-27T07:00:00\",\"2019-06-27T08:00:00\",\"2019-06-27T10:00:00\",\"2019-06-27T12:00:00\",\"2019-06-28T10:00:00\",\"2019-06-28T12:00:00\",\"2019-06-28T12:00:00\",\"2019-06-28T23:00:00\",\"2019-06-30T08:00:00\",\"2019-06-30T10:00:00\",\"2019-06-30T14:00:00\",\"2019-06-30T20:00:00\",\"2019-06-30T21:00:00\",\"2019-07-01T00:00:00\",\"2019-07-01T07:00:00\",\"2019-07-01T11:00:00\",\"2019-07-01T14:00:00\",\"2019-07-01T15:00:00\",\"2019-07-01T18:00:00\",\"2019-07-01T20:00:00\",\"2019-07-01T20:00:00\",\"2019-07-01T20:00:00\",\"2019-07-01T20:00:00\",\"2019-07-01T20:00:00\",\"2019-07-01T20:00:00\",\"2019-07-01T20:00:00\",\"2019-07-01T20:00:00\",\"2019-07-01T22:00:00\",\"2019-07-01T23:00:00\",\"2019-07-02T08:00:00\",\"2019-07-02T11:00:00\",\"2019-07-02T11:00:00\",\"2019-07-02T11:00:00\",\"2019-07-02T11:00:00\",\"2019-07-02T11:00:00\",\"2019-07-02T11:00:00\",\"2019-07-02T12:00:00\",\"2019-07-02T12:00:00\",\"2019-07-02T12:00:00\",\"2019-07-02T12:00:00\",\"2019-07-02T17:00:00\",\"2019-07-03T07:00:00\",\"2019-07-03T10:00:00\",\"2019-07-03T10:00:00\",\"2019-07-03T10:00:00\",\"2019-07-03T14:00:00\",\"2019-07-03T16:00:00\",\"2019-07-03T22:00:00\",\"2019-07-03T22:00:00\",\"2019-07-03T22:00:00\",\"2019-07-03T22:00:00\",\"2019-07-03T22:00:00\",\"2019-07-04T08:00:00\",\"2019-07-04T09:00:00\",\"2019-07-04T13:00:00\",\"2019-07-04T13:00:00\",\"2019-07-04T14:00:00\",\"2019-07-04T14:00:00\",\"2019-07-04T16:00:00\",\"2019-07-04T16:00:00\",\"2019-07-04T16:00:00\",\"2019-07-04T16:00:00\",\"2019-07-04T19:00:00\",\"2019-07-04T20:00:00\",\"2019-07-04T21:00:00\",\"2019-07-04T21:00:00\",\"2019-07-04T22:00:00\",\"2019-07-05T05:00:00\",\"2019-07-05T06:00:00\",\"2019-07-05T08:00:00\",\"2019-07-05T09:00:00\",\"2019-07-05T09:00:00\",\"2019-07-05T09:00:00\",\"2019-07-05T09:00:00\",\"2019-07-05T09:00:00\",\"2019-07-05T09:00:00\",\"2019-07-05T09:00:00\",\"2019-07-05T09:00:00\",\"2019-07-05T09:00:00\",\"2019-07-05T09:00:00\",\"2019-07-05T10:00:00\",\"2019-07-05T12:00:00\",\"2019-07-05T12:00:00\",\"2019-07-05T12:00:00\",\"2019-07-05T12:00:00\",\"2019-07-05T12:00:00\",\"2019-07-05T12:00:00\",\"2019-07-05T12:00:00\",\"2019-07-05T12:00:00\",\"2019-07-05T12:00:00\",\"2019-07-05T12:00:00\",\"2019-07-05T13:00:00\",\"2019-07-05T14:00:00\",\"2019-07-05T14:00:00\",\"2019-07-05T14:00:00\",\"2019-07-05T14:00:00\",\"2019-07-05T14:00:00\",\"2019-07-05T14:00:00\",\"2019-07-05T14:00:00\",\"2019-07-05T14:00:00\",\"2019-07-05T14:00:00\",\"2019-07-05T14:00:00\",\"2019-07-05T14:00:00\",\"2019-07-05T14:00:00\",\"2019-07-05T14:00:00\",\"2019-07-05T14:00:00\",\"2019-07-05T14:00:00\",\"2019-07-05T14:00:00\",\"2019-07-05T14:00:00\",\"2019-07-05T14:00:00\",\"2019-07-05T14:00:00\",\"2019-07-05T14:00:00\",\"2019-07-05T14:00:00\",\"2019-07-05T14:00:00\",\"2019-07-05T14:00:00\",\"2019-07-05T14:00:00\",\"2019-07-05T15:00:00\",\"2019-07-05T16:00:00\",\"2019-07-05T22:00:00\",\"2019-07-06T17:00:00\",\"2019-07-07T01:00:00\",\"2019-07-07T10:00:00\",\"2019-07-07T11:00:00\",\"2019-07-07T16:00:00\",\"2019-07-07T21:00:00\",\"2019-07-07T21:00:00\",\"2019-07-08T06:00:00\",\"2019-07-08T07:00:00\",\"2019-07-08T08:00:00\",\"2019-07-08T08:00:00\",\"2019-07-08T11:00:00\",\"2019-07-08T11:00:00\",\"2019-07-08T13:00:00\",\"2019-07-08T14:00:00\",\"2019-07-08T15:00:00\",\"2019-07-09T10:00:00\",\"2019-07-09T12:00:00\",\"2019-07-09T15:00:00\",\"2019-07-09T15:00:00\",\"2019-07-09T15:00:00\",\"2019-07-09T17:00:00\",\"2019-07-09T17:00:00\",\"2019-07-09T17:00:00\",\"2019-07-09T17:00:00\",\"2019-07-09T17:00:00\",\"2019-07-09T17:00:00\",\"2019-07-09T17:00:00\",\"2019-07-09T17:00:00\",\"2019-07-09T17:00:00\",\"2019-07-09T17:00:00\",\"2019-07-09T17:00:00\",\"2019-07-09T17:00:00\",\"2019-07-09T17:00:00\",\"2019-07-09T17:00:00\",\"2019-07-09T17:00:00\",\"2019-07-09T17:00:00\",\"2019-07-09T17:00:00\",\"2019-07-09T17:00:00\",\"2019-07-09T17:00:00\",\"2019-07-09T17:00:00\",\"2019-07-09T17:00:00\",\"2019-07-09T17:00:00\",\"2019-07-09T17:00:00\",\"2019-07-09T17:00:00\",\"2019-07-09T17:00:00\",\"2019-07-09T17:00:00\",\"2019-07-09T21:00:00\",\"2019-07-09T22:00:00\",\"2019-07-09T22:00:00\",\"2019-07-09T22:00:00\",\"2019-07-09T22:00:00\",\"2019-07-09T22:00:00\",\"2019-07-09T22:00:00\",\"2019-07-09T23:00:00\",\"2019-07-10T08:00:00\",\"2019-07-10T08:00:00\",\"2019-07-10T09:00:00\",\"2019-07-10T09:00:00\",\"2019-07-10T09:00:00\",\"2019-07-10T09:00:00\",\"2019-07-10T09:00:00\",\"2019-07-10T09:00:00\",\"2019-07-10T09:00:00\",\"2019-07-10T09:00:00\",\"2019-07-10T09:00:00\",\"2019-07-10T09:00:00\",\"2019-07-10T09:00:00\",\"2019-07-10T09:00:00\",\"2019-07-10T09:00:00\",\"2019-07-10T09:00:00\",\"2019-07-10T09:00:00\",\"2019-07-10T09:00:00\",\"2019-07-10T09:00:00\",\"2019-07-10T09:00:00\",\"2019-07-10T09:00:00\",\"2019-07-10T09:00:00\",\"2019-07-10T09:00:00\",\"2019-07-10T09:00:00\",\"2019-07-10T09:00:00\",\"2019-07-10T09:00:00\",\"2019-07-10T09:00:00\",\"2019-07-10T10:00:00\",\"2019-07-10T10:00:00\",\"2019-07-10T10:00:00\",\"2019-07-10T10:00:00\",\"2019-07-10T11:00:00\",\"2019-07-10T11:00:00\",\"2019-07-10T11:00:00\",\"2019-07-10T11:00:00\",\"2019-07-10T11:00:00\",\"2019-07-10T11:00:00\",\"2019-07-10T11:00:00\",\"2019-07-10T13:00:00\",\"2019-07-10T15:00:00\",\"2019-07-10T16:00:00\",\"2019-07-10T17:00:00\",\"2019-07-10T17:00:00\",\"2019-07-10T18:00:00\",\"2019-07-10T19:00:00\",\"2019-07-10T19:00:00\",\"2019-07-10T19:00:00\",\"2019-07-10T20:00:00\",\"2019-07-10T21:00:00\",\"2019-07-10T22:00:00\",\"2019-07-10T23:00:00\",\"2019-07-10T23:00:00\",\"2019-07-10T23:00:00\",\"2019-07-10T23:00:00\",\"2019-07-10T23:00:00\",\"2019-07-10T23:00:00\",\"2019-07-10T23:00:00\",\"2019-07-10T23:00:00\",\"2019-07-10T23:00:00\",\"2019-07-10T23:00:00\",\"2019-07-10T23:00:00\",\"2019-07-10T23:00:00\",\"2019-07-11T06:00:00\",\"2019-07-11T06:00:00\",\"2019-07-11T09:00:00\",\"2019-07-11T09:00:00\",\"2019-07-11T12:00:00\",\"2019-07-11T12:00:00\",\"2019-07-11T13:00:00\",\"2019-07-11T14:00:00\",\"2019-07-11T19:00:00\",\"2019-07-11T21:00:00\",\"2019-07-11T22:00:00\",\"2019-07-11T22:00:00\",\"2019-07-12T10:00:00\",\"2019-07-12T11:00:00\",\"2019-07-12T13:00:00\",\"2019-07-12T19:00:00\",\"2019-07-12T19:00:00\",\"2019-07-12T20:00:00\",\"2019-07-12T21:00:00\",\"2019-07-13T09:00:00\",\"2019-07-13T10:00:00\",\"2019-07-13T12:00:00\",\"2019-07-13T14:00:00\",\"2019-07-13T16:00:00\",\"2019-07-13T18:00:00\",\"2019-07-14T14:00:00\",\"2019-07-14T16:00:00\",\"2019-07-15T07:00:00\",\"2019-07-15T07:00:00\",\"2019-07-15T08:00:00\",\"2019-07-15T08:00:00\",\"2019-07-15T10:00:00\",\"2019-07-15T11:00:00\",\"2019-07-15T11:00:00\",\"2019-07-15T12:00:00\",\"2019-07-15T12:00:00\",\"2019-07-15T12:00:00\",\"2019-07-15T13:00:00\",\"2019-07-15T13:00:00\",\"2019-07-15T22:00:00\",\"2019-07-16T11:00:00\",\"2019-07-16T11:00:00\",\"2019-07-16T12:00:00\",\"2019-07-16T12:00:00\",\"2019-07-16T13:00:00\",\"2019-07-16T14:00:00\",\"2019-07-16T16:00:00\",\"2019-07-16T21:00:00\",\"2019-07-17T00:00:00\",\"2019-07-17T05:00:00\",\"2019-07-17T09:00:00\",\"2019-07-17T11:00:00\",\"2019-07-17T12:00:00\",\"2019-07-17T14:00:00\",\"2019-07-17T17:00:00\",\"2019-07-17T17:00:00\",\"2019-07-17T21:00:00\",\"2019-07-18T08:00:00\",\"2019-07-18T08:00:00\",\"2019-07-18T09:00:00\",\"2019-07-18T18:00:00\",\"2019-07-19T08:00:00\",\"2019-07-19T08:00:00\",\"2019-07-19T09:00:00\",\"2019-07-19T09:00:00\",\"2019-07-19T14:00:00\",\"2019-07-19T20:00:00\",\"2019-07-20T09:00:00\",\"2019-07-20T11:00:00\",\"2019-07-20T12:00:00\",\"2019-07-20T12:00:00\",\"2019-07-20T12:00:00\",\"2019-07-20T12:00:00\",\"2019-07-20T12:00:00\",\"2019-07-20T21:00:00\",\"2019-07-20T23:00:00\",\"2019-07-21T08:00:00\",\"2019-07-21T08:00:00\",\"2019-07-21T09:00:00\",\"2019-07-21T09:00:00\",\"2019-07-21T10:00:00\",\"2019-07-21T10:00:00\",\"2019-07-21T10:00:00\",\"2019-07-21T10:00:00\",\"2019-07-21T11:00:00\",\"2019-07-21T11:00:00\",\"2019-07-21T15:00:00\",\"2019-07-21T17:00:00\",\"2019-07-22T09:00:00\",\"2019-07-22T10:00:00\",\"2019-07-22T10:00:00\",\"2019-07-22T11:00:00\",\"2019-07-22T11:00:00\",\"2019-07-22T11:00:00\",\"2019-07-22T11:00:00\",\"2019-07-22T11:00:00\",\"2019-07-22T11:00:00\",\"2019-07-22T12:00:00\",\"2019-07-22T13:00:00\",\"2019-07-22T17:00:00\",\"2019-07-22T22:00:00\",\"2019-07-23T07:00:00\",\"2019-07-23T08:00:00\",\"2019-07-23T11:00:00\",\"2019-07-23T12:00:00\",\"2019-07-23T13:00:00\",\"2019-07-23T13:00:00\",\"2019-07-23T14:00:00\",\"2019-07-23T14:00:00\",\"2019-07-23T17:00:00\",\"2019-07-23T19:00:00\",\"2019-07-23T21:00:00\",\"2019-07-24T08:00:00\",\"2019-07-24T09:00:00\",\"2019-07-24T09:00:00\",\"2019-07-24T10:00:00\",\"2019-07-24T12:00:00\",\"2019-07-24T14:00:00\",\"2019-07-24T16:00:00\",\"2019-07-25T09:00:00\",\"2019-07-25T09:00:00\",\"2019-07-25T11:00:00\",\"2019-07-25T14:00:00\",\"2019-07-25T14:00:00\",\"2019-07-25T14:00:00\",\"2019-07-25T14:00:00\",\"2019-07-25T17:00:00\",\"2019-07-25T17:00:00\",\"2019-07-25T19:00:00\",\"2019-07-25T21:00:00\",\"2019-07-26T07:00:00\",\"2019-07-26T09:00:00\",\"2019-07-26T10:00:00\",\"2019-07-26T12:00:00\",\"2019-07-26T13:00:00\",\"2019-07-26T20:00:00\",\"2019-07-27T00:00:00\",\"2019-07-27T09:00:00\",\"2019-07-27T10:00:00\",\"2019-07-27T20:00:00\",\"2019-07-27T21:00:00\",\"2019-07-27T21:00:00\",\"2019-07-27T21:00:00\",\"2019-07-27T21:00:00\",\"2019-07-27T21:00:00\",\"2019-07-27T21:00:00\",\"2019-07-28T13:00:00\",\"2019-07-28T14:00:00\",\"2019-07-28T14:00:00\",\"2019-07-28T15:00:00\",\"2019-07-28T15:00:00\",\"2019-07-28T15:00:00\",\"2019-07-28T19:00:00\",\"2019-07-29T00:00:00\",\"2019-07-29T07:00:00\",\"2019-07-29T07:00:00\",\"2019-07-29T09:00:00\",\"2019-07-29T09:00:00\",\"2019-07-29T09:00:00\",\"2019-07-29T12:00:00\",\"2019-07-29T14:00:00\",\"2019-07-29T17:00:00\",\"2019-07-29T21:00:00\",\"2019-07-30T01:00:00\",\"2019-07-30T03:00:00\",\"2019-07-30T04:00:00\",\"2019-07-30T10:00:00\",\"2019-07-30T12:00:00\",\"2019-07-30T17:00:00\",\"2019-07-30T19:00:00\",\"2019-07-30T20:00:00\",\"2019-07-30T21:00:00\",\"2019-07-31T07:00:00\",\"2019-07-31T09:00:00\",\"2019-07-31T13:00:00\",\"2019-07-31T14:00:00\",\"2019-07-31T16:00:00\",\"2019-08-01T07:00:00\",\"2019-08-01T09:00:00\",\"2019-08-01T10:00:00\",\"2019-08-01T10:00:00\",\"2019-08-01T11:00:00\",\"2019-08-01T11:00:00\",\"2019-08-01T17:00:00\",\"2019-08-01T21:00:00\",\"2019-08-01T22:00:00\",\"2019-08-01T22:00:00\",\"2019-08-01T22:00:00\",\"2019-08-01T22:00:00\",\"2019-08-01T22:00:00\",\"2019-08-01T22:00:00\",\"2019-08-01T23:00:00\",\"2019-08-02T06:00:00\",\"2019-08-02T09:00:00\",\"2019-08-02T10:00:00\",\"2019-08-02T15:00:00\",\"2019-08-02T15:00:00\",\"2019-08-02T19:00:00\",\"2019-08-02T20:00:00\",\"2019-08-03T13:00:00\",\"2019-08-03T15:00:00\",\"2019-08-03T15:00:00\",\"2019-08-03T17:00:00\",\"2019-08-03T19:00:00\",\"2019-08-03T20:00:00\",\"2019-08-03T22:00:00\",\"2019-08-04T10:00:00\",\"2019-08-04T11:00:00\",\"2019-08-04T14:00:00\",\"2019-08-04T16:00:00\",\"2019-08-04T16:00:00\",\"2019-08-04T18:00:00\",\"2019-08-04T20:00:00\",\"2019-08-04T22:00:00\",\"2019-08-04T23:00:00\",\"2019-08-04T23:00:00\",\"2019-08-05T08:00:00\",\"2019-08-05T10:00:00\",\"2019-08-05T10:00:00\",\"2019-08-05T11:00:00\",\"2019-08-05T11:00:00\",\"2019-08-05T13:00:00\",\"2019-08-05T14:00:00\",\"2019-08-05T16:00:00\",\"2019-08-05T17:00:00\",\"2019-08-06T07:00:00\",\"2019-08-06T08:00:00\",\"2019-08-06T10:00:00\",\"2019-08-06T11:00:00\",\"2019-08-06T16:00:00\",\"2019-08-06T20:00:00\",\"2019-08-06T21:00:00\",\"2019-08-07T10:00:00\",\"2019-08-07T10:00:00\",\"2019-08-07T11:00:00\",\"2019-08-07T13:00:00\",\"2019-08-07T13:00:00\",\"2019-08-07T18:00:00\",\"2019-08-08T08:00:00\",\"2019-08-08T09:00:00\",\"2019-08-08T15:00:00\",\"2019-08-08T20:00:00\",\"2019-08-09T21:00:00\",\"2019-08-09T23:00:00\",\"2019-08-10T06:00:00\",\"2019-08-11T20:00:00\",\"2019-08-11T22:00:00\",\"2019-08-12T12:00:00\",\"2019-08-12T13:00:00\",\"2019-08-12T14:00:00\",\"2019-08-12T16:00:00\",\"2019-08-12T17:00:00\",\"2019-08-12T21:00:00\",\"2019-08-13T06:00:00\",\"2019-08-13T08:00:00\",\"2019-08-13T09:00:00\",\"2019-08-13T10:00:00\",\"2019-08-13T10:00:00\",\"2019-08-13T15:00:00\",\"2019-08-13T17:00:00\",\"2019-08-14T02:00:00\",\"2019-08-14T04:00:00\",\"2019-08-14T13:00:00\",\"2019-08-14T16:00:00\",\"2019-08-14T21:00:00\",\"2019-08-15T08:00:00\",\"2019-08-15T08:00:00\",\"2019-08-15T09:00:00\",\"2019-08-15T13:00:00\",\"2019-08-15T13:00:00\",\"2019-08-15T17:00:00\",\"2019-08-15T23:00:00\",\"2019-08-15T23:00:00\",\"2019-08-15T23:00:00\",\"2019-08-15T23:00:00\",\"2019-08-15T23:00:00\",\"2019-08-15T23:00:00\",\"2019-08-15T23:00:00\",\"2019-08-15T23:00:00\",\"2019-08-16T02:00:00\",\"2019-08-16T07:00:00\",\"2019-08-16T11:00:00\",\"2019-08-16T12:00:00\",\"2019-08-16T12:00:00\",\"2019-08-16T12:00:00\",\"2019-08-16T12:00:00\",\"2019-08-16T12:00:00\",\"2019-08-16T13:00:00\",\"2019-08-16T16:00:00\",\"2019-08-16T16:00:00\",\"2019-08-16T23:00:00\",\"2019-08-17T07:00:00\",\"2019-08-17T10:00:00\",\"2019-08-17T14:00:00\",\"2019-08-17T15:00:00\",\"2019-08-17T17:00:00\",\"2019-08-18T01:00:00\",\"2019-08-18T10:00:00\",\"2019-08-18T10:00:00\",\"2019-08-18T12:00:00\",\"2019-08-18T12:00:00\",\"2019-08-18T13:00:00\",\"2019-08-18T16:00:00\",\"2019-08-18T16:00:00\",\"2019-08-18T16:00:00\",\"2019-08-18T17:00:00\",\"2019-08-18T23:00:00\",\"2019-08-19T11:00:00\",\"2019-08-19T16:00:00\",\"2019-08-19T18:00:00\",\"2019-08-19T21:00:00\",\"2019-08-20T09:00:00\",\"2019-08-20T18:00:00\",\"2019-08-20T21:00:00\",\"2019-08-21T05:00:00\",\"2019-08-21T05:00:00\",\"2019-08-21T05:00:00\",\"2019-08-21T05:00:00\",\"2019-08-21T08:00:00\",\"2019-08-21T13:00:00\",\"2019-08-21T20:00:00\",\"2019-08-22T05:00:00\",\"2019-08-22T06:00:00\",\"2019-08-22T09:00:00\",\"2019-08-22T09:00:00\",\"2019-08-22T10:00:00\",\"2019-08-22T10:00:00\",\"2019-08-22T10:00:00\",\"2019-08-22T10:00:00\",\"2019-08-22T12:00:00\",\"2019-08-22T13:00:00\",\"2019-08-22T13:00:00\",\"2019-08-22T13:00:00\",\"2019-08-22T16:00:00\",\"2019-08-22T17:00:00\",\"2019-08-22T18:00:00\",\"2019-08-23T00:00:00\",\"2019-08-23T12:00:00\",\"2019-08-23T12:00:00\",\"2019-08-23T16:00:00\",\"2019-08-23T16:00:00\",\"2019-08-23T16:00:00\",\"2019-08-23T22:00:00\",\"2019-08-24T11:00:00\",\"2019-08-24T13:00:00\",\"2019-08-24T16:00:00\",\"2019-08-24T19:00:00\",\"2019-08-25T11:00:00\",\"2019-08-25T11:00:00\",\"2019-08-25T13:00:00\",\"2019-08-25T21:00:00\",\"2019-08-26T06:00:00\",\"2019-08-26T09:00:00\",\"2019-08-26T10:00:00\",\"2019-08-26T11:00:00\",\"2019-08-26T11:00:00\",\"2019-08-26T13:00:00\",\"2019-08-26T14:00:00\",\"2019-08-26T14:00:00\",\"2019-08-26T14:00:00\",\"2019-08-26T14:00:00\",\"2019-08-26T14:00:00\",\"2019-08-26T18:00:00\",\"2019-08-26T19:00:00\",\"2019-08-26T21:00:00\",\"2019-08-27T05:00:00\",\"2019-08-27T05:00:00\",\"2019-08-27T05:00:00\",\"2019-08-27T05:00:00\",\"2019-08-27T05:00:00\",\"2019-08-27T05:00:00\",\"2019-08-27T09:00:00\",\"2019-08-27T12:00:00\",\"2019-08-27T12:00:00\",\"2019-08-27T13:00:00\",\"2019-08-27T13:00:00\",\"2019-08-27T15:00:00\",\"2019-08-28T02:00:00\",\"2019-08-28T08:00:00\",\"2019-08-28T12:00:00\",\"2019-08-28T12:00:00\",\"2019-08-28T12:00:00\",\"2019-08-28T13:00:00\",\"2019-08-28T17:00:00\",\"2019-08-28T18:00:00\",\"2019-08-28T18:00:00\",\"2019-08-28T22:00:00\",\"2019-08-29T14:00:00\",\"2019-08-29T16:00:00\",\"2019-08-29T17:00:00\",\"2019-08-30T08:00:00\",\"2019-08-30T10:00:00\",\"2019-08-30T10:00:00\",\"2019-08-31T11:00:00\",\"2019-08-31T11:00:00\",\"2019-08-31T16:00:00\",\"2019-08-31T17:00:00\",\"2019-08-31T18:00:00\",\"2019-09-01T09:00:00\",\"2019-09-01T12:00:00\",\"2019-09-01T12:00:00\",\"2019-09-01T15:00:00\",\"2019-09-01T20:00:00\",\"2019-09-02T08:00:00\",\"2019-09-02T09:00:00\",\"2019-09-03T05:00:00\",\"2019-09-03T07:00:00\",\"2019-09-03T08:00:00\",\"2019-09-03T08:00:00\",\"2019-09-03T08:00:00\",\"2019-09-03T09:00:00\",\"2019-09-03T12:00:00\",\"2019-09-03T12:00:00\",\"2019-09-03T14:00:00\",\"2019-09-03T22:00:00\",\"2019-09-04T08:00:00\",\"2019-09-04T09:00:00\",\"2019-09-04T11:00:00\",\"2019-09-04T12:00:00\",\"2019-09-04T18:00:00\",\"2019-09-04T21:00:00\",\"2019-09-04T22:00:00\",\"2019-09-05T07:00:00\",\"2019-09-05T10:00:00\",\"2019-09-05T10:00:00\",\"2019-09-05T10:00:00\",\"2019-09-05T12:00:00\",\"2019-09-05T14:00:00\",\"2019-09-05T15:00:00\",\"2019-09-05T16:00:00\",\"2019-09-05T19:00:00\",\"2019-09-05T20:00:00\",\"2019-09-05T22:00:00\",\"2019-09-06T03:00:00\",\"2019-09-06T08:00:00\",\"2019-09-06T09:00:00\",\"2019-09-06T09:00:00\",\"2019-09-06T09:00:00\",\"2019-09-06T10:00:00\",\"2019-09-06T12:00:00\",\"2019-09-06T13:00:00\",\"2019-09-06T15:00:00\",\"2019-09-07T08:00:00\",\"2019-09-07T08:00:00\",\"2019-09-07T13:00:00\",\"2019-09-07T15:00:00\",\"2019-09-07T20:00:00\",\"2019-09-08T10:00:00\",\"2019-09-08T20:00:00\",\"2019-09-08T21:00:00\",\"2019-09-09T07:00:00\",\"2019-09-09T09:00:00\",\"2019-09-09T12:00:00\",\"2019-09-09T13:00:00\",\"2019-09-09T18:00:00\",\"2019-09-09T19:00:00\",\"2019-09-10T00:00:00\",\"2019-09-10T03:00:00\",\"2019-09-10T07:00:00\",\"2019-09-10T09:00:00\",\"2019-09-10T10:00:00\",\"2019-09-10T10:00:00\",\"2019-09-10T13:00:00\",\"2019-09-10T13:00:00\",\"2019-09-10T13:00:00\",\"2019-09-10T15:00:00\",\"2019-09-10T21:00:00\",\"2019-09-10T22:00:00\",\"2019-09-11T04:00:00\",\"2019-09-11T12:00:00\",\"2019-09-11T13:00:00\",\"2019-09-11T15:00:00\",\"2019-09-11T16:00:00\",\"2019-09-11T18:00:00\",\"2019-09-11T21:00:00\",\"2019-09-11T21:00:00\",\"2019-09-12T00:00:00\",\"2019-09-12T08:00:00\",\"2019-09-12T09:00:00\",\"2019-09-12T09:00:00\",\"2019-09-12T13:00:00\",\"2019-09-12T13:00:00\",\"2019-09-12T14:00:00\",\"2019-09-12T16:00:00\",\"2019-09-12T17:00:00\",\"2019-09-12T21:00:00\",\"2019-09-12T22:00:00\",\"2019-09-13T07:00:00\",\"2019-09-13T09:00:00\",\"2019-09-13T09:00:00\",\"2019-09-13T09:00:00\",\"2019-09-13T11:00:00\",\"2019-09-13T12:00:00\",\"2019-09-13T14:00:00\",\"2019-09-14T11:00:00\",\"2019-09-14T13:00:00\",\"2019-09-14T14:00:00\",\"2019-09-15T10:00:00\",\"2019-09-15T11:00:00\",\"2019-09-15T12:00:00\",\"2019-09-15T14:00:00\",\"2019-09-15T15:00:00\",\"2019-09-15T17:00:00\",\"2019-09-16T10:00:00\",\"2019-09-16T11:00:00\",\"2019-09-16T11:00:00\",\"2019-09-16T12:00:00\",\"2019-09-16T14:00:00\",\"2019-09-16T15:00:00\",\"2019-09-16T20:00:00\",\"2019-09-16T21:00:00\",\"2019-09-16T22:00:00\",\"2019-09-17T12:00:00\",\"2019-09-17T16:00:00\",\"2019-09-17T16:00:00\",\"2019-09-17T16:00:00\",\"2019-09-17T21:00:00\",\"2019-09-18T09:00:00\",\"2019-09-18T10:00:00\",\"2019-09-18T10:00:00\",\"2019-09-18T10:00:00\",\"2019-09-18T11:00:00\",\"2019-09-18T13:00:00\",\"2019-09-18T20:00:00\",\"2019-09-18T21:00:00\",\"2019-09-19T08:00:00\",\"2019-09-19T09:00:00\",\"2019-09-19T10:00:00\",\"2019-09-19T11:00:00\",\"2019-09-19T12:00:00\",\"2019-09-19T12:00:00\",\"2019-09-19T12:00:00\",\"2019-09-19T12:00:00\",\"2019-09-19T12:00:00\",\"2019-09-19T12:00:00\",\"2019-09-19T13:00:00\",\"2019-09-19T16:00:00\",\"2019-09-19T17:00:00\",\"2019-09-19T20:00:00\",\"2019-09-20T15:00:00\",\"2019-09-20T20:00:00\",\"2019-09-21T12:00:00\",\"2019-09-21T18:00:00\",\"2019-09-21T19:00:00\",\"2019-09-21T20:00:00\",\"2019-09-21T21:00:00\",\"2019-09-21T21:00:00\",\"2019-09-21T21:00:00\",\"2019-09-21T21:00:00\",\"2019-09-21T21:00:00\",\"2019-09-21T21:00:00\",\"2019-09-21T21:00:00\",\"2019-09-21T21:00:00\",\"2019-09-21T21:00:00\",\"2019-09-21T21:00:00\",\"2019-09-21T21:00:00\",\"2019-09-21T21:00:00\",\"2019-09-21T21:00:00\",\"2019-09-21T21:00:00\",\"2019-09-22T09:00:00\",\"2019-09-22T10:00:00\",\"2019-09-22T10:00:00\",\"2019-09-22T11:00:00\",\"2019-09-22T12:00:00\",\"2019-09-22T13:00:00\",\"2019-09-22T14:00:00\",\"2019-09-22T14:00:00\",\"2019-09-22T14:00:00\",\"2019-09-22T15:00:00\",\"2019-09-22T15:00:00\",\"2019-09-22T15:00:00\",\"2019-09-22T16:00:00\",\"2019-09-22T21:00:00\",\"2019-09-23T11:00:00\",\"2019-09-23T11:00:00\",\"2019-09-23T13:00:00\",\"2019-09-23T16:00:00\",\"2019-09-23T22:00:00\",\"2019-09-24T08:00:00\",\"2019-09-24T08:00:00\",\"2019-09-24T08:00:00\",\"2019-09-24T08:00:00\",\"2019-09-24T08:00:00\",\"2019-09-24T08:00:00\",\"2019-09-24T08:00:00\",\"2019-09-24T09:00:00\",\"2019-09-24T10:00:00\",\"2019-09-24T10:00:00\",\"2019-09-24T10:00:00\",\"2019-09-24T10:00:00\",\"2019-09-24T12:00:00\",\"2019-09-24T13:00:00\",\"2019-09-24T18:00:00\",\"2019-09-25T10:00:00\",\"2019-09-25T11:00:00\",\"2019-09-25T20:00:00\",\"2019-09-25T21:00:00\",\"2019-09-25T21:00:00\",\"2019-09-25T21:00:00\",\"2019-09-25T21:00:00\",\"2019-09-26T00:00:00\",\"2019-09-26T00:00:00\",\"2019-09-26T09:00:00\",\"2019-09-26T10:00:00\",\"2019-09-26T10:00:00\",\"2019-09-26T10:00:00\",\"2019-09-26T11:00:00\",\"2019-09-26T12:00:00\",\"2019-09-26T22:00:00\",\"2019-09-27T00:00:00\",\"2019-09-27T07:00:00\",\"2019-09-27T08:00:00\",\"2019-09-27T08:00:00\",\"2019-09-27T18:00:00\",\"2019-09-27T21:00:00\",\"2019-09-28T03:00:00\",\"2019-09-28T10:00:00\",\"2019-09-28T11:00:00\",\"2019-09-28T13:00:00\",\"2019-09-28T14:00:00\",\"2019-09-28T14:00:00\",\"2019-09-28T14:00:00\",\"2019-09-28T14:00:00\",\"2019-09-28T14:00:00\",\"2019-09-28T14:00:00\",\"2019-09-28T14:00:00\",\"2019-09-28T14:00:00\",\"2019-09-28T14:00:00\",\"2019-09-28T16:00:00\",\"2019-09-28T16:00:00\",\"2019-09-28T19:00:00\",\"2019-09-28T19:00:00\",\"2019-09-28T19:00:00\",\"2019-09-29T12:00:00\",\"2019-09-29T13:00:00\",\"2019-09-29T17:00:00\",\"2019-09-29T18:00:00\",\"2019-09-29T18:00:00\",\"2019-09-29T18:00:00\",\"2019-09-29T19:00:00\",\"2019-09-29T19:00:00\",\"2019-09-29T19:00:00\",\"2019-09-29T20:00:00\",\"2019-09-30T09:00:00\",\"2019-09-30T09:00:00\",\"2019-09-30T10:00:00\",\"2019-09-30T15:00:00\",\"2019-09-30T16:00:00\",\"2019-09-30T19:00:00\",\"2019-10-01T07:00:00\",\"2019-10-01T08:00:00\",\"2019-10-01T08:00:00\",\"2019-10-01T08:00:00\",\"2019-10-01T11:00:00\",\"2019-10-01T15:00:00\",\"2019-10-01T16:00:00\",\"2019-10-01T17:00:00\",\"2019-10-01T17:00:00\",\"2019-10-01T18:00:00\",\"2019-10-01T18:00:00\",\"2019-10-02T09:00:00\",\"2019-10-02T09:00:00\",\"2019-10-02T09:00:00\",\"2019-10-02T11:00:00\",\"2019-10-02T12:00:00\",\"2019-10-02T14:00:00\",\"2019-10-02T14:00:00\",\"2019-10-02T14:00:00\",\"2019-10-02T14:00:00\",\"2019-10-02T15:00:00\",\"2019-10-02T22:00:00\",\"2019-10-03T13:00:00\",\"2019-10-03T13:00:00\",\"2019-10-03T14:00:00\",\"2019-10-03T15:00:00\",\"2019-10-03T19:00:00\",\"2019-10-04T04:00:00\",\"2019-10-04T08:00:00\",\"2019-10-04T08:00:00\",\"2019-10-04T08:00:00\",\"2019-10-04T10:00:00\",\"2019-10-04T11:00:00\",\"2019-10-04T20:00:00\",\"2019-10-05T11:00:00\",\"2019-10-05T11:00:00\",\"2019-10-05T11:00:00\",\"2019-10-05T12:00:00\",\"2019-10-05T19:00:00\",\"2019-10-05T22:00:00\",\"2019-10-06T07:00:00\",\"2019-10-06T11:00:00\",\"2019-10-06T12:00:00\",\"2019-10-06T12:00:00\",\"2019-10-06T13:00:00\",\"2019-10-06T15:00:00\",\"2019-10-06T16:00:00\",\"2019-10-06T17:00:00\",\"2019-10-06T18:00:00\",\"2019-10-06T18:00:00\",\"2019-10-06T19:00:00\",\"2019-10-06T19:00:00\",\"2019-10-06T23:00:00\",\"2019-10-07T09:00:00\",\"2019-10-07T10:00:00\",\"2019-10-07T11:00:00\",\"2019-10-07T11:00:00\",\"2019-10-07T16:00:00\",\"2019-10-07T20:00:00\",\"2019-10-07T21:00:00\",\"2019-10-08T09:00:00\",\"2019-10-08T12:00:00\",\"2019-10-08T13:00:00\",\"2019-10-08T17:00:00\",\"2019-10-08T20:00:00\",\"2019-10-08T21:00:00\",\"2019-10-09T04:00:00\",\"2019-10-09T11:00:00\",\"2019-10-09T14:00:00\",\"2019-10-09T16:00:00\",\"2019-10-09T17:00:00\",\"2019-10-09T20:00:00\",\"2019-10-10T06:00:00\",\"2019-10-10T08:00:00\",\"2019-10-10T08:00:00\",\"2019-10-10T08:00:00\",\"2019-10-10T08:00:00\",\"2019-10-10T08:00:00\",\"2019-10-10T08:00:00\",\"2019-10-10T08:00:00\",\"2019-10-10T08:00:00\",\"2019-10-10T08:00:00\",\"2019-10-10T10:00:00\",\"2019-10-10T10:00:00\",\"2019-10-10T11:00:00\",\"2019-10-10T12:00:00\",\"2019-10-10T13:00:00\",\"2019-10-10T14:00:00\",\"2019-10-10T14:00:00\",\"2019-10-10T14:00:00\",\"2019-10-10T14:00:00\",\"2019-10-10T16:00:00\",\"2019-10-10T16:00:00\",\"2019-10-10T16:00:00\",\"2019-10-10T17:00:00\",\"2019-10-10T19:00:00\",\"2019-10-10T22:00:00\",\"2019-10-11T06:00:00\",\"2019-10-11T09:00:00\",\"2019-10-11T09:00:00\",\"2019-10-11T10:00:00\",\"2019-10-11T10:00:00\",\"2019-10-11T10:00:00\",\"2019-10-11T17:00:00\",\"2019-10-11T18:00:00\",\"2019-10-11T19:00:00\",\"2019-10-11T19:00:00\",\"2019-10-11T21:00:00\",\"2019-10-12T00:00:00\",\"2019-10-12T08:00:00\",\"2019-10-12T09:00:00\",\"2019-10-12T13:00:00\",\"2019-10-12T13:00:00\",\"2019-10-12T15:00:00\",\"2019-10-12T16:00:00\",\"2019-10-12T16:00:00\",\"2019-10-12T18:00:00\",\"2019-10-12T21:00:00\",\"2019-10-12T21:00:00\",\"2019-10-13T09:00:00\",\"2019-10-13T09:00:00\",\"2019-10-13T15:00:00\",\"2019-10-13T17:00:00\",\"2019-10-13T20:00:00\",\"2019-10-13T23:00:00\",\"2019-10-14T02:00:00\",\"2019-10-14T09:00:00\",\"2019-10-14T14:00:00\",\"2019-10-14T16:00:00\",\"2019-10-14T23:00:00\",\"2019-10-15T09:00:00\",\"2019-10-15T13:00:00\",\"2019-10-15T16:00:00\",\"2019-10-15T16:00:00\",\"2019-10-15T18:00:00\",\"2019-10-15T21:00:00\",\"2019-10-16T00:00:00\",\"2019-10-16T06:00:00\",\"2019-10-16T08:00:00\",\"2019-10-16T08:00:00\",\"2019-10-16T08:00:00\",\"2019-10-16T08:00:00\",\"2019-10-16T09:00:00\",\"2019-10-16T11:00:00\",\"2019-10-16T11:00:00\",\"2019-10-16T11:00:00\",\"2019-10-16T11:00:00\",\"2019-10-16T13:00:00\",\"2019-10-16T14:00:00\",\"2019-10-16T15:00:00\",\"2019-10-16T16:00:00\",\"2019-10-16T16:00:00\",\"2019-10-16T17:00:00\",\"2019-10-16T18:00:00\",\"2019-10-16T18:00:00\",\"2019-10-16T19:00:00\",\"2019-10-16T20:00:00\",\"2019-10-16T22:00:00\",\"2019-10-17T07:00:00\",\"2019-10-17T09:00:00\",\"2019-10-17T09:00:00\",\"2019-10-17T11:00:00\",\"2019-10-17T12:00:00\",\"2019-10-17T13:00:00\",\"2019-10-18T01:00:00\",\"2019-10-18T04:00:00\",\"2019-10-18T07:00:00\",\"2019-10-18T07:00:00\",\"2019-10-18T08:00:00\",\"2019-10-18T14:00:00\",\"2019-10-18T16:00:00\",\"2019-10-19T16:00:00\",\"2019-10-19T21:00:00\",\"2019-10-19T22:00:00\",\"2019-10-20T14:00:00\",\"2019-10-20T17:00:00\",\"2019-10-20T17:00:00\",\"2019-10-20T19:00:00\",\"2019-10-20T19:00:00\",\"2019-10-20T19:00:00\",\"2019-10-20T20:00:00\",\"2019-10-20T20:00:00\",\"2019-10-20T21:00:00\",\"2019-10-20T21:00:00\",\"2019-10-20T22:00:00\",\"2019-10-21T09:00:00\",\"2019-10-21T10:00:00\",\"2019-10-21T10:00:00\",\"2019-10-21T11:00:00\",\"2019-10-21T12:00:00\",\"2019-10-21T12:00:00\",\"2019-10-21T20:00:00\",\"2019-10-21T20:00:00\",\"2019-10-22T09:00:00\",\"2019-10-22T09:00:00\",\"2019-10-22T12:00:00\",\"2019-10-22T13:00:00\",\"2019-10-22T13:00:00\",\"2019-10-22T16:00:00\",\"2019-10-22T19:00:00\",\"2019-10-22T21:00:00\",\"2019-10-23T09:00:00\",\"2019-10-23T10:00:00\",\"2019-10-23T11:00:00\",\"2019-10-23T11:00:00\",\"2019-10-23T12:00:00\",\"2019-10-23T15:00:00\",\"2019-10-24T06:00:00\",\"2019-10-24T19:00:00\",\"2019-10-24T20:00:00\",\"2019-10-25T00:00:00\",\"2019-10-25T10:00:00\",\"2019-10-25T13:00:00\",\"2019-10-26T00:00:00\",\"2019-10-26T07:00:00\",\"2019-10-26T12:00:00\",\"2019-10-26T15:00:00\",\"2019-10-26T16:00:00\",\"2019-10-27T13:00:00\",\"2019-10-27T15:00:00\",\"2019-10-27T16:00:00\",\"2019-10-27T17:00:00\",\"2019-10-27T19:00:00\",\"2019-10-28T06:00:00\",\"2019-10-28T08:00:00\",\"2019-10-28T08:00:00\",\"2019-10-28T10:00:00\",\"2019-10-28T10:00:00\",\"2019-10-28T12:00:00\",\"2019-10-28T13:00:00\",\"2019-10-28T19:00:00\",\"2019-10-28T21:00:00\",\"2019-10-28T21:00:00\",\"2019-10-29T14:00:00\",\"2019-10-29T15:00:00\",\"2019-10-29T15:00:00\",\"2019-10-30T07:00:00\",\"2019-10-30T09:00:00\",\"2019-10-30T09:00:00\",\"2019-10-30T10:00:00\",\"2019-10-30T10:00:00\",\"2019-10-30T12:00:00\",\"2019-10-30T13:00:00\",\"2019-10-30T15:00:00\",\"2019-10-30T18:00:00\",\"2019-10-30T19:00:00\",\"2019-10-30T21:00:00\",\"2019-10-30T21:00:00\",\"2019-10-31T00:00:00\",\"2019-10-31T02:00:00\",\"2019-10-31T09:00:00\",\"2019-10-31T11:00:00\",\"2019-10-31T11:00:00\",\"2019-10-31T12:00:00\",\"2019-10-31T13:00:00\",\"2019-10-31T14:00:00\",\"2019-10-31T16:00:00\"],\"y\":[142.0,194.0,112.0,179.0,112.0,164.0,134.0,824.0,269.0,674.0,820.0,614.0,187.0,3648.0,188.0,239.0,824.0,262.0,1049.0,3299.0,1162.0,1049.0,89.0,169.0,101.0,29.0,59.0,104.0,59.0,29.0,59.0,22.0,22.0,37.0,22.0,59.0,52.0,104.0,104.0,22.0,104.0,89.0,735.0,1050.0,374.0,1236.0,187.0,202.0,142.0,172.0,1562.0,3524.0,150.0,150.0,150.0,150.0,299.0,2924.0,3299.0,3299.0,3299.0,74.0,119.0,3299.0,860.0,749.0,674.0,187.0,488.0,592.0,1649.0,127.0,187.0,1762.0,524.0,67.0,194.0,52.0,127.0,127.0,1409.0,247.0,247.0,494.0,194.0,236.0,177.0,118.0,312.0,295.0,1949.0,110.0,374.0,840.0,1409.0,1874.0,149.0,3298.0,5024.0,3734.0,1049.0,1949.0,315.0,207.0,162.0,149.0,194.0,254.0,134.0,239.0,149.0,561.0,808.0,568.0,516.0,464.0,412.0,149.0,149.0,1949.0,1281.0,4949.0,188.0,188.0,1874.0,1349.0,1874.0,1574.0,1049.0,1199.0,742.0,712.0,614.0,1724.0,280.0,1798.0,1087.0,937.0,1420.0,254.0,209.0,194.0,277.0,239.0,7474.0,292.0,749.0,209.0,194.0,277.0,239.0,1949.0,209.0,194.0,277.0,239.0,689.0,1394.0,119.0,120.0,1216.0,2699.0,449.0,1049.0,1425.0,599.0,1274.0,525.0,374.0,742.0,200.0,2699.0,3899.0,1275.0,1275.0,1139.0,314.0,149.0,1012.0,637.0,338.0,188.0,150.0,149.0,149.0,149.0,149.0,1060.0,710.0,3089.0,188.0,1574.0,149.0,307.0,824.0,142.0,239.0,66.0,277.0,44.0,112.0,164.0,188.0,188.0,188.0,188.0,188.0,188.0,376.0,188.0,188.0,2850.0,5700.0,298.0,374.0,307.0,434.0,352.0,539.0,156.0,1874.0,164.0,149.0,149.0,149.0,149.0,149.0,149.0,149.0,149.0,149.0,149.0,1012.0,1900.0,224.0,374.0,209.0,1949.0,239.0,314.0,868.0,247.0,447.0,1049.0,614.0,974.0,674.0,299.0,187.0,561.0,808.0,568.0,516.0,2174.0,224.0,1874.0,2324.0,314.0,2990.0,2174.0,307.0,337.0,187.0,562.0,862.0,300.0,2850.0,5700.0,4796.0,3974.0,2174.0,224.0,397.0,239.0,824.0,262.0,1049.0,570.0,1350.0,2200.0,1199.0,1350.0,2200.0,149.0,149.0,149.0,560.0,116.0,169.0,128.0,101.0,209.0,224.0,188.0,734.0,149.0,149.0,1049.0,937.0,149.0,59.0,749.0,434.0,142.0,82.0,1012.0,179.0,194.0,164.0,209.0,239.0,269.0,277.0,2020.0,1649.0,1499.0,224.0,899.0,899.0,897.0,899.0,937.0,112.0,112.0,328.0,524.0,134.0,3524.0,824.0,194.0,67.0,82.0,150.0,150.0,150.0,150.0,150.0,749.0,674.0,427.0,149.0,1348.0,1799.0,937.0,2999.0,2549.0,1499.0,1424.0,194.0,134.0,134.0,148.0,937.0,509.0,224.0,112.0,238.0,389.0,404.0,397.0,734.0,2399.0,149.0,194.0,112.0,112.0,359.0,187.0,232.0,329.0,307.0,599.0,637.0,2099.0,1199.0,9010.0,315.0,207.0,162.0,188.0,188.0,188.0,188.0,1724.0,560.0,2549.0,418.0,149.0,299.0,1574.0,1799.0,787.0,787.0,974.0,450.0,672.0,896.0,449.0,82.0,1574.0,1612.0,644.0,1274.0,150.0,150.0,150.0,150.0,188.0,300.0,150.0,2924.0,434.0,494.0,1012.0,3749.0,749.0,2096.0,450.0,742.0,3074.0,299.0,412.0,284.0,674.0,1572.0,749.0,1348.0,554.0,3074.0,1739.0,262.0,104.0,2849.0,97.0,899.0,524.0,254.0,1515.0,101.0,101.0,101.0,101.0,101.0,101.0,149.0,749.0,899.0,277.0,134.0,225.0,132.0,22.0,88.0,22.0,37.0,44.0,58.0,132.0,22.0,74.0,300.0,637.0,450.0,3074.0,299.0,412.0,284.0,749.0,1348.0,3074.0,1739.0,262.0,104.0,2849.0,97.0,899.0,254.0,4049.0,128.0,150.0,238.0,97.0,89.0,89.0,188.0,188.0,188.0,188.0,169.0,101.0,210.0,89.0,89.0,188.0,188.0,188.0,188.0,169.0,101.0,210.0,127.0,127.0,734.0,487.0,224.0,225.0,104.0,112.0,112.0,315.0,207.0,162.0,374.0,2999.0,307.0,450.0,299.0,412.0,284.0,749.0,1348.0,3074.0,1739.0,262.0,104.0,2849.0,97.0,899.0,254.0,210.0,937.0,374.0,824.0,1574.0,1049.0,487.0,614.0,1199.0,374.0,1199.0,487.0,236.0,210.0,89.0,89.0,188.0,188.0,188.0,188.0,101.0,101.0,2624.0,509.0,2996.0,89.0,89.0,188.0,188.0,188.0,188.0,101.0,101.0,742.0,974.0,149.0,44.0,104.0,742.0,8670.0,742.0,524.0,224.0,29.0,74.0,59.0,22.0,300.0,59.0,59.0,464.0,187.0,187.0,544.0,217.0,974.0,1012.0,8260.0,600.0,315.0,207.0,162.0,82.0,627.0,518.0,246.0,1499.0,5249.0,188.0,338.0,188.0,150.0,150.0,2249.0,149.0,224.0,224.0,1049.0,412.0,59.0,177.0,59.0,29.0,22.0,37.0,22.0,59.0,59.0,59.0,22.0,674.0,74.0,187.0,4139.0,239.0,2849.0,404.0,188.0,188.0,149.0,149.0,149.0,1207.0,1874.0,2009.0,6007.0,1408.0,716.0,187.0,716.0,974.0,177.0,111.0,66.0,66.0,66.0,1649.0,1649.0,614.0,44.0,37.0,101.0,101.0,101.0,101.0,7597.0,6007.0,101.0,101.0,101.0,101.0,524.0,24370.0,1949.0,937.0,1124.0,2728.0,974.0,188.0,150.0,188.0,150.0,375.0,637.0,928.0,267.0,177.0,111.0,66.0,66.0,66.0,188.0,150.0,188.0,150.0,375.0,697.0,5970.0,1949.0,547.0,149.0,381.0,374.0,599.0,7722.0,149.0,149.0,149.0,149.0,149.0,149.0,449.0,3440.0,749.0,210.0,22.0,29.0,22.0,22.0,59.0,22.0,22.0,52.0,450.0,1949.0,299.0,247.0,210.0,22.0,29.0,22.0,22.0,59.0,22.0,22.0,52.0,734.0,1649.0,440.0,1499.0,1275.0,742.0,487.0,3374.0,4949.0,1199.0,1049.0,899.0,937.0,172.0,239.0,156.0,44.0,52.0,134.0,89.0,89.0,74.0,59.0,52.0,488.0,337.0,208.0,76.0,89.0,210.0,22.0,44.0,44.0,315.0,207.0,162.0,88.0,180.0,1199.0,1049.0,1087.0,356.0,3749.0,5474.0,472.0,239.0,749.0,134.0,134.0,149.0,149.0,254.0,1574.0,268.0,112.0,149.0,209.0,149.0,149.0,149.0,449.0,97.0,149.0,149.0,149.0,149.0,149.0,328.0,1874.0,2998.0,2849.0,2998.0,899.0,67.0,637.0,638.0,15.0,354.0,824.0,449.0,1049.0,1649.0,404.0,104.0,742.0,412.0,104.0,787.0,104.0,225.0,749.0,315.0,207.0,162.0,112.0,112.0,1424.0,599.0,478.0,539.0,1574.0,899.0,315.0,207.0,162.0,59.0,239.0,59.0,22.0,59.0,118.0,22.0,59.0,74.0,59.0,59.0,1049.0,149.0,119.0,112.0,59.0,56.0,59.0,134.0,149.0,187.0,380.0,299.0,397.0,59.0,734.0,479.0,712.0,600.0,1199.0,1662.0,1649.0,495.0,387.0,656.0,29.0,104.0,74.0,449.0,247.0,267.0,44.0,112.0,2850.0,154.0,1049.0,2424.0,1087.0,74.0,937.0,434.0,1196.0,149.0,149.0,149.0,149.0,112.0,224.0,592.0,1049.0,277.0,67.0,134.0,37.0,59.0,150.0,112.0,119.0,82.0,82.0,127.0,82.0,127.0,89.0,89.0,2924.0,188.0,188.0,188.0,45.0,922.0,149.0,149.0,149.0,149.0,149.0,149.0,239.0,1199.0,217.0,149.0,262.0,202.0,300.0,314.0,187.0,142.0,22.0,82.0,232.0,1349.0,1874.0,1912.0,150.0,150.0,150.0,150.0,150.0,573.0,2624.0,22.0,74.0,110.0,52.0,38.0,67.0,149.0,149.0,149.0,149.0,149.0,277.0,22.0,374.0,374.0,374.0,3974.0,854.0,239.0,44.0,37.0,172.0,734.0,427.0,734.0,490.0,1574.0,1949.0,524.0,150.0,150.0,150.0,150.0,150.0,224.0,11.0,22.0,10.0,12.0,10.0,188.0,225.0,150.0,37.0,490.0,4867.0,44.0,149.0,149.0,149.0,44.0,44.0,637.0,300.0,4495.0,974.0,742.0,524.0,689.0,3156.0,1320.0,5050.0,389.0,260.0,247.0,1274.0,427.0,2249.0,2624.0,4049.0,1124.0,1010.0,524.0,224.0,2699.0,1240.0,1620.0,2300.0,740.0,2924.0,2399.0,1837.0,254.0,29248.0,762.0,426.0,2856.0,134.0,59.0,490.0,150.0,188.0,150.0,59.0,59.0,187.0,59.0,82.0,930.0,930.0,490.0,1139.0,599.0,88.0,1049.0,88.0,88.0,88.0,449.0,89.0,734.0,240.0,487.0,577.0,88.0,582.0,381.0,582.0,381.0,89.0,187.0,187.0,1724.0,60.0,1164.0,149.0,1447.0,937.0,937.0,18.0,12.0,22.0,11.0,11.0,20.0,22.0,11.0,19.0,9.0,150.0,188.0,188.0,188.0,188.0,22.0,28.0,20.0,187.0,299.0,810.0,1049.0,88.0,1740.0,1087.0,3224.0,194.0,734.0,60.0,1649.0,299.0,689.0,749.0,712.0,2600.0,194.0,749.0,749.0,4859.0,974.0,2024.0,112.0,1856.0,1856.0,697.0,1049.0,112.0,5249.0,2849.0,1049.0,292.0,1912.0,6134.0,5249.0,88.0,134.0,127.0,1034.0,3329.0,1461.0,134.0,88.0,329.0,1347.0,88.0,449.0,88.0,88.0,59.0,88.0,88.0,2549.0,1087.0,712.0,88.0,239.0,1162.0,1874.0,1049.0,264.0,509.0,149.0,689.0,264.0,1725.0,164.0,2324.0,689.0,402.0,5800.0,149.0,164.0,584.0,479.0,1574.0,3299.0,1649.0,202.0,704.0,1164.0,2699.0,359.0,1799.0,59.0,5024.0,899.0,59.0,447.0,413.0,292.0,44.0,5662.0,177.0,232.0,202.0,239.0,134.0,449.0,118.0,224.0,2849.0,88.0,719.0,2174.0,656.0,328.0,413.0,974.0,52.0,637.0,749.0,157.0,674.0,134.0,1049.0,2024.0,1874.0,88.0,260.0,389.0,974.0,1574.0,2999.0,524.0,59.0,3298.0,1049.0,88.0,389.0,264.0,449.0,88.0,2249.0,1049.0,734.0,1237.0,734.0,413.0,745.0,89.0,389.0,1724.0,449.0,528.0,704.0,418.0,209.0,148.0,66.0,418.0,651.0,624.0,7424.0,4124.0,780.0,637.0,412.0,898.0,745.0,52.0,149.0,1049.0,1049.0,442.0,898.0,637.0,1649.0,1049.0,568.0,66.0,442.0,2699.0,268.0,1649.0,448.0,134.0,88.0,88.0,708.0,749.0,3524.0,374.0,359.0,374.0,87.0,1049.0,367.0,780.0,539.0,712.0,745.0,1199.0,172.0,1087.0,2098.0,1874.0,44.0,1612.0,88.0,598.0,516.0,1049.0,787.0,1274.0,2699.0,149.0,6270.0,824.0,1649.0,74.0,32718.0,3598.0,802.0,802.0,974.0,434.0,974.0,802.0,637.0,88.0,224.0,52.0,1215.0,584.0,1049.0,1049.0,478.0,2360.0,464.0,1049.0,712.0,88.0,88.0,584.0,4139.0,1912.0,712.0,599.0,104.0,300.0,742.0,298.0,888.0,2249.0,149.0,44.0,134.0,2999.0,149.0,4139.0,862.0,712.0,464.0,1649.0,464.0,344.0,1424.0,3148.0,416.0,375.0,2924.0,1139.0,1649.0,1049.0,712.0,194.0,3247.0,112.0,1649.0,1649.0,149.0,1649.0,1049.0,1049.0,1049.0,1049.0,1049.0,907.0,974.0,1049.0,2460.0,1139.0,1912.0,1574.0,1649.0,112.0,748.0,1574.0,1049.0,2624.0,1987.0,1649.0,748.0,1049.0,450.0,1274.0,1574.0,224.0,3329.0,442.0,1874.0,187.0,299.0,254.0,442.0,1049.0,298.0,1799.0,471.0,1049.0,1499.0,1049.0,637.0,1349.0,2174.0,749.0,112.0,2549.0,899.0,112.0,1612.0,149.0,1162.0,262.0,262.0,202.0,1049.0,584.0,4139.0,239.0,134.0,6307.0,88.0,4139.0,945.0,479.0,487.0,1799.0,1874.0,1874.0,4139.0,299.0,1874.0,389.0,780.0,1649.0,1874.0,899.0,824.0,4139.0,1049.0,4499.0,472.0,1049.0,4139.0,524.0,749.0,277.0,718.0,2024.0,4139.0,1162.0,1214.0,134.0,1199.0,1874.0,2024.0,2460.0,488.0,899.0,974.0,2999.0,937.0,374.0,5399.0,1874.0,1049.0,154.0,472.0,487.0,5847.0,1056.0,188.0,188.0,188.0,209.0,188.0,188.0,188.0,448.0,1049.0,2849.0,112.0,492.0,1049.0,4700.0,224.0,1912.0,1912.0,150.0,188.0,150.0,150.0,150.0,150.0,150.0,150.0,90.0,90.0,590.0,712.0,188.0,188.0,188.0,110.0,898.0,937.0,518.0,59.0,59.0,127.0,652.0,1874.0,112.0,157.0,135.0,1724.0,59.0,59.0,47385.0,598.0,2800.0,232.0,1649.0,749.0,22.0,1237.0,134.0,134.0,112.0,328.0,1198.0,44.0,2699.0,134.0,2699.0,239.0,382.0,2699.0,312.0,727.0,188.0,188.0,188.0,188.0,164.0,1572.0,1794.0,188.0,188.0,188.0,569.0,220.0,1574.0,487.0,599.0,3400.0,554.0,569.0,554.0,487.0,374.0,2399.0,1302.0,689.0,374.0,149.0,2219.0,4272.0,11250.0,742.0,119.0,569.0,188.0,188.0,74.0,157.0,89.0,101.0,101.0,710.0,1515.0,164.0,1368.0,598.0,224.0,224.0,554.0,1344.0,539.0,1642.0,1574.0,472.0,374.0,517.0,764.0,449.0,1087.0,2024.0,22.0,300.0,112.0,2699.0,188.0,188.0,188.0,209.0,1536.0,1799.0,627.0,1012.0,1649.0,449.0,67.0,2099.0,389.0,674.0,149.0,374.0,119.0,149.0,1916.0,4424.0,4424.0,2527.0,5775.0,299.0,1574.0,1012.0,524.0,487.0,224.0,299.0,4957.0,1162.0,127.0,448.0,22.0,3749.0,727.0,188.0,188.0,188.0,974.0,22.0,1424.0,1424.0,74.0,667.0,157.0,464.0,209.0,635.0,5249.0,727.0,188.0,150.0,150.0,135.0,135.0,135.0,188.0,150.0,150.0,135.0,135.0,135.0,727.0,3974.0,134.0,44.0,300.0,599.0,149.0,202.0,413.0,16536.0,2699.0,90.0,112.0,112.0,635.0,1574.0,299.0,135.0,135.0,135.0,135.0,135.0,112.0,974.0,1799.0,22.0,59.0,6149.0,1275.0,937.0,802.0,67.0,1949.0,82.0,2697.0,286.0,104.0,134.0,899.0,667.0,1200.0,164.0,164.0,268.0,44.0,899.0,899.0,1498.0,1649.0,188.0,188.0,188.0,150.0,150.0,652.0,1424.0,208.0,569.0,727.0,59.0,164.0,592.0,11000.0,7480.0,7480.0,187.0,1649.0,516.0,614.0,1124.0,1799.0,2999.0,899.0,88.0,134.0,3524.0,1139.0,90.0,135.0,135.0,270.0,270.0,90.0,224.0,1949.0,292.0,1522.0,150.0,360.0,135.0,360.0,224.0,224.0,224.0,2024.0,389.0,164.0,119.0,1200.0,142.0,88.0,940.0,240.0,592.0,652.0,1087.0,104.0,284.0,434.0,110.0,516.0,277.0,614.0,516.0,1162.0,1799.0,209.0,1799.0,787.0,336.0,389.0,134.0,232.0,1162.0,1574.0,164.0,1087.0,66.0,374.0,164.0,374.0,134.0,44.0,1409.0,374.0,3329.0,1574.0,134.0,299.0,3562.0,328.0,899.0,748.0,899.0,134.0,112.0,607.0,3667.0,2999.0,59.0,157.0,179.0,3329.0,134.0,2324.0,1874.0,150.0,150.0,59.0,1087.0,328.0,150.0,150.0,440.0,3112.0,1736.0,299.0,378.0,2120.0,90.0,157.0,479.0,127.0,787.0,824.0,449.0,442.0,1994.0,135.0,135.0,135.0,169.0,89.0,120.0,120.0,120.0,120.0,45.0,449.0,194.0,149.0,169.0,89.0,120.0,120.0,120.0,120.0,45.0,67.0,464.0,169.0,89.0,120.0,120.0,120.0,120.0,45.0,134.0,727.0,29.0,1162.0,127.0,524.0,727.0,562.0,1124.0,135.0,135.0,135.0,135.0,1574.0,560.0,150.0,150.0,2120.0,741.0,224.0,2699.0,502.0,2146.0,135.0,2550.0,1087.0,2849.0,492.0,88.0,1198.0,862.0,804.0,1568.0,1649.0,749.0,337.0,135.0,135.0,90.0,749.0,974.0,2849.0,749.0,149.0,899.0,3674.0,680.0,134.0,1649.0,314.0,134.0,449.0,749.0,374.0,727.0,1085.0,2699.0,112.0,209.0,487.0,299.0,157.0,120.0,1780.0,2774.0,637.0,820.0,749.0,674.0,134.0,749.0,1087.0,134.0,471.0,2099.0,194.0,188.0,150.0,135.0,135.0,112.0,112.0,157.0,239.0,157.0,487.0,87.0,487.0,119.0,1087.0,1087.0,1087.0,1724.0,974.0,974.0,134.0,637.0,169.0,89.0,120.0,120.0,119.0,119.0,89.0,120.0,60.0,1987.0,637.0,8437.0,3562.0,974.0,89.0,120.0,120.0,120.0,45.0,112.0,2399.0,637.0,134.0,3329.0,3562.0,442.0,1649.0,637.0,134.0,1120.0,134.0,735.0,824.0,637.0,520.0,338.0,188.0,150.0,150.0,188.0,188.0,188.0,150.0,150.0,188.0,135.0,135.0,135.0,112.0,150.0,150.0,1120.0,1898.0,164.0,59.0,1199.0,614.0,742.0,637.0,1350.0,742.0,149.0,478.0,389.0,135.0,135.0,674.0,464.0,478.0,900.0,974.0,187.0,520.0,104.0,637.0,187.0,58.0,637.0,430.0,2550.0,562.0,914.0,74.0,194.0,67.0,74.0,487.0,727.0,637.0,2041.0,2220.0,487.0,350.0,67.0,599.0,74.0,727.0,2024.0,5594.0,637.0,4900.0,2024.0,560.0,1649.0,74.0,430.0,388.0,127.0,1470.0,150.0,150.0,150.0,670.0,1154.0,128.0,150.0,150.0,150.0,150.0,150.0,180.0,270.0,135.0,135.0,270.0,135.0,112.0,112.0,187.0,187.0,187.0,1087.0,150.0,150.0,150.0,150.0,90.0,135.0,135.0,135.0,135.0,90.0,388.0,74.0,1288.0,127.0,307.0,1349.0,959.0,3525.0,599.0,134.0,1874.0,4139.0,157.0,2924.0,134.0,734.0,2924.0,727.0,134.0,487.0,680.0,1087.0,150.0,90.0,98.0,135.0,375.0,120.0,116.0,116.0,38.0,38.0,195.0,225.0,194.0,74.0,134.0,1762.0,629.0,1762.0,776.0,295.0,134.0,1949.0,119.0,89.0,11.0,9.0,13.0,10.0,240.0,119.0,119.0,119.0,52.0,11.0,10.0,10.0,1087.0,292.0,666.0,374.0,4139.0,689.0,1199.0,4139.0,139.0,139.0,150.0,114.0,898.0,603.0,764.0,555.0,74.0,150.0,150.0,188.0,2137.0,134.0,449.0,104.0,3719.0,1949.0,1762.0,480.0,2249.0,614.0,134.0,134.0,188.0,225.0,412.0,239.0,4117.0,225.0,5459.0,3787.0,810.0,74.0,1012.0,194.0,4139.0,413.0,1762.0,134.0,1087.0,1376.0,1087.0,134.0,134.0,974.0,1087.0,134.0,637.0,637.0,74.0,5249.0,727.0,188.0,188.0,188.0,188.0,188.0,150.0,135.0,135.0,135.0,135.0,135.0,135.0,135.0,135.0,727.0,1049.0,134.0,134.0,74.0,112.0,150.0,150.0,150.0,614.0,2549.0,974.0,148.0,3074.0,74.0,2399.0,344.0,188.0,188.0,188.0,188.0,376.0,376.0,149.0,67.0,128.0,180.0,82.0,82.0,128.0,135.0,959.0,1312.0,922.0,1312.0,1199.0,1087.0,2549.0,314.0,614.0,314.0,209.0,52.0,1874.0,135.0,135.0,135.0,1649.0,209.0,779.0,509.0,1649.0,135.0,135.0,135.0,2998.0,397.0,652.0,1649.0,187.0,135.0,135.0,135.0,2915.0,52.0,157.0,1312.0,52.0,164.0,164.0,164.0,82.0,82.0,82.0,82.0,135.0,1087.0,268.0,268.0,127.0,135.0,135.0,135.0,1574.0,1949.0,157.0,164.0,164.0,164.0,82.0,82.0,82.0,82.0,135.0,7679.0,157.0,187.0,172.0,727.0,1049.0,1874.0,1124.0,1720.0,222.0,104.0,2249.0,157.0,2699.0,2699.0,1087.0,1574.0,449.0,508.0,134.0,116.0,116.0,116.0,116.0,116.0,1199.0,960.0,960.0,157.0,67.0,268.0,59.0,1247.0,2915.0,2915.0,749.0,139.0,150.0,150.0,135.0,112.0,112.0,195.0,338.0,150.0,150.0,338.0,150.0,338.0,150.0,135.0,135.0,135.0,135.0,194.0,444.0,135.0,135.0,112.0,112.0,444.0,742.0,3749.0,299.0,1087.0,5594.0,412.0,750.0,225.0,590.0,727.0,727.0,59.0,74.0,712.0,412.0,652.0,134.0,652.0,236.0,2399.0,59.0,59.0,59.0,2694.0,187.0,1574.0,974.0,2247.0,59.0,1649.0,974.0,3000.0,449.0,5098.0,592.0,552.0,1649.0,210.0,176.0,149.0,157.0,1180.0,157.0,104.0,74.0,3599.0,622.0,922.0,734.0,157.0,1056.0,104.0,188.0,135.0,135.0,135.0,135.0,135.0,898.0,1799.0,224.0,89.0,300.0,150.0,270.0,448.0,4049.0,1770.0,1799.0,1056.0,508.0,1056.0,254.0,1496.0,157.0,712.0,134.0,280.0,2624.0,74.0,74.0,824.0,78.0,22.0,44.0,44.0,44.0,44.0,19.0,147.0,28.0,104.0,134.0,134.0,30.0,15.0,30.0,136.0,76.0,68.0,68.0,136.0,178.0,116.0,120.0,120.0,116.0,119.0,119.0,119.0,119.0,89.0,136.0,74.0,3787.0,89.0,112.0,112.0,89.0,89.0,97.0,112.0,89.0,119.0,89.0,127.0,97.0,97.0,97.0,824.0,3599.0,620.0,524.0,3599.0,74.0,44.0,89.0,112.0,112.0,89.0,89.0,97.0,112.0,89.0,119.0,89.0,127.0,97.0,97.0,97.0,135.0,135.0,135.0,59.0,1770.0,3599.0,3448.0,150.0,150.0,150.0,1350.0,442.0,150.0,150.0,150.0,1350.0,188.0,150.0,150.0,75.0,524.0,800.0,374.0,268.0,74.0,1949.0,434.0,1949.0,734.0,134.0,148.0,734.0,1949.0,209.0,357.0,87.0,357.0,1949.0,1167.0,1087.0,1162.0,600.0,600.0,1215.0,148.0,84.0,928.0,148.0,3776.0,5287.0,1087.0,298.0,82.0,82.0,112.0,67.0,82.0,82.0,82.0,82.0,82.0,82.0,82.0,112.0,82.0,82.0,38.0,45.0,925.0,1762.0,52.0,352.0,1087.0,405.0,1649.0,119.0,22.0,3329.0,190.0,190.0,380.0,380.0,239.0,547.0,2624.0,300.0,300.0,150.0,300.0,188.0,405.0,270.0,270.0,270.0,270.0,82.0,164.0,82.0,448.0,67.0,188.0,188.0,135.0,135.0,135.0,135.0,82.0,164.0,82.0,448.0,67.0,188.0,188.0,188.0,188.0,188.0,188.0,487.0,262.0,180.0,135.0,412.0,140.0,734.0,1177.0,5398.0,749.0,4574.0,974.0,600.0,134.0,2245.0,224.0,404.0,404.0,436.0,224.0,224.0,749.0,742.0,2249.0,6149.0,449.0,712.0,52.0,590.0,734.0,8737.0,590.0,74.0,164.0,134.0,1649.0,524.0,562.0,787.0,3224.0,1087.0,157.0,119.0,169.0,169.0,120.0,89.0,119.0,119.0,45.0,22.0,1087.0,1649.0,430.0,3705.0,119.0,45.0,1087.0,191.0,180.0,152.0,152.0,180.0,152.0,180.0,152.0,68.0,1087.0,187.0,187.0,187.0,134.0,128.0,135.0,210.0,74.0,749.0,430.0,188.0,150.0,150.0,75.0,135.0,300.0,6149.0,164.0,90.0,116.0,2999.0,134.0,734.0,280.0,1162.0,134.0,280.0,1087.0,2999.0,2999.0,268.0,1049.0,442.0,2234.0,90.0,90.0,90.0,90.0,150.0,150.0,112.0,135.0,135.0,135.0,135.0,112.0,112.0,112.0,90.0,90.0,90.0,112.0,112.0,112.0,3074.0,374.0,659.0,1162.0,405.0,74.0,224.0,1162.0,524.0,1162.0,2234.0,734.0,2234.0,198.0,600.0,564.0,44.0,5249.0,600.0,564.0,1574.0,1049.0,1949.0,22.0,147.0,1949.0,1087.0,598.0,1462.0,150.0,150.0,1087.0,899.0,1162.0,37.0,562.0,674.0,752.0,402.0,76.0,38.0,114.0,76.0,114.0,38.0,76.0,38.0,76.0,285.0,285.0,150.0,300.0,188.0,135.0,135.0,135.0,1087.0,177.0,59.0,1087.0,200.0,59.0,840.0,840.0,1024.0,1087.0,899.0,1799.0,787.0,389.0,974.0,1012.0,1199.0,194.0,188.0,188.0,1649.0,59.0,397.0,397.0,236.0,269.0,87.0,90.0,90.0,210.0,210.0,90.0,90.0,90.0,90.0,90.0,90.0,128.0,90.0,90.0,38.0,210.0,142.0,82.0,1424.0,1424.0,90.0,90.0,210.0,90.0,90.0,90.0,90.0,90.0,90.0,128.0,210.0,90.0,90.0,38.0,76.0,120.0,195.0,76.0,76.0,76.0,76.0,76.0,75.0,11.0,105.0,195.0,120.0,120.0,120.0,188.0,188.0,38.0,38.0,10.0,10.0,718.0,869.0,370.0,200.0,22.0,11.0,142.0,12.0,14.0,449.0,450.0,488.0,600.0,599.0,899.0,374.0,2001.0,232.0,384.0,59.0,524.0,148.0,59.0,1312.0,1312.0,1799.0,169.0,169.0,752.0,120.0,128.0,120.0,188.0,188.0,120.0,195.0,120.0,120.0,120.0,315.0,232.0,120.0,116.0,11460.0,14196.0,15680.0,564.0,232.0,120.0,116.0,7229.0,187.0,74.0,337.0,232.0,120.0,116.0,119.0,119.0,232.0,2774.0,1162.0,58.0,74.0,1274.0,232.0,120.0,116.0,150.0,2700.0,569.0,8077.0,569.0,1087.0,134.0,426.0,139.0,1128.0,900.0,900.0,810.0,412.0,376.0,300.0,150.0,150.0,300.0,899.0,569.0,569.0,1799.0,1087.0,190.0,190.0,190.0,190.0,190.0,190.0,380.0,190.0,380.0,74.0,312.0,38.0,76.0,38.0,38.0,38.0,38.0,38.0,285.0,28.0,1162.0,688.0,1087.0,22.0,22.0,135.0,135.0,135.0,464.0,464.0,22.0,304.0,228.0,304.0,412.0,2624.0,2699.0,134.0,475.0,188.0,135.0,135.0,135.0,179.0,120.0,120.0,120.0,195.0,2699.0,97.0,231.0,195.0,195.0,195.0,195.0,195.0,787.0,1499.0,412.0,1087.0,4470.0,592.0,150.0,135.0,135.0,135.0,135.0,112.0,112.0,134.0,97.0,142.0,142.0,202.0,142.0,210.0,210.0,90.0,90.0,90.0,165.0,90.0,90.0,142.0,90.0,142.0,300.0,82.0,82.0,82.0,142.0,90.0,90.0,112.0,114.0,38.0,114.0,114.0,38.0,76.0,76.0,76.0,76.0,76.0,114.0,38.0,38.0,76.0,76.0,76.0,38.0,76.0,76.0,76.0,38.0,76.0,38.0,76.0,190.0,76.0,38.0,114.0,38.0,38.0,76.0,150.0,188.0,135.0,135.0,239.0,135.0,135.0,135.0,135.0,374.0,1087.0,412.0,134.0,156.0,180.0,180.0,90.0,90.0,90.0,90.0,90.0,90.0,90.0,90.0,150.0,150.0,135.0,135.0,112.0,90.0,90.0,90.0,90.0,896.0,142.0,142.0,142.0,472.0,472.0,217.0,2050.0,217.0,239.0,89.0,120.0,239.0,217.0,127.0,637.0,1087.0,1087.0,127.0,75.0,105.0,112.0,120.0,120.0,120.0,120.0,285.0,75.0,38.0,38.0,38.0,38.0,38.0,38.0,38.0,38.0,38.0,38.0,38.0,38.0,38.0,38.0,38.0,38.0,38.0,38.0,38.0,38.0,38.0,38.0,38.0,38.0,38.0,38.0,38.0,38.0,38.0,38.0,38.0,38.0,38.0,38.0,38.0,38.0,38.0,38.0,38.0,38.0,135.0,135.0,1200.0,254.0,76.0,114.0,114.0,114.0,114.0,120.0,240.0,120.0,420.0,420.0,420.0,420.0,210.0,488.0,488.0,488.0,488.0,420.0,420.0,142.0,1087.0,22.0,1920.0,135.0,135.0,135.0,135.0,135.0,135.0,128.0,90.0,352.0,210.0,90.0,90.0,90.0,128.0,120.0,82.0,82.0,82.0,82.0,82.0,210.0,90.0,90.0,90.0,90.0,90.0,90.0,488.0,89.0,120.0,119.0,127.0,119.0,128.0,128.0,420.0,420.0,420.0,420.0,210.0,488.0,488.0,488.0,488.0,420.0,420.0,37.0,114.0,114.0,114.0,114.0,240.0,360.0,188.0,135.0,135.0,135.0,112.0,1574.0,449.0,128.0,82.0,82.0,142.0,128.0,128.0,449.0,134.0,157.0,224.0,224.0,1087.0,295.0,142.0,74.0,487.0,120.0,430.0,748.0,90.0,90.0,90.0,90.0,139.0,139.0,139.0,90.0,90.0,90.0,112.0,338.0,150.0,150.0,150.0,75.0,150.0,135.0,135.0,135.0,112.0,128.0,90.0,90.0,90.0,128.0,120.0,120.0,98.0,98.0,98.0,112.0,112.0,195.0,195.0,195.0,374.0,374.0,374.0,430.0,188.0,188.0,150.0,374.0,374.0,374.0,208.0,356.0,97.0,3674.0,520.0,262.0,352.0,1574.0,420.0,840.0,210.0,1874.0,128.0,142.0,128.0,142.0,164.0,82.0,1799.0,1087.0,389.0,2999.0,2999.0,1087.0,1012.0,210.0,90.0,90.0,90.0,90.0,112.0,90.0,90.0,90.0,90.0,90.0,90.0,112.0,90.0,90.0,90.0,90.0,90.0,2774.0,2774.0,134.0,134.0,502.0,2999.0,164.0,1087.0,2774.0,134.0,97.0,169.0,89.0,116.0,120.0,120.0,120.0,120.0,120.0,2440.0,488.0,1464.0,2400.0,2400.0,1464.0,900.0,840.0,359.0,134.0,169.0,89.0,120.0,120.0,120.0,120.0,120.0,89.0,120.0,750.0,750.0,768.0,82.0,357.0,937.0,88.0,90.0,90.0,164.0,164.0,246.0,164.0,90.0,90.0,112.0,112.0,112.0,188.0,338.0,338.0,135.0,135.0,135.0,112.0,2068.0,2999.0,180.0,114.0,152.0,114.0,135.0,135.0,898.0,899.0,208.0,4874.0,898.0,599.0,734.0,270.0,82.0,128.0,120.0,98.0,98.0,98.0,210.0,38.0,38.0,38.0,38.0,38.0,38.0,45.0,1087.0,2848.0,300.0,89.0,116.0,89.0,120.0,89.0,1087.0,188.0,150.0,150.0,188.0,188.0,188.0,135.0,30.0,30.0,30.0,30.0,15.0,15.0,15.0,22.0,30.0,30.0,30.0,30.0,30.0,30.0,30.0,38.0,30.0,15.0,15.0,38.0,38.0,38.0,89.0,120.0,120.0,120.0,38.0,38.0,38.0,38.0,90.0,33.0,82.0,82.0,82.0,150.0,135.0,90.0,210.0,1087.0,1087.0,2999.0,30.0,30.0,30.0,30.0,15.0,15.0,15.0,22.0,30.0,30.0,30.0,30.0,30.0,30.0,30.0,38.0,30.0,15.0,15.0,38.0,38.0,38.0,89.0,120.0,120.0,120.0,38.0,38.0,38.0,38.0,120.0,120.0,195.0,120.0,120.0,120.0,120.0,120.0,1087.0,1087.0,60.0,676.0,116.0,240.0,128.0,128.0,240.0,240.0,195.0,240.0,240.0,89.0,52.0,38.0,76.0,76.0,76.0,120.0,120.0,128.0,82.0,82.0,142.0,128.0,128.0,30.0,30.0,30.0,30.0,15.0,15.0,15.0,22.0,30.0,30.0,30.0,30.0,30.0,30.0,30.0,38.0,30.0,15.0,15.0,38.0,38.0,38.0,89.0,120.0,120.0,120.0,38.0,38.0,38.0,38.0,360.0,256.0,120.0,120.0,120.0,1499.0,142.0,328.0,164.0,384.0,384.0,384.0,1724.0,509.0,224.0,128.0,82.0,82.0,82.0,142.0,449.0,142.0,210.0,128.0,449.0,449.0,449.0,116.0,120.0,120.0,120.0,120.0,128.0,128.0,246.0,142.0,210.0,128.0,256.0,127.0,119.0,128.0,509.0,82.0,82.0,142.0,128.0,128.0,128.0,284.0,2999.0,599.0,224.0,1087.0,38.0,38.0,38.0,38.0,38.0,38.0,38.0,38.0,38.0,38.0,38.0,38.0,38.0,38.0,120.0,120.0,195.0,120.0,120.0,360.0,120.0,120.0,120.0,38.0,38.0,38.0,38.0,76.0,38.0,38.0,76.0,224.0,299.0,120.0,120.0,120.0,76.0,152.0,190.0,190.0,134.0,1076.0,150.0,150.0,169.0,116.0,128.0,128.0,120.0,116.0,1949.0,376.0,1127.0,256.0,164.0,164.0,128.0,6097.0,1949.0,38.0,76.0,76.0,38.0,38.0,38.0,38.0,38.0,76.0,76.0,76.0,76.0,76.0,195.0,195.0,195.0,195.0,120.0,120.0,120.0,38.0,38.0,38.0,38.0,38.0,1087.0,232.0,1087.0,1087.0,74.0,44.0,139.0,188.0,150.0,150.0,169.0,128.0,169.0,169.0,169.0,135.0,135.0,135.0,1087.0,200.0,225.0,89.0,120.0,120.0,120.0,120.0,120.0,120.0,30.0,169.0,120.0,116.0,120.0,120.0,89.0,120.0,120.0,120.0,120.0,128.0,120.0,120.0,195.0,195.0,120.0,89.0,120.0,120.0,200.0,1087.0,128.0,82.0,82.0,82.0,82.0,142.0,142.0,142.0,210.0,128.0,128.0,128.0,142.0,568.0,6097.0,448.0,284.0,190.0,114.0,152.0,190.0,190.0,152.0,152.0,152.0,734.0,142.0,139.0,139.0,128.0,188.0,188.0,150.0,188.0,150.0,188.0,135.0,135.0,112.0,112.0,142.0,135.0,434.0,97.0,152.0,76.0,76.0,1125.0,76.0,76.0,76.0,300.0,1125.0,1125.0,76.0,76.0,76.0,300.0,1125.0,1642.0,135.0,135.0,157.0,299.0,1642.0,449.0,314.0,1087.0,749.0,134.0,120.0,120.0,120.0,120.0,120.0,76.0,76.0,38.0,76.0,76.0,157.0,169.0,195.0,120.0,120.0,120.0,120.0,120.0,15300.0,1087.0,74.0,1087.0,1087.0,120.0,195.0,120.0,120.0,120.0,120.0,120.0,60.0,60.0,60.0,60.0,60.0,60.0,120.0,120.0,120.0,120.0,164.0,164.0,164.0,82.0,128.0,188.0,188.0,188.0,338.0,128.0,112.0,157.0,750.0,600.0,652.0,164.0,82.0,142.0,210.0,210.0,210.0,142.0,210.0,256.0,1574.0,1920.0,1408.0,74.0,157.0,157.0,209.0,3562.0,195.0,120.0,120.0,120.0,120.0,120.0,1649.0,337.0,157.0,157.0,74.0,74.0,899.0,120.0,120.0,120.0,120.0,120.0,3925.0,284.0,1087.0,704.0,1530.0,328.0,128.0,157.0,974.0,38.0,90.0,90.0,38.0,76.0,38.0,38.0,120.0,120.0,120.0,120.0,734.0,6449.0,344.0,1499.0,1498.0,157.0,157.0,150.0,150.0,150.0,376.0,188.0,150.0,405.0,270.0,135.0,228.0,228.0,228.0,97.0,224.0,194.0,105.0,120.0,120.0,120.0,194.0,97.0,3787.0,1540.0,464.0,82.0,492.0,256.0,228.0,228.0,299.0,1799.0,1087.0,1799.0,188.0,150.0,338.0,188.0,169.0,169.0,89.0,188.0,120.0,116.0,120.0,89.0,191.0,120.0,191.0,120.0,120.0,120.0,120.0,210.0,120.0,120.0,89.0,120.0,191.0,240.0,191.0,397.0,22.0,3598.0,1799.0,299.0,134.0,4312.0,1920.0,38.0,149.0,164.0,38.0,217.0,1912.0,2926.0,1799.0,1799.0,2230.0,105.0,150.0,150.0,75.0,135.0,135.0,135.0,135.0,135.0,112.0,112.0,190.0,190.0,190.0,150.0,135.0,135.0,1799.0,2926.0,120.0,120.0,120.0,120.0,120.0,120.0,120.0,120.0,120.0,120.0,120.0,210.0,217.0,120.0,120.0,120.0,120.0,120.0,120.0,120.0,120.0,120.0,120.0,120.0,210.0,448.0,90.0,90.0,90.0,90.0,90.0,90.0,90.0,142.0,105.0,105.0,142.0,90.0,90.0,90.0,90.0,142.0,90.0,90.0,90.0,90.0,90.0,90.0,142.0,60.0,142.0,210.0,270.0,180.0,210.0,120.0,120.0,120.0,120.0,120.0,120.0,120.0,120.0,120.0,120.0,120.0,120.0,120.0,120.0,210.0,120.0,120.0,120.0,120.0,120.0,120.0,127.0,120.0,120.0,120.0,120.0,120.0,120.0,120.0,120.0,120.0,120.0,120.0,210.0,120.0,120.0,120.0,120.0,120.0,120.0,120.0,120.0,120.0,120.0,120.0,210.0,38.0,76.0,76.0,120.0,120.0,120.0,120.0,120.0,120.0,120.0,120.0,120.0,120.0,120.0,210.0,120.0,120.0,120.0,120.0,120.0,120.0,120.0,120.0,120.0,120.0,120.0,210.0,120.0,120.0,120.0,120.0,120.0,120.0,120.0,120.0,120.0,120.0,120.0,210.0,187.0,187.0,134.0,899.0,120.0,120.0,120.0,120.0,120.0,120.0,120.0,120.0,120.0,120.0,120.0,210.0,134.0,974.0,120.0,120.0,120.0,120.0,120.0,120.0,120.0,120.0,120.0,120.0,120.0,210.0,120.0,120.0,120.0,120.0,120.0,120.0,120.0,120.0,120.0,120.0,120.0,210.0,239.0,150.0,225.0,120.0,120.0,120.0,120.0,120.0,120.0,120.0,120.0,120.0,120.0,120.0,210.0,139.0,139.0,316.0,82.0,82.0,90.0,188.0,127.0,487.0,120.0,120.0,120.0,120.0,120.0,120.0,120.0,120.0,120.0,120.0,120.0,210.0,1949.0,1799.0,120.0,120.0,120.0,120.0,120.0,120.0,120.0,120.0,120.0,120.0,120.0,210.0,419.0,240.0,240.0,240.0,240.0,240.0,240.0,240.0,240.0,240.0,240.0,240.0,420.0,1087.0,487.0,74.0,1050.0,640.0,1050.0,640.0,120.0,120.0,134.0,120.0,120.0,120.0,120.0,120.0,120.0,120.0,120.0,120.0,120.0,120.0,210.0,135.0,135.0,135.0,135.0,135.0,135.0,540.0,1180.0,1664.0,299.0,734.0,11400.0,120.0,120.0,120.0,120.0,120.0,120.0,120.0,120.0,120.0,120.0,120.0,210.0,599.0,410.0,120.0,120.0,120.0,120.0,120.0,120.0,120.0,120.0,120.0,120.0,120.0,210.0,134.0,134.0,976.0,299.0,120.0,120.0,120.0,120.0,120.0,120.0,120.0,120.0,120.0,120.0,120.0,210.0,412.0,1087.0,1640.0,142.0,142.0,128.0,128.0,1649.0,120.0,120.0,120.0,120.0,120.0,120.0,120.0,120.0,120.0,120.0,120.0,210.0,1799.0,329.0,1799.0,90.0,90.0,90.0,90.0,90.0,90.0,90.0,142.0,105.0,105.0,142.0,90.0,90.0,90.0,90.0,142.0,90.0,90.0,90.0,90.0,90.0,90.0,142.0,60.0,142.0,210.0,270.0,180.0,210.0,90.0,90.0,90.0,90.0,90.0,90.0,90.0,142.0,105.0,105.0,142.0,90.0,90.0,90.0,90.0,142.0,90.0,90.0,90.0,90.0,90.0,90.0,142.0,60.0,142.0,210.0,270.0,180.0,210.0,360.0,120.0,152.0,1196.0,120.0,120.0,120.0,120.0,120.0,120.0,120.0,120.0,120.0,120.0,120.0,210.0,360.0,120.0,120.0,97.0,105.0,97.0,97.0,105.0,375.0,97.0,97.0,105.0,188.0,188.0,188.0,188.0,188.0,188.0,188.0,188.0,188.0,188.0,188.0,188.0,188.0,60.0,97.0,97.0,97.0,90.0,180.0,90.0,105.0,45.0,430.0,1087.0,120.0,120.0,120.0,120.0,120.0,120.0,120.0,120.0,120.0,120.0,120.0,210.0,97.0,75.0,120.0,15.0,15.0,224.0,224.0,120.0,120.0,120.0,120.0,120.0,120.0,120.0,120.0,120.0,120.0,120.0,210.0,1799.0,1762.0,328.0,3760.0,987.0,328.0,120.0,120.0,120.0,120.0,120.0,120.0,120.0,120.0,120.0,120.0,120.0,210.0,3598.0,120.0,120.0,120.0,120.0,120.0,120.0,120.0,120.0,120.0,120.0,120.0,210.0,299.0,4040.0,90.0,90.0,90.0,90.0,90.0,90.0,90.0,142.0,105.0,105.0,142.0,90.0,90.0,90.0,90.0,142.0,90.0,90.0,90.0,90.0,90.0,90.0,142.0,60.0,142.0,210.0,270.0,180.0,210.0,4040.0,120.0,120.0,120.0,120.0,120.0,120.0,120.0,120.0,120.0,120.0,120.0,210.0,120.0,120.0,120.0,120.0,120.0,120.0,120.0,120.0,120.0,120.0,120.0,210.0,105.0,150.0,105.0,105.0,105.0,105.0,105.0,97.0,74.0,5549.0,14.0,5549.0,120.0,120.0,120.0,120.0,120.0,120.0,120.0,120.0,120.0,120.0,120.0,210.0,445.0,105.0,150.0,105.0,105.0,105.0,105.0,105.0,97.0,120.0,120.0,120.0,120.0,120.0,120.0,120.0,120.0,120.0,120.0,120.0,210.0,472.0,120.0,120.0,120.0,120.0,120.0,120.0,120.0,120.0,120.0,120.0,120.0,210.0,5549.0,90.0,90.0,90.0,90.0,90.0,90.0,90.0,142.0,105.0,105.0,142.0,90.0,90.0,90.0,90.0,142.0,90.0,90.0,90.0,90.0,90.0,90.0,142.0,60.0,142.0,210.0,270.0,180.0,210.0,164.0,164.0,120.0,120.0,120.0,120.0,120.0,120.0,120.0,120.0,120.0,120.0,120.0,210.0,90.0,90.0,90.0,90.0,90.0,90.0,90.0,142.0,105.0,105.0,142.0,90.0,90.0,90.0,90.0,142.0,90.0,90.0,90.0,90.0,90.0,90.0,142.0,60.0,142.0,210.0,270.0,180.0,210.0,778.0,90.0,90.0,90.0,90.0,90.0,90.0,90.0,142.0,105.0,105.0,142.0,90.0,90.0,90.0,90.0,142.0,90.0,90.0,90.0,90.0,90.0,90.0,142.0,60.0,142.0,210.0,270.0,180.0,210.0,142.0,120.0,120.0,120.0,120.0,120.0,120.0,120.0,120.0,120.0,120.0,120.0,210.0,6494.0,296.0,194.0,734.0,52.0,2527.0,704.0,120.0,120.0,120.0,120.0,120.0,120.0,120.0,120.0,120.0,120.0,120.0,210.0,120.0,120.0,120.0,120.0,120.0,120.0,120.0,120.0,120.0,120.0,120.0,210.0,120.0,120.0,120.0,120.0,120.0,120.0,120.0,120.0,120.0,120.0,120.0,210.0,120.0,120.0,120.0,120.0,120.0,120.0,120.0,120.0,120.0,120.0,120.0,210.0,188.0,188.0,188.0,188.0,188.0,188.0,188.0,188.0,150.0,150.0,120.0,120.0,120.0,120.0,120.0,120.0,120.0,120.0,120.0,120.0,120.0,210.0,120.0,120.0,120.0,120.0,120.0,120.0,120.0,120.0,120.0,120.0,120.0,210.0,412.0,120.0,120.0,120.0,120.0,120.0,120.0,120.0,120.0,120.0,120.0,120.0,210.0,1087.0,120.0,120.0,120.0,120.0,120.0,120.0,120.0,120.0,120.0,120.0,120.0,210.0,15.0,208.0,134.0,750.0,120.0,120.0,120.0,120.0,120.0,120.0,120.0,120.0,120.0,120.0,120.0,210.0,974.0,120.0,120.0,120.0,120.0,120.0,120.0,120.0,120.0,120.0,120.0,120.0,210.0,120.0,120.0,120.0,120.0,120.0,120.0,120.0,120.0,120.0,120.0,120.0,210.0,120.0,120.0,120.0,120.0,120.0,120.0,120.0,120.0,120.0,120.0,120.0,210.0,49432.0,1087.0,134.0,120.0,120.0,120.0,120.0,120.0,120.0,120.0,120.0,120.0,120.0,120.0,210.0,336.0,7004.0,824.0,120.0,120.0,120.0,120.0,120.0,120.0,120.0,120.0,120.0,120.0,120.0,210.0,6809.0,150.0,188.0,188.0,188.0,150.0,135.0,112.0,120.0,120.0,120.0,120.0,120.0,120.0,120.0,120.0,120.0,120.0,120.0,210.0,2549.0,487.0,296.0,734.0,120.0,120.0,120.0,120.0,120.0,120.0,120.0,120.0,120.0,120.0,120.0,210.0,120.0,120.0,120.0,120.0,120.0,120.0,120.0,120.0,120.0,120.0,120.0,210.0,704.0,120.0,120.0,120.0,120.0,120.0,120.0,120.0,120.0,120.0,120.0,120.0,210.0,8832.0,135.0,120.0,120.0,120.0,120.0,120.0,120.0,120.0,120.0,120.0,120.0,120.0,210.0,6614.0,120.0,120.0,120.0,120.0,120.0,120.0,120.0,120.0,120.0,120.0,120.0,210.0,539.0,899.0,208.0,120.0,120.0,120.0,120.0,120.0,120.0,120.0,120.0,120.0,120.0,120.0,210.0,899.0,150.0,75.0,135.0,112.0,112.0,120.0,120.0,120.0,120.0,120.0,120.0,120.0,120.0,120.0,120.0,120.0,210.0,450.0,164.0,388.0,899.0,704.0,734.0,1880.0,120.0,120.0,120.0,120.0,120.0,120.0,120.0,120.0,120.0,120.0,120.0,210.0,749.0,734.0,120.0,120.0,120.0,120.0,120.0,120.0,120.0,120.0,120.0,120.0,120.0,210.0,120.0,120.0,120.0,120.0,120.0,120.0,120.0,120.0,120.0,120.0,120.0,210.0,120.0,120.0,120.0,120.0,120.0,120.0,120.0,120.0,120.0,120.0,120.0,210.0,1574.0,120.0,120.0,120.0,120.0,120.0,120.0,120.0,120.0,120.0,120.0,120.0,210.0,74.0,120.0,120.0,120.0,120.0,120.0,120.0,120.0,120.0,120.0,120.0,120.0,210.0,3749.0,120.0,120.0,120.0,120.0,120.0,120.0,120.0,120.0,120.0,120.0,120.0,210.0,120.0,120.0,120.0,120.0,120.0,120.0,120.0,120.0,120.0,120.0,120.0,210.0,1574.0,120.0,120.0,120.0,120.0,120.0,120.0,120.0,120.0,120.0,120.0,120.0,210.0,704.0,120.0,120.0,120.0,120.0,120.0,120.0,120.0,120.0,120.0,120.0,120.0,210.0,120.0,120.0,120.0,120.0,120.0,120.0,120.0,120.0,120.0,120.0,120.0,210.0,1649.0,120.0,120.0,120.0,120.0,120.0,120.0,120.0,120.0,120.0,120.0,120.0,210.0,291.0,210.0,315.0,210.0,976.0,450.0,1087.0,120.0,120.0,1087.0,120.0,120.0,120.0,120.0,120.0,120.0,120.0,120.0,120.0,120.0,120.0,210.0,291.0,210.0,315.0,210.0,976.0,450.0,1162.0,3974.0,291.0,210.0,315.0,210.0,976.0,450.0,487.0,300.0,752.0,752.0,128.0,128.0,82.0,82.0,142.0,128.0,120.0,120.0,120.0,120.0,120.0,120.0,120.0,120.0,120.0,120.0,120.0,210.0,239.0,2549.0,2549.0,268.0,239.0,120.0,120.0,120.0,120.0,120.0,120.0,120.0,120.0,120.0,120.0,120.0,210.0,675000.0,1649.0,120.0,120.0,120.0,120.0,120.0,120.0,120.0,120.0,120.0,120.0,120.0,210.0,120.0,120.0,120.0,120.0,120.0,120.0,120.0,120.0,120.0,120.0,120.0,210.0,90.0,90.0,112.0,135.0,135.0,524.0,749.0,135.0,135.0,1649.0,402.0,974.0,164.0,1800.0,157.0,74.0,1087.0,524.0,1800.0,157.0,187.0,120.0,120.0,120.0,120.0,120.0,120.0,120.0,120.0,120.0,120.0,120.0,210.0,164.0,74.0,1275.0,164.0,82.0,128.0,120.0,120.0,120.0,120.0,120.0,120.0,120.0,120.0,120.0,120.0,120.0,210.0,120.0,120.0,120.0,120.0,120.0,120.0,120.0,120.0,120.0,120.0,120.0,210.0,164.0,82.0,128.0,560.0,164.0,82.0,128.0,90.0,112.0,90.0,90.0,112.0,90.0,90.0,90.0,90.0,90.0,1087.0,142.0,449.0,734.0,600.0,1087.0,1087.0,374.0,134.0,188.0,150.0,150.0,134.0,188.0,188.0,188.0,188.0,150.0,824.0,90.0,90.0,90.0,90.0,120.0,90.0,90.0,488.0,376.0,824.0,1520.0,262.0,262.0,194.0,974.0,1837.0,200.0,149.0,1087.0,314.0,97.0,1087.0,674.0,254.0,1348.0,492.0,374.0,2324.0,2324.0,1087.0,734.0,402.0,1087.0,120.0,178.0,120.0,120.0,120.0,120.0,120.0,120.0,449.0,427.0,5939.0,376.0,188.0,188.0,188.0,150.0,135.0,976.0,976.0,976.0,614.0,149.0,1424.0,210.0,210.0,254.0,147.0,560.0,9.0,11.0,188.0,188.0,188.0,1087.0,600.0,188.0,188.0,150.0,135.0,188.0,135.0,135.0,30.0,2527.0,787.0,599.0,749.0,596.0,2527.0,134.0,404.0,150.0,150.0,150.0,150.0,150.0,150.0,150.0,135.0,135.0,112.0,1087.0,105.0,97.0,97.0,105.0,105.0,105.0,38.0,38.0,38.0,120.0,134.0,60.0,60.0,60.0,188.0,75.0,75.0,60.0,60.0,60.0,60.0,60.0,38.0,120.0,150.0,120.0,60.0,180.0,60.0,120.0,202.0,120.0,262.0,158.0,120.0,88.0,697.0,3899.0,179.0,3147.0,74.0,1949.0,427.0,502.0,74.0,2527.0,449.0,1087.0,4494.0,329.0,157.0,488.0,74.0,412.0,134.0,164.0,120.0,89.0,164.0,15.0,60.0,139.0,139.0,139.0,15.0,22.0,38.0,60.0,60.0,120.0,120.0,60.0,38.0,38.0,38.0,38.0,38.0,38.0,38.0,38.0,38.0,38.0,38.0,30.0,22.0,397.0,89.0,188.0,128.0,120.0,45.0,52.0,599.0,120.0,89.0,15.0,60.0,139.0,139.0,139.0,15.0,22.0,38.0,60.0,120.0,120.0,60.0,38.0,38.0,38.0,38.0,38.0,38.0,38.0,38.0,38.0,38.0,38.0,30.0,22.0,120.0,89.0,295.0,52.0,89.0,188.0,128.0,120.0,120.0,45.0,52.0,277.0,328.0,464.0,120.0,89.0,2699.0,120.0,89.0,674.0,2699.0,277.0,2699.0,15.0,60.0,15.0,22.0,38.0,60.0,60.0,120.0,120.0,60.0,30.0,22.0,239.0,239.0,194.0,674.0,134.0,478.0,190.0,2249.0,592.0,1349.0,413.0,104.0,59.0,2174.0,7870.0,568.0,158.0,1087.0,500.0,1424.0,1424.0,2924.0,1424.0,1798.0,254.0,749.0,254.0,157.0,3787.0,1087.0,44.0,157.0,552.0,734.0,59.0,254.0,187.0,950.0,697.0,1762.0,134.0,652.0,134.0,118.0,569.0,4390.0,247.0,1649.0,66.0,119.0,66.0,66.0,1874.0,1087.0,6148.0,194.0,899.0,1649.0,389.0,749.0,598.0,3375.0,3674.0,3748.0,1087.0,3449.0,149.0,449.0,352.0,656.0,820.0,164.0,820.0,2527.0,449.0,74.0,427.0,268.0,2249.0,2699.0,656.0,820.0,164.0,820.0,674.0,614.0,1199.0,577.0,1612.0,412.0,59.0,188.0,188.0,188.0,188.0,188.0,188.0,935.0,2025.0,375.0,2136.0,2025.0,434.0,749.0,830.0,220.0,3749.0,674.0,1034.0,127.0,74.0,577.0,2025.0,830.0,58.0,1424.0,188.0,135.0,1649.0,464.0,830.0,1649.0,188.0,338.0,150.0,592.0,300.0,300.0,554.0,2699.0,1087.0,599.0,749.0,2025.0,562.0,638.0,134.0,1087.0,734.0,674.0,150.0,150.0,135.0,135.0,135.0,135.0,1800.0,242.0,118.0,1101.0,198.0,220.0,89.0,1447.0,52.0,42.0,2025.0,1274.0,1087.0,1162.0,118.0,14917.0,118.0,7679.0,150.0,150.0,1087.0,1162.0,1124.0,149.0,449.0,404.0,7199.0,2025.0,1648.0,974.0,8810.0,614.0,899.0,247.0,74.0,8810.0,2527.0,44.0,97.0,120.0,120.0,120.0,120.0,30.0,82.0,337.0,247.0,745.0,97.0,22.0,2527.0,150.0,4574.0,22.0,599.0,254.0,1087.0,97.0,1087.0,2025.0,402.0,592.0,1177.0,2774.0,1177.0,134.0,442.0,442.0,89.0,840.0,1087.0,97.0,1499.0,734.0,2699.0,134.0,224.0,74.0,1162.0,1612.0,420.0,524.0,1204.0,134.0,1199.0,1162.0,74.0,299.0,299.0,440.0,268.0,1125.0,1874.0,1108.0,1124.0,509.0,1050.0,300.0,127.0,116.0,134.0,1087.0,582.0,208.0,116.0,787.0,525.0,674.0,2549.0,2549.0,975.0,404.0,110.0,134.0,449.0,3674.0,524.0,2699.0,674.0,3562.0,577.0,838.0,449.0,5399.0,564.0,90.0,376.0,752.0,270.0,270.0,270.0,540.0,90.0,2399.0,1574.0,472.0,139.0,135.0,135.0,135.0,635.0,370.0,172.0,1649.0,1649.0,1649.0,134.0,750.0,284.0,734.0,195.0,3449.0,3449.0,2549.0,674.0,614.0,194.0,525.0,134.0,74.0,562.0,375.0,4495.0,1087.0,74.0,1087.0,104.0,899.0,188.0,135.0,270.0,135.0,487.0,450.0,1349.0,1349.0,188.0,1642.0,1124.0,188.0,188.0,188.0,546.0,202.0,105.0,105.0,135.0,450.0,157.0,450.0,111.0,59.0,7349.0,82.0,45.0,6449.0,450.0,614.0,569.0,1087.0,749.0,1087.0,1087.0,374.0,374.0,1837.0,1087.0,299.0,1368.0,412.0,150.0,831.0,412.0,1912.0,389.0,1900.0,1124.0,1087.0,374.0,135.0,135.0,135.0,135.0,135.0,164.0,712.0,134.0,525.0,262.0,1087.0,968.0,4574.0,968.0,1087.0,1649.0,3524.0,402.0,1649.0,374.0,74.0,74.0,145.0,1050.0,389.0,968.0,188.0,300.0,1856.0,2699.0,1649.0,599.0,412.0,320.0,1949.0,52.0,412.0,1319.0,1034.0,1087.0,1349.0,450.0,1874.0,1060.0,1060.0,412.0,1087.0,389.0,164.0,412.0,1049.0,1087.0,2624.0,75.0,1949.0,59.0,374.0,268.0,225.0,157.0,188.0,134.0,134.0,1612.0,1612.0,374.0,2137.0,134.0,674.0,374.0,128.0,449.0,1424.0,1612.0,748.0,4648.0,1034.0,29.0,66.0,187.0,899.0,449.0,599.0,3524.0,4574.0,239.0,1612.0,974.0,1087.0,74.0,195.0,225.0,195.0,2249.0,1612.0,3375.0,74.0,1050.0,254.0,599.0,1124.0,1087.0,600.0,734.0,749.0,1124.0,5594.0,1087.0,1087.0,1124.0,599.0,3898.0,599.0,675.0,524.0,448.0,202.0,596.0,134.0,596.0,157.0,1087.0,1499.0,134.0,1649.0,750.0,150.0,157.0,157.0,3375.0,30.0,562.0,134.0,1574.0,487.0,134.0,188.0,29.0,134.0,1087.0,1499.0,824.0,1274.0,3598.0,59.0,524.0,478.0,450.0,1649.0,7496.0,614.0,74.0,1425.0,127.0,2774.0,3599.0,1124.0,824.0,1087.0,74.0,1349.0,577.0,127.0,269.0,188.0,135.0,135.0,135.0,135.0,74.0,2249.0,3600.0,750.0,2249.0,134.0,598.0,74.0,4274.0,375.0,672.0,11.0,11.0,10.0,169.0,169.0,120.0,120.0,37.0,37.0,104.0,14.0,14.0,10.0,10.0,22.0,260.0,638.0,262.0,262.0,262.0,120.0,120.0,262.0,120.0,120.0,1210.0,262.0,22.0,224.0,217.0,52.0,2099.0,412.0,135.0,135.0,135.0,135.0,135.0,787.0,134.0,674.0,3290.0,674.0,1087.0,134.0,554.0,307.0,299.0,299.0,74.0,134.0,150.0,150.0,150.0,150.0,74.0,156.0,734.0,300.0,734.0,3580.0,402.0,599.0,472.0,149.0,1649.0,734.0,1087.0,1199.0,3599.0,637.0,1424.0,658.0,1424.0,188.0,150.0,150.0,135.0,135.0,135.0,135.0,135.0,112.0,1574.0,974.0,150.0,135.0,135.0,1649.0,745.0,2324.0,862.0,112.0,74.0,157.0,599.0,1199.0,1424.0,1424.0,1124.0,74.0,157.0,4560.0,599.0,1087.0,599.0,1574.0,374.0,5136.0,74.0,74.0,404.0,1660.0,1660.0,66.0,1087.0,119.0,404.0,174.0,1168.0,188.0,188.0,135.0,135.0,704.0,74.0,3975.0,3975.0,2360.0,2360.0,29.0,599.0,2360.0,59.0,172.0,404.0,2024.0,2024.0,599.0,224.0,1649.0,224.0,74.0,328.0,599.0,1199.0,2024.0,329.0,1498.0,119.0,1424.0,119.0,487.0,1087.0,119.0,697.0,734.0,187.0,224.0,1900.0,3712.0,749.0,2360.0,112.0,5420.0,149.0,135.0,638.0,187.0,1199.0,374.0,37.0,599.0,517.0,974.0,599.0,374.0,135.0,262.0,262.0,128.0,128.0,224.0,224.0,224.0,112.0,312.0,2849.0,1649.0,1649.0,599.0,2080.0,524.0,524.0,328.0,1087.0,5420.0,1087.0,225.0,262.0,149.0,1500.0,6075.0,202.0,329.0,1087.0,1087.0,88.0,4724.0,135.0,135.0,2774.0,2774.0,938.0,149.0,1012.0,149.0,1500.0,149.0,1228.0,2849.0,637.0,127.0,1228.0,314.0,974.0,74.0,937.0,187.0,74.0,974.0,472.0,142.0,914.0,674.0,3149.0,224.0,3524.0,222.0,974.0,4198.0,202.0,150.0,135.0,135.0,135.0,1087.0,1087.0,1949.0,1649.0,6600.0,224.0,439.0,7724.0,149.0,404.0,824.0,1500.0,862.0,149.0,2474.0,445.0,1048.0,974.0,862.0,974.0,232.0,2474.0,1087.0,220.0,149.0,1048.0,900.0,749.0,824.0,157.0,149.0,240.0,156.0,742.0,150.0,150.0,150.0,4124.0,240.0,200.0,22.0,570.0,824.0,1574.0,1087.0,352.0,352.0,37.0,1087.0,637.0,134.0,1087.0,524.0,177.0,376.0,577.0,2550.0,375.0,2399.0,3298.0,697.0,74.0,3200.0,74.0,6899.0,1048.0,3779.0,58.0,439.0,1649.0,500.0,112.0,1649.0,952.0,562.0,952.0,148.0,224.0,224.0,254.0,148.0,224.0,134.0,1087.0,1087.0,4400.0,1034.0,74.0,749.0,134.0,149.0,344.0,149.0,149.0,397.0,1087.0,447.0,509.0,1349.0,88.0,1949.0,524.0,119.0,899.0,127.0,314.0,397.0,397.0,112.0,329.0,404.0,1087.0,157.0,397.0,1087.0],\"type\":\"scatter\"}],                        {\"template\":{\"data\":{\"bar\":[{\"error_x\":{\"color\":\"#2a3f5f\"},\"error_y\":{\"color\":\"#2a3f5f\"},\"marker\":{\"line\":{\"color\":\"#E5ECF6\",\"width\":0.5},\"pattern\":{\"fillmode\":\"overlay\",\"size\":10,\"solidity\":0.2}},\"type\":\"bar\"}],\"barpolar\":[{\"marker\":{\"line\":{\"color\":\"#E5ECF6\",\"width\":0.5},\"pattern\":{\"fillmode\":\"overlay\",\"size\":10,\"solidity\":0.2}},\"type\":\"barpolar\"}],\"carpet\":[{\"aaxis\":{\"endlinecolor\":\"#2a3f5f\",\"gridcolor\":\"white\",\"linecolor\":\"white\",\"minorgridcolor\":\"white\",\"startlinecolor\":\"#2a3f5f\"},\"baxis\":{\"endlinecolor\":\"#2a3f5f\",\"gridcolor\":\"white\",\"linecolor\":\"white\",\"minorgridcolor\":\"white\",\"startlinecolor\":\"#2a3f5f\"},\"type\":\"carpet\"}],\"choropleth\":[{\"colorbar\":{\"outlinewidth\":0,\"ticks\":\"\"},\"type\":\"choropleth\"}],\"contour\":[{\"colorbar\":{\"outlinewidth\":0,\"ticks\":\"\"},\"colorscale\":[[0.0,\"#0d0887\"],[0.1111111111111111,\"#46039f\"],[0.2222222222222222,\"#7201a8\"],[0.3333333333333333,\"#9c179e\"],[0.4444444444444444,\"#bd3786\"],[0.5555555555555556,\"#d8576b\"],[0.6666666666666666,\"#ed7953\"],[0.7777777777777778,\"#fb9f3a\"],[0.8888888888888888,\"#fdca26\"],[1.0,\"#f0f921\"]],\"type\":\"contour\"}],\"contourcarpet\":[{\"colorbar\":{\"outlinewidth\":0,\"ticks\":\"\"},\"type\":\"contourcarpet\"}],\"heatmap\":[{\"colorbar\":{\"outlinewidth\":0,\"ticks\":\"\"},\"colorscale\":[[0.0,\"#0d0887\"],[0.1111111111111111,\"#46039f\"],[0.2222222222222222,\"#7201a8\"],[0.3333333333333333,\"#9c179e\"],[0.4444444444444444,\"#bd3786\"],[0.5555555555555556,\"#d8576b\"],[0.6666666666666666,\"#ed7953\"],[0.7777777777777778,\"#fb9f3a\"],[0.8888888888888888,\"#fdca26\"],[1.0,\"#f0f921\"]],\"type\":\"heatmap\"}],\"heatmapgl\":[{\"colorbar\":{\"outlinewidth\":0,\"ticks\":\"\"},\"colorscale\":[[0.0,\"#0d0887\"],[0.1111111111111111,\"#46039f\"],[0.2222222222222222,\"#7201a8\"],[0.3333333333333333,\"#9c179e\"],[0.4444444444444444,\"#bd3786\"],[0.5555555555555556,\"#d8576b\"],[0.6666666666666666,\"#ed7953\"],[0.7777777777777778,\"#fb9f3a\"],[0.8888888888888888,\"#fdca26\"],[1.0,\"#f0f921\"]],\"type\":\"heatmapgl\"}],\"histogram\":[{\"marker\":{\"pattern\":{\"fillmode\":\"overlay\",\"size\":10,\"solidity\":0.2}},\"type\":\"histogram\"}],\"histogram2d\":[{\"colorbar\":{\"outlinewidth\":0,\"ticks\":\"\"},\"colorscale\":[[0.0,\"#0d0887\"],[0.1111111111111111,\"#46039f\"],[0.2222222222222222,\"#7201a8\"],[0.3333333333333333,\"#9c179e\"],[0.4444444444444444,\"#bd3786\"],[0.5555555555555556,\"#d8576b\"],[0.6666666666666666,\"#ed7953\"],[0.7777777777777778,\"#fb9f3a\"],[0.8888888888888888,\"#fdca26\"],[1.0,\"#f0f921\"]],\"type\":\"histogram2d\"}],\"histogram2dcontour\":[{\"colorbar\":{\"outlinewidth\":0,\"ticks\":\"\"},\"colorscale\":[[0.0,\"#0d0887\"],[0.1111111111111111,\"#46039f\"],[0.2222222222222222,\"#7201a8\"],[0.3333333333333333,\"#9c179e\"],[0.4444444444444444,\"#bd3786\"],[0.5555555555555556,\"#d8576b\"],[0.6666666666666666,\"#ed7953\"],[0.7777777777777778,\"#fb9f3a\"],[0.8888888888888888,\"#fdca26\"],[1.0,\"#f0f921\"]],\"type\":\"histogram2dcontour\"}],\"mesh3d\":[{\"colorbar\":{\"outlinewidth\":0,\"ticks\":\"\"},\"type\":\"mesh3d\"}],\"parcoords\":[{\"line\":{\"colorbar\":{\"outlinewidth\":0,\"ticks\":\"\"}},\"type\":\"parcoords\"}],\"pie\":[{\"automargin\":true,\"type\":\"pie\"}],\"scatter\":[{\"marker\":{\"colorbar\":{\"outlinewidth\":0,\"ticks\":\"\"}},\"type\":\"scatter\"}],\"scatter3d\":[{\"line\":{\"colorbar\":{\"outlinewidth\":0,\"ticks\":\"\"}},\"marker\":{\"colorbar\":{\"outlinewidth\":0,\"ticks\":\"\"}},\"type\":\"scatter3d\"}],\"scattercarpet\":[{\"marker\":{\"colorbar\":{\"outlinewidth\":0,\"ticks\":\"\"}},\"type\":\"scattercarpet\"}],\"scattergeo\":[{\"marker\":{\"colorbar\":{\"outlinewidth\":0,\"ticks\":\"\"}},\"type\":\"scattergeo\"}],\"scattergl\":[{\"marker\":{\"colorbar\":{\"outlinewidth\":0,\"ticks\":\"\"}},\"type\":\"scattergl\"}],\"scattermapbox\":[{\"marker\":{\"colorbar\":{\"outlinewidth\":0,\"ticks\":\"\"}},\"type\":\"scattermapbox\"}],\"scatterpolar\":[{\"marker\":{\"colorbar\":{\"outlinewidth\":0,\"ticks\":\"\"}},\"type\":\"scatterpolar\"}],\"scatterpolargl\":[{\"marker\":{\"colorbar\":{\"outlinewidth\":0,\"ticks\":\"\"}},\"type\":\"scatterpolargl\"}],\"scatterternary\":[{\"marker\":{\"colorbar\":{\"outlinewidth\":0,\"ticks\":\"\"}},\"type\":\"scatterternary\"}],\"surface\":[{\"colorbar\":{\"outlinewidth\":0,\"ticks\":\"\"},\"colorscale\":[[0.0,\"#0d0887\"],[0.1111111111111111,\"#46039f\"],[0.2222222222222222,\"#7201a8\"],[0.3333333333333333,\"#9c179e\"],[0.4444444444444444,\"#bd3786\"],[0.5555555555555556,\"#d8576b\"],[0.6666666666666666,\"#ed7953\"],[0.7777777777777778,\"#fb9f3a\"],[0.8888888888888888,\"#fdca26\"],[1.0,\"#f0f921\"]],\"type\":\"surface\"}],\"table\":[{\"cells\":{\"fill\":{\"color\":\"#EBF0F8\"},\"line\":{\"color\":\"white\"}},\"header\":{\"fill\":{\"color\":\"#C8D4E3\"},\"line\":{\"color\":\"white\"}},\"type\":\"table\"}]},\"layout\":{\"annotationdefaults\":{\"arrowcolor\":\"#2a3f5f\",\"arrowhead\":0,\"arrowwidth\":1},\"autotypenumbers\":\"strict\",\"coloraxis\":{\"colorbar\":{\"outlinewidth\":0,\"ticks\":\"\"}},\"colorscale\":{\"diverging\":[[0,\"#8e0152\"],[0.1,\"#c51b7d\"],[0.2,\"#de77ae\"],[0.3,\"#f1b6da\"],[0.4,\"#fde0ef\"],[0.5,\"#f7f7f7\"],[0.6,\"#e6f5d0\"],[0.7,\"#b8e186\"],[0.8,\"#7fbc41\"],[0.9,\"#4d9221\"],[1,\"#276419\"]],\"sequential\":[[0.0,\"#0d0887\"],[0.1111111111111111,\"#46039f\"],[0.2222222222222222,\"#7201a8\"],[0.3333333333333333,\"#9c179e\"],[0.4444444444444444,\"#bd3786\"],[0.5555555555555556,\"#d8576b\"],[0.6666666666666666,\"#ed7953\"],[0.7777777777777778,\"#fb9f3a\"],[0.8888888888888888,\"#fdca26\"],[1.0,\"#f0f921\"]],\"sequentialminus\":[[0.0,\"#0d0887\"],[0.1111111111111111,\"#46039f\"],[0.2222222222222222,\"#7201a8\"],[0.3333333333333333,\"#9c179e\"],[0.4444444444444444,\"#bd3786\"],[0.5555555555555556,\"#d8576b\"],[0.6666666666666666,\"#ed7953\"],[0.7777777777777778,\"#fb9f3a\"],[0.8888888888888888,\"#fdca26\"],[1.0,\"#f0f921\"]]},\"colorway\":[\"#636efa\",\"#EF553B\",\"#00cc96\",\"#ab63fa\",\"#FFA15A\",\"#19d3f3\",\"#FF6692\",\"#B6E880\",\"#FF97FF\",\"#FECB52\"],\"font\":{\"color\":\"#2a3f5f\"},\"geo\":{\"bgcolor\":\"white\",\"lakecolor\":\"white\",\"landcolor\":\"#E5ECF6\",\"showlakes\":true,\"showland\":true,\"subunitcolor\":\"white\"},\"hoverlabel\":{\"align\":\"left\"},\"hovermode\":\"closest\",\"mapbox\":{\"style\":\"light\"},\"paper_bgcolor\":\"white\",\"plot_bgcolor\":\"#E5ECF6\",\"polar\":{\"angularaxis\":{\"gridcolor\":\"white\",\"linecolor\":\"white\",\"ticks\":\"\"},\"bgcolor\":\"#E5ECF6\",\"radialaxis\":{\"gridcolor\":\"white\",\"linecolor\":\"white\",\"ticks\":\"\"}},\"scene\":{\"xaxis\":{\"backgroundcolor\":\"#E5ECF6\",\"gridcolor\":\"white\",\"gridwidth\":2,\"linecolor\":\"white\",\"showbackground\":true,\"ticks\":\"\",\"zerolinecolor\":\"white\"},\"yaxis\":{\"backgroundcolor\":\"#E5ECF6\",\"gridcolor\":\"white\",\"gridwidth\":2,\"linecolor\":\"white\",\"showbackground\":true,\"ticks\":\"\",\"zerolinecolor\":\"white\"},\"zaxis\":{\"backgroundcolor\":\"#E5ECF6\",\"gridcolor\":\"white\",\"gridwidth\":2,\"linecolor\":\"white\",\"showbackground\":true,\"ticks\":\"\",\"zerolinecolor\":\"white\"}},\"shapedefaults\":{\"line\":{\"color\":\"#2a3f5f\"}},\"ternary\":{\"aaxis\":{\"gridcolor\":\"white\",\"linecolor\":\"white\",\"ticks\":\"\"},\"baxis\":{\"gridcolor\":\"white\",\"linecolor\":\"white\",\"ticks\":\"\"},\"bgcolor\":\"#E5ECF6\",\"caxis\":{\"gridcolor\":\"white\",\"linecolor\":\"white\",\"ticks\":\"\"}},\"title\":{\"x\":0.05},\"xaxis\":{\"automargin\":true,\"gridcolor\":\"white\",\"linecolor\":\"white\",\"ticks\":\"\",\"title\":{\"standoff\":15},\"zerolinecolor\":\"white\",\"zerolinewidth\":2},\"yaxis\":{\"automargin\":true,\"gridcolor\":\"white\",\"linecolor\":\"white\",\"ticks\":\"\",\"title\":{\"standoff\":15},\"zerolinecolor\":\"white\",\"zerolinewidth\":2}}},\"title\":{\"text\":\"\\u0414\\u0438\\u043d\\u0430\\u043c\\u0438\\u043a\\u0430 \\u0432\\u044b\\u0440\\u0443\\u0447\\u043a\\u0438 \\u0437\\u0430 \\u0432\\u0435\\u0441\\u044c \\u043f\\u0435\\u0440\\u0438\\u043e\\u0434\",\"xanchor\":\"center\",\"x\":0.5},\"yaxis\":{\"title\":{\"text\":\"\\u0412\\u044b\\u0440\\u0443\\u0447\\u043a\\u0430\"}},\"xaxis\":{\"title\":{\"text\":\"\\u0414\\u0430\\u0442\\u0430\"}}},                        {\"responsive\": true}                    ).then(function(){\n",
       "                            \n",
       "var gd = document.getElementById('8fd36e42-ada0-4b33-8356-38e199e86296');\n",
       "var x = new MutationObserver(function (mutations, observer) {{\n",
       "        var display = window.getComputedStyle(gd).display;\n",
       "        if (!display || display === 'none') {{\n",
       "            console.log([gd, 'removed!']);\n",
       "            Plotly.purge(gd);\n",
       "            observer.disconnect();\n",
       "        }}\n",
       "}});\n",
       "\n",
       "// Listen for the removal of the full notebook cells\n",
       "var notebookContainer = gd.closest('#notebook-container');\n",
       "if (notebookContainer) {{\n",
       "    x.observe(notebookContainer, {childList: true});\n",
       "}}\n",
       "\n",
       "// Listen for the clearing of the current output cell\n",
       "var outputEl = gd.closest('.output');\n",
       "if (outputEl) {{\n",
       "    x.observe(outputEl, {childList: true});\n",
       "}}\n",
       "\n",
       "                        })                };                            </script>        </div>\n",
       "</body>\n",
       "</html>"
      ]
     },
     "metadata": {},
     "output_type": "display_data"
    }
   ],
   "source": [
    "fig = go.Figure(data=go.Scatter(x=df['date'], \n",
    "                                y=df['total'], \n",
    "                                mode='lines',\n",
    "                                stackgroup='one'))\n",
    "fig.update_layout(\n",
    "    title={\n",
    "        'text': \"Динамика выручки за весь период\",\n",
    "        'xanchor': 'center',\n",
    "        'x':0.5\n",
    "    },\n",
    "    yaxis_title=\"Выручка\",\n",
    "    xaxis_title=\"Дата\")\n",
    "fig.show()"
   ]
  },
  {
   "cell_type": "markdown",
   "metadata": {},
   "source": [
    "Если рассматривать все товары, то сезонность не наблюдается. Есть выброс летом, но это не показатель"
   ]
  },
  {
   "cell_type": "markdown",
   "metadata": {},
   "source": [
    "### Проанализируем торговый ассортимент\n",
    "- Разобьем проданные товары на категории\n",
    "- Выясним какие категории товаров приносят наибольший доход\n",
    "- Проверим товары на сезонность"
   ]
  },
  {
   "cell_type": "code",
   "execution_count": 24,
   "metadata": {},
   "outputs": [],
   "source": [
    "dacha = ['растение','пеларгония','помидор', 'герань','петуния','горшке','бакопа',\n",
    "          'кассете','калибрахоа', 'базилик', 'петрушка', 'томат', 'кашпо',\n",
    "          'лобелия', 'фуксия', 'вербена', 'цветк', 'смесь', \"микс\", 'земляника', \n",
    "          'клубника', 'ель', 'упаков', 'укроп', 'd-', 'камнеломка', 'примула',\n",
    "          'вербейник', 'колокольчик', 'цикламен', 'барвинок', 'дыня', 'овсянница',\n",
    "          'папоротник', 'кипарис', 'бегония', 'осина', 'арбуз',' г ','рассада','муляж', 'искусственн'\n",
    "          'черенок''корыт', 'таз', 'контейнер', 'бак ', 'мусор', 'ведр', 'урна', 'корзин',\n",
    "          'бидон', 'ковш','коробка', 'емкость']\n",
    "\n",
    "dom = ['покрытие', 'перчат', 'почтов','чехол','ковр', 'ткан', 'штор', 'ковер',\n",
    "       'термометр', 'ковёр', 'светил', 'весы','одеял', 'простын', 'подуш', 'плед',\n",
    "       'матрас', 'мыло', 'покрывало', 'спальн','наволочка','тряп', 'швабр', 'совок', 'гладил', 'глажен', 'прищеп',\n",
    "       'налет', 'антижир', 'пылесос', 'крем', 'стир', 'щетка', 'сушилк', 'веник', \n",
    "       'подрукавник', 'совком', 'для чистки', 'стирки', 'мыть', 'средство','мойк','ванн', 'полотен', 'ёрш',\n",
    "       'ерш', 'зуб', 'вантуз', 'халат',]\n",
    "\n",
    "stroy = ['полки', 'вешал', 'плечики', 'стеллаж', 'хранен', 'крючок', \"этажерка\", 'комод', \n",
    "         'подставка', 'полка', 'кофр', 'лоток','инструмент', 'сверел', 'сверло', 'напильник',\n",
    "         'стремянк', 'стяжк', 'шпингалет', 'сварка', 'миксер', 'крепеж', 'пружин', 'петл',\n",
    "         'линейк', 'гои','корыт', 'таз', 'контейнер', 'бак ', 'мусор', 'ведр', 'урна', 'корзин',\n",
    "         'бидон', 'ковш', 'коробка', 'емкость','сумка', 'тележ']"
   ]
  },
  {
   "cell_type": "code",
   "execution_count": 25,
   "metadata": {},
   "outputs": [],
   "source": [
    "#функция присвоения категории\n",
    "df['category'] = 0\n",
    "def categor(words, category):\n",
    "  join = '|'.join(words)\n",
    "  index = df[df['product'].str.lower().str.contains(join)].index.to_list()\n",
    "  for i in index:\n",
    "    df.loc[i, 'category'] = category\n",
    "  return df"
   ]
  },
  {
   "cell_type": "code",
   "execution_count": 26,
   "metadata": {},
   "outputs": [],
   "source": [
    "# присвоим категории товарам в нашем датафрейме\n",
    "categor(dacha, 'Огород')\n",
    "categor(dom, 'Дом')\n",
    "categor(stroy, 'Ремонт')\n",
    "df['category'] = df['category'].apply(lambda x: 'Разное' if (x==0) else x)"
   ]
  },
  {
   "cell_type": "code",
   "execution_count": 27,
   "metadata": {},
   "outputs": [
    {
     "data": {
      "text/html": [
       "<div>\n",
       "<style scoped>\n",
       "    .dataframe tbody tr th:only-of-type {\n",
       "        vertical-align: middle;\n",
       "    }\n",
       "\n",
       "    .dataframe tbody tr th {\n",
       "        vertical-align: top;\n",
       "    }\n",
       "\n",
       "    .dataframe thead th {\n",
       "        text-align: right;\n",
       "    }\n",
       "</style>\n",
       "<table border=\"1\" class=\"dataframe\">\n",
       "  <thead>\n",
       "    <tr style=\"text-align: right;\">\n",
       "      <th></th>\n",
       "      <th>category</th>\n",
       "      <th>product</th>\n",
       "    </tr>\n",
       "  </thead>\n",
       "  <tbody>\n",
       "    <tr>\n",
       "      <th>0</th>\n",
       "      <td>Дом</td>\n",
       "      <td>1126</td>\n",
       "    </tr>\n",
       "    <tr>\n",
       "      <th>1</th>\n",
       "      <td>Огород</td>\n",
       "      <td>4110</td>\n",
       "    </tr>\n",
       "    <tr>\n",
       "      <th>2</th>\n",
       "      <td>Разное</td>\n",
       "      <td>541</td>\n",
       "    </tr>\n",
       "    <tr>\n",
       "      <th>3</th>\n",
       "      <td>Ремонт</td>\n",
       "      <td>960</td>\n",
       "    </tr>\n",
       "  </tbody>\n",
       "</table>\n",
       "</div>"
      ],
      "text/plain": [
       "  category  product\n",
       "0      Дом     1126\n",
       "1   Огород     4110\n",
       "2   Разное      541\n",
       "3   Ремонт      960"
      ]
     },
     "execution_count": 27,
     "metadata": {},
     "output_type": "execute_result"
    }
   ],
   "source": [
    "categor_df = df.groupby('category').agg({'product':'count'}).reset_index()\n",
    "categor_df"
   ]
  },
  {
   "cell_type": "markdown",
   "metadata": {},
   "source": [
    "Получили 4 категории. Категория огород самая крупная."
   ]
  },
  {
   "cell_type": "code",
   "execution_count": 28,
   "metadata": {},
   "outputs": [
    {
     "data": {
      "text/html": [
       "<div>\n",
       "<style scoped>\n",
       "    .dataframe tbody tr th:only-of-type {\n",
       "        vertical-align: middle;\n",
       "    }\n",
       "\n",
       "    .dataframe tbody tr th {\n",
       "        vertical-align: top;\n",
       "    }\n",
       "\n",
       "    .dataframe thead th {\n",
       "        text-align: right;\n",
       "    }\n",
       "</style>\n",
       "<table border=\"1\" class=\"dataframe\">\n",
       "  <thead>\n",
       "    <tr style=\"text-align: right;\">\n",
       "      <th></th>\n",
       "      <th>buyers</th>\n",
       "      <th>avg_price</th>\n",
       "      <th>gain</th>\n",
       "      <th>gain_buyers</th>\n",
       "      <th>percent_gain</th>\n",
       "      <th>percent_buyers</th>\n",
       "    </tr>\n",
       "    <tr>\n",
       "      <th>category</th>\n",
       "      <th></th>\n",
       "      <th></th>\n",
       "      <th></th>\n",
       "      <th></th>\n",
       "      <th></th>\n",
       "      <th></th>\n",
       "    </tr>\n",
       "  </thead>\n",
       "  <tbody>\n",
       "    <tr>\n",
       "      <th>Дом</th>\n",
       "      <td>769</td>\n",
       "      <td>950.460924</td>\n",
       "      <td>2023481.0</td>\n",
       "      <td>2631.314694</td>\n",
       "      <td>41.71%</td>\n",
       "      <td>30.20%</td>\n",
       "    </tr>\n",
       "    <tr>\n",
       "      <th>Ремонт</th>\n",
       "      <td>631</td>\n",
       "      <td>1342.817708</td>\n",
       "      <td>1615911.0</td>\n",
       "      <td>2560.873217</td>\n",
       "      <td>33.31%</td>\n",
       "      <td>24.78%</td>\n",
       "    </tr>\n",
       "    <tr>\n",
       "      <th>Огород</th>\n",
       "      <td>781</td>\n",
       "      <td>142.110706</td>\n",
       "      <td>852966.0</td>\n",
       "      <td>1092.145967</td>\n",
       "      <td>17.58%</td>\n",
       "      <td>30.68%</td>\n",
       "    </tr>\n",
       "    <tr>\n",
       "      <th>Разное</th>\n",
       "      <td>365</td>\n",
       "      <td>312.914972</td>\n",
       "      <td>358922.0</td>\n",
       "      <td>983.347945</td>\n",
       "      <td>7.40%</td>\n",
       "      <td>14.34%</td>\n",
       "    </tr>\n",
       "  </tbody>\n",
       "</table>\n",
       "</div>"
      ],
      "text/plain": [
       "          buyers    avg_price       gain  gain_buyers percent_gain  \\\n",
       "category                                                             \n",
       "Дом          769   950.460924  2023481.0  2631.314694       41.71%   \n",
       "Ремонт       631  1342.817708  1615911.0  2560.873217       33.31%   \n",
       "Огород       781   142.110706   852966.0  1092.145967       17.58%   \n",
       "Разное       365   312.914972   358922.0   983.347945        7.40%   \n",
       "\n",
       "         percent_buyers  \n",
       "category                 \n",
       "Дом              30.20%  \n",
       "Ремонт           24.78%  \n",
       "Огород           30.68%  \n",
       "Разное           14.34%  "
      ]
     },
     "metadata": {},
     "output_type": "display_data"
    },
    {
     "data": {
      "text/html": [
       "<div>\n",
       "<style scoped>\n",
       "    .dataframe tbody tr th:only-of-type {\n",
       "        vertical-align: middle;\n",
       "    }\n",
       "\n",
       "    .dataframe tbody tr th {\n",
       "        vertical-align: top;\n",
       "    }\n",
       "\n",
       "    .dataframe thead th {\n",
       "        text-align: right;\n",
       "    }\n",
       "</style>\n",
       "<table border=\"1\" class=\"dataframe\">\n",
       "  <thead>\n",
       "    <tr style=\"text-align: right;\">\n",
       "      <th></th>\n",
       "      <th>product</th>\n",
       "      <th>buyers</th>\n",
       "      <th>avg_quantity</th>\n",
       "      <th>price</th>\n",
       "      <th>category</th>\n",
       "      <th>total_gain</th>\n",
       "    </tr>\n",
       "  </thead>\n",
       "  <tbody>\n",
       "    <tr>\n",
       "      <th>1042</th>\n",
       "      <td>Пеларгония розебудная Red Pandora укорененный ...</td>\n",
       "      <td>63</td>\n",
       "      <td>1.236842</td>\n",
       "      <td>134.842105</td>\n",
       "      <td>Огород</td>\n",
       "      <td>12670.0</td>\n",
       "    </tr>\n",
       "    <tr>\n",
       "      <th>1040</th>\n",
       "      <td>Пеларгония розебудная Prins Nikolai укорененны...</td>\n",
       "      <td>54</td>\n",
       "      <td>1.106061</td>\n",
       "      <td>134.772727</td>\n",
       "      <td>Огород</td>\n",
       "      <td>9839.0</td>\n",
       "    </tr>\n",
       "    <tr>\n",
       "      <th>1017</th>\n",
       "      <td>Пеларгония зональная диам. 12 см сиреневый пол...</td>\n",
       "      <td>47</td>\n",
       "      <td>1.224138</td>\n",
       "      <td>171.620690</td>\n",
       "      <td>Огород</td>\n",
       "      <td>12284.0</td>\n",
       "    </tr>\n",
       "    <tr>\n",
       "      <th>1619</th>\n",
       "      <td>Сумка-тележка 2-х колесная Gimi Argo синяя</td>\n",
       "      <td>43</td>\n",
       "      <td>1.000000</td>\n",
       "      <td>1070.180328</td>\n",
       "      <td>Ремонт</td>\n",
       "      <td>65281.0</td>\n",
       "    </tr>\n",
       "    <tr>\n",
       "      <th>1039</th>\n",
       "      <td>Пеларгония розебудная Mary укорененный черенок</td>\n",
       "      <td>35</td>\n",
       "      <td>1.195122</td>\n",
       "      <td>134.829268</td>\n",
       "      <td>Огород</td>\n",
       "      <td>6606.0</td>\n",
       "    </tr>\n",
       "    <tr>\n",
       "      <th>...</th>\n",
       "      <td>...</td>\n",
       "      <td>...</td>\n",
       "      <td>...</td>\n",
       "      <td>...</td>\n",
       "      <td>...</td>\n",
       "      <td>...</td>\n",
       "    </tr>\n",
       "    <tr>\n",
       "      <th>867</th>\n",
       "      <td>Набор вешалок универсальных Attribute NEO BLUE...</td>\n",
       "      <td>1</td>\n",
       "      <td>4.000000</td>\n",
       "      <td>374.000000</td>\n",
       "      <td>Ремонт</td>\n",
       "      <td>1496.0</td>\n",
       "    </tr>\n",
       "    <tr>\n",
       "      <th>866</th>\n",
       "      <td>Набор вешалок пластмассовых Rozenbal R181900</td>\n",
       "      <td>1</td>\n",
       "      <td>1.000000</td>\n",
       "      <td>157.000000</td>\n",
       "      <td>Ремонт</td>\n",
       "      <td>157.0</td>\n",
       "    </tr>\n",
       "    <tr>\n",
       "      <th>865</th>\n",
       "      <td>Набор вешалок мягких тканевых с перекладиной и...</td>\n",
       "      <td>1</td>\n",
       "      <td>15.000000</td>\n",
       "      <td>398.000000</td>\n",
       "      <td>Ремонт</td>\n",
       "      <td>5970.0</td>\n",
       "    </tr>\n",
       "    <tr>\n",
       "      <th>864</th>\n",
       "      <td>Набор вешалок мягких тканевых с перекладиной 3...</td>\n",
       "      <td>1</td>\n",
       "      <td>2.000000</td>\n",
       "      <td>277.000000</td>\n",
       "      <td>Ремонт</td>\n",
       "      <td>554.0</td>\n",
       "    </tr>\n",
       "    <tr>\n",
       "      <th>1171</th>\n",
       "      <td>Половник Attribute BLOSSOM пластик AGB305</td>\n",
       "      <td>1</td>\n",
       "      <td>20.000000</td>\n",
       "      <td>83.000000</td>\n",
       "      <td>Разное</td>\n",
       "      <td>3320.0</td>\n",
       "    </tr>\n",
       "  </tbody>\n",
       "</table>\n",
       "<p>2343 rows × 6 columns</p>\n",
       "</div>"
      ],
      "text/plain": [
       "                                                product  buyers  avg_quantity  \\\n",
       "1042  Пеларгония розебудная Red Pandora укорененный ...      63      1.236842   \n",
       "1040  Пеларгония розебудная Prins Nikolai укорененны...      54      1.106061   \n",
       "1017  Пеларгония зональная диам. 12 см сиреневый пол...      47      1.224138   \n",
       "1619         Сумка-тележка 2-х колесная Gimi Argo синяя      43      1.000000   \n",
       "1039     Пеларгония розебудная Mary укорененный черенок      35      1.195122   \n",
       "...                                                 ...     ...           ...   \n",
       "867   Набор вешалок универсальных Attribute NEO BLUE...       1      4.000000   \n",
       "866        Набор вешалок пластмассовых Rozenbal R181900       1      1.000000   \n",
       "865   Набор вешалок мягких тканевых с перекладиной и...       1     15.000000   \n",
       "864   Набор вешалок мягких тканевых с перекладиной 3...       1      2.000000   \n",
       "1171          Половник Attribute BLOSSOM пластик AGB305       1     20.000000   \n",
       "\n",
       "            price category  total_gain  \n",
       "1042   134.842105   Огород     12670.0  \n",
       "1040   134.772727   Огород      9839.0  \n",
       "1017   171.620690   Огород     12284.0  \n",
       "1619  1070.180328   Ремонт     65281.0  \n",
       "1039   134.829268   Огород      6606.0  \n",
       "...           ...      ...         ...  \n",
       "867    374.000000   Ремонт      1496.0  \n",
       "866    157.000000   Ремонт       157.0  \n",
       "865    398.000000   Ремонт      5970.0  \n",
       "864    277.000000   Ремонт       554.0  \n",
       "1171    83.000000   Разное      3320.0  \n",
       "\n",
       "[2343 rows x 6 columns]"
      ]
     },
     "metadata": {},
     "output_type": "display_data"
    },
    {
     "data": {
      "text/plain": [
       "'Кол-во товаров, которые приобрели 5 и более покупателей: 169\\n'"
      ]
     },
     "metadata": {},
     "output_type": "display_data"
    },
    {
     "data": {
      "text/plain": [
       "'ТОП-5 Огород:'"
      ]
     },
     "metadata": {},
     "output_type": "display_data"
    },
    {
     "data": {
      "text/html": [
       "<div>\n",
       "<style scoped>\n",
       "    .dataframe tbody tr th:only-of-type {\n",
       "        vertical-align: middle;\n",
       "    }\n",
       "\n",
       "    .dataframe tbody tr th {\n",
       "        vertical-align: top;\n",
       "    }\n",
       "\n",
       "    .dataframe thead th {\n",
       "        text-align: right;\n",
       "    }\n",
       "</style>\n",
       "<table border=\"1\" class=\"dataframe\">\n",
       "  <thead>\n",
       "    <tr style=\"text-align: right;\">\n",
       "      <th></th>\n",
       "      <th>product</th>\n",
       "      <th>buyers</th>\n",
       "      <th>avg_quantity</th>\n",
       "      <th>price</th>\n",
       "      <th>category</th>\n",
       "      <th>total_gain</th>\n",
       "    </tr>\n",
       "  </thead>\n",
       "  <tbody>\n",
       "    <tr>\n",
       "      <th>1042</th>\n",
       "      <td>Пеларгония розебудная Red Pandora укорененный ...</td>\n",
       "      <td>63</td>\n",
       "      <td>1.236842</td>\n",
       "      <td>134.842105</td>\n",
       "      <td>Огород</td>\n",
       "      <td>12670.0</td>\n",
       "    </tr>\n",
       "    <tr>\n",
       "      <th>1040</th>\n",
       "      <td>Пеларгония розебудная Prins Nikolai укорененны...</td>\n",
       "      <td>54</td>\n",
       "      <td>1.106061</td>\n",
       "      <td>134.772727</td>\n",
       "      <td>Огород</td>\n",
       "      <td>9839.0</td>\n",
       "    </tr>\n",
       "    <tr>\n",
       "      <th>1017</th>\n",
       "      <td>Пеларгония зональная диам. 12 см сиреневый пол...</td>\n",
       "      <td>47</td>\n",
       "      <td>1.224138</td>\n",
       "      <td>171.620690</td>\n",
       "      <td>Огород</td>\n",
       "      <td>12284.0</td>\n",
       "    </tr>\n",
       "    <tr>\n",
       "      <th>1039</th>\n",
       "      <td>Пеларгония розебудная Mary укорененный черенок</td>\n",
       "      <td>35</td>\n",
       "      <td>1.195122</td>\n",
       "      <td>134.829268</td>\n",
       "      <td>Огород</td>\n",
       "      <td>6606.0</td>\n",
       "    </tr>\n",
       "    <tr>\n",
       "      <th>1038</th>\n",
       "      <td>Пеларгония розебудная Margaretha укорененный ч...</td>\n",
       "      <td>29</td>\n",
       "      <td>1.714286</td>\n",
       "      <td>135.200000</td>\n",
       "      <td>Огород</td>\n",
       "      <td>8103.0</td>\n",
       "    </tr>\n",
       "  </tbody>\n",
       "</table>\n",
       "</div>"
      ],
      "text/plain": [
       "                                                product  buyers  avg_quantity  \\\n",
       "1042  Пеларгония розебудная Red Pandora укорененный ...      63      1.236842   \n",
       "1040  Пеларгония розебудная Prins Nikolai укорененны...      54      1.106061   \n",
       "1017  Пеларгония зональная диам. 12 см сиреневый пол...      47      1.224138   \n",
       "1039     Пеларгония розебудная Mary укорененный черенок      35      1.195122   \n",
       "1038  Пеларгония розебудная Margaretha укорененный ч...      29      1.714286   \n",
       "\n",
       "           price category  total_gain  \n",
       "1042  134.842105   Огород     12670.0  \n",
       "1040  134.772727   Огород      9839.0  \n",
       "1017  171.620690   Огород     12284.0  \n",
       "1039  134.829268   Огород      6606.0  \n",
       "1038  135.200000   Огород      8103.0  "
      ]
     },
     "metadata": {},
     "output_type": "display_data"
    },
    {
     "data": {
      "text/plain": [
       "''"
      ]
     },
     "metadata": {},
     "output_type": "display_data"
    },
    {
     "data": {
      "text/plain": [
       "'ТОП-5 Ремонт:'"
      ]
     },
     "metadata": {},
     "output_type": "display_data"
    },
    {
     "data": {
      "text/html": [
       "<div>\n",
       "<style scoped>\n",
       "    .dataframe tbody tr th:only-of-type {\n",
       "        vertical-align: middle;\n",
       "    }\n",
       "\n",
       "    .dataframe tbody tr th {\n",
       "        vertical-align: top;\n",
       "    }\n",
       "\n",
       "    .dataframe thead th {\n",
       "        text-align: right;\n",
       "    }\n",
       "</style>\n",
       "<table border=\"1\" class=\"dataframe\">\n",
       "  <thead>\n",
       "    <tr style=\"text-align: right;\">\n",
       "      <th></th>\n",
       "      <th>product</th>\n",
       "      <th>buyers</th>\n",
       "      <th>avg_quantity</th>\n",
       "      <th>price</th>\n",
       "      <th>category</th>\n",
       "      <th>total_gain</th>\n",
       "    </tr>\n",
       "  </thead>\n",
       "  <tbody>\n",
       "    <tr>\n",
       "      <th>1619</th>\n",
       "      <td>Сумка-тележка 2-х колесная Gimi Argo синяя</td>\n",
       "      <td>43</td>\n",
       "      <td>1.0000</td>\n",
       "      <td>1070.180328</td>\n",
       "      <td>Ремонт</td>\n",
       "      <td>65281.0</td>\n",
       "    </tr>\n",
       "    <tr>\n",
       "      <th>1896</th>\n",
       "      <td>Тележка багажная DELTA ТБР-20 синий грузоподъе...</td>\n",
       "      <td>16</td>\n",
       "      <td>1.0000</td>\n",
       "      <td>732.812500</td>\n",
       "      <td>Ремонт</td>\n",
       "      <td>11725.0</td>\n",
       "    </tr>\n",
       "    <tr>\n",
       "      <th>1895</th>\n",
       "      <td>Тележка багажная DELTA ТБР-20 коричневый с ора...</td>\n",
       "      <td>14</td>\n",
       "      <td>1.0625</td>\n",
       "      <td>710.875000</td>\n",
       "      <td>Ремонт</td>\n",
       "      <td>11749.0</td>\n",
       "    </tr>\n",
       "    <tr>\n",
       "      <th>1628</th>\n",
       "      <td>Сумка-тележка 2-х колесная складная Gimi Flexi...</td>\n",
       "      <td>10</td>\n",
       "      <td>1.1000</td>\n",
       "      <td>1649.000000</td>\n",
       "      <td>Ремонт</td>\n",
       "      <td>18139.0</td>\n",
       "    </tr>\n",
       "    <tr>\n",
       "      <th>1853</th>\n",
       "      <td>Таз пластмассовый со стиральной доской (Иж), 1...</td>\n",
       "      <td>10</td>\n",
       "      <td>1.0000</td>\n",
       "      <td>341.428571</td>\n",
       "      <td>Ремонт</td>\n",
       "      <td>4780.0</td>\n",
       "    </tr>\n",
       "  </tbody>\n",
       "</table>\n",
       "</div>"
      ],
      "text/plain": [
       "                                                product  buyers  avg_quantity  \\\n",
       "1619         Сумка-тележка 2-х колесная Gimi Argo синяя      43        1.0000   \n",
       "1896  Тележка багажная DELTA ТБР-20 синий грузоподъе...      16        1.0000   \n",
       "1895  Тележка багажная DELTA ТБР-20 коричневый с ора...      14        1.0625   \n",
       "1628  Сумка-тележка 2-х колесная складная Gimi Flexi...      10        1.1000   \n",
       "1853  Таз пластмассовый со стиральной доской (Иж), 1...      10        1.0000   \n",
       "\n",
       "            price category  total_gain  \n",
       "1619  1070.180328   Ремонт     65281.0  \n",
       "1896   732.812500   Ремонт     11725.0  \n",
       "1895   710.875000   Ремонт     11749.0  \n",
       "1628  1649.000000   Ремонт     18139.0  \n",
       "1853   341.428571   Ремонт      4780.0  "
      ]
     },
     "metadata": {},
     "output_type": "display_data"
    },
    {
     "data": {
      "text/plain": [
       "''"
      ]
     },
     "metadata": {},
     "output_type": "display_data"
    },
    {
     "data": {
      "text/plain": [
       "'ТОП-5 Дом:'"
      ]
     },
     "metadata": {},
     "output_type": "display_data"
    },
    {
     "data": {
      "text/html": [
       "<div>\n",
       "<style scoped>\n",
       "    .dataframe tbody tr th:only-of-type {\n",
       "        vertical-align: middle;\n",
       "    }\n",
       "\n",
       "    .dataframe tbody tr th {\n",
       "        vertical-align: top;\n",
       "    }\n",
       "\n",
       "    .dataframe thead th {\n",
       "        text-align: right;\n",
       "    }\n",
       "</style>\n",
       "<table border=\"1\" class=\"dataframe\">\n",
       "  <thead>\n",
       "    <tr style=\"text-align: right;\">\n",
       "      <th></th>\n",
       "      <th>product</th>\n",
       "      <th>buyers</th>\n",
       "      <th>avg_quantity</th>\n",
       "      <th>price</th>\n",
       "      <th>category</th>\n",
       "      <th>total_gain</th>\n",
       "    </tr>\n",
       "  </thead>\n",
       "  <tbody>\n",
       "    <tr>\n",
       "      <th>1777</th>\n",
       "      <td>Сушилка для белья настенная Zalger Prima 510-7...</td>\n",
       "      <td>16</td>\n",
       "      <td>1.166667</td>\n",
       "      <td>274.166667</td>\n",
       "      <td>Дом</td>\n",
       "      <td>5832.0</td>\n",
       "    </tr>\n",
       "    <tr>\n",
       "      <th>1804</th>\n",
       "      <td>Сушилка для белья потолочная Лиана 2,0 м 1703009</td>\n",
       "      <td>10</td>\n",
       "      <td>1.000000</td>\n",
       "      <td>599.000000</td>\n",
       "      <td>Дом</td>\n",
       "      <td>7188.0</td>\n",
       "    </tr>\n",
       "    <tr>\n",
       "      <th>1773</th>\n",
       "      <td>Сушилка для белья напольная НИКА СБП1/С 18 м</td>\n",
       "      <td>9</td>\n",
       "      <td>1.111111</td>\n",
       "      <td>599.000000</td>\n",
       "      <td>Дом</td>\n",
       "      <td>5990.0</td>\n",
       "    </tr>\n",
       "    <tr>\n",
       "      <th>1806</th>\n",
       "      <td>Сушилка для белья потолочная Лиана 2,4 м 1703011</td>\n",
       "      <td>9</td>\n",
       "      <td>1.000000</td>\n",
       "      <td>734.000000</td>\n",
       "      <td>Дом</td>\n",
       "      <td>7340.0</td>\n",
       "    </tr>\n",
       "    <tr>\n",
       "      <th>1500</th>\n",
       "      <td>Сиденье в ванну раздвижное, белый, СВ5, НИКА</td>\n",
       "      <td>7</td>\n",
       "      <td>1.111111</td>\n",
       "      <td>335.777778</td>\n",
       "      <td>Дом</td>\n",
       "      <td>3224.0</td>\n",
       "    </tr>\n",
       "  </tbody>\n",
       "</table>\n",
       "</div>"
      ],
      "text/plain": [
       "                                                product  buyers  avg_quantity  \\\n",
       "1777  Сушилка для белья настенная Zalger Prima 510-7...      16      1.166667   \n",
       "1804   Сушилка для белья потолочная Лиана 2,0 м 1703009      10      1.000000   \n",
       "1773       Сушилка для белья напольная НИКА СБП1/С 18 м       9      1.111111   \n",
       "1806   Сушилка для белья потолочная Лиана 2,4 м 1703011       9      1.000000   \n",
       "1500       Сиденье в ванну раздвижное, белый, СВ5, НИКА       7      1.111111   \n",
       "\n",
       "           price category  total_gain  \n",
       "1777  274.166667      Дом      5832.0  \n",
       "1804  599.000000      Дом      7188.0  \n",
       "1773  599.000000      Дом      5990.0  \n",
       "1806  734.000000      Дом      7340.0  \n",
       "1500  335.777778      Дом      3224.0  "
      ]
     },
     "metadata": {},
     "output_type": "display_data"
    },
    {
     "data": {
      "text/plain": [
       "''"
      ]
     },
     "metadata": {},
     "output_type": "display_data"
    },
    {
     "data": {
      "text/plain": [
       "'ТОП-5 Разное:'"
      ]
     },
     "metadata": {},
     "output_type": "display_data"
    },
    {
     "data": {
      "text/html": [
       "<div>\n",
       "<style scoped>\n",
       "    .dataframe tbody tr th:only-of-type {\n",
       "        vertical-align: middle;\n",
       "    }\n",
       "\n",
       "    .dataframe tbody tr th {\n",
       "        vertical-align: top;\n",
       "    }\n",
       "\n",
       "    .dataframe thead th {\n",
       "        text-align: right;\n",
       "    }\n",
       "</style>\n",
       "<table border=\"1\" class=\"dataframe\">\n",
       "  <thead>\n",
       "    <tr style=\"text-align: right;\">\n",
       "      <th></th>\n",
       "      <th>product</th>\n",
       "      <th>buyers</th>\n",
       "      <th>avg_quantity</th>\n",
       "      <th>price</th>\n",
       "      <th>category</th>\n",
       "      <th>total_gain</th>\n",
       "    </tr>\n",
       "  </thead>\n",
       "  <tbody>\n",
       "    <tr>\n",
       "      <th>2025</th>\n",
       "      <td>Цветок искусственный Гвоздика пластиковая один...</td>\n",
       "      <td>7</td>\n",
       "      <td>13.714286</td>\n",
       "      <td>21.142857</td>\n",
       "      <td>Разное</td>\n",
       "      <td>2007.0</td>\n",
       "    </tr>\n",
       "    <tr>\n",
       "      <th>689</th>\n",
       "      <td>Кувшин пластмассовый с крышкой \"Кумган\" 2,0 л ...</td>\n",
       "      <td>5</td>\n",
       "      <td>1.000000</td>\n",
       "      <td>149.000000</td>\n",
       "      <td>Разное</td>\n",
       "      <td>745.0</td>\n",
       "    </tr>\n",
       "    <tr>\n",
       "      <th>2029</th>\n",
       "      <td>Цветок искусственный Крокус 20 см</td>\n",
       "      <td>5</td>\n",
       "      <td>5.222222</td>\n",
       "      <td>21.555556</td>\n",
       "      <td>Разное</td>\n",
       "      <td>987.0</td>\n",
       "    </tr>\n",
       "    <tr>\n",
       "      <th>387</th>\n",
       "      <td>Искусственная композиция из цветов пластиковая...</td>\n",
       "      <td>5</td>\n",
       "      <td>3.400000</td>\n",
       "      <td>57.000000</td>\n",
       "      <td>Разное</td>\n",
       "      <td>959.0</td>\n",
       "    </tr>\n",
       "    <tr>\n",
       "      <th>389</th>\n",
       "      <td>Искусственная лиана Плющ 2,4 м</td>\n",
       "      <td>4</td>\n",
       "      <td>2.250000</td>\n",
       "      <td>82.000000</td>\n",
       "      <td>Разное</td>\n",
       "      <td>1476.0</td>\n",
       "    </tr>\n",
       "  </tbody>\n",
       "</table>\n",
       "</div>"
      ],
      "text/plain": [
       "                                                product  buyers  avg_quantity  \\\n",
       "2025  Цветок искусственный Гвоздика пластиковая один...       7     13.714286   \n",
       "689   Кувшин пластмассовый с крышкой \"Кумган\" 2,0 л ...       5      1.000000   \n",
       "2029                  Цветок искусственный Крокус 20 см       5      5.222222   \n",
       "387   Искусственная композиция из цветов пластиковая...       5      3.400000   \n",
       "389                      Искусственная лиана Плющ 2,4 м       4      2.250000   \n",
       "\n",
       "           price category  total_gain  \n",
       "2025   21.142857   Разное      2007.0  \n",
       "689   149.000000   Разное       745.0  \n",
       "2029   21.555556   Разное       987.0  \n",
       "387    57.000000   Разное       959.0  \n",
       "389    82.000000   Разное      1476.0  "
      ]
     },
     "metadata": {},
     "output_type": "display_data"
    },
    {
     "data": {
      "text/plain": [
       "''"
      ]
     },
     "metadata": {},
     "output_type": "display_data"
    }
   ],
   "source": [
    "grouped_category = df.groupby('category').agg({'customer_id':'nunique', 'price':'mean', 'total':'sum'})\n",
    "grouped_category.columns = ['buyers', 'avg_price', 'gain']\n",
    "grouped_category['gain_buyers'] = grouped_category['gain'] / grouped_category['buyers']\n",
    "grouped_category = grouped_category.sort_values(by='gain_buyers', ascending = False)\n",
    "grouped_category['percent_gain'] = grouped_category['gain'] / grouped_category['gain'].sum()\n",
    "grouped_category['percent_gain'] = grouped_category['percent_gain'].map('{:.2%}'.format)\n",
    "grouped_category['percent_buyers'] = grouped_category['buyers'] / grouped_category['buyers'].sum()\n",
    "grouped_category['percent_buyers'] = grouped_category['percent_buyers'].map('{:.2%}'.format)\n",
    "\n",
    "grouped_product = df.groupby('product').agg({'customer_id':'nunique', 'quantity':'mean', 'price':'mean', \n",
    "                                                'category':'first', 'total':'sum'}).reset_index().sort_values(by='customer_id', ascending=False)\n",
    "grouped_product.columns = ['product', 'buyers', 'avg_quantity', 'price', 'category', 'total_gain']\n",
    "\n",
    "display(grouped_category)\n",
    "display(grouped_product)\n",
    "display('Кол-во товаров, которые приобрели 5 и более покупателей: {}\\n'.format(len(grouped_product[grouped_product['buyers']>=5])))\n",
    "for category in grouped_product['category'].unique():\n",
    "  display('ТОП-5 {}:'.format(category))\n",
    "  display(grouped_product[grouped_product['category']==category].head(5))\n",
    "  display('')"
   ]
  },
  {
   "cell_type": "markdown",
   "metadata": {},
   "source": [
    "Больше всего прибыли приносит категория ДОМ за счет высокой стоимости товаров. Товары из Раздела Огород продаются больше всего, но за счет низкой стоимости выручка с них небольшая."
   ]
  },
  {
   "cell_type": "code",
   "execution_count": 29,
   "metadata": {},
   "outputs": [
    {
     "data": {
      "image/png": "[encoded data removed]",
      "text/plain": [
       "<Figure size 720x360 with 1 Axes>"
      ]
     },
     "metadata": {},
     "output_type": "display_data"
    }
   ],
   "source": [
    "df.pivot_table(\n",
    "    index='month', columns='category', values='total', aggfunc='sum'\n",
    ").plot(grid=True, figsize=(10, 5))\n",
    "plt.ylabel('Выручка')\n",
    "plt.xlabel('Месяц покупки')\n",
    "plt.title('Динамика за год')\n",
    "plt.show()"
   ]
  },
  {
   "cell_type": "markdown",
   "metadata": {},
   "source": [
    "По категориям Ремонт и Разное сезонности не наблюдается. В категории Огород начинается плавный рост прибыли с февраля с пиком в июле - сезон садовых работ. В категории дом наблюдается резкий скачек в июне. Это связано в аномально большой покупкой. Сезонности в этой категории так же нет."
   ]
  },
  {
   "cell_type": "markdown",
   "metadata": {},
   "source": [
    "### Сформулируем и проверим статистические гипотезы"
   ]
  },
  {
   "cell_type": "markdown",
   "metadata": {},
   "source": [
    "Категория Дом приносит больше прибыли, а Категория Огород больше заказов. \n",
    "\n",
    "H0 - Средний чек в категории Дом равен среднему чеку в категории Огород.\n",
    "\n",
    "H1 - Средний чек в категории Дом не равен среднему чеку в категории Огород."
   ]
  },
  {
   "cell_type": "code",
   "execution_count": 30,
   "metadata": {},
   "outputs": [
    {
     "name": "stdout",
     "output_type": "stream",
     "text": [
      "p-значение: 0.008320736399420606\n",
      "Отвергаем нулевую гипотезу\n"
     ]
    }
   ],
   "source": [
    "df_dom= df.query('category == \"Дом\"')['total']\n",
    "df_dacha= df.query('category == \"Огород\"')['total']\n",
    "\n",
    "alpha = .05\n",
    "\n",
    "results = st.ttest_ind(\n",
    "    df_dom, \n",
    "    df_dacha, \n",
    "    equal_var=False)\n",
    "\n",
    "print('p-значение:', results.pvalue)\n",
    "\n",
    "if (results.pvalue < alpha):\n",
    "    print(\"Отвергаем нулевую гипотезу\")\n",
    "else:\n",
    "    print(\"Не получилось отвергнуть нулевую гипотезу\")"
   ]
  },
  {
   "cell_type": "markdown",
   "metadata": {},
   "source": [
    "Средние чеки не равны за счет сильных различий в цене товара этих категорий."
   ]
  },
  {
   "cell_type": "markdown",
   "metadata": {},
   "source": [
    "### Сформируем выводы и рекомендации на основании полученных данных"
   ]
  },
  {
   "cell_type": "markdown",
   "metadata": {},
   "source": [
    "- Имеются данные за период с 1.10.2018 по 31.10.2019.\n",
    "- За этот период было проведено 6737 транзакций.\n",
    "- 2451 разных покупателей совершили хотя бы одну покупку за данный период.\n",
    "- В подавляющем большинстве заказ состоит из одного товара, а крупные заказы в большинстве своем делают на мелкие товары: Расходники, фурнитуру и т.д.\n",
    "- Средняя цена товара 462 рубля.\n",
    "- Средняя выручка 720 рублей с одного заказа.\n",
    "\n",
    "С помощью лемматизации нами были выделены 4 основные группы товаров:\n",
    "\n",
    "1. Товары для Сада и Огород;\n",
    "2. Товары для Дома;\n",
    "3. Товары для Ремонта;\n",
    "4. Разное.\n",
    "\n",
    "- 41.71% выручки приходится на товары из категории Дом.\n",
    "- Самое большое количество позиций в категории Огород: 4110 штук.\n",
    "- Больше всего прибыли приносят товары категории ДОМ за счет высокой стоимости товаров. Товары из Раздела Огород продаются больше всего, но за счет низкой стоимости выручка с них небольшая.\n",
    "- Сезонность показали товары лишь в категории Огород. В период с февраля по июнь наблюдается увеличение прибыли по этой категории более чем на 100%\n",
    "- Гипотезу о соразмерности среднего чека категорий Дом и Огород поддтвердить не удалось.\n",
    "\n",
    "### Рекомендации\n",
    "\n",
    "- Для увеличения количества товаров в одном заказе рекомендуется размещать сопутствующие товары для каждой позиции. Предлагать Наиболее популярные товары из соответствующих категорий при добавлении товара в корзину.\n",
    "- Увеличить ассортимент категории Огород в начале сезона. Делать скидки на товары этой категории перед началом сезона.\n",
    "- Провести рекламную компанию для категории Дом, как самую прибыльную, но менее популярную среди покупателей."
   ]
  },
  {
   "cell_type": "markdown",
   "metadata": {},
   "source": [
    "### Создадим дашборд\n",
    "\n",
    "Ссылка на дашборд: https://public.tableau.com/app/profile/tim3879/viz/FinalBoss_16572932884370/Sheet1?publish=yes"
   ]
  },
  {
   "cell_type": "markdown",
   "metadata": {},
   "source": [
    "### Создадим презентацию\n",
    "\n",
    "Ссылка на презентацию: https://disk.yandex.ru/i/gyEm-45NHlte6g"
   ]
  },
  {
   "cell_type": "markdown",
   "metadata": {},
   "source": []
  }
 ],
 "metadata": {
  "ExecuteTimeLog": [
   {
    "duration": 1592,
    "start_time": "2022-06-29T07:42:06.006Z"
   },
   {
    "duration": 194,
    "start_time": "2022-06-29T07:42:13.397Z"
   },
   {
    "duration": 14,
    "start_time": "2022-06-29T07:42:20.186Z"
   },
   {
    "duration": 13,
    "start_time": "2022-06-29T07:42:27.655Z"
   },
   {
    "duration": 8,
    "start_time": "2022-06-29T07:42:35.189Z"
   },
   {
    "duration": 10,
    "start_time": "2022-06-29T07:42:42.278Z"
   },
   {
    "duration": 21,
    "start_time": "2022-06-29T07:43:08.466Z"
   },
   {
    "duration": 3,
    "start_time": "2022-06-29T07:43:39.299Z"
   },
   {
    "duration": 2,
    "start_time": "2022-06-29T07:44:13.097Z"
   },
   {
    "duration": 13,
    "start_time": "2022-06-29T07:58:14.851Z"
   },
   {
    "duration": 4,
    "start_time": "2022-06-29T08:01:52.904Z"
   },
   {
    "duration": 10,
    "start_time": "2022-06-29T08:03:34.450Z"
   },
   {
    "duration": 236,
    "start_time": "2022-06-29T08:11:27.390Z"
   },
   {
    "duration": 160,
    "start_time": "2022-06-29T08:11:33.887Z"
   },
   {
    "duration": 281,
    "start_time": "2022-06-29T08:11:54.835Z"
   },
   {
    "duration": 253,
    "start_time": "2022-06-29T08:11:58.018Z"
   },
   {
    "duration": 2447,
    "start_time": "2022-06-29T08:12:02.773Z"
   },
   {
    "duration": 178,
    "start_time": "2022-06-29T08:12:13.612Z"
   },
   {
    "duration": 172,
    "start_time": "2022-06-29T08:12:22.895Z"
   },
   {
    "duration": 92,
    "start_time": "2022-06-29T08:15:06.333Z"
   },
   {
    "duration": 83,
    "start_time": "2022-06-29T08:15:15.737Z"
   },
   {
    "duration": 77,
    "start_time": "2022-06-29T08:15:29.687Z"
   },
   {
    "duration": 4,
    "start_time": "2022-06-29T08:15:36.987Z"
   },
   {
    "duration": 56,
    "start_time": "2022-06-29T08:15:46.956Z"
   },
   {
    "duration": 76,
    "start_time": "2022-06-29T08:15:50.795Z"
   },
   {
    "duration": 7,
    "start_time": "2022-06-29T08:16:05.538Z"
   },
   {
    "duration": 217,
    "start_time": "2022-06-29T08:16:19.147Z"
   },
   {
    "duration": 4,
    "start_time": "2022-06-29T08:16:41.088Z"
   },
   {
    "duration": 229,
    "start_time": "2022-06-29T08:16:42.703Z"
   },
   {
    "duration": 6,
    "start_time": "2022-06-29T08:16:49.343Z"
   },
   {
    "duration": 179,
    "start_time": "2022-06-29T08:16:49.891Z"
   },
   {
    "duration": 5,
    "start_time": "2022-06-29T08:16:55.588Z"
   },
   {
    "duration": 276,
    "start_time": "2022-06-29T08:16:56.193Z"
   },
   {
    "duration": 6,
    "start_time": "2022-06-29T08:17:15.380Z"
   },
   {
    "duration": 5,
    "start_time": "2022-06-29T08:17:17.152Z"
   },
   {
    "duration": 5,
    "start_time": "2022-06-29T08:17:41.113Z"
   },
   {
    "duration": 1318,
    "start_time": "2022-07-04T09:04:21.156Z"
   },
   {
    "duration": 231,
    "start_time": "2022-07-04T09:04:22.476Z"
   },
   {
    "duration": 11,
    "start_time": "2022-07-04T09:04:22.709Z"
   },
   {
    "duration": 14,
    "start_time": "2022-07-04T09:04:22.722Z"
   },
   {
    "duration": 6,
    "start_time": "2022-07-04T09:04:22.738Z"
   },
   {
    "duration": 8,
    "start_time": "2022-07-04T09:04:22.745Z"
   },
   {
    "duration": 16,
    "start_time": "2022-07-04T09:04:22.755Z"
   },
   {
    "duration": 5,
    "start_time": "2022-07-04T09:04:22.772Z"
   },
   {
    "duration": 7,
    "start_time": "2022-07-04T09:04:22.778Z"
   },
   {
    "duration": 7,
    "start_time": "2022-07-04T09:04:22.787Z"
   },
   {
    "duration": 102,
    "start_time": "2022-07-04T09:05:28.114Z"
   },
   {
    "duration": 102,
    "start_time": "2022-07-04T09:06:12.704Z"
   },
   {
    "duration": 100,
    "start_time": "2022-07-04T09:39:10.343Z"
   },
   {
    "duration": 1833,
    "start_time": "2022-07-05T07:24:06.182Z"
   },
   {
    "duration": 175,
    "start_time": "2022-07-05T07:24:08.018Z"
   },
   {
    "duration": 18,
    "start_time": "2022-07-05T07:24:08.196Z"
   },
   {
    "duration": 17,
    "start_time": "2022-07-05T07:24:08.217Z"
   },
   {
    "duration": 32,
    "start_time": "2022-07-05T07:24:08.236Z"
   },
   {
    "duration": 51,
    "start_time": "2022-07-05T07:24:08.274Z"
   },
   {
    "duration": 29,
    "start_time": "2022-07-05T07:24:08.328Z"
   },
   {
    "duration": 11,
    "start_time": "2022-07-05T07:24:08.359Z"
   },
   {
    "duration": 30,
    "start_time": "2022-07-05T07:24:08.377Z"
   },
   {
    "duration": 14,
    "start_time": "2022-07-05T07:24:08.411Z"
   },
   {
    "duration": 139,
    "start_time": "2022-07-05T07:24:08.428Z"
   },
   {
    "duration": 6,
    "start_time": "2022-07-05T07:26:29.684Z"
   },
   {
    "duration": 304,
    "start_time": "2022-07-05T07:26:43.005Z"
   },
   {
    "duration": 8,
    "start_time": "2022-07-05T07:29:15.695Z"
   },
   {
    "duration": 4,
    "start_time": "2022-07-05T07:29:22.804Z"
   },
   {
    "duration": 138,
    "start_time": "2022-07-05T07:29:23.422Z"
   },
   {
    "duration": 239,
    "start_time": "2022-07-05T07:29:29.463Z"
   },
   {
    "duration": 10,
    "start_time": "2022-07-05T07:30:27.926Z"
   },
   {
    "duration": 238,
    "start_time": "2022-07-05T07:30:28.563Z"
   },
   {
    "duration": 10,
    "start_time": "2022-07-05T07:31:02.080Z"
   },
   {
    "duration": 377,
    "start_time": "2022-07-05T07:31:08.109Z"
   },
   {
    "duration": 8,
    "start_time": "2022-07-05T07:31:15.025Z"
   },
   {
    "duration": 293,
    "start_time": "2022-07-05T07:31:15.526Z"
   },
   {
    "duration": 269,
    "start_time": "2022-07-05T07:31:41.748Z"
   },
   {
    "duration": 275,
    "start_time": "2022-07-05T07:31:46.099Z"
   },
   {
    "duration": 11,
    "start_time": "2022-07-05T07:32:30.829Z"
   },
   {
    "duration": 9,
    "start_time": "2022-07-05T07:32:43.819Z"
   },
   {
    "duration": 10,
    "start_time": "2022-07-05T07:58:29.586Z"
   },
   {
    "duration": 12,
    "start_time": "2022-07-05T07:58:36.257Z"
   },
   {
    "duration": 11,
    "start_time": "2022-07-05T07:58:44.391Z"
   },
   {
    "duration": 11,
    "start_time": "2022-07-05T07:58:47.922Z"
   },
   {
    "duration": 7,
    "start_time": "2022-07-05T08:48:33.398Z"
   },
   {
    "duration": 8,
    "start_time": "2022-07-05T08:48:53.944Z"
   },
   {
    "duration": 7,
    "start_time": "2022-07-05T11:12:08.024Z"
   },
   {
    "duration": 8,
    "start_time": "2022-07-05T11:12:19.221Z"
   },
   {
    "duration": 7,
    "start_time": "2022-07-05T11:12:33.252Z"
   },
   {
    "duration": 8,
    "start_time": "2022-07-05T11:12:55.182Z"
   },
   {
    "duration": 12,
    "start_time": "2022-07-05T11:13:13.777Z"
   },
   {
    "duration": 8,
    "start_time": "2022-07-05T11:13:26.425Z"
   },
   {
    "duration": 10,
    "start_time": "2022-07-05T11:13:36.308Z"
   },
   {
    "duration": 8,
    "start_time": "2022-07-05T11:13:44.224Z"
   },
   {
    "duration": 4,
    "start_time": "2022-07-05T11:17:27.814Z"
   },
   {
    "duration": 173,
    "start_time": "2022-07-05T11:17:29.327Z"
   },
   {
    "duration": 260,
    "start_time": "2022-07-05T11:17:33.925Z"
   },
   {
    "duration": 9,
    "start_time": "2022-07-05T11:19:43.016Z"
   },
   {
    "duration": 9,
    "start_time": "2022-07-05T11:21:10.122Z"
   },
   {
    "duration": 229,
    "start_time": "2022-07-05T11:21:34.023Z"
   },
   {
    "duration": 9,
    "start_time": "2022-07-05T11:21:39.335Z"
   },
   {
    "duration": 206,
    "start_time": "2022-07-05T11:24:21.492Z"
   },
   {
    "duration": 225,
    "start_time": "2022-07-05T11:24:35.215Z"
   },
   {
    "duration": 9,
    "start_time": "2022-07-05T11:25:27.118Z"
   },
   {
    "duration": 9,
    "start_time": "2022-07-05T11:25:44.198Z"
   },
   {
    "duration": 7,
    "start_time": "2022-07-05T11:26:03.365Z"
   },
   {
    "duration": 950,
    "start_time": "2022-07-05T11:30:51.427Z"
   },
   {
    "duration": 11,
    "start_time": "2022-07-05T11:31:06.648Z"
   },
   {
    "duration": 57,
    "start_time": "2022-07-05T11:31:46.279Z"
   },
   {
    "duration": 11,
    "start_time": "2022-07-05T11:32:26.246Z"
   },
   {
    "duration": 8,
    "start_time": "2022-07-05T11:32:31.011Z"
   },
   {
    "duration": 78,
    "start_time": "2022-07-05T11:34:48.248Z"
   },
   {
    "duration": 530,
    "start_time": "2022-07-05T11:35:06.072Z"
   },
   {
    "duration": 180,
    "start_time": "2022-07-05T11:35:32.122Z"
   },
   {
    "duration": 152,
    "start_time": "2022-07-05T11:35:50.534Z"
   },
   {
    "duration": 225,
    "start_time": "2022-07-05T11:35:58.692Z"
   },
   {
    "duration": 160,
    "start_time": "2022-07-05T11:36:39.957Z"
   },
   {
    "duration": 201,
    "start_time": "2022-07-05T11:37:16.212Z"
   },
   {
    "duration": 52,
    "start_time": "2022-07-05T11:38:33.754Z"
   },
   {
    "duration": 28,
    "start_time": "2022-07-05T11:50:19.288Z"
   },
   {
    "duration": 10,
    "start_time": "2022-07-05T12:06:36.011Z"
   },
   {
    "duration": 5,
    "start_time": "2022-07-05T12:06:41.705Z"
   },
   {
    "duration": 11,
    "start_time": "2022-07-05T12:06:42.289Z"
   },
   {
    "duration": 7,
    "start_time": "2022-07-05T12:06:54.021Z"
   },
   {
    "duration": 4,
    "start_time": "2022-07-05T12:06:54.632Z"
   },
   {
    "duration": 1945,
    "start_time": "2022-07-05T12:06:55.306Z"
   },
   {
    "duration": 10,
    "start_time": "2022-07-05T12:07:50.954Z"
   },
   {
    "duration": 12,
    "start_time": "2022-07-05T12:07:58.212Z"
   },
   {
    "duration": 12,
    "start_time": "2022-07-05T12:20:18.969Z"
   },
   {
    "duration": 40,
    "start_time": "2022-07-05T14:31:09.920Z"
   },
   {
    "duration": 1247,
    "start_time": "2022-07-05T14:31:18.117Z"
   },
   {
    "duration": 143,
    "start_time": "2022-07-05T14:31:19.366Z"
   },
   {
    "duration": 11,
    "start_time": "2022-07-05T14:31:19.510Z"
   },
   {
    "duration": 11,
    "start_time": "2022-07-05T14:31:19.523Z"
   },
   {
    "duration": 6,
    "start_time": "2022-07-05T14:31:19.535Z"
   },
   {
    "duration": 11,
    "start_time": "2022-07-05T14:31:19.543Z"
   },
   {
    "duration": 15,
    "start_time": "2022-07-05T14:31:19.555Z"
   },
   {
    "duration": 4,
    "start_time": "2022-07-05T14:31:19.572Z"
   },
   {
    "duration": 7,
    "start_time": "2022-07-05T14:31:19.577Z"
   },
   {
    "duration": 8,
    "start_time": "2022-07-05T14:31:19.586Z"
   },
   {
    "duration": 28,
    "start_time": "2022-07-05T14:31:19.595Z"
   },
   {
    "duration": 160,
    "start_time": "2022-07-05T14:31:19.624Z"
   },
   {
    "duration": 161,
    "start_time": "2022-07-05T14:31:19.785Z"
   },
   {
    "duration": 6,
    "start_time": "2022-07-05T14:31:19.947Z"
   },
   {
    "duration": 9,
    "start_time": "2022-07-05T14:31:19.954Z"
   },
   {
    "duration": 6,
    "start_time": "2022-07-05T14:31:19.964Z"
   },
   {
    "duration": 6,
    "start_time": "2022-07-05T14:31:19.971Z"
   },
   {
    "duration": 8,
    "start_time": "2022-07-05T14:31:19.979Z"
   },
   {
    "duration": 7,
    "start_time": "2022-07-05T14:31:19.988Z"
   },
   {
    "duration": 195,
    "start_time": "2022-07-05T14:31:19.996Z"
   },
   {
    "duration": 6,
    "start_time": "2022-07-05T14:31:20.192Z"
   },
   {
    "duration": 13,
    "start_time": "2022-07-05T14:31:20.199Z"
   },
   {
    "duration": 323,
    "start_time": "2022-07-05T14:31:20.213Z"
   },
   {
    "duration": 5,
    "start_time": "2022-07-05T14:31:20.538Z"
   },
   {
    "duration": 16,
    "start_time": "2022-07-05T14:31:20.545Z"
   },
   {
    "duration": 1509,
    "start_time": "2022-07-05T14:31:20.563Z"
   },
   {
    "duration": 9,
    "start_time": "2022-07-05T14:31:22.074Z"
   },
   {
    "duration": 111,
    "start_time": "2022-07-05T14:31:22.085Z"
   },
   {
    "duration": 12,
    "start_time": "2022-07-05T14:31:32.484Z"
   },
   {
    "duration": 15,
    "start_time": "2022-07-05T14:35:06.953Z"
   },
   {
    "duration": 14,
    "start_time": "2022-07-05T14:36:03.646Z"
   },
   {
    "duration": 17,
    "start_time": "2022-07-05T14:45:55.086Z"
   },
   {
    "duration": 20,
    "start_time": "2022-07-05T14:48:35.717Z"
   },
   {
    "duration": 14,
    "start_time": "2022-07-05T14:48:52.641Z"
   },
   {
    "duration": 1495,
    "start_time": "2022-07-06T04:43:24.693Z"
   },
   {
    "duration": 203,
    "start_time": "2022-07-06T04:43:26.190Z"
   },
   {
    "duration": 22,
    "start_time": "2022-07-06T04:43:26.395Z"
   },
   {
    "duration": 59,
    "start_time": "2022-07-06T04:43:26.419Z"
   },
   {
    "duration": 11,
    "start_time": "2022-07-06T04:43:26.480Z"
   },
   {
    "duration": 29,
    "start_time": "2022-07-06T04:43:26.492Z"
   },
   {
    "duration": 52,
    "start_time": "2022-07-06T04:43:26.527Z"
   },
   {
    "duration": 7,
    "start_time": "2022-07-06T04:43:26.581Z"
   },
   {
    "duration": 6,
    "start_time": "2022-07-06T04:43:26.591Z"
   },
   {
    "duration": 41,
    "start_time": "2022-07-06T04:43:26.605Z"
   },
   {
    "duration": 12,
    "start_time": "2022-07-06T04:43:26.650Z"
   },
   {
    "duration": 213,
    "start_time": "2022-07-06T04:43:26.665Z"
   },
   {
    "duration": 248,
    "start_time": "2022-07-06T04:43:26.881Z"
   },
   {
    "duration": 25,
    "start_time": "2022-07-06T04:43:27.131Z"
   },
   {
    "duration": 12,
    "start_time": "2022-07-06T04:43:27.158Z"
   },
   {
    "duration": 10,
    "start_time": "2022-07-06T04:43:27.172Z"
   },
   {
    "duration": 13,
    "start_time": "2022-07-06T04:43:27.184Z"
   },
   {
    "duration": 51,
    "start_time": "2022-07-06T04:43:27.199Z"
   },
   {
    "duration": 15,
    "start_time": "2022-07-06T04:43:27.254Z"
   },
   {
    "duration": 246,
    "start_time": "2022-07-06T04:43:27.271Z"
   },
   {
    "duration": 12,
    "start_time": "2022-07-06T04:43:27.527Z"
   },
   {
    "duration": 31,
    "start_time": "2022-07-06T04:43:27.540Z"
   },
   {
    "duration": 554,
    "start_time": "2022-07-06T04:43:27.573Z"
   },
   {
    "duration": 13,
    "start_time": "2022-07-06T04:43:28.129Z"
   },
   {
    "duration": 24,
    "start_time": "2022-07-06T04:43:28.149Z"
   },
   {
    "duration": 1773,
    "start_time": "2022-07-06T04:43:28.174Z"
   },
   {
    "duration": 11,
    "start_time": "2022-07-06T04:43:29.959Z"
   },
   {
    "duration": 21,
    "start_time": "2022-07-06T04:43:29.973Z"
   },
   {
    "duration": 138,
    "start_time": "2022-07-06T04:45:08.216Z"
   },
   {
    "duration": 140,
    "start_time": "2022-07-06T04:45:44.575Z"
   },
   {
    "duration": 466,
    "start_time": "2022-07-06T04:45:49.994Z"
   },
   {
    "duration": 119,
    "start_time": "2022-07-06T04:46:56.868Z"
   },
   {
    "duration": 97,
    "start_time": "2022-07-06T04:47:10.360Z"
   },
   {
    "duration": 115,
    "start_time": "2022-07-06T04:48:49.644Z"
   },
   {
    "duration": 15,
    "start_time": "2022-07-06T04:49:02.774Z"
   },
   {
    "duration": 37,
    "start_time": "2022-07-06T04:49:10.493Z"
   },
   {
    "duration": 91,
    "start_time": "2022-07-06T04:49:29.179Z"
   },
   {
    "duration": 104,
    "start_time": "2022-07-06T04:49:38.718Z"
   },
   {
    "duration": 102,
    "start_time": "2022-07-06T04:50:01.857Z"
   },
   {
    "duration": 83,
    "start_time": "2022-07-06T04:50:38.637Z"
   },
   {
    "duration": 112,
    "start_time": "2022-07-06T04:50:45.368Z"
   },
   {
    "duration": 59,
    "start_time": "2022-07-06T04:50:56.232Z"
   },
   {
    "duration": 218,
    "start_time": "2022-07-06T05:18:34.943Z"
   },
   {
    "duration": 887,
    "start_time": "2022-07-06T05:19:07.984Z"
   },
   {
    "duration": 1102,
    "start_time": "2022-07-06T05:19:23.870Z"
   },
   {
    "duration": 36,
    "start_time": "2022-07-06T05:20:05.839Z"
   },
   {
    "duration": 19,
    "start_time": "2022-07-06T05:22:40.563Z"
   },
   {
    "duration": 34,
    "start_time": "2022-07-06T05:23:02.305Z"
   },
   {
    "duration": 21,
    "start_time": "2022-07-06T05:23:24.361Z"
   },
   {
    "duration": 18,
    "start_time": "2022-07-06T05:24:53.004Z"
   },
   {
    "duration": 64,
    "start_time": "2022-07-06T05:25:07.331Z"
   },
   {
    "duration": 67,
    "start_time": "2022-07-06T05:25:24.495Z"
   },
   {
    "duration": 49,
    "start_time": "2022-07-06T05:25:32.036Z"
   },
   {
    "duration": 71,
    "start_time": "2022-07-06T05:25:54.296Z"
   },
   {
    "duration": 16,
    "start_time": "2022-07-06T05:32:18.162Z"
   },
   {
    "duration": 19,
    "start_time": "2022-07-06T05:33:39.342Z"
   },
   {
    "duration": 16,
    "start_time": "2022-07-06T05:34:16.077Z"
   },
   {
    "duration": 20,
    "start_time": "2022-07-06T05:35:58.856Z"
   },
   {
    "duration": 6,
    "start_time": "2022-07-06T05:36:09.266Z"
   },
   {
    "duration": 34,
    "start_time": "2022-07-06T05:36:11.983Z"
   },
   {
    "duration": 10,
    "start_time": "2022-07-06T05:39:02.928Z"
   },
   {
    "duration": 17,
    "start_time": "2022-07-06T05:40:47.155Z"
   },
   {
    "duration": 18,
    "start_time": "2022-07-06T05:41:25.733Z"
   },
   {
    "duration": 212,
    "start_time": "2022-07-06T05:41:48.992Z"
   },
   {
    "duration": 183,
    "start_time": "2022-07-06T05:42:04.543Z"
   },
   {
    "duration": 75,
    "start_time": "2022-07-06T05:42:28.466Z"
   },
   {
    "duration": 77,
    "start_time": "2022-07-06T05:42:35.008Z"
   },
   {
    "duration": 1665,
    "start_time": "2022-07-06T05:43:40.781Z"
   },
   {
    "duration": 905,
    "start_time": "2022-07-06T05:43:59.575Z"
   },
   {
    "duration": 4,
    "start_time": "2022-07-06T05:44:47.938Z"
   },
   {
    "duration": 1284,
    "start_time": "2022-07-06T05:44:52.377Z"
   },
   {
    "duration": 157,
    "start_time": "2022-07-06T05:44:53.664Z"
   },
   {
    "duration": 18,
    "start_time": "2022-07-06T05:44:53.823Z"
   },
   {
    "duration": 13,
    "start_time": "2022-07-06T05:44:53.844Z"
   },
   {
    "duration": 16,
    "start_time": "2022-07-06T05:44:53.859Z"
   },
   {
    "duration": 34,
    "start_time": "2022-07-06T05:44:53.877Z"
   },
   {
    "duration": 33,
    "start_time": "2022-07-06T05:44:53.913Z"
   },
   {
    "duration": 26,
    "start_time": "2022-07-06T05:44:53.948Z"
   },
   {
    "duration": 13,
    "start_time": "2022-07-06T05:44:53.975Z"
   },
   {
    "duration": 30,
    "start_time": "2022-07-06T05:44:53.991Z"
   },
   {
    "duration": 11,
    "start_time": "2022-07-06T05:44:54.024Z"
   },
   {
    "duration": 218,
    "start_time": "2022-07-06T05:44:54.036Z"
   },
   {
    "duration": 230,
    "start_time": "2022-07-06T05:44:54.255Z"
   },
   {
    "duration": 26,
    "start_time": "2022-07-06T05:44:54.488Z"
   },
   {
    "duration": 35,
    "start_time": "2022-07-06T05:44:54.516Z"
   },
   {
    "duration": 12,
    "start_time": "2022-07-06T05:44:54.553Z"
   },
   {
    "duration": 30,
    "start_time": "2022-07-06T05:44:54.568Z"
   },
   {
    "duration": 38,
    "start_time": "2022-07-06T05:44:54.600Z"
   },
   {
    "duration": 12,
    "start_time": "2022-07-06T05:44:54.640Z"
   },
   {
    "duration": 243,
    "start_time": "2022-07-06T05:44:54.655Z"
   },
   {
    "duration": 20,
    "start_time": "2022-07-06T05:44:54.900Z"
   },
   {
    "duration": 13,
    "start_time": "2022-07-06T05:44:54.922Z"
   },
   {
    "duration": 171,
    "start_time": "2022-07-06T05:44:54.936Z"
   },
   {
    "duration": 9,
    "start_time": "2022-07-06T05:44:55.112Z"
   },
   {
    "duration": 21,
    "start_time": "2022-07-06T05:44:55.123Z"
   },
   {
    "duration": 1751,
    "start_time": "2022-07-06T05:44:55.146Z"
   },
   {
    "duration": 15,
    "start_time": "2022-07-06T05:44:56.900Z"
   },
   {
    "duration": 50,
    "start_time": "2022-07-06T05:44:56.918Z"
   },
   {
    "duration": 13,
    "start_time": "2022-07-06T05:44:56.969Z"
   },
   {
    "duration": 24,
    "start_time": "2022-07-06T05:44:56.984Z"
   },
   {
    "duration": 326,
    "start_time": "2022-07-06T05:44:57.010Z"
   },
   {
    "duration": 1331,
    "start_time": "2022-07-08T05:36:47.924Z"
   },
   {
    "duration": 367,
    "start_time": "2022-07-08T05:36:49.257Z"
   },
   {
    "duration": 12,
    "start_time": "2022-07-08T05:36:49.625Z"
   },
   {
    "duration": 10,
    "start_time": "2022-07-08T05:36:49.639Z"
   },
   {
    "duration": 5,
    "start_time": "2022-07-08T05:36:49.651Z"
   },
   {
    "duration": 9,
    "start_time": "2022-07-08T05:36:49.658Z"
   },
   {
    "duration": 42,
    "start_time": "2022-07-08T05:36:49.668Z"
   },
   {
    "duration": 5,
    "start_time": "2022-07-08T05:36:49.712Z"
   },
   {
    "duration": 20,
    "start_time": "2022-07-08T05:36:49.719Z"
   },
   {
    "duration": 16,
    "start_time": "2022-07-08T05:36:49.742Z"
   },
   {
    "duration": 4,
    "start_time": "2022-07-08T05:36:49.759Z"
   },
   {
    "duration": 196,
    "start_time": "2022-07-08T05:36:49.764Z"
   },
   {
    "duration": 219,
    "start_time": "2022-07-08T05:36:49.961Z"
   },
   {
    "duration": 6,
    "start_time": "2022-07-08T05:36:50.181Z"
   },
   {
    "duration": 15,
    "start_time": "2022-07-08T05:36:50.189Z"
   },
   {
    "duration": 8,
    "start_time": "2022-07-08T05:36:50.206Z"
   },
   {
    "duration": 21,
    "start_time": "2022-07-08T05:36:50.216Z"
   },
   {
    "duration": 13,
    "start_time": "2022-07-08T05:36:50.239Z"
   },
   {
    "duration": 9,
    "start_time": "2022-07-08T05:36:50.253Z"
   },
   {
    "duration": 242,
    "start_time": "2022-07-08T05:36:50.264Z"
   },
   {
    "duration": 6,
    "start_time": "2022-07-08T05:36:50.507Z"
   },
   {
    "duration": 11,
    "start_time": "2022-07-08T05:36:50.514Z"
   },
   {
    "duration": 142,
    "start_time": "2022-07-08T05:36:50.527Z"
   },
   {
    "duration": 5,
    "start_time": "2022-07-08T05:36:50.671Z"
   },
   {
    "duration": 11,
    "start_time": "2022-07-08T05:36:50.678Z"
   },
   {
    "duration": 1545,
    "start_time": "2022-07-08T05:36:50.690Z"
   },
   {
    "duration": 12,
    "start_time": "2022-07-08T05:36:52.237Z"
   },
   {
    "duration": 21,
    "start_time": "2022-07-08T05:36:52.252Z"
   },
   {
    "duration": 29,
    "start_time": "2022-07-08T05:36:52.275Z"
   },
   {
    "duration": 18,
    "start_time": "2022-07-08T05:36:52.305Z"
   },
   {
    "duration": 310,
    "start_time": "2022-07-08T05:36:52.325Z"
   },
   {
    "duration": 170,
    "start_time": "2022-07-08T05:37:28.501Z"
   },
   {
    "duration": 188,
    "start_time": "2022-07-08T05:37:43.702Z"
   },
   {
    "duration": 159,
    "start_time": "2022-07-08T05:37:55.933Z"
   },
   {
    "duration": 161,
    "start_time": "2022-07-08T05:40:55.431Z"
   },
   {
    "duration": 65,
    "start_time": "2022-07-08T05:41:32.874Z"
   },
   {
    "duration": 70,
    "start_time": "2022-07-08T05:41:42.325Z"
   },
   {
    "duration": 61,
    "start_time": "2022-07-08T05:41:50.038Z"
   },
   {
    "duration": 59,
    "start_time": "2022-07-08T05:42:05.984Z"
   },
   {
    "duration": 75,
    "start_time": "2022-07-08T05:42:10.492Z"
   },
   {
    "duration": 84,
    "start_time": "2022-07-08T05:42:19.324Z"
   },
   {
    "duration": 77,
    "start_time": "2022-07-08T05:42:48.883Z"
   },
   {
    "duration": 56,
    "start_time": "2022-07-08T05:42:52.299Z"
   },
   {
    "duration": 65,
    "start_time": "2022-07-08T05:42:55.816Z"
   },
   {
    "duration": 1224,
    "start_time": "2022-07-08T09:30:28.620Z"
   },
   {
    "duration": 172,
    "start_time": "2022-07-08T09:30:29.846Z"
   },
   {
    "duration": 15,
    "start_time": "2022-07-08T09:30:30.020Z"
   },
   {
    "duration": 16,
    "start_time": "2022-07-08T09:30:30.038Z"
   },
   {
    "duration": 12,
    "start_time": "2022-07-08T09:30:30.056Z"
   },
   {
    "duration": 12,
    "start_time": "2022-07-08T09:30:30.070Z"
   },
   {
    "duration": 34,
    "start_time": "2022-07-08T09:30:30.083Z"
   },
   {
    "duration": 7,
    "start_time": "2022-07-08T09:30:30.118Z"
   },
   {
    "duration": 11,
    "start_time": "2022-07-08T09:30:30.127Z"
   },
   {
    "duration": 14,
    "start_time": "2022-07-08T09:30:30.142Z"
   },
   {
    "duration": 5,
    "start_time": "2022-07-08T09:30:30.158Z"
   },
   {
    "duration": 243,
    "start_time": "2022-07-08T09:30:30.165Z"
   },
   {
    "duration": 216,
    "start_time": "2022-07-08T09:30:30.409Z"
   },
   {
    "duration": 7,
    "start_time": "2022-07-08T09:30:30.627Z"
   },
   {
    "duration": 52,
    "start_time": "2022-07-08T09:30:30.635Z"
   },
   {
    "duration": 37,
    "start_time": "2022-07-08T09:30:30.688Z"
   },
   {
    "duration": 22,
    "start_time": "2022-07-08T09:30:30.727Z"
   },
   {
    "duration": 65,
    "start_time": "2022-07-08T09:30:30.751Z"
   },
   {
    "duration": 29,
    "start_time": "2022-07-08T09:30:30.817Z"
   },
   {
    "duration": 250,
    "start_time": "2022-07-08T09:30:30.847Z"
   },
   {
    "duration": 7,
    "start_time": "2022-07-08T09:30:31.100Z"
   },
   {
    "duration": 20,
    "start_time": "2022-07-08T09:30:31.109Z"
   },
   {
    "duration": 170,
    "start_time": "2022-07-08T09:30:31.131Z"
   },
   {
    "duration": 6,
    "start_time": "2022-07-08T09:30:31.303Z"
   },
   {
    "duration": 11,
    "start_time": "2022-07-08T09:30:31.310Z"
   },
   {
    "duration": 1617,
    "start_time": "2022-07-08T09:30:31.322Z"
   },
   {
    "duration": 11,
    "start_time": "2022-07-08T09:30:32.941Z"
   },
   {
    "duration": 20,
    "start_time": "2022-07-08T09:30:32.955Z"
   },
   {
    "duration": 31,
    "start_time": "2022-07-08T09:30:32.976Z"
   },
   {
    "duration": 17,
    "start_time": "2022-07-08T09:30:33.009Z"
   },
   {
    "duration": 444,
    "start_time": "2022-07-08T09:30:33.027Z"
   },
   {
    "duration": 31,
    "start_time": "2022-07-08T09:32:02.847Z"
   },
   {
    "duration": 22,
    "start_time": "2022-07-08T09:32:10.688Z"
   },
   {
    "duration": 33,
    "start_time": "2022-07-08T09:32:49.454Z"
   },
   {
    "duration": 39,
    "start_time": "2022-07-08T09:33:01.808Z"
   },
   {
    "duration": 89,
    "start_time": "2022-07-08T09:33:49.146Z"
   },
   {
    "duration": 64,
    "start_time": "2022-07-08T09:36:26.237Z"
   },
   {
    "duration": 73,
    "start_time": "2022-07-08T09:36:54.574Z"
   },
   {
    "duration": 64,
    "start_time": "2022-07-08T09:36:57.276Z"
   },
   {
    "duration": 18,
    "start_time": "2022-07-08T09:37:18.699Z"
   },
   {
    "duration": 77,
    "start_time": "2022-07-08T09:37:46.658Z"
   },
   {
    "duration": 76,
    "start_time": "2022-07-08T09:37:53.572Z"
   },
   {
    "duration": 63,
    "start_time": "2022-07-08T09:38:37.691Z"
   },
   {
    "duration": 5,
    "start_time": "2022-07-08T09:38:51.452Z"
   },
   {
    "duration": 16,
    "start_time": "2022-07-08T09:44:55.619Z"
   },
   {
    "duration": 390,
    "start_time": "2022-07-08T09:45:26.037Z"
   },
   {
    "duration": 1430,
    "start_time": "2022-07-08T09:46:15.646Z"
   },
   {
    "duration": 18,
    "start_time": "2022-07-08T09:46:48.277Z"
   },
   {
    "duration": 89,
    "start_time": "2022-07-08T09:47:06.070Z"
   },
   {
    "duration": 20,
    "start_time": "2022-07-08T09:47:13.744Z"
   },
   {
    "duration": 267,
    "start_time": "2022-07-08T09:47:23.945Z"
   },
   {
    "duration": 278,
    "start_time": "2022-07-08T09:48:01.394Z"
   },
   {
    "duration": 259,
    "start_time": "2022-07-08T09:48:51.141Z"
   },
   {
    "duration": 17,
    "start_time": "2022-07-08T09:50:52.792Z"
   },
   {
    "duration": 11,
    "start_time": "2022-07-08T09:50:57.760Z"
   },
   {
    "duration": 19,
    "start_time": "2022-07-08T09:51:00.405Z"
   },
   {
    "duration": 39,
    "start_time": "2022-07-08T09:51:46.861Z"
   },
   {
    "duration": 71,
    "start_time": "2022-07-08T09:51:57.456Z"
   },
   {
    "duration": 5,
    "start_time": "2022-07-08T09:52:10.459Z"
   },
   {
    "duration": 22,
    "start_time": "2022-07-08T09:52:15.017Z"
   },
   {
    "duration": 8,
    "start_time": "2022-07-08T09:52:24.672Z"
   },
   {
    "duration": 22,
    "start_time": "2022-07-08T09:52:26.686Z"
   },
   {
    "duration": 6,
    "start_time": "2022-07-08T09:52:33.083Z"
   },
   {
    "duration": 81,
    "start_time": "2022-07-08T09:52:40.804Z"
   },
   {
    "duration": 18,
    "start_time": "2022-07-08T09:55:49.526Z"
   },
   {
    "duration": 18,
    "start_time": "2022-07-08T10:08:06.384Z"
   },
   {
    "duration": 11,
    "start_time": "2022-07-08T10:08:17.994Z"
   },
   {
    "duration": 10,
    "start_time": "2022-07-08T10:09:13.532Z"
   },
   {
    "duration": 12,
    "start_time": "2022-07-08T10:10:40.083Z"
   },
   {
    "duration": 5,
    "start_time": "2022-07-08T10:10:59.140Z"
   },
   {
    "duration": 12,
    "start_time": "2022-07-08T10:11:15.664Z"
   },
   {
    "duration": 11,
    "start_time": "2022-07-08T10:12:33.034Z"
   },
   {
    "duration": 72,
    "start_time": "2022-07-08T10:13:27.819Z"
   },
   {
    "duration": 145,
    "start_time": "2022-07-08T10:22:46.477Z"
   },
   {
    "duration": 20,
    "start_time": "2022-07-08T10:57:19.561Z"
   },
   {
    "duration": 108,
    "start_time": "2022-07-08T11:01:42.073Z"
   },
   {
    "duration": 277,
    "start_time": "2022-07-08T11:06:54.722Z"
   },
   {
    "duration": 1797,
    "start_time": "2022-07-08T15:16:08.224Z"
   },
   {
    "duration": 402,
    "start_time": "2022-07-08T15:16:10.024Z"
   },
   {
    "duration": 16,
    "start_time": "2022-07-08T15:16:10.427Z"
   },
   {
    "duration": 14,
    "start_time": "2022-07-08T15:16:10.445Z"
   },
   {
    "duration": 8,
    "start_time": "2022-07-08T15:16:10.461Z"
   },
   {
    "duration": 13,
    "start_time": "2022-07-08T15:16:10.471Z"
   },
   {
    "duration": 22,
    "start_time": "2022-07-08T15:16:10.486Z"
   },
   {
    "duration": 36,
    "start_time": "2022-07-08T15:16:10.510Z"
   },
   {
    "duration": 5,
    "start_time": "2022-07-08T15:16:10.548Z"
   },
   {
    "duration": 9,
    "start_time": "2022-07-08T15:16:10.557Z"
   },
   {
    "duration": 5,
    "start_time": "2022-07-08T15:16:10.568Z"
   },
   {
    "duration": 244,
    "start_time": "2022-07-08T15:16:10.575Z"
   },
   {
    "duration": 211,
    "start_time": "2022-07-08T15:16:10.821Z"
   },
   {
    "duration": 14,
    "start_time": "2022-07-08T15:16:11.034Z"
   },
   {
    "duration": 12,
    "start_time": "2022-07-08T15:16:11.050Z"
   },
   {
    "duration": 7,
    "start_time": "2022-07-08T15:16:11.064Z"
   },
   {
    "duration": 9,
    "start_time": "2022-07-08T15:16:11.073Z"
   },
   {
    "duration": 12,
    "start_time": "2022-07-08T15:16:11.083Z"
   },
   {
    "duration": 15,
    "start_time": "2022-07-08T15:16:11.096Z"
   },
   {
    "duration": 264,
    "start_time": "2022-07-08T15:16:11.112Z"
   },
   {
    "duration": 7,
    "start_time": "2022-07-08T15:16:11.378Z"
   },
   {
    "duration": 19,
    "start_time": "2022-07-08T15:16:11.386Z"
   },
   {
    "duration": 178,
    "start_time": "2022-07-08T15:16:11.406Z"
   },
   {
    "duration": 6,
    "start_time": "2022-07-08T15:16:11.587Z"
   },
   {
    "duration": 10,
    "start_time": "2022-07-08T15:16:11.595Z"
   },
   {
    "duration": 1700,
    "start_time": "2022-07-08T15:16:11.607Z"
   },
   {
    "duration": 11,
    "start_time": "2022-07-08T15:16:13.308Z"
   },
   {
    "duration": 136,
    "start_time": "2022-07-08T15:16:13.322Z"
   },
   {
    "duration": 319,
    "start_time": "2022-07-08T15:16:13.460Z"
   },
   {
    "duration": 11,
    "start_time": "2022-07-08T15:16:13.781Z"
   }
  ],
  "kernelspec": {
   "display_name": "Python 3 (ipykernel)",
   "language": "python",
   "name": "python3"
  },
  "language_info": {
   "codemirror_mode": {
    "name": "ipython",
    "version": 3
   },
   "file_extension": ".py",
   "mimetype": "text/x-python",
   "name": "python",
   "nbconvert_exporter": "python",
   "pygments_lexer": "ipython3",
   "version": "3.9.5"
  },
  "toc": {
   "base_numbering": 1,
   "nav_menu": {},
   "number_sections": true,
   "sideBar": true,
   "skip_h1_title": true,
   "title_cell": "Table of Contents",
   "title_sidebar": "Contents",
   "toc_cell": false,
   "toc_position": {},
   "toc_section_display": true,
   "toc_window_display": false
  }
 },
 "nbformat": 4,
 "nbformat_minor": 2
}
